{
 "cells": [
  {
   "cell_type": "markdown",
   "metadata": {},
   "source": [
    "## NLP Project 13: Metaphor detection in poetry"
   ]
  },
  {
   "cell_type": "markdown",
   "metadata": {},
   "source": [
    "Danila Goncharenko, 2303788\n",
    "\n",
    "Ana Ferreira, 2308587\n",
    "\n",
    "Mikhail Bichagov, 2304806"
   ]
  },
  {
   "cell_type": "markdown",
   "metadata": {},
   "source": [
    "### This project explores the detection of metaphors in poetry using natural language processing, aiming to distinguish figurative and non-figurative language. "
   ]
  },
  {
   "cell_type": "markdown",
   "metadata": {},
   "source": [
    "We shall consider the common use of a phrase as literal use and its violation as an indicative of metaphorical use. The project initially attempts to imitate the approach of Neuman et al. (2013) published in PlusOne journal -Metaphor Identification in Large Texts Corpora- available online [`Metaphor Identification in Large Texts Corpora (plos.org)`](https://journals.plos.org/plosone/article?id=10.1371/journal.pone.0062343). So first consider the British national corpus (BNCCorpus), available through NLTK (see also [`British National Corpus, XML edition (ox.ac.uk)`](https://ota.bodleian.ox.ac.uk/repository/xmlui/handle/20.500.12024/2554)). For testing, we shall consider the annotated corpus available at https://www.eecs.uottawa.ca/~diana/resources/metaphor/type1_metaphor_annotated.txt \n",
    "\n",
    "In the above, the annotation at the end of the sentence i.e., @1@y   indicates whether it is a metaphor (y) or not (n). Here the presence of ‘y’ indicates that it is a metaphor, whereas “1” indicates the first head word of the sentence, which is “poise”, in the part of speech tag sequence. \n"
   ]
  },
  {
   "cell_type": "code",
   "execution_count": 2,
   "metadata": {},
   "outputs": [
    {
     "name": "stderr",
     "output_type": "stream",
     "text": [
      "[nltk_data] Downloading package stopwords to\n",
      "[nltk_data]     C:\\Users\\Dan\\AppData\\Roaming\\nltk_data...\n",
      "[nltk_data]   Package stopwords is already up-to-date!\n"
     ]
    }
   ],
   "source": [
    "# Imports\n",
    "import nltk\n",
    "import pandas as pd\n",
    "from nltk.corpus import stopwords, CategorizedPlaintextCorpusReader\n",
    "from nltk.tokenize import word_tokenize\n",
    "from nltk.stem import WordNetLemmatizer\n",
    "\n",
    "from nltk.collocations import *\n",
    "\n",
    "# Downloading the BNC corpus and stopwords\n",
    "nltk.download('stopwords')\n",
    "\n",
    "# Stopwords, Lemmatizer, Bi-gram\n",
    "stop_words = set(stopwords.words(\"english\"))\n",
    "lemmatizer = WordNetLemmatizer()\n",
    "bigram_measures = nltk.collocations.BigramAssocMeasures()"
   ]
  },
  {
   "cell_type": "code",
   "execution_count": 14,
   "metadata": {},
   "outputs": [
    {
     "data": {
      "text/plain": [
       "435261076"
      ]
     },
     "execution_count": 14,
     "metadata": {},
     "output_type": "execute_result"
    }
   ],
   "source": [
    "from nltk.corpus.reader.bnc import BNCCorpusReader\n",
    "\n",
    "# CHANGE THE PATH\n",
    "bnc_reader = BNCCorpusReader(root=\"C:/Users/Dan/Desktop/NLP Project/BNC/Texts\", fileids=r'[A-K]/\\w*/\\w*\\.xml')\n",
    "\n",
    "# list_of_fileids = ['A/A0/A00.xml', 'A/A0/A01.xml']\n",
    "# finder = BigramCollocationFinder.from_words(bnc_reader.words(fileids=list_of_fileids))\n",
    "# scored = finder.score_ngrams(bigram_measures.raw_freq)"
   ]
  },
  {
   "cell_type": "markdown",
   "metadata": {},
   "source": [
    "## Task 1"
   ]
  },
  {
   "cell_type": "markdown",
   "metadata": {},
   "source": [
    "First, we shall consider the mutual information, see expression (2) in Neuman et al.’2003 paper, as a guideline to derive the metaphor-reasoning.  You can inspire from other available implementations of mutual information, in [`Collocations (nltk.org)`](https://www.nltk.org/howto/collocations.html), [`FNLP 2011: Tutorial 8: Working with corpora: mutual information (ed.ac.uk)`](http://www.inf.ed.ac.uk/teaching/courses/fnlp/lectures/8/tutorial.html). Consider the words “woman”, “use”, “dream”, “body”. Write a program that identifies all adjectives, adverbs and verbs that occur within 2 lexical units (span = 2 in the formula of mutual information) in BNC corpus and whose mutual information is equal or greater than 3, considered as the minimum statistical significance. Suggest appropriate adjustments (e.g., greater span) if no results are found to match the mutual information criterion."
   ]
  },
  {
   "cell_type": "code",
   "execution_count": null,
   "metadata": {},
   "outputs": [],
   "source": [
    "import nltk\n",
    "from nltk.corpus.reader.bnc import BNCCorpusReader\n",
    "from nltk import FreqDist, bigrams\n",
    "from itertools import chain\n",
    "from nltk.corpus import stopwords\n",
    "from nltk.collocations import *\n",
    "nltk.download('stopwords')\n",
    "\n",
    "\n",
    "# Replace 'path_to_bnc_data' with the actual path to your downloaded BNC XML data\n",
    "path_to_bnc_data = 'C:/Users/jklbichami/OneDrive - Valmet/Documents/School/Porgramming/NLP/bnc/Texts/news/'\n",
    "\n",
    "# Initialize the BNC corpus reader\n",
    "bnc_reader = BNCCorpusReader(root=path_to_bnc_data, fileids=r'[A-K]//w*//w*/.xml')\n",
    "\n",
    "\n",
    "bigram_measures = nltk.collocations.BigramAssocMeasures()\n",
    "\n",
    "# Here need to merge all of the words from different xlm files together.\n",
    "# Its just an exmaple to show what it could look\n",
    "\n",
    "corpus = bnc_reader.words('A1E.xml')\n",
    "\n",
    "words_to_include = ['woman', 'use', 'dream', 'body']\n",
    "\n",
    "# Get the words from the file in list format\n",
    "es = stopwords.words('english')\n",
    "\n",
    "g = FreqDist(bigrams(w.lower() for w in corpus if (w.isalpha() and w.lower() not in es)))\n",
    "\n",
    "f = FreqDist()\n",
    "for k in g.keys():\n",
    "    if k[1] in words_to_include or k[0] in words_to_include:\n",
    "        f[k] = g.get(k)\n",
    "\n",
    "# Here we probably should not limit words by anything, except just removing stop words\n",
    "u = FreqDist(w.lower() for w in corpus if (w.isalpha() and not(w.lower() in es)))\n",
    "\n",
    "## If we have double nested list then we can use this to flatten it\n",
    "chain.from_iterable(corpus)\n",
    "\n",
    "from math import log\n",
    "def mutInf(p,u1,u2,b):\n",
    "    try:\n",
    "        return log((float(b[p])/float(b.N()))/\n",
    "                   ((float(u1[p[0]])*float(u2[p[1]]))/\n",
    "                    (float(u1.N())*float(u2.N()))),\n",
    "                   2)\n",
    "    except:\n",
    "        return\n",
    "\n",
    "fmi = {}\n",
    "for p in f.keys():\n",
    "    fmi[p]  = mutInf(p,u,u,f)\n",
    "\n",
    "fmi = {key: value for key, value in fmi.items() if value > 3}\n",
    "\n",
    "dict(sorted(fmi.items(), key=lambda item: item[1], reverse=True))"
   ]
  },
  {
   "cell_type": "code",
   "execution_count": 16,
   "metadata": {},
   "outputs": [],
   "source": [
    "# See expression (2) in Neuman et al.’2013 paper\n",
    "import math\n",
    "def Mutual_information(fr_B_near_A, fr_A, fr_B, sizeCorpus, span = 2):    \n",
    "    '''\n",
    "    Calculates Mutual information between node and collocate word\n",
    "    fr_A = frequency of node word w1 (e.g., purple): 1262\n",
    "    fr_B = frequency of collocate w2 (e.g., color): 115\n",
    "    fr_B_near_A = frequency of collocate near the node word (e.g., color near purple): 24\n",
    "    sizeCorpus = size of corpus (for instance 96,263,399)\n",
    "    span = span of words (e.g., 1 to left and 1 to right of the node word: 2)\n",
    "    '''\n",
    "\n",
    "    #fr_A = 0\n",
    "    #fr_B = 0\n",
    "    #fr_B_near_A = 0\n",
    "    #sizeCorpus = 96132981 # 96 132 981 tokens in BNC\n",
    "\n",
    "    # Mikhail: adjusted formula to calculate\n",
    "    # sizeCorpus is expected to be corpus created with bigram\n",
    "    try:\n",
    "        return math.log10((sizeCorpus[fr_B_near_A] * sizeCorpus.N()) / (fr_A[p[0]] * fr_B[p[1]] * span))/math.log10(2)\n",
    "    except:\n",
    "        return \n",
    "\n",
    "# Consider the words “woman”, “use”, “dream”, “body”.\n",
    "consider_words = [\"woman\", \"use\", \"dream\", \"body\"]\n",
    "\n",
    "# Identify all adjectives, adverbs and verbs that occur within 2 lexical units (span = 2 in the formula of mutual information) in BNC corpus,\n",
    "# whose mutual information is equal or greater than 3, considered as the minimum statistical significance\n",
    "\n",
    "# Suggest appropriate adjustments (e.g., greater span), if no results\n",
    "\n"
   ]
  },
  {
   "cell_type": "markdown",
   "metadata": {},
   "source": [
    "## Task 2"
   ]
  },
  {
   "cell_type": "markdown",
   "metadata": {},
   "source": [
    "We would like to test this process in the previous metaphor annotated dataset. For this purpose, consider the following approach. Write a program that inputs each sentence of the annotated corpus, and then reads the head word (given in the annotation), then calculate the mutual distance between the head-word and each of the first two words occurring either on the left hand side part or right hand side part of the head-word. If the average of mutual distances from head word to each of the two words situated at two lexical units is greater than 3, then we shall consider the sentence is not a metaphor, otherwise, it is a metaphor. Test this reasoning and report the result for each annotated sentence and save it in your database. Given the ground truth of the annotated dataset, calculate the corresponding accuracy, and comment on the efficiency of the proposed approach."
   ]
  },
  {
   "cell_type": "code",
   "execution_count": null,
   "metadata": {},
   "outputs": [],
   "source": [
    "## Mikhail: did not really understtod how to get head word. So here is idea using spacy\n",
    "\n",
    "import spacy\n",
    "\n",
    "# Load the English language model\n",
    "nlp = spacy.load(\"en_core_web_sm\")\n",
    "\n",
    "# Define a sentence\n",
    "## This is example with simple sentence. So we can get words from each corpus, combine them in sentence\n",
    "# and then use spacy for headword search \n",
    "sentence = \"The quick brown fox jumps over the lazy dog.\"\n",
    "\n",
    "# Process the sentence with spaCy\n",
    "doc = nlp(sentence)\n",
    "\n",
    "# Find the root (head) of the sentence\n",
    "root = None\n",
    "for token in doc:\n",
    "    if token.dep_ == \"ROOT\":\n",
    "        root = token\n",
    "        break\n",
    "\n",
    "# Print the head word\n",
    "if root is not None:\n",
    "    print(\"Head word:\", root.text)\n",
    "\n",
    "## Once we got the head word, just repeat task 1 using trigram"
   ]
  },
  {
   "cell_type": "code",
   "execution_count": 19,
   "metadata": {},
   "outputs": [
    {
     "data": {
      "text/html": [
       "<div>\n",
       "<style scoped>\n",
       "    .dataframe tbody tr th:only-of-type {\n",
       "        vertical-align: middle;\n",
       "    }\n",
       "\n",
       "    .dataframe tbody tr th {\n",
       "        vertical-align: top;\n",
       "    }\n",
       "\n",
       "    .dataframe thead th {\n",
       "        text-align: right;\n",
       "    }\n",
       "</style>\n",
       "<table border=\"1\" class=\"dataframe\">\n",
       "  <thead>\n",
       "    <tr style=\"text-align: right;\">\n",
       "      <th></th>\n",
       "      <th>Text</th>\n",
       "      <th>Annotation</th>\n",
       "    </tr>\n",
       "  </thead>\n",
       "  <tbody>\n",
       "    <tr>\n",
       "      <th>0</th>\n",
       "      <td>poise is a club .</td>\n",
       "      <td>@1@y</td>\n",
       "    </tr>\n",
       "    <tr>\n",
       "      <th>1</th>\n",
       "      <td>destroying alexandria . sunlight is silence</td>\n",
       "      <td>@4@y</td>\n",
       "    </tr>\n",
       "    <tr>\n",
       "      <th>2</th>\n",
       "      <td>feet are no anchor . gravity sucks at the mind</td>\n",
       "      <td>@1@y</td>\n",
       "    </tr>\n",
       "    <tr>\n",
       "      <th>3</th>\n",
       "      <td>on the day 's horizon is a gesture of earth</td>\n",
       "      <td>@5@y</td>\n",
       "    </tr>\n",
       "    <tr>\n",
       "      <th>4</th>\n",
       "      <td>he said good-by as if good-by is a number .</td>\n",
       "      <td>@6@y</td>\n",
       "    </tr>\n",
       "    <tr>\n",
       "      <th>...</th>\n",
       "      <td>...</td>\n",
       "      <td>...</td>\n",
       "    </tr>\n",
       "    <tr>\n",
       "      <th>614</th>\n",
       "      <td>as the season of cold is the season of darkness</td>\n",
       "      <td>@5@n</td>\n",
       "    </tr>\n",
       "    <tr>\n",
       "      <th>615</th>\n",
       "      <td>else all beasts were tigers ,</td>\n",
       "      <td>@3@y</td>\n",
       "    </tr>\n",
       "    <tr>\n",
       "      <th>616</th>\n",
       "      <td>without which earth is sand</td>\n",
       "      <td>@3@n</td>\n",
       "    </tr>\n",
       "    <tr>\n",
       "      <th>617</th>\n",
       "      <td>the sky is cloud on cloud</td>\n",
       "      <td>@2@n</td>\n",
       "    </tr>\n",
       "    <tr>\n",
       "      <th>618</th>\n",
       "      <td>the sky is cloudy</td>\n",
       "      <td>@2@n</td>\n",
       "    </tr>\n",
       "  </tbody>\n",
       "</table>\n",
       "<p>619 rows × 2 columns</p>\n",
       "</div>"
      ],
      "text/plain": [
       "                                                 Text Annotation\n",
       "0                                  poise is a club .        @1@y\n",
       "1        destroying alexandria . sunlight is silence        @4@y\n",
       "2     feet are no anchor . gravity sucks at the mind        @1@y\n",
       "3        on the day 's horizon is a gesture of earth        @5@y\n",
       "4        he said good-by as if good-by is a number .        @6@y\n",
       "..                                                ...        ...\n",
       "614  as the season of cold is the season of darkness        @5@n\n",
       "615                    else all beasts were tigers ,        @3@y\n",
       "616                      without which earth is sand        @3@n\n",
       "617                        the sky is cloud on cloud        @2@n\n",
       "618                                the sky is cloudy        @2@n\n",
       "\n",
       "[619 rows x 2 columns]"
      ]
     },
     "execution_count": 19,
     "metadata": {},
     "output_type": "execute_result"
    }
   ],
   "source": [
    "url = \"https://www.eecs.uottawa.ca/~diana/resources/metaphor/type1_metaphor_annotated.txt\"\n",
    "\n",
    "# Read the data into a DataFrame\n",
    "df = pd.read_csv(url, delimiter='\\t', header=None, names=['Text'])\n",
    "\n",
    "# Put Annotation from Text into a separate column\n",
    "df['Annotation'] = df['Text'].str.extract(r'(@\\d+@y|@\\d+@n)')\n",
    "df['Text'] = df['Text'].str.replace(r'(@\\d+@y|@\\d+@n)', '', regex=True)\n",
    "\n",
    "df"
   ]
  },
  {
   "cell_type": "code",
   "execution_count": 3,
   "metadata": {},
   "outputs": [],
   "source": [
    "# Input each sentence of the annotated corpus\n",
    "\n",
    "# Read the head word (given in the annotation)\n",
    "\n",
    "# Calculate the mutual distance between the head-word and each of the first two words\n",
    "# either on the left hand side part or right hand side part of the head-word.\n",
    "\n",
    "# If average is greater than 3, sentence is not a metaphor\n",
    "\n",
    "# Report the result for each annotated sentence \n",
    "\n",
    "# Save it in your database\n",
    "\n",
    "# Calculate the corresponding accuracy\n",
    "\n",
    "# Comment on the efficiency of the proposed approach.\n"
   ]
  },
  {
   "cell_type": "markdown",
   "metadata": {},
   "source": [
    "## Task 3"
   ]
  },
  {
   "cell_type": "markdown",
   "metadata": {},
   "source": [
    "We consider the (adjective-noun) type of metaphor (referred to as Metaphor type III). A metaphor  assumes to occur when the categories of noun and adjective are such that one is concrete and the other one is abstract. WordStat noun categorization based on WordNet, which classifies 69,817 nouns into 25 categories, of which 13 are concrete categories (e.g., artifact) provides a database for a such categorization. It is freely available in [`Wordnet based categorization dictionary - Provalis Research`](https://provalisresearch.com/products/content-analysis-software/wordstat-dictionary/wordnet-based-categorization-dictionary/). Write a program that allows you to retrieve the category of noun and adjective / adverb in a sentence according to WordStat."
   ]
  },
  {
   "cell_type": "code",
   "execution_count": 4,
   "metadata": {},
   "outputs": [],
   "source": [
    "# adjective-noun type of metaphor is a Metaphor type III.\n",
    "\n",
    "# If categories of noun and adjective: one is concrete and the other one is abstract,\n",
    "# Then it is a Metaphor.\n",
    "\n",
    "# WordStat noun categorization based on WordNet provides a database for a such categorization.\n",
    "\n",
    "# Retrieve the category of noun and adjective / adverb in a sentence according to WordStat.\n"
   ]
  },
  {
   "cell_type": "code",
   "execution_count": null,
   "metadata": {},
   "outputs": [],
   "source": [
    "import json\n",
    "file_p = r'C:\\Users\\jklbichami\\OneDrive - Valmet\\Documents\\School\\Porgramming\\NLP\\WordNet2\\WordNet Words & Phrases.CAT'\n",
    "\n",
    "with open(file_p, 'r') as file:\n",
    "    cat_data = file.readlines()\n",
    "\n",
    "topics = [a.strip('\\n') for a in cat_data if '\\t' not in a ]\n",
    "topics_indices = [cat_data.index(a + '\\n') for a in topics]\n",
    "\n",
    "noun_categories = [a.strip('\\n')[6:] for a in cat_data if '\\t\\t' not in a and a.startswith('\\tNOUN.')]\n",
    "noun_categories_idices = [cat_data.index('\\tNOUN.' + a + '\\n') for a in noun_categories]\n",
    "\n",
    "cat_df = pd.DataFrame(columns=['Type', 'Category', 'Word'])\n",
    "\n",
    "\n",
    "## Mikhail: did not finish this but idea is pretty simple\n",
    "## 1. We get the indeces of all topics\n",
    "## 2. We get indeces for respective categories\n",
    "## 3. We iterate through each topics\n",
    "## 4. We iterate through their categories\n",
    "## 5. Assign all results to df based on indices\n",
    "## Here is examplee for Nouns\n",
    "for indx, num in enumerate(noun_categories_idices):\n",
    "    temp_dict = {}\n",
    "    if indx == 0:\n",
    "        temp_dict['Category'] = [noun_categories[indx]]*(26600-cat_data.index('ADVERBS\n",
    "                                                                              \\n')-2)\n",
    "        ## As many times as diff between index of Verb and Noun and -2\n",
    "        temp_dict['Type'] = ['Noun']*(26600-cat_data.index('ADVERBS\\n')-2)\n",
    "        temp_dict['Word'] = cat_data[cat_data.index('ADVERBS\\n')+1:26600-1]\n",
    "        cat_df = pd.concat([cat_df, pd.DataFrame(temp_dict)], ignore_index=True)\n",
    "    else:\n",
    "        cat_df.loc[noun_categories_idices[indx-1]:num, 'Catergory'] = noun_categories[indx]\n",
    "\n",
    "g = FreqDist(bigrams(w.lower() for w in corpus if (w.isalpha() and w.lower() not in es)))\n",
    "\n"
   ]
  },
  {
   "cell_type": "markdown",
   "metadata": {},
   "source": [
    "## Taks 4"
   ]
  },
  {
   "cell_type": "markdown",
   "metadata": {},
   "source": [
    "Now we would like to imitate the procedure mentioned in Neuman’s paper for type III semaphore. Write a program that identifies the occurrence of Noun-Adjective/Adverb part-of-speech in a given sentence. Then, use WordNet lexical database to find out the number of senses of each adjective. If every adjective has one single sense, then return, no metaphor. If the Noun has no entry in wordnet, then return UNKNOWN. Otherwise (adjective has more than one sense and noun has an entry in WordNet), then identify the set S of nouns in the BNC corpus that collocate with the given Noun of the given sentence (this corresponds to a set of nouns whose mutual information value is greater or equal than 3). Next, for each element (noun) of S, use the WordStat categorization to identify those who belong to concrete class. Let S1 be a subset of S, which contains these “concrete”-category nouns. If the number of elements in S1 is large, then restrict to the first three elements who have the highest mutual information values. Finally, to find out whether, whether the sentence containing adjective A and noun N is a metaphor, we need to test the compatibility of each elements of S1 with N. If there is no elements in S1 compatible with N, then we shall consider S as a metaphor, otherwise, it is not. To evaluate this compatibility, you can use the Wu and Palmer WordNet semantic similarity already implemented in NLTK. Therefore, assume that if the Wu and Palmer semantic similarity of at least of the nouns in S1 with N is greater than a threshold 0.4, then the compatibility between S1 and N is granted. (Note this is only a very rough approximation). Write a code that implements this reasoning and test it on two simple examples of your choice. Test this process for other values of threshold values (e.g., 0.3, 0.5, 0.6) "
   ]
  },
  {
   "cell_type": "code",
   "execution_count": 5,
   "metadata": {},
   "outputs": [],
   "source": [
    "from nltk.corpus import wordnet as wn\n",
    "\n",
    "# Imitate the procedure mentioned in Neuman’s paper for type III semaphore\n",
    "\n",
    "# Identify the occurrence of Noun-Adjective/Adverb part-of-speech in a given sentence.\n",
    "\n",
    "# Use WordNet lexical database to find out the number of senses of each adjective.\n",
    "\n",
    "# If every adjective has one single sense, then no metaphor\n",
    "\n",
    "# If the Noun has no entry in wordnet, then return UNKNOWN.\n",
    "\n",
    "# Otherwise: adjective has more than one sense and noun has an entry in WordNet\n",
    "\n",
    "# Identify the set S of nouns in the BNC corpus that collocate with the given Noun of the given sentence\n",
    "# set of nouns: mutual information value is >= 3\n",
    "\n",
    "# Use the WordStat categorization for each noun in S to identify those who belong to concrete class.\n",
    "\n",
    "# Let S1 be a subset of S, which contains these “concrete”-category nouns.\n",
    "# If the number of elements in S1 is large, then restrict to the first three elements who have the highest mutual information values.\n",
    "\n",
    "# Test the compatibility of each elements of S1 with N.\n",
    "# To check if the sentence containing adjective A and noun N is a metaphor\n",
    "\n",
    "# If there is no elements in S1 compatible with N, then we shall consider S as a metaphor\n",
    "\n",
    "# Evaluate, using the Wu and Palmer WordNet semantic similarity from NLTK.\n",
    "\n",
    "# if semantic similarity of at least of the nouns in S1 with N >= 0.4, then the compatibility between S1 and N is granted.\n",
    "\n",
    "# Test it on two simple examples of your choice. \n",
    "\n",
    "# Test this process for other values of threshold values (e.g., 0.3, 0.5, 0.6) \n"
   ]
  },
  {
   "cell_type": "markdown",
   "metadata": {},
   "source": [
    "## Task 5"
   ]
  },
  {
   "cell_type": "markdown",
   "metadata": {},
   "source": [
    "Test the above reasoning on the first half of the dataset https://www.eecs.uottawa.ca/~diana/resources/metaphor/type1_metaphor_annotated.txt where adjective-noun type of relationship occurs. Motivate your reasoning and answers. Estimate the accuracy accordingly, and report individual results in your database."
   ]
  },
  {
   "cell_type": "code",
   "execution_count": 7,
   "metadata": {},
   "outputs": [],
   "source": [
    "# Test the above reasoning on the first half of the dataset\n",
    "\n",
    "# Motivate your reasoning and answers.\n",
    "\n",
    "# Estimate the accuracy accordingly, and report individual results in your database.\n"
   ]
  },
  {
   "cell_type": "markdown",
   "metadata": {},
   "source": [
    "## Task 6"
   ]
  },
  {
   "cell_type": "markdown",
   "metadata": {},
   "source": [
    "Instead of the calculus of the semantic similarity between N and each elements of S1 in step 4, we would like to use the wordnet domain of each individual words. For this purpose, download the wordnet domain from [`WordNet Domains (fbk.eu)`](https://wndomains.fbk.eu/download.html). Therefore, the compatibility between N and an element N1 of S1 is granted if N and N1 belong to the same wordnet domain. Write a program that allows you to implement this reasoning and test it on simple sentences of your choice."
   ]
  },
  {
   "cell_type": "code",
   "execution_count": 9,
   "metadata": {},
   "outputs": [],
   "source": [
    "# Use the wordnet domain of each individual words, instead of similarity between N and each elements of S1\n",
    "\n",
    "# Download the wordnet domain\n",
    "\n",
    "# If N and N1 belong to the same wordnet domain, compatibility between N and an element N1 of S1 is granted\n",
    "\n",
    "# Test it on simple sentences of your choice\n"
   ]
  },
  {
   "cell_type": "markdown",
   "metadata": {},
   "source": [
    "## Task 7"
   ]
  },
  {
   "cell_type": "markdown",
   "metadata": {},
   "source": [
    "Test the reasoning of 6) on the same subset of annotated metaphor dataset used in 5) and compare the performance in terms of accuracy. Save individual results in your database as well."
   ]
  },
  {
   "cell_type": "code",
   "execution_count": 10,
   "metadata": {},
   "outputs": [],
   "source": [
    "# Test the reasoning of 6) on dataset used in 5)\n",
    "\n",
    "# Compare the performance in terms of accuracy\n",
    "\n",
    "# Save individual results in your database as well\n"
   ]
  },
  {
   "cell_type": "markdown",
   "metadata": {},
   "source": [
    "## Task 8"
   ]
  },
  {
   "cell_type": "markdown",
   "metadata": {},
   "source": [
    "Repeat 6) and 7) when using Reuter corpus (also accessible via NLTK) instead of BNC corpus. Conclude on the impact of the corpus on the accuracy of metaphor identification.  "
   ]
  },
  {
   "cell_type": "code",
   "execution_count": 11,
   "metadata": {},
   "outputs": [],
   "source": [
    "# Repeat 6) and 7) when using Reuter corpus from NLTK\n",
    "\n",
    "# Conclude on the impact of the corpus on the accuracy of metaphor identification\n"
   ]
  },
  {
   "cell_type": "markdown",
   "metadata": {},
   "source": [
    "## Task 9"
   ]
  },
  {
   "cell_type": "markdown",
   "metadata": {},
   "source": [
    "You may want to enhance the reasoning of any of project specifications above, feel free to suggest any state-of-the-art approach that you judge relevant and accommodate to achieve the goal accordingly. Motivate your choice by concise literature review. Use appropriate literature to discuss your findings."
   ]
  },
  {
   "cell_type": "code",
   "execution_count": 14,
   "metadata": {},
   "outputs": [],
   "source": [
    "# Enhance the reasoning of any of project specifications above\n",
    "\n",
    "# Suggest any relevant state-of-the-art approach\n",
    "\n",
    "# Motivate your choice by concise literature review. \n",
    "\n",
    "# Use appropriate literature to discuss your findings.\n"
   ]
  }
 ],
 "metadata": {
  "kernelspec": {
   "display_name": "Python 3",
   "language": "python",
   "name": "python3"
  },
  "language_info": {
   "codemirror_mode": {
    "name": "ipython",
    "version": 3
   },
   "file_extension": ".py",
   "mimetype": "text/x-python",
   "name": "python",
   "nbconvert_exporter": "python",
   "pygments_lexer": "ipython3",
   "version": "3.10.11"
  },
  "orig_nbformat": 4
 },
 "nbformat": 4,
 "nbformat_minor": 2
}
