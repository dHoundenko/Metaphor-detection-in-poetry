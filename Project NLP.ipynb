{
 "cells": [
  {
   "cell_type": "markdown",
   "metadata": {},
   "source": [
    "## NLP Project 13: Metaphor detection in poetry"
   ]
  },
  {
   "cell_type": "markdown",
   "metadata": {},
   "source": [
    "Danila Goncharenko, 2303788\n",
    "\n",
    "Ana Ferreira, 2308587\n",
    "\n",
    "Mikhail Bichagov, 2304806"
   ]
  },
  {
   "cell_type": "markdown",
   "metadata": {},
   "source": [
    "### This project explores the detection of metaphors in poetry using natural language processing, aiming to distinguish figurative and non-figurative language. "
   ]
  },
  {
   "cell_type": "markdown",
   "metadata": {},
   "source": [
    "We shall consider the common use of a phrase as literal use and its violation as an indicative of metaphorical use. The project initially attempts to imitate the approach of Neuman et al. (2013) published in PlusOne journal -Metaphor Identification in Large Texts Corpora- available online [`Metaphor Identification in Large Texts Corpora (plos.org)`](https://journals.plos.org/plosone/article?id=10.1371/journal.pone.0062343). So first consider the British national corpus (BNCCorpus), available through NLTK (see also [`British National Corpus, XML edition (ox.ac.uk)`](https://ota.bodleian.ox.ac.uk/repository/xmlui/handle/20.500.12024/2554)). For testing, we shall consider the annotated corpus available at https://www.eecs.uottawa.ca/~diana/resources/metaphor/type1_metaphor_annotated.txt \n",
    "\n",
    "In the above, the annotation at the end of the sentence i.e., @1@y   indicates whether it is a metaphor (y) or not (n). Here the presence of ‘y’ indicates that it is a metaphor, whereas “1” indicates the first head word of the sentence, which is “poise”, in the part of speech tag sequence. \n"
   ]
  },
  {
   "cell_type": "code",
   "execution_count": 18,
   "metadata": {},
   "outputs": [
    {
     "name": "stderr",
     "output_type": "stream",
     "text": [
      "[nltk_data] Downloading package stopwords to\n",
      "[nltk_data]     C:\\Users\\Dan\\AppData\\Roaming\\nltk_data...\n",
      "[nltk_data]   Package stopwords is already up-to-date!\n"
     ]
    }
   ],
   "source": [
    "# Imports\n",
    "import nltk\n",
    "import pandas as pd\n",
    "from nltk.corpus import stopwords, CategorizedPlaintextCorpusReader\n",
    "from nltk.tokenize import word_tokenize\n",
    "from nltk.stem import WordNetLemmatizer\n",
    "from nltk import FreqDist, bigrams\n",
    "from itertools import chain\n",
    "\n",
    "from nltk.collocations import *\n",
    "\n",
    "# Downloading the BNC corpus and stopwords\n",
    "nltk.download('stopwords')\n",
    "\n",
    "# Stopwords, Lemmatizer, Bi-gram\n",
    "stop_words = set(stopwords.words(\"english\"))\n",
    "lemmatizer = WordNetLemmatizer()\n",
    "bigram_measures = nltk.collocations.BigramAssocMeasures()"
   ]
  },
  {
   "cell_type": "code",
   "execution_count": 19,
   "metadata": {},
   "outputs": [],
   "source": [
    "from nltk.corpus.reader.bnc import BNCCorpusReader\n",
    "\n",
    "# CHANGE THE PATH\n",
    "bnc_reader = BNCCorpusReader(root=\"C:/Users/Dan/Desktop/NLP Project/BNC/Texts\", fileids=r'[A-K]/\\w*/\\w*\\.xml')\n",
    "\n",
    "# list_of_fileids = ['A/A0/A00.xml', 'A/A0/A01.xml']\n",
    "# finder = BigramCollocationFinder.from_words(bnc_reader.words(fileids=list_of_fileids))\n",
    "# scored = finder.score_ngrams(bigram_measures.raw_freq)"
   ]
  },
  {
   "cell_type": "markdown",
   "metadata": {},
   "source": [
    "## Task 1"
   ]
  },
  {
   "cell_type": "markdown",
   "metadata": {},
   "source": [
    "First, we shall consider the mutual information, see expression (2) in Neuman et al.’2003 paper, as a guideline to derive the metaphor-reasoning.  You can inspire from other available implementations of mutual information, in [`Collocations (nltk.org)`](https://www.nltk.org/howto/collocations.html), [`FNLP 2011: Tutorial 8: Working with corpora: mutual information (ed.ac.uk)`](http://www.inf.ed.ac.uk/teaching/courses/fnlp/lectures/8/tutorial.html). Consider the words “woman”, “use”, “dream”, “body”. Write a program that identifies all adjectives, adverbs and verbs that occur within 2 lexical units (span = 2 in the formula of mutual information) in BNC corpus and whose mutual information is equal or greater than 3, considered as the minimum statistical significance. Suggest appropriate adjustments (e.g., greater span) if no results are found to match the mutual information criterion."
   ]
  },
  {
   "cell_type": "markdown",
   "metadata": {},
   "source": [
    "### BNC Baby Corpus, diff formula"
   ]
  },
  {
   "cell_type": "code",
   "execution_count": 16,
   "metadata": {},
   "outputs": [
    {
     "name": "stderr",
     "output_type": "stream",
     "text": [
      "[nltk_data] Downloading package stopwords to\n",
      "[nltk_data]     C:\\Users\\jklbichami\\AppData\\Roaming\\nltk_data...\n",
      "[nltk_data]   Package stopwords is already up-to-date!\n"
     ]
    },
    {
     "data": {
      "text/plain": [
       "{('body', 'iosco'): 21.734829502493657,\n",
       " ('body', 'middlemen'): 20.734829502493657,\n",
       " ('regulators', 'body'): 20.734829502493657,\n",
       " ('regulatory', 'body'): 20.1498670017725}"
      ]
     },
     "execution_count": 16,
     "metadata": {},
     "output_type": "execute_result"
    }
   ],
   "source": [
    "import nltk\n",
    "from nltk.corpus.reader.bnc import BNCCorpusReader\n",
    "from nltk import FreqDist, bigrams\n",
    "from itertools import chain\n",
    "from nltk.corpus import stopwords\n",
    "from nltk.collocations import *\n",
    "nltk.download('stopwords')\n",
    "\n",
    "\n",
    "# Replace 'path_to_bnc_data' with the actual path to your downloaded BNC XML data\n",
    "path_to_bnc_data = 'C:/Users/jklbichami/OneDrive - Valmet/Documents/School/Porgramming/NLP/bnc/Texts/news/'\n",
    "\n",
    "# Initialize the BNC corpus reader\n",
    "bnc_reader = BNCCorpusReader(root=path_to_bnc_data, fileids=r'[A-K]//w*//w*/.xml')\n",
    "\n",
    "\n",
    "bigram_measures = nltk.collocations.BigramAssocMeasures()\n",
    "\n",
    "# Here need to merge all of the words from different xlm files together.\n",
    "# Its just an exmaple to show what it could look\n",
    "\n",
    "corpus = bnc_reader.words('A1E.xml')\n",
    "\n",
    "words_to_include = ['woman', 'use', 'dream', 'body']\n",
    "\n",
    "# Get the words from the file in list format\n",
    "es = stopwords.words('english')\n",
    "\n",
    "g = FreqDist(bigrams(w.lower() for w in corpus if (w.isalpha() and w.lower() not in es)))\n",
    "\n",
    "f = FreqDist()\n",
    "for k in g.keys():\n",
    "    if k[1] in words_to_include or k[0] in words_to_include:\n",
    "        f[k] = g.get(k)\n",
    "\n",
    "# Here we probably should not limit words by anything, except just removing stop words\n",
    "u = FreqDist(w.lower() for w in corpus if (w.isalpha() and not(w.lower() in es)))\n",
    "\n",
    "## If we have double nested list then we can use this to flatten it\n",
    "chain.from_iterable(corpus)\n",
    "\n",
    "from math import log\n",
    "def mutInf(p,u1,u2,b):\n",
    "    try:\n",
    "        return log((float(b[p])/float(b.N()))/\n",
    "                   ((float(u1[p[0]])*float(u2[p[1]]))/\n",
    "                    (float(u1.N())*float(u2.N()))),\n",
    "                   2)\n",
    "    except:\n",
    "        return\n",
    "\n",
    "fmi = {}\n",
    "for p in f.keys():\n",
    "    fmi[p]  = mutInf(p,u,u,f)\n",
    "\n",
    "fmi = {key: value for key, value in fmi.items() if value > 3}\n",
    "\n",
    "dict(sorted(fmi.items(), key=lambda item: item[1], reverse=True))"
   ]
  },
  {
   "cell_type": "code",
   "execution_count": 7,
   "metadata": {},
   "outputs": [],
   "source": [
    "from nltk import FreqDist, bigrams"
   ]
  },
  {
   "cell_type": "code",
   "execution_count": 23,
   "metadata": {},
   "outputs": [
    {
     "name": "stderr",
     "output_type": "stream",
     "text": [
      "[nltk_data] Downloading package stopwords to\n",
      "[nltk_data]     C:\\Users\\jklbichami\\AppData\\Roaming\\nltk_data...\n",
      "[nltk_data]   Package stopwords is already up-to-date!\n"
     ]
    }
   ],
   "source": [
    "import nltk\n",
    "from nltk.corpus.reader.bnc import BNCCorpusReader\n",
    "from nltk import FreqDist, bigrams\n",
    "from itertools import chain\n",
    "from nltk.corpus import stopwords\n",
    "from nltk.collocations import *\n",
    "nltk.download('stopwords')\n",
    "import os\n",
    "import glob\n",
    "import zipfile\n",
    "\n",
    "\n",
    "corpus = []\n",
    "\n",
    "zip_file_path = 'C:/Users/jklbichami/OneDrive - Valmet/Documents/School/Porgramming/NLP/2554.zip'\n",
    "\n",
    "bnc_reader = BNCCorpusReader(root=zip_file_path, fileids=r'[A-K]//w*//w*/.xml')\n",
    "\n",
    "with zipfile.ZipFile(zip_file_path, 'r') as zip_ref:\n",
    "    # List the files and folders in the zip archive\n",
    "    file_list = zip_ref.namelist()\n",
    "\n",
    "    for item in file_list:\n",
    "        if 'download/Texts/' in item and item.endswith('.xml'):\n",
    "            folder_name = item.rstrip('/')  # Extract folder name\n",
    "            corpus.append(bnc_reader.sents(folder_name))\n",
    "\n",
    "bigram_measures = nltk.collocations.BigramAssocMeasures()\n",
    "\n",
    "words_to_include = ['woman', 'use', 'dream', 'body']\n",
    "\n",
    "# Get the words from the file in list format\n",
    "es = stopwords.words('english')\n",
    "\n",
    "\n",
    "# Mikhail This part took 41 mins to load on my machine\n",
    "g = FreqDist(bigrams(w.lower() for doc in corpus for sent in doc for w in sent if (w.isalpha() and w.lower() not in es)))\n",
    "\n",
    "f = FreqDist()\n",
    "for k in g.keys():\n",
    "    if k[1] in words_to_include or k[0] in words_to_include:\n",
    "        f[k] = g.get(k)\n",
    "\n",
    "## Here we probably should not limit words by anything, except just removing stop words\n",
    "u = FreqDist(w.lower() for w in chain.from_iterable(chain.from_iterable(corpus)) if (w.isalpha() and not(w.lower() in es)))"
   ]
  },
  {
   "cell_type": "code",
   "execution_count": 24,
   "metadata": {},
   "outputs": [
    {
     "data": {
      "text/plain": [
       "FreqDist({('per', 'cent'): 38049, ('gon', 'na'): 12436, ('last', 'year'): 10421, ('years', 'ago'): 10205, ('prime', 'minister'): 9467, ('last', 'night'): 8482, ('first', 'time'): 8379, ('would', 'like'): 8269, ('two', 'years'): 7427, ('united', 'states'): 7086, ...})"
      ]
     },
     "execution_count": 24,
     "metadata": {},
     "output_type": "execute_result"
    }
   ],
   "source": [
    "# Example how to export bigram to json\n",
    "# Have to use extra function as json does not accept tuple as keys\n",
    "import json\n",
    "\n",
    "def remap_keys(mapping):\n",
    "    return [{'key':k, 'value': v} for k, v in mapping.items()]\n",
    "\n",
    "with open('bigram_bnc.json', 'w') as fp:\n",
    "    json.dump(remap_keys(f), fp)"
   ]
  },
  {
   "cell_type": "code",
   "execution_count": 30,
   "metadata": {},
   "outputs": [],
   "source": [
    "with open('bigram_bnc.json', 'r') as json_file:\n",
    "    data = json.load(json_file)\n",
    "\n",
    "f = {}\n",
    "for i in data:\n",
    "    f[tuple(i['key'])] = i['value']\n",
    "\n",
    "f"
   ]
  },
  {
   "cell_type": "markdown",
   "metadata": {},
   "source": [
    "## BNC full Corpus"
   ]
  },
  {
   "cell_type": "markdown",
   "metadata": {},
   "source": [
    "### Expression (2) in Neuman et al.’2013 paper"
   ]
  },
  {
   "cell_type": "code",
   "execution_count": 20,
   "metadata": {},
   "outputs": [],
   "source": [
    "# See expression (2) in Neuman et al.’2013 paper\n",
    "import math\n",
    "def Mutual_information(bigram_item, filteredCorpus, Corpus, span = 2):    \n",
    "    '''\n",
    "    Calculates Mutual information between node and collocate words\n",
    "    bigram_item = The bigram which is considered in the equation\n",
    "    filteredCorpus = The corpus with only considered words.\n",
    "    Corpus = The whole corpus.\n",
    "    span = span of words\n",
    "    '''\n",
    "\n",
    "    # filteredCorpus[fr_B_near_A] = frequency of collocate near the node word (e.g., color near purple)\n",
    "    # Corpus.N() = size of the corpus (for instance 96,263,399, BNC)\n",
    "    # Corpus[p[0]] = frequency of node word w1 (e.g., purple): 1262\n",
    "    # Corpus[p[1]] = frequency of collocate word w2 (e.g., color): 115\n",
    "    # span = span of words (e.g., 1 to left and 1 to right of the node word: 2)\n",
    "\n",
    "    #sizeCorpus = 96 132 981 tokens in BNC\n",
    "\n",
    "    try:\n",
    "        return math.log10((filteredCorpus[bigram_item] * Corpus.N()) / (Corpus[bigram_item[0]] * Corpus[bigram_item[1]] * span))/math.log10(2)\n",
    "    except:\n",
    "        return "
   ]
  },
  {
   "cell_type": "markdown",
   "metadata": {},
   "source": [
    "### Frequencies calculation"
   ]
  },
  {
   "cell_type": "code",
   "execution_count": 21,
   "metadata": {},
   "outputs": [],
   "source": [
    "# corpus = bnc_reader.words('A1E.xml')\n",
    "corpus = bnc_reader.words('A/A0/A01.xml')\n",
    "\n",
    "# Consider the words “woman”, “use”, “dream”, “body”.\n",
    "words_to_include = ['woman', 'use', 'dream', 'body']\n",
    "\n",
    "# Calculate the frequency of bigrams of all words in the corpus\n",
    "bigram_frequency = FreqDist(bigrams(w.lower() for w in corpus if (w.isalpha() and w.lower() not in stop_words)))\n",
    "\n",
    "# Calculate the frequency of bigrams of the words to include that are in the corpus\n",
    "fr_words_to_include = FreqDist()\n",
    "for key_word in bigram_frequency.keys():\n",
    "    # If first or second word in bigram, e.g. ('woman', 'receiving'), has a word_to_include\n",
    "    # Pass the frequency of this bigram from bigram_frequency to fr_words_to_include\n",
    "    if key_word[1] in words_to_include or key_word[0] in words_to_include:\n",
    "        fr_words_to_include[key_word] = bigram_frequency.get(key_word)\n",
    "\n",
    "# Frequency of all words in the corpus, except stop words\n",
    "unigram_frequency = FreqDist(w.lower() for w in corpus if (w.isalpha() and not(w.lower() in stop_words)))"
   ]
  },
  {
   "cell_type": "markdown",
   "metadata": {},
   "source": [
    "### Calculate Mutual information frequency"
   ]
  },
  {
   "cell_type": "code",
   "execution_count": 22,
   "metadata": {},
   "outputs": [
    {
     "data": {
      "text/plain": [
       "{('woman', 'receiving'): 9.925183519434208,\n",
       " ('illness', 'woman'): 8.925183519434208,\n",
       " ('multiplies', 'body'): 8.603255424546846,\n",
       " ('body', 'seriously'): 8.603255424546846,\n",
       " ('damage', 'body'): 8.603255424546846,\n",
       " ('body', 'kill'): 8.603255424546846,\n",
       " ('enters', 'body'): 7.603255424546846,\n",
       " ('body', 'enough'): 7.603255424546846,\n",
       " ('weakened', 'body'): 7.603255424546846,\n",
       " ('words', 'use'): 6.925183519434207,\n",
       " ('cells', 'body'): 6.6032554245468456,\n",
       " ('body', 'much'): 6.6032554245468456,\n",
       " ('use', 'condom'): 6.340221018713052,\n",
       " ('use', 'legacy'): 6.340221018713052,\n",
       " ('always', 'use'): 5.340221018713052,\n",
       " ('value', 'use'): 5.340221018713052,\n",
       " ('body', 'get'): 5.143823805909549,\n",
       " ('leaflet', 'use'): 4.925183519434208,\n",
       " ('could', 'use'): 4.2247438012931156,\n",
       " ('use', 'drugs'): 3.7552585179918956,\n",
       " ('use', 'deed'): 3.603255424546846,\n",
       " ('income', 'use'): 3.401621563377195,\n",
       " ('payment', 'use'): 3.0672025243066363,\n",
       " ('people', 'use'): 3.0182929238256895}"
      ]
     },
     "execution_count": 22,
     "metadata": {},
     "output_type": "execute_result"
    }
   ],
   "source": [
    "## If we have double nested list then we can use this to flatten it\n",
    "chain.from_iterable(corpus)\n",
    "\n",
    "# Identify all adjectives, adverbs and verbs that occur within 2 lexical units (span = 2 in the formula of mutual information) in BNC corpus\n",
    "# Mutual information frequency\n",
    "fmi = {}\n",
    "for p in fr_words_to_include.keys():\n",
    "    fmi[p]  = Mutual_information(p, fr_words_to_include, unigram_frequency)\n",
    "\n",
    "# Mutual information is equal or greater than 3, considered as the minimum statistical significance\n",
    "fmi = {key: value for key, value in fmi.items() if value > 3}\n",
    "\n",
    "dict(sorted(fmi.items(), key=lambda item: item[1], reverse=True))"
   ]
  },
  {
   "cell_type": "markdown",
   "metadata": {},
   "source": [
    "### Suggest appropriate adjustments (e.g., greater span), if no results"
   ]
  },
  {
   "cell_type": "code",
   "execution_count": null,
   "metadata": {},
   "outputs": [],
   "source": [
    "# Suggest appropriate adjustments (e.g., greater span), if no results"
   ]
  },
  {
   "cell_type": "markdown",
   "metadata": {},
   "source": [
    "## Task 2"
   ]
  },
  {
   "cell_type": "markdown",
   "metadata": {},
   "source": [
    "We would like to test this process in the previous metaphor annotated dataset. For this purpose, consider the following approach. Write a program that inputs each sentence of the annotated corpus, and then reads the head word (given in the annotation), then calculate the mutual distance between the head-word and each of the first two words occurring either on the left hand side part or right hand side part of the head-word. If the average of mutual distances from head word to each of the two words situated at two lexical units is greater than 3, then we shall consider the sentence is not a metaphor, otherwise, it is a metaphor. Test this reasoning and report the result for each annotated sentence and save it in your database. Given the ground truth of the annotated dataset, calculate the corresponding accuracy, and comment on the efficiency of the proposed approach."
   ]
  },
  {
   "cell_type": "code",
   "execution_count": 19,
   "metadata": {},
   "outputs": [],
   "source": [
    "# Input each sentence of the annotated corpus\n",
    "\n",
    "# Read the head word (given in the annotation)\n",
    "\n",
    "# Calculate the mutual distance between the head-word and each of the first two words\n",
    "# either on the left hand side part or right hand side part of the head-word.\n",
    "\n",
    "import re\n",
    "import pandas as pd\n",
    "import numpy as np\n",
    "from nltk.corpus import stopwords\n",
    "from itertools import chain\n",
    "import math\n",
    "\n",
    "stopwords = set(stopwords.words(\"english\"))"
   ]
  },
  {
   "cell_type": "code",
   "execution_count": 60,
   "metadata": {},
   "outputs": [
    {
     "data": {
      "text/html": [
       "<div>\n",
       "<style scoped>\n",
       "    .dataframe tbody tr th:only-of-type {\n",
       "        vertical-align: middle;\n",
       "    }\n",
       "\n",
       "    .dataframe tbody tr th {\n",
       "        vertical-align: top;\n",
       "    }\n",
       "\n",
       "    .dataframe thead th {\n",
       "        text-align: right;\n",
       "    }\n",
       "</style>\n",
       "<table border=\"1\" class=\"dataframe\">\n",
       "  <thead>\n",
       "    <tr style=\"text-align: right;\">\n",
       "      <th></th>\n",
       "      <th>Text</th>\n",
       "      <th>Symbol</th>\n",
       "      <th>Number</th>\n",
       "      <th>Head-word</th>\n",
       "    </tr>\n",
       "  </thead>\n",
       "  <tbody>\n",
       "    <tr>\n",
       "      <th>0</th>\n",
       "      <td>poise is a club .</td>\n",
       "      <td>y</td>\n",
       "      <td>1</td>\n",
       "      <td>poise</td>\n",
       "    </tr>\n",
       "    <tr>\n",
       "      <th>1</th>\n",
       "      <td>destroying alexandria . sunlight is silence</td>\n",
       "      <td>y</td>\n",
       "      <td>4</td>\n",
       "      <td>sunlight</td>\n",
       "    </tr>\n",
       "    <tr>\n",
       "      <th>2</th>\n",
       "      <td>feet are no anchor . gravity sucks at the mind</td>\n",
       "      <td>y</td>\n",
       "      <td>1</td>\n",
       "      <td>feet</td>\n",
       "    </tr>\n",
       "    <tr>\n",
       "      <th>3</th>\n",
       "      <td>on the day 's horizon is a gesture of earth</td>\n",
       "      <td>y</td>\n",
       "      <td>5</td>\n",
       "      <td>horizon</td>\n",
       "    </tr>\n",
       "    <tr>\n",
       "      <th>4</th>\n",
       "      <td>he said good-by as if good-by is a number .</td>\n",
       "      <td>y</td>\n",
       "      <td>6</td>\n",
       "      <td>good-by</td>\n",
       "    </tr>\n",
       "    <tr>\n",
       "      <th>...</th>\n",
       "      <td>...</td>\n",
       "      <td>...</td>\n",
       "      <td>...</td>\n",
       "      <td>...</td>\n",
       "    </tr>\n",
       "    <tr>\n",
       "      <th>675</th>\n",
       "      <td>as the season of cold is the season of darkness</td>\n",
       "      <td>n</td>\n",
       "      <td>5</td>\n",
       "      <td>cold</td>\n",
       "    </tr>\n",
       "    <tr>\n",
       "      <th>676</th>\n",
       "      <td>else all beasts were tigers ,</td>\n",
       "      <td>y</td>\n",
       "      <td>3</td>\n",
       "      <td>beasts</td>\n",
       "    </tr>\n",
       "    <tr>\n",
       "      <th>677</th>\n",
       "      <td>without which earth is sand</td>\n",
       "      <td>n</td>\n",
       "      <td>3</td>\n",
       "      <td>earth</td>\n",
       "    </tr>\n",
       "    <tr>\n",
       "      <th>678</th>\n",
       "      <td>the sky is cloud on cloud</td>\n",
       "      <td>n</td>\n",
       "      <td>2</td>\n",
       "      <td>sky</td>\n",
       "    </tr>\n",
       "    <tr>\n",
       "      <th>679</th>\n",
       "      <td>the sky is cloudy</td>\n",
       "      <td>n</td>\n",
       "      <td>2</td>\n",
       "      <td>sky</td>\n",
       "    </tr>\n",
       "  </tbody>\n",
       "</table>\n",
       "<p>680 rows × 4 columns</p>\n",
       "</div>"
      ],
      "text/plain": [
       "                                                 Text Symbol  Number Head-word\n",
       "0                                  poise is a club .       y       1     poise\n",
       "1        destroying alexandria . sunlight is silence       y       4  sunlight\n",
       "2     feet are no anchor . gravity sucks at the mind       y       1      feet\n",
       "3        on the day 's horizon is a gesture of earth       y       5   horizon\n",
       "4        he said good-by as if good-by is a number .       y       6   good-by\n",
       "..                                                ...    ...     ...       ...\n",
       "675  as the season of cold is the season of darkness       n       5      cold\n",
       "676                    else all beasts were tigers ,       y       3    beasts\n",
       "677                      without which earth is sand       n       3     earth\n",
       "678                        the sky is cloud on cloud       n       2       sky\n",
       "679                                the sky is cloudy       n       2       sky\n",
       "\n",
       "[680 rows x 4 columns]"
      ]
     },
     "execution_count": 60,
     "metadata": {},
     "output_type": "execute_result"
    }
   ],
   "source": [
    "url = \"https://www.eecs.uottawa.ca/~diana/resources/metaphor/type1_metaphor_annotated.txt\"\n",
    "\n",
    "# this file is the downloaded text of the content of the above url\n",
    "# it is exactly the same\n",
    "file = 'type1_metaphor_annotated.txt'\n",
    "\n",
    "# Read the data into a DataFrame\n",
    "# df = pd.read_csv(url, delimiter='\\t', header=None, names=['Text'])\n",
    "\n",
    "with open(file, 'r') as file:\n",
    "    # Read the contents of the file\n",
    "    file_contents = file.read()\n",
    "\n",
    "lines = file_contents.split('\\n')\n",
    "data = [line.split('\\t') for line in lines if line]\n",
    "\n",
    "df = pd.DataFrame(data, columns = ['Text'])\n",
    "\n",
    "#print(df[109:110])\n",
    "\n",
    "# Extract the symbol ('y', 'n' or 's') and number into separate columns\n",
    "df['Symbol'] = df['Text'].str.extract(r'@(\\d+)@([yns])')[1] # add the s\n",
    "df['Number'] = df['Text'].str.extract(r'@(\\d+)@([yns])')[0]\n",
    "\n",
    "# Take away the 's' symbol because it means skipped sentence and we only\n",
    "# want the 'y' or 'n' symbols which tell us if the text is a metaphor or not\n",
    "\n",
    "df = df[df['Symbol'] != 's']\n",
    "\n",
    "# Reset the index\n",
    "df.reset_index(drop=True, inplace=True)\n",
    "\n",
    "# Delete it from the original text\n",
    "df['Text'] = df['Text'].str.replace(r'(@\\d+@y|@\\d+@n)', '', regex=True)\n",
    "\n",
    "# Replace NaN values in 'Number' with 0, and then convert to integer\n",
    "df['Number'] = df['Number'].fillna(0).astype(int)\n",
    "\n",
    "# Extract the word with the specified index and save it in the 'Head-word' column\n",
    "df['Head-word'] = df.apply(lambda row: row['Text'].split()[int(row['Number']) - 1], axis=1)\n",
    "\n",
    "# check if the symbols in the 'Symbol' column are only either 'y' or 'n'\n",
    "\n",
    "unique_symbols = df['Symbol'].unique()\n",
    "\n",
    "unique_symbols_list = list(unique_symbols)\n",
    "\n",
    "#print(unique_symbols_list)\n",
    "\n",
    "# Display the resulting DataFrame\n",
    "df"
   ]
  },
  {
   "cell_type": "markdown",
   "metadata": {},
   "source": [
    "Niave Baises model"
   ]
  },
  {
   "cell_type": "markdown",
   "metadata": {},
   "source": [
    "Neurral Network CNN model"
   ]
  },
  {
   "cell_type": "code",
   "execution_count": 57,
   "metadata": {},
   "outputs": [],
   "source": [
    "import tensorflow as tf\n",
    "from tensorflow.keras.preprocessing.text import Tokenizer\n",
    "from tensorflow.keras.utils import pad_sequences\n",
    "\n",
    "texts = df['Text']\n",
    "\n",
    "tokenizer = Tokenizer()\n",
    "# Fit the tokenizer on the text data\n",
    "tokenizer.fit_on_texts(texts)\n",
    "sequences = tokenizer.texts_to_sequences(texts)\n",
    "max_seq_length = max(len(x) for x in sequences)\n",
    "\n",
    "word_index = tokenizer.word_index"
   ]
  },
  {
   "cell_type": "code",
   "execution_count": 21,
   "metadata": {},
   "outputs": [
    {
     "data": {
      "text/plain": [
       "array([[  0,   0,   0, ...,   2,   3, 547],\n",
       "       [  0,   0,   0, ..., 303,   2, 153],\n",
       "       [  0,   0,   0, ...,  51,   1,  89],\n",
       "       ...,\n",
       "       [  0,   0,   0, ...,  60,   2, 477],\n",
       "       [  0,   0,   0, ..., 176,  44, 176],\n",
       "       [  0,   0,   0, ...,  62,   2, 494]])"
      ]
     },
     "execution_count": 21,
     "metadata": {},
     "output_type": "execute_result"
    }
   ],
   "source": [
    "padded_texts"
   ]
  },
  {
   "cell_type": "code",
   "execution_count": 58,
   "metadata": {},
   "outputs": [],
   "source": [
    "padded_texts = pad_sequences(sequences, max_seq_length)\n",
    "\n",
    "glove_file = r'C:\\Users\\jklbichami\\OneDrive - Valmet\\Documents\\School\\Porgramming\\NLP\\glove.6B.300d.txt' \n",
    " # Change to the GloVe file you have\n",
    "embedding_dim = 300\n",
    "\n",
    "\n",
    "embeddings_index = {}\n",
    "with open(glove_file, 'r', encoding='utf-8') as f:\n",
    "    for line in f:\n",
    "        values = line.split()\n",
    "        word = values[0]\n",
    "        coefs = np.asarray(values[1:], dtype='float32')\n",
    "        embeddings_index[word] = coefs"
   ]
  },
  {
   "cell_type": "code",
   "execution_count": 59,
   "metadata": {},
   "outputs": [],
   "source": [
    "embedding_matrix = np.zeros((len(tokenizer.word_index) + 1, embedding_dim))\n",
    "for word, i in tokenizer.word_index.items():\n",
    "    embedding_vector = embeddings_index.get(word)\n",
    "    if embedding_vector is not None:\n",
    "        embedding_matrix[i] = embedding_vector"
   ]
  },
  {
   "cell_type": "code",
   "execution_count": 41,
   "metadata": {},
   "outputs": [],
   "source": [
    "train_size = int(0.6 * len(padded_texts))\n",
    "val_size = int(0.2 * len(padded_texts))\n",
    "test_size = len(padded_texts) - train_size - val_size\n",
    "\n",
    "dataset = tf.data.Dataset.from_tensor_slices((padded_texts, np.array(df['Symbol'])))\n",
    "dataset = dataset.shuffle(buffer_size=10, seed=42)\n",
    "\n",
    "# Split the dataset\n",
    "train_dataset = dataset.take(train_size)\n",
    "remaining_dataset = dataset.skip(train_size)\n",
    "val_dataset = remaining_dataset.take(val_size)\n",
    "test_dataset = remaining_dataset.skip(val_size)"
   ]
  },
  {
   "cell_type": "code",
   "execution_count": 65,
   "metadata": {},
   "outputs": [
    {
     "name": "stdout",
     "output_type": "stream",
     "text": [
      "Epoch 1/10\n",
      "17/17 [==============================] - 1s 50ms/step - loss: nan - accuracy: 0.0000e+00 - val_loss: nan - val_accuracy: 0.0000e+00\n",
      "Epoch 2/10\n",
      "17/17 [==============================] - 1s 43ms/step - loss: nan - accuracy: 0.0000e+00 - val_loss: nan - val_accuracy: 0.0000e+00\n",
      "Epoch 3/10\n",
      "17/17 [==============================] - 1s 36ms/step - loss: nan - accuracy: 0.0000e+00 - val_loss: nan - val_accuracy: 0.0000e+00\n",
      "Epoch 4/10\n",
      "17/17 [==============================] - 1s 36ms/step - loss: nan - accuracy: 0.0000e+00 - val_loss: nan - val_accuracy: 0.0000e+00\n",
      "Epoch 5/10\n",
      "17/17 [==============================] - 1s 38ms/step - loss: nan - accuracy: 0.0000e+00 - val_loss: nan - val_accuracy: 0.0000e+00\n",
      "Epoch 6/10\n",
      "17/17 [==============================] - 1s 40ms/step - loss: nan - accuracy: 0.0000e+00 - val_loss: nan - val_accuracy: 0.0000e+00\n",
      "Epoch 7/10\n",
      "17/17 [==============================] - 1s 37ms/step - loss: nan - accuracy: 0.0000e+00 - val_loss: nan - val_accuracy: 0.0000e+00\n",
      "Epoch 8/10\n",
      "17/17 [==============================] - 1s 41ms/step - loss: nan - accuracy: 0.0000e+00 - val_loss: nan - val_accuracy: 0.0000e+00\n",
      "Epoch 9/10\n",
      "17/17 [==============================] - 1s 43ms/step - loss: nan - accuracy: 0.0000e+00 - val_loss: nan - val_accuracy: 0.0000e+00\n",
      "Epoch 10/10\n",
      "17/17 [==============================] - 1s 42ms/step - loss: nan - accuracy: 0.0000e+00 - val_loss: nan - val_accuracy: 0.0000e+00\n"
     ]
    },
    {
     "data": {
      "text/plain": [
       "<keras.src.callbacks.History at 0x16d7575a290>"
      ]
     },
     "execution_count": 65,
     "metadata": {},
     "output_type": "execute_result"
    }
   ],
   "source": [
    "## This one works, need to figure out why just for myself\n",
    "\n",
    "import pandas as pd\n",
    "import numpy as np\n",
    "import tensorflow as tf\n",
    "from tensorflow.keras.preprocessing.text import Tokenizer\n",
    "from tensorflow.keras.preprocessing.sequence import pad_sequences\n",
    "from tensorflow.keras.layers import Embedding, Conv1D, GlobalMaxPooling1D, Dense, Input\n",
    "from tensorflow.keras.models import Model\n",
    "\n",
    "# Load your DataFrame with text and labels\n",
    "# df = pd.read_csv('your_dataset.csv')  # Replace with your data loading logic\n",
    "\n",
    "# Tokenization and padding\n",
    "#max_sequence_length = 100  # Define your desired sequence length\n",
    "tokenizer = Tokenizer()\n",
    "tokenizer.fit_on_texts(df['Text'])\n",
    "sequences = tokenizer.texts_to_sequences(df['Text'])\n",
    "X = pad_sequences(sequences, maxlen=max(len(x) for x in sequences))\n",
    "max_sequence_length = max(len(x) for x in sequences)\n",
    "\n",
    "# Load pre-trained GloVe embeddings (replace with the actual file path)\n",
    "glove_file = r'C:\\Users\\jklbichami\\OneDrive - Valmet\\Documents\\School\\Porgramming\\NLP\\glove.6B.300d.txt' \n",
    "embedding_dim = 300\n",
    "\n",
    "embeddings_index = {}\n",
    "with open(glove_file, 'r', encoding='utf-8') as f:\n",
    "    for line in f:\n",
    "        values = line.split()\n",
    "        word = values[0]\n",
    "        coefs = np.asarray(values[1:], dtype='float32')\n",
    "        embeddings_index[word] = coefs\n",
    "\n",
    "embedding_matrix = np.zeros((len(tokenizer.word_index) + 1, embedding_dim))\n",
    "for word, i in tokenizer.word_index.items():\n",
    "    embedding_vector = embeddings_index.get(word)\n",
    "    if embedding_vector is not None:\n",
    "        embedding_matrix[i] = embedding_vector\n",
    "\n",
    "# Build the CNN model\n",
    "input_layer = Input(shape=(max_sequence_length,))\n",
    "embedding_layer = Embedding(input_dim=len(tokenizer.word_index) + 1,\n",
    "                            output_dim=embedding_dim,\n",
    "                            weights=[embedding_matrix],\n",
    "                            input_length=max_sequence_length,\n",
    "                            trainable=False)(input_layer)\n",
    "conv_layer = Conv1D(128, 5, activation='relu')(embedding_layer)\n",
    "pooling_layer = GlobalMaxPooling1D()(conv_layer)\n",
    "output_layer = Dense(1, activation='sigmoid')(pooling_layer)\n",
    "\n",
    "model = Model(inputs=input_layer, outputs=output_layer)\n",
    "model.compile(optimizer='adam', loss='binary_crossentropy', metrics=['accuracy'])\n",
    "\n",
    "# Split your data into train and test sets\n",
    "from sklearn.model_selection import train_test_split\n",
    "label_mapping = {'y': 1, 'n': 0}\n",
    "df['Symbol'] = df['Symbol'].map(label_mapping)\n",
    "X_train, X_test, y_train, y_test = train_test_split(X, df['Symbol'], test_size=0.2, random_state=42)\n",
    "\n",
    "# Train the model\n",
    "model.fit(X_train, y_train, epochs=10, validation_data=(X_test, y_test))\n"
   ]
  },
  {
   "cell_type": "markdown",
   "metadata": {},
   "source": [
    "### Extract content"
   ]
  },
  {
   "cell_type": "code",
   "execution_count": 21,
   "metadata": {},
   "outputs": [],
   "source": [
    "# this function basically takes each sentence from the column 'Text', each head word index from the column 'Head-word'\n",
    "# and the window_size (2, because we want to see two words left and right from the head word (it is not the same concept as span))\n",
    "\n",
    "# this function was made because the index of the head word takes into account elements of the string that are puntuaction\n",
    "# (for example: '-- the others were the despots of despair -- @3@y' in this sentence the character -- is taken into account\n",
    "# in the count of the head word (others) index)\n",
    "# because of this, this function evaluates which words contain at least one letter and are not stopwords, returns a boolean\n",
    "# and saves the indexes that fulfill these conditions in the sentence to a variable called 'found_indices'\n",
    "# then it finds the index in the list of the sentences indexes which the value is equal to the head word index ('target_index')\n",
    "# after that it extracts the 2 indexes of the words to the left and to the right of the head word that are in 'found_indices'\n",
    "# then it slices 'found_indices' to extract a window with span = 4 (like it says in the 2nd assessment)\n",
    "# after that it uses the numpy array function to extract the words from the vector 'words' in the same indexes as the list 'indeces'\n",
    "# and put them in the variable 'selected_elements' which is returned by the function to the caller\n",
    "\n",
    "# this function is called to each row of the column 'Text' in the dataframe 'df'\n",
    "\n",
    "def extract_context(text, target_index, window_size):\n",
    "    # split the text list into words\n",
    "    words = text.split()\n",
    "    \n",
    "    # Use a list comprehension to check if each element contains at least a letter (some words have a hyphen like good-by)\n",
    "    # and if the words are not in stopwords\n",
    "    # the result is a boolean vector that represents which words in the vector satisfy the conditions\n",
    "    contains_words = [bool(re.search(r'[a-zA-Z]', word)) and word not in stopwords and not re.match(r'^[^a-zA-Z]*s[^a-zA-Z]*$', word) for word in words]\n",
    "\n",
    "    # Find all the 'True' occurrences using vectorized operations\n",
    "    # Get the indices of those ocurrences in the words list\n",
    "    found_indices = np.where(contains_words)[0]\n",
    "\n",
    "    # if nothing is found return an empty list\n",
    "    if found_indices.size == 0:\n",
    "        return []\n",
    "        \n",
    "    # Get the index in the found_indices list of the head word index in the words list\n",
    "    index = np.where(found_indices == target_index)[0][0]\n",
    "\n",
    "    # make sure that the index two places to the left from found_indices that corresponds to the head word index in the words list is not out of bounds\n",
    "    start = max(0, index - window_size)\n",
    "    # make sure that the index two places to the right from found_indices that corresponds to the head word index in the words list is not out of bounds\n",
    "    end = min(len(found_indices), index + window_size + 1)\n",
    "\n",
    "    # slice the found_indices list to get the desired span (in this case 4 which means that the window is 2)\n",
    "    indeces = found_indices[start:end]\n",
    "\n",
    "    # Access elements in the list words which their corresponding indexes are in the list indeces, using the NumPy array function\n",
    "    selected_elements = np.array(words)[indeces]\n",
    "    \n",
    "    return selected_elements"
   ]
  },
  {
   "cell_type": "markdown",
   "metadata": {},
   "source": [
    "### Filter the annotated text, put sentences from filtered Text into a list with tokens, create bigrams from the list"
   ]
  },
  {
   "cell_type": "code",
   "execution_count": 22,
   "metadata": {},
   "outputs": [
    {
     "name": "stdout",
     "output_type": "stream",
     "text": [
      "[['poise', 'club'], ['destroying', 'alexandria', 'sunlight', 'silence'], ['feet', 'anchor', 'gravity'], ['day', 'horizon', 'gesture', 'earth'], ['said', 'good-by', 'good-by', 'number'], ['although', 'eyes', 'lakes', 'dies'], ['ways', 'world', 'taxi', 'enter'], ['poet', 'man', 'feigns'], ['man', 'animal', 'needs'], ['name', 'james', 'wright'], ['earth', 'door', 'cannot'], ['hackles', 'neck', 'fear', 'grief'], ['moon', 'sow'], ['earth', 'birth', 'blues'], ['nature', 'understanding', 'one', 'simple'], ['real', 'terror', 'nature', 'humanity', 'enraged'], ['love', 'word', 'another'], ['goodbye', 'promise', 'lightning'], ['broken', 'body', 'afterimage', 'st'], ['eyes', 'caves', 'chunks'], ['sky', 'baby', 'blue'], ['road', 'somebody', 'small'], ['wrote', 'life', 'strain', 'later'], ['clear', 'mr', 'haggard', 'ryder', 'brother'], ['mind', 'city', 'like'], ['others', 'despots', 'despair'], ['intuitively', 'sense', 'humor', 'necessity'], ['guilt', 'nameless', 'name', 'time'], ['name', 'death', 'stop'], ['hamlet', 'example', 'dying'], ['sun', 'yellowjacket'], ['love', 'fiction', 'must'], ['people', 'home', 'homecomings'], ['yet', 'life', 'invocation', 'sealed'], ['swift', 'darkness', 'spring', 'first'], ['trees', 'crystal', 'chandeliers'], ['still', 'branches', 'wire'], ['deer', 'ghosts', 'slip'], ['gray', 'snow', 'cemetery', 'sheet', 'tin'], ['spades', 'spades', 'clubs'], ['spades', 'spades', 'clubs', 'clovers', 'black'], ['monk-copyist', 'scribes', 'books', 'slate-blue', 'fingertips'], ['whose', 'talisman', 'phoenix'], ['whose', 'emblem', 'rock', 'gibraltar'], ['machines', 'animals', 'americans'], ['man', 'speech'], ['books', 'trees'], ['trees', 'books'], ['underwear', 'something'], ['john', 'henry', 'man', 'six'], ['man', 'nothing', 'man'], ['heart', 'a-flutter'], ['say', 'since', 'words', 'weight', 'music'], ['vapor', 'ocean', 'presence'], ['use', 'books'], ['leaf', 'sinks', 'god', 'size'], ['night', 'man', 'castle'], ['recurring', 'joy', 'pain', 'refined'], ['june', 'sun', 'bonnet', 'light'], ['afternoon', 'colour', 'water'], ['hills', 'kind', 'waiting'], ['world', 'dream'], ['rich', 'connecticut', 'dreamers'], ['swelling', 'lukewarm', 'mouth', 'water'], ['tell', 'mind', 'blanket'], ['like', 'impermanence', 'clash'], ['nighttime', 'meditation', 'mirage'], ['yet', 'earth', 'divinity', 'sky'], ['earth', 'divinity', 'sky', 'divinity'], ['constant', 'spirits', 'keepers'], ['mine', 'scene'], ['breeze', 'dawn', 'angel', 'death'], ['get', 'lost', 'home', 'place', 'cross'], ['maker', 'sausage', 'echt'], ['learned', 'selves', 'man', 'disown'], ['see', 'shopping', 'art', 'form'], ['callers', 'fbi'], ['even', 'mind', 'friend'], ['window', 'survive', 'body', 'illusion'], ['crushing', 'people', 'something', 'live'], ['ocean', 'salt', 'crawled'], ['face', 'street', 'slice', 'bread'], ['chest', 'thunder'], ['ivory', 'dreams', 'will-o-the-wisps', 'scant'], ['soldiers', 'citizens', 'death'], ['soldiers', 'dreamers', 'guns'], ['wind', 'torrent', 'darkness'], ['road', 'ribbon', 'moonlight'], ['eyes', 'hollows', 'madness'], ['road', 'gypsy', 'ribbon'], ['road', 'ribbon', 'moonlight'], ['watchman', 'upper', 'slopes', 'shadows', 'green'], ['mind', 'water', 'april'], ['whose', 'hideous', 'laughter', 'bellows', 'mirth'], ['though', 'god', 'issue', 'strings'], ['whose', 'fell', 'unshadow', 'death', 'utter'], ['driving', 'slowly', 'road', 'glass'], ['even', 'memory', 'stranger'], ['the', 'countess', 'cathleen', 'name', 'gave'], ['laugh', 'cry'], ['field', 'house'], ['hope', 'command', 'hand'], ['country', 'nation', 'map'], ['blacktime', 'time', 'chimeful'], ['shaving', 'lotion', 'stuff', 'scotch'], ['world', 'lost', 'reverie', 'desire'], ['literature', 'lives', 'deif'], ['speaks', 'fiat', 'fiat'], ['whitman', 'father', 'carpenter'], ['workmen', 'singers'], ['laws', 'weight', 'measure'], ['unclean', 'nature', 'name'], ['going', 'bed', 'journey'], ['fateful', 'masks', 'faces', 'gods'], ['masks', 'faces', 'gods', 'men'], ['telephone', 'flaubert', 'parrot'], ['telephone', 'guignol'], ['rock', 'ice', 'men', 'freaks'], ['love', 'it', 'form'], ['thought', 'death', 'peppermint'], ['scarce', 'fresher', 'mountain-sod'], ['ah', 'heart', 'heart', 'stone'], ['peace', 'soul', 'yearning'], ['sohrab', 'unquiet', 'heart', 'thine'], ['whose', 'culture', 'brethren', 'care'], ['sedged', 'brooks', 'thames', 'tributaries'], ['thy', 'rights', 'empire', 'urge'], ['maid', 'said', 'i', 'watry', 'weed'], ['ways', 'fill', 'd'], ['breast', 'love', 'worship'], ['peace', 'thine', 'exclaimed'], ['one', 'brief', 'arts', 'mine'], ['outside', 'noon', 'burning'], ['i', 'resurrection', 'life'], ['away', 'love', 'earth', 'tomb'], ['white', 'black', 'friars', 'dominicans', 'white'], ['dominicans', 'white', 'friars', 'carmelites'], ['name', 'guidi', 'll'], ['no', 'yonder', 'sparkle', 'citadel'], ['low', 'life', 'level', 'night'], ['matter', 'star', 'world'], ['god', 'rest'], ['thus', 'venice', 'merchants', 'kings'], ['fate', 'thine', 'distant'], ['hissing', 'stingless', 'they', 'slain', 'food'], ['matters', 'road', 'head', 'heart'], ['juan', 'receiv', 'd'], ['whole', 'life', 'contest', 'since'], ['limbs', 'bow', 'd'], ['dungeon', 'gulf'], ['thriftiest', 'man', 'cheerfulest'], ['earth', 'helmsman'], ['if', 'snark', 'snark', 'right'], ['thise', 'othere', 'folk', 'criseyda'], ['dardanus', 'ther', 'opyn', 'cheyne'], ['ground', 'liquid', 'gold', 'air'], ['hopes', 'dupes', 'fears'], ['night', 'chill', 'cloud'], ['night', 'chill', 'forest'], ['name', 'geraldine'], ['knight', 'bones', 'dust'], ['western', 'wave', 'a-flame'], ['friendship', 'sheltering', 'tree'], ['lips', 'thine', 'thy'], ['sight', 'eyes', 'strangers', 'yet'], ['children', 'youth', 'lords'], ['whose', 'tender', 'mercy', 'neglect'], ['smiles', 'lightning', 'though'], ['love', 'peace', 'rage'], ['whose', 'soul', 'sense', 'cannot'], ['life', 'blessing'], ['life', 'blessing', 'love'], ['queens', 'form', 'd'], ['herringman', 'captain', 'guard'], ['kind', 'death', 'ends'], ['poetry', 'curs', 'd'], ['slight', 'thing', 'bought'], ['said', 'client', 'martyr'], ['though', 'one', 'side', 'tree'], ['ignorance', 'bliss'], ['somehow', 'yer', 'soul', 'sort', 'wrapped'], ['an', 'know', 'death', 'nigh'], ['stuff', 'flesh', 'brass'], ['jewels', 'baubles', 't'], ['thing', 'beauty', 'joy', 'ever'], ['bearing', 'sort', 'hope'], ['beauty', 'truth', 'truth'], ['wast', 'blind', 'veil', 'rent'], ['mourners', 'said', 'death', 'rest', 'peace'], ['image', 'adversary', 'old'], ['whose', 'aim', 'vanity', 'whose'], ['vanity', 'whose', 'end', 'pain'], ['age', 'opportunity', 'less'], ['rock', 'shock'], ['hero', 'gentle', 'heart', 'strook'], ['another', 'world', 'search', 'd'], ['household', 'things', 'things', 'knew'], ['niagara', 'noisier', 'stealth'], ['whose', 'red', 'drops', 'links', 'harsh'], ['wherefore', 'inconstant', 'care'], ['fields', 'dank', 'ways', 'mire'], ['snuff-box', 'stake', 'prize', 'mine'], ['marble', 'must', 'breast', 'form', 'd'], ['skies', 'sunlit'], ['mountain', 'sheep', 'sweeter'], ['mixture', 'addition', 'grown'], ['clothes', 'curtains'], ['knew', 'month', 'october'], ['love', 'liberty', 'nature'], ['lip', 'thy', 'heart', 'press', 'd'], ['proper', 'study', 'mankind', 'man'], ['strength', 'mind', 'exercise', 'rest'], ['reason', 'card', 'passion', 'gale'], ['vice', 'monster', 'frightful'], ['pray', 'r', 'books', 'toys', 'age'], ['christ', 'king', 'attorney'], ['plesant', 'jurney', 'old'], ['words', 'shadow', 'town'], ['dancing', 'till', 'toes', 'tender'], ['guerdon', 'new', 'childhood', 'repose'], ['forebodings', 'fiends', 'recreance'], ['love', 'complete', 'communion', 'end'], ['bounce', 'music', 'ear'], ['juice', 'wormwood', 'tongue'], ['thine', 'whose', 'lord', 'love'], ['peace', 'garner', 'd'], ['dreams', 'multitudes'], ['glance', 'loftiest', 'dole'], ['pal', 'last', 'need', 'thing', 'heed'], ['woman', 'loved', 'love', 'devil', 'lie'], ['losses', 'restor', 'd'], ['mistress', 'eyes', 'nothing', 'like'], ['hairs', 'wires', 'black'], ['merry', 'larks', 'ploughmen', 'clocks'], ['mine', 'another', 'faith'], ['unchangeable', 'shrine', 'rais', 'd'], ['breath', 'moist', 'earth', 'light'], ['sea', 'whose', 'waves', 'years'], ['winding-sheet', 'shame'], ['cherub', 'cat', 'term', 'angel'], ['dexterity', 'defence', 'instance', 'love'], ['let', 'rest', 'thine'], ['cause', 'none', 'rest'], ['crafty', 'reynold', 'priest', 'ordained'], ['calm', 'day', 'trembling'], ['deceiv', 'd', 'love', 'work', 'art'], ['how', 'dean', 'he'], ['bud', 'shell', 'blossom'], ['sweet', 'rind', 'core'], ['shrine', 'sin', 'prayer'], ['twilight', 'virtues', 'vices'], ['round', 'skies', 'star', 'stain'], ['love', 'pearl', 'oyster'], ['cry', 'phrygian', 'priest'], ['whose', 'flowers', 'tears', 'round'], ['goodlier', 'gift', 'thine', 'foam'], ['last', 'sea', 'line', 'sky'], ['breath', 'thy', 'lips', 'freedom', 'freedom'], ['kingdom', 'whose', 'empire', 'terror', 'joy'], ['life', 'lust', 'lamp'], ['days', 'glad', 'flight', 'fleet'], ['knights', 'adulterers', 'like'], ['spat', 'pish', 'cup', 'gold', 'draught'], ['cup', 'gold', 'draught', 'mud'], ['light', 'gawain', 'life'], ['north', 'ill', 'doom', 'mine'], ['friend', 'foe', 'shadows', 'mist'], ['held', 'field', 'battle', 'king'], ['seeing', 'obedience', 'bond', 'rule'], ['whole', 'round', 'earth', 'every', 'way'], ['man', 'man', 'master'], ['thy', 'wheel', 'thou', 'shadows', 'cloud'], ['time', 'tender', 'palm', 'prest'], ['living', 'soul', 'flash', 'd'], ['two', 'thirty', 'years', 'mist', 'rolls'], ['loved', 'truly', 'love', 'love', 'evermore'], ['half', 'thine', 'half'], ['death', 'end', 'life'], ['dear', 'memory', 'wedded'], ['bright', 'fierce', 'fickle', 'south'], ['prospect', 'gate', 'heavn'], ['fills', 'days', 'hours', 'blinds'], ['whose', 'echo', 'heavn', 'bliss'], ['brooklyn', 'ample', 'hills', 'mine'], ['universe', 'procession', 'measured'], ['glory', 'sweet', 'man', 'token', 'manhood'], ['ship', 'anchor', 'd'], ['know', 'hand', 'god', 'promise'], ['know', 'spirit', 'god', 'brother'], ['kelson', 'creation', 'love'], ['armfuls', 'pack', 'd'], ['deacons', 'ordain', 'd'], ['whose', 'girdle', 'parish', 'bounds'], ['blue', 'sky', 'temple', 'arch'], ['loftiest', 'place', 'seat', 'grace'], ['molten', 'lead', 'tears', 'shed'], ['warder', 'despair'], ['god', 'eternal', 'laws', 'kind'], ['whose', 'dwelling', 'light', 'setting'], ['child', 'father', 'man'], ['better', 'knowledge', 'heart', 'fram', 'd'], ['privacy', 'glorious', 'light', 'thine'], ['delight', 'causer', 'strife'], ['evening', 'garden', 'hedge', 'aflower'], ['heavens', 'bell'], ['mee', 'witness', 'host'], ['th', 'event', 'fear', 'd'], ['revenge', 'towrs', 'heavn', 'fill', 'd'], ['d', 'since', 'god', 'light'], ['back', 'turnd', 'brightness'], ['uncheckt', 'roaving', 'end'], ['thir', 'clay', 'nests', 'coucht'], ['d', 'soon', 'joy', 'turn', 'd'], ['plain', 'raise', 'hill'], ['nay', 'lost', 'eve', 'eve'], ['men', 'sons', 'god'], ['whether', 'name', 'base', 'brave'], ['one', 'thing', 'success'], ['life', 'circuit', 'judge'], ['hall-boy', 'service', 'joke'], ['yf', 'thing', 'lackt'], ['mine', 'bosom', 'paradise'], ['calm', 'sea', 'course'], ['time', 'kind', 'friend'], ['whose', 'touch', 'fire', 'appears'], ['bones', 'guitar', 'strings'], ['death', 'fisherman', 'world'], ['life', 'nothing', 'winter'], ['man', 'vanquish', 'd', 'foe'], ['whose', 'flowers', 'flames', 'lit'], ['whose', 'hosts', 'disturbance', 'words'], ['heart', 'stone', 'dumb'], ['knew', 'sugar', 'love'], ['knew', 'sugar', 'love'], ['nt', 'know', 'sugar', 'love'], ['america', 'educators', 'preachers', 'mental-dictators'], ['thing', 'left', 'room', 'death'], ['wave', 'taxonomy', 'believe'], ['rise', 'pine', 'trees', 'guitars'], ['salamander', 'whose', 'home', 'fire', 'hills'], ['seem', 'thine', 'effect', 'none'], ['thou', 'beatest', 'fear', 'hell', 'track'], ['last', 'year', 'leaves', 'smoke', 'every'], ['miss', 'may', 'miss', 'mine'], ['tree', 'tree'], ['silence', 'song', 'sublime'], ['every', 'living', 'thing', 'friends'], ['selling', 'weather', 'place'], ['facing', 'well', 'stairs', 'furniture'], ['case', 'walnut', 'tracery'], ['richard', 'arkwright', 'barber', 'toured'], ['mine', 'hour'], ['latter', 'one', 'take'], ['walk', 'news', 'bodies'], ['barks', 'what', 'happiness'], ['social', 'teacups', 'hare', 'island'], ['paint', 'blistering'], ['one', 'early', 'symptom', 'boundary'], ['says', 'gods', 'goddesses', 'self', 'writ'], ['young', 'dead', 'man', 'oil', 'old'], ['old', 'dead', 'man', 'water'], ['young', 'dead', 'man', 'bread', 'butter'], ['old', 'dead', 'man', 'bread'], ['dead', 'man', 'flywheel', 'spinning'], ['bill', 'fare', 'rock', 'sand'], ['love', 'man'], ['fingers', 'places', 'prayer'], ['upstep', 'rasp', 'kneeling'], ['grandam', 'grandam', 'lyre'], ['life', 'sharpest', 'rapture', 'surcease', 'pain'], ['pitcher', 'stuff', 'junk'], ['ball', 'park', 'artifact'], ['causation', 'sequence'], ['name', 'name', 'death'], ['though', 'grandmother', 'Warlock'], ['pike', 'fish', 'always'], ['away', 'son', 'lakes', 'salt', 'flowers'], ['wondering', 'got', 'idea', 'manu'], ['tense', 'aorist'], ['years', 'smoke'], ['faith', 'tree', 'sorrow'], ['eggs', 'applejack', 'life', 'paradox'], ['whole', 'sweet', 'world', 'garden'], ['old', 'chronological', 'towers', 'ash', 'prisms'], ['souls', 'bank', 'tellers'], ['art', 'loneliness', 'landscape'], ['rotgut', 'shortcut', 'epiphanies'], ['liar', 'liar', 'liar'], ['liar', 'liar', 'liar', 'act'], ['human', 'rhymes', 'bilge', 'bilge'], ['mistress', 'eyes', 'nothing'], ['ones', 'sentries', 'guarding'], ['scent', 'neither', 'snake'], ['ripeness', 'nothing'], ['byron', 'sick', 'food', 'metaphor', 'existence'], ['even', 'watching', 'anachronism'], ['cities', 'ones', 'wanted'], ['hair', 'color', 'chopped'], ['life', 'colour', 'warmth'], ['thought', 'sun-kissed', 'hills', 'rags', 'upon'], ['democracy', 'shit'], ['relativity', 'shit'], ['dictators', 'shit'], ['menken', 'shit'], ['wine', 'dew', 'wild'], ['hangs', 'shout', 'shrinking', 'nothing'], ['i', 'son', 'thine'], ['sky', 'cloudy', 'yellowed'], ['word', 'whose', 'root', 'love'], ['peace', 'moving', 'heavens', 'fraught'], ['bell', 'bell', 'ringing', 'give'], ['gray', 'men', 'overcoats', 'ghosts', 'blown'], ['like', 'lost', 'water', 'slate', 'far'], ['air', 'kisses', 'kisses'], ['the', 'islands', 'prisons', 'one'], ['world', 'everything', 'case'], ['law', 'devil', 'cheat'], ['far', 'end', 'platform', 'tunnel', 'train'], ['soul', 'sighing'], ['poetry', 'grinding', 'multiplicity'], ['manner', 'soul', 'joined'], ['hall', 'someone', 'glove'], ['body', 'something', 'less'], ['perfection', 'flesh', 'heir'], ['stuff', 'nought', 'mere'], ['yet', 'thoughtless', 'force', 'mine'], ['faces', 'whose', 'hair', 'leaves', 'grapes'], ['love', 'nothing', 'borne'], ['love', 'names', 'love', 'cliff'], ['night', 'sentinel'], ['sedate', 'one', 'month', 'skittish'], ['couples', 'parading', 'everyone'], ['passion', 'scholar', 'heritage'], ['trade', 'courage', 'atrocities'], ['big', 'prints', 'rage'], ['yesterday', 'face', 'corn'], ['cuticles', 'mess', 'oh'], ['knows', 'skin', 'glass'], ['mindful', 'melancholy', 'sin', 'though'], ['better', 'rage', 'post-dinner', 'quiet'], ['greek', 'tragedy', 'course', 'sort', 'thing'], ['understatement', 'privilege', 'god'], ['madman', 'coleridge', 'drug', 'addict'], ['suffering', 'life', 'penalty'], ['speech', 'temporary', 'poetry', 'truth'], ['body', 'dwelling', 'stone', 'perched'], ['death', 'death', 'none'], ['name', 'johnson'], ['windshield', 'splintering', 'lens', 'time', 'mailbox'], ['voice', 'garden', 'thunder', 'sent'], ['solomon', 'king'], ['whose', 'loss', 'laughter', 'counts'], ['ships', 'whose', 'name', 'mystery'], ['ships', 'palaces', 'brown'], ['ships', 'prisons', 'multitudinous'], ['moment', 'moon', 'blood'], ['night', 'kings', 'earth', 'chill'], ['struggle', 'home', 'beast'], ['head', 'firs', 'rafter'], ['mantilla', 'lace'], ['whose', 'blackness', 'air'], ['frog', 'frog', 'hopelessly'], ['frog', 'frog', 'reason'], ['frog', 'frog', 'cannot'], ['frog', 'frog', 'frog'], ['personnel', 'still', 'mouths', 'mash'], ['perhaps', 'sadness', 'way', 'seeming'], ['lurks', 'surface', 'another', 'story'], ['sky', 'show', 'flashing'], ['downing', 'street', 'accord', 'lots'], ['sun', 'god', 'eye'], ['chrysler', 'building', 'pin'], ['deafness', 'asset', 'well'], ['beginning', 'word'], ['word', 'nigger'], ['word', 'death', 'niggers'], ['word', 'death', 'life'], ['word', 'death'], ['genesis', 'life'], ['genesis', 'death'], ['beginning', 'deed'], ['deed', 'death'], ['hair', 'three-quarters', 'height'], ['moment', 'music', 'wanted'], ['whose', 'confidence', 'game', 'marbles'], ['stoics', 'replied', 'life', 'war', 'illusion'], ['beaches', 'lava', 'variegated'], ['whole', 'palazzo', 'property'], ['art', 'history', 'nostalgia'], ['his', 'name', 'hector'], ['face', 'find', 'sea', 'love'], ['mer', 'mother', 'sea'], ['thine', 'kingdom', 'glory'], ['maybe', 'events', 'nature', 'sleight'], ['boortree', 'bower', 'tree'], ['attenuation', 'strength', 'donne'], ['light', 'instant', 'far-seeing'], ['hat', 'kid', 'life', 'cinch'], ['whose', 'look', 'charnel', 'lusters'], ['grace', 'indeed', 'look', 'grace'], ['yet', 'relaxed', 'hands', 'void'], ['ten', 'years', 'time', 'enough'], ['ghosts', 'plato', 'christians'], ['narcissus', 'vocabulary', 'hermes'], ['person', 'every', 'son-of-a-bitch', 'christ', 'least'], ['believe', 'human', 'community', 'lies', 'bullshit'], ['nose', 'wick'], ['said', 'today', 'monday', 'want'], ['think', 'relationship', 'wealth'], ['river', 'variety', 'land'], ['far', 'one', 'rim', 'bay', 'flocks'], ['look', 'bleating', 'lambs', 'birds'], ['banishing', 'love', 'fix', 'stars'], ['efflux', 'soul', 'happiness', 'happiness'], ['fluid', 'attaching', 'character', 'freshness', 'sweetness'], ['call', 'call', 'battle'], ['leafless', 'beds', 'aglow'], ['deep', 'buried', 'forest', 'nook'], ['even', 'teacher', 'child', 'said'], ['thy', 'songs', 'riddles', 'hard'], ['day', 'another', 'mine', 'terms'], ['bin', 'morning', 'light'], ['body', 'pebble', 'tend'], ['every', 'distinct', 'thing', 'illusion'], ['work', 'something'], ['forgotten', 'woods', 'mangle'], ['hour', 'hour', 'like'], ['man', 'whose', 'name', 'saul'], ['parcels', 'light', 'angels', 'women', 'know'], ['silence', 'envelope', 'noise', 'paper'], ['silence', 'envelope', 'noise'], ['beneath', 'squeeze', 'heart', 'stranglehold'], ['todd', 'hardware', 'dust', 'monkey'], ['center', 'things', 'pain', 'gateway'], ['matter', 'water'], ['song', 'joy', 'life'], ['across', 'street', 'windows'], ['song', 'mountain', 'put'], ['words', 'landscape', 'feeling'], ['life', 'experience'], ['ideas', 'governments', 'turned'], ['shrugged', 'janos', 'friend', 'university'], ['fighting', 'war', 'plausible'], ['glades', 'dusk', 'soft'], ['horse', 'fence', 'fences', 'horses'], ['let', 'couch', 'chair', 'place', 'sitting'], ['let', 'table', 'place', 'eating'], ['hondurans', 'masters', 'land'], ['gongressman', 'chipper', 'mule'], ['sleep', 'drug'], ['eat', 'art', 'dust', 'art'], ['new', 'york', 'love', 'means', 'travel'], ['experience', 'mine', 'mine', 'things', 'entirely'], ['march', 'shambles', 'shards'], ['granite', 'ice', 'colours', 'heart'], ['view', 'mountain', 'speaking'], ['closed', 'door', 'panic', 'spaces'], ['man', 'shovel', 'king'], ['everyone', 'friend', 'pathology'], ['children', 'distances', 'horizons'], ['saulis', 'borrowit', 'bliss'], ['name', 'colin', 'clout'], ['purpose', 'ambition'], ['provo', 'place', 'reason'], ['passing', 'june', 'another'], ['say', 'days', 'scrolls', 'write'], ['new', 'age', 'victor', 'one', 'gets'], ['moment', 'like', 'axe', 'recognition'], ['friend', 'gist', 'war', 'boredom'], ['night', 'clock', 'chiming'], ['dark', 'world', 'light'], ['loe', 'hir', 'lips', 'rubies', 'sound'], ['pearles', 'hir', 'teeth', 'pearles', 'pure'], ['rest', 'works', 'natures'], ['love', 'sin', 'let'], ['love', 'chasteness', 'pain'], ['let', 'mine', 'eyes', 'hell-drivn', 'light'], ['singsing', 'sing', 'line', 'example', 'epanalepsis'], ['debasement', 'password', 'base'], ['thunder', 'someone', 'shotgun'], ['new', 'moon', 'ones', 'wolves'], ['buildings', 'mountains'], ['infant', 'eye', 'looking'], ['sorrow', 'christ', 'dewlap'], ['sustenance', 'laugh', 'grief'], ['red', 'one', 'poppy'], ['marvel', 'substance', 'mould'], ['words', 'spears'], ['love', 'love', 'love', 'love'], ['unfaith', 'aught', 'want', 'faith'], ['things', 'nothing', 'give'], ['mine', 'heart', 'feet'], ['body', 'soul', 'mine'], ['one', 'might', 'death', 'divorce'], ['fear', 'snare', 'afraid'], ['calm', 'sea', 'waves'], ['dead', 'root', 'whence'], ['true', 'fool', 'love'], ['thy', 'fadere', 'king', 'blis'], ['moon', 'o', 'yonder', 'moon'], ['thou', 'ravenous', 'chancres', 'prey'], ['cheat', 'briers', 'buds', 'strung'], ['face', 'honey', 'mouth'], ['d', 'ease', 'gold', 'word'], ['till', 'love', 'trust'], ['distance', 'love', 'severance'], ['absent', 'every', 'minute', 'year'], ['strephon', 'found', 'room', 'void'], ['age', 'naught', 'sorrow'], ['thee', 'whose', 'temple', 'space'], ['heart', 'love'], ['levity', 'patience'], ['men', 'deceivers', 'ever'], ['fond', 'life', 'lustful'], ['though', 'beauty', 'mark', 'praise'], ['brilliance', 'carcass'], ['life', 'cry', 'followed'], ['walls', 'floors', 'floors'], ['material', 'things', 'world', 'key'], ['interviewer', 'poet', 'mann'], ['hot', 'wind', 'friend', 'lifter'], ['though', 'manic', 'tribe', 'mine', 'boreal'], ['utterly', 'absorbed', 'love', 'distraction', 'even'], ['cities', 'places', 'conversion'], ['cities', 'places', 'conversion', 'said'], ['sex', 'please', 'petunias', 'apology'], ['long', 'ago', 'desert', 'inland', 'sea'], ['name', 'household', 'word'], ['horse', 'midnight'], ['dey', 'known', 'dey', 'slaves', 'harriet'], ['hundred', 'furnished', 'rooms', 'girl', 'sells'], ['law', 'move', 'die'], ['day', 'night', 'sit'], ['sun', 'enemy', 'eye'], ['animals', 'whose', 'artistry', 'flesh'], ['around', 'wound', 'odors', 'mixture'], ['elegies', 'medicine', 'prescribed'], ['empty', 'hallway', 'past', 'self', 'ghoul'], ['back', 'saddle', 'lovers'], ['horizon', 'h', 'point', 'vision'], ['people', 'days', 'becoming'], ['wind', 'breath', 'hurricane'], ['word', 'mindful'], ['say', 'ghost', 'ghost'], ['like', 'river', 'talk', 'naming', 'named'], ['talk', 'naming'], ['talk', 'naming', 'named'], ['whose', 'doldrums', 'meadows', 'spinning'], ['name', 'sara', 'kept'], ['soul', 'forgiveness', 'knows'], ['screen', 'stripes', 'knows'], ['god', 'momentum'], ['personal', 'private', 'tank', 'nothing'], ['world', 'word', 'wilderness'], ['answer', 'answer', 'world'], ['beginning', 'beginning', 'happiness'], ['paul', 'sort'], ['thing', 'regrets', 'life', 'amount', 'time'], ['people', 'kind', 'solution'], ['in', 'star', 'it', 'star', 'it'], ['father', 'farm', 'apple', 'blossomer'], ['fields', 'oceans', 'heat'], ['father', 'farm', 'icicle'], ['today', 'friday'], ['left', 'leg', 'meal', 'crayfish'], ['risk', 'part', 'rhythm'], ['mentions', 'hearing', 'silver'], ['name', 'orestes'], ['one', 'escape', 'use', 'strength', 'ca'], ['behind', 'memory', 'like'], ['perfume', 'flowers', 'ground'], ['cleanse', 'vision', 'fish', 'silver'], ['martin', 'man', 'one'], ['joke', 'singer', 'nothing'], ['singer', 'nothing', 'sing'], ['season', 'cold', 'season', 'darkness'], ['else', 'beasts', 'tigers'], ['without', 'earth', 'sand'], ['sky', 'cloud', 'cloud'], ['sky', 'cloudy']]\n",
      "[('poise', 'club'), ('destroying', 'alexandria'), ('alexandria', 'sunlight'), ('sunlight', 'silence'), ('feet', 'anchor'), ('anchor', 'gravity'), ('day', 'horizon'), ('horizon', 'gesture'), ('gesture', 'earth'), ('said', 'good-by'), ('good-by', 'good-by'), ('good-by', 'number'), ('although', 'eyes'), ('eyes', 'lakes'), ('lakes', 'dies'), ('ways', 'world'), ('world', 'taxi'), ('taxi', 'enter'), ('poet', 'man'), ('man', 'feigns'), ('man', 'animal'), ('animal', 'needs'), ('name', 'james'), ('james', 'wright'), ('earth', 'door'), ('door', 'cannot'), ('hackles', 'neck'), ('neck', 'fear'), ('fear', 'grief'), ('moon', 'sow'), ('earth', 'birth'), ('birth', 'blues'), ('nature', 'understanding'), ('understanding', 'one'), ('one', 'simple'), ('real', 'terror'), ('terror', 'nature'), ('nature', 'humanity'), ('humanity', 'enraged'), ('love', 'word'), ('word', 'another'), ('goodbye', 'promise'), ('promise', 'lightning'), ('broken', 'body'), ('body', 'afterimage'), ('afterimage', 'st'), ('eyes', 'caves'), ('caves', 'chunks'), ('sky', 'baby'), ('baby', 'blue'), ('road', 'somebody'), ('somebody', 'small'), ('wrote', 'life'), ('life', 'strain'), ('strain', 'later'), ('clear', 'mr'), ('mr', 'haggard'), ('haggard', 'ryder'), ('ryder', 'brother'), ('mind', 'city'), ('city', 'like'), ('others', 'despots'), ('despots', 'despair'), ('intuitively', 'sense'), ('sense', 'humor'), ('humor', 'necessity'), ('guilt', 'nameless'), ('nameless', 'name'), ('name', 'time'), ('name', 'death'), ('death', 'stop'), ('hamlet', 'example'), ('example', 'dying'), ('sun', 'yellowjacket'), ('love', 'fiction'), ('fiction', 'must'), ('people', 'home'), ('home', 'homecomings'), ('yet', 'life'), ('life', 'invocation'), ('invocation', 'sealed'), ('swift', 'darkness'), ('darkness', 'spring'), ('spring', 'first'), ('trees', 'crystal'), ('crystal', 'chandeliers'), ('still', 'branches'), ('branches', 'wire'), ('deer', 'ghosts'), ('ghosts', 'slip'), ('gray', 'snow'), ('snow', 'cemetery'), ('cemetery', 'sheet'), ('sheet', 'tin'), ('spades', 'spades'), ('spades', 'clubs'), ('spades', 'spades'), ('spades', 'clubs'), ('clubs', 'clovers'), ('clovers', 'black'), ('monk-copyist', 'scribes'), ('scribes', 'books'), ('books', 'slate-blue'), ('slate-blue', 'fingertips'), ('whose', 'talisman'), ('talisman', 'phoenix'), ('whose', 'emblem'), ('emblem', 'rock'), ('rock', 'gibraltar'), ('machines', 'animals'), ('animals', 'americans'), ('man', 'speech'), ('books', 'trees'), ('trees', 'books'), ('underwear', 'something'), ('john', 'henry'), ('henry', 'man'), ('man', 'six'), ('man', 'nothing'), ('nothing', 'man'), ('heart', 'a-flutter'), ('say', 'since'), ('since', 'words'), ('words', 'weight'), ('weight', 'music'), ('vapor', 'ocean'), ('ocean', 'presence'), ('use', 'books'), ('leaf', 'sinks'), ('sinks', 'god'), ('god', 'size'), ('night', 'man'), ('man', 'castle'), ('recurring', 'joy'), ('joy', 'pain'), ('pain', 'refined'), ('june', 'sun'), ('sun', 'bonnet'), ('bonnet', 'light'), ('afternoon', 'colour'), ('colour', 'water'), ('hills', 'kind'), ('kind', 'waiting'), ('world', 'dream'), ('rich', 'connecticut'), ('connecticut', 'dreamers'), ('swelling', 'lukewarm'), ('lukewarm', 'mouth'), ('mouth', 'water'), ('tell', 'mind'), ('mind', 'blanket'), ('like', 'impermanence'), ('impermanence', 'clash'), ('nighttime', 'meditation'), ('meditation', 'mirage'), ('yet', 'earth'), ('earth', 'divinity'), ('divinity', 'sky'), ('earth', 'divinity'), ('divinity', 'sky'), ('sky', 'divinity'), ('constant', 'spirits'), ('spirits', 'keepers'), ('mine', 'scene'), ('breeze', 'dawn'), ('dawn', 'angel'), ('angel', 'death'), ('get', 'lost'), ('lost', 'home'), ('home', 'place'), ('place', 'cross'), ('maker', 'sausage'), ('sausage', 'echt'), ('learned', 'selves'), ('selves', 'man'), ('man', 'disown'), ('see', 'shopping'), ('shopping', 'art'), ('art', 'form'), ('callers', 'fbi'), ('even', 'mind'), ('mind', 'friend'), ('window', 'survive'), ('survive', 'body'), ('body', 'illusion'), ('crushing', 'people'), ('people', 'something'), ('something', 'live'), ('ocean', 'salt'), ('salt', 'crawled'), ('face', 'street'), ('street', 'slice'), ('slice', 'bread'), ('chest', 'thunder'), ('ivory', 'dreams'), ('dreams', 'will-o-the-wisps'), ('will-o-the-wisps', 'scant'), ('soldiers', 'citizens'), ('citizens', 'death'), ('soldiers', 'dreamers'), ('dreamers', 'guns'), ('wind', 'torrent'), ('torrent', 'darkness'), ('road', 'ribbon'), ('ribbon', 'moonlight'), ('eyes', 'hollows'), ('hollows', 'madness'), ('road', 'gypsy'), ('gypsy', 'ribbon'), ('road', 'ribbon'), ('ribbon', 'moonlight'), ('watchman', 'upper'), ('upper', 'slopes'), ('slopes', 'shadows'), ('shadows', 'green'), ('mind', 'water'), ('water', 'april'), ('whose', 'hideous'), ('hideous', 'laughter'), ('laughter', 'bellows'), ('bellows', 'mirth'), ('though', 'god'), ('god', 'issue'), ('issue', 'strings'), ('whose', 'fell'), ('fell', 'unshadow'), ('unshadow', 'death'), ('death', 'utter'), ('driving', 'slowly'), ('slowly', 'road'), ('road', 'glass'), ('even', 'memory'), ('memory', 'stranger'), ('the', 'countess'), ('countess', 'cathleen'), ('cathleen', 'name'), ('name', 'gave'), ('laugh', 'cry'), ('field', 'house'), ('hope', 'command'), ('command', 'hand'), ('country', 'nation'), ('nation', 'map'), ('blacktime', 'time'), ('time', 'chimeful'), ('shaving', 'lotion'), ('lotion', 'stuff'), ('stuff', 'scotch'), ('world', 'lost'), ('lost', 'reverie'), ('reverie', 'desire'), ('literature', 'lives'), ('lives', 'deif'), ('speaks', 'fiat'), ('fiat', 'fiat'), ('whitman', 'father'), ('father', 'carpenter'), ('workmen', 'singers'), ('laws', 'weight'), ('weight', 'measure'), ('unclean', 'nature'), ('nature', 'name'), ('going', 'bed'), ('bed', 'journey'), ('fateful', 'masks'), ('masks', 'faces'), ('faces', 'gods'), ('masks', 'faces'), ('faces', 'gods'), ('gods', 'men'), ('telephone', 'flaubert'), ('flaubert', 'parrot'), ('telephone', 'guignol'), ('rock', 'ice'), ('ice', 'men'), ('men', 'freaks'), ('love', 'it'), ('it', 'form'), ('thought', 'death'), ('death', 'peppermint'), ('scarce', 'fresher'), ('fresher', 'mountain-sod'), ('ah', 'heart'), ('heart', 'heart'), ('heart', 'stone'), ('peace', 'soul'), ('soul', 'yearning'), ('sohrab', 'unquiet'), ('unquiet', 'heart'), ('heart', 'thine'), ('whose', 'culture'), ('culture', 'brethren'), ('brethren', 'care'), ('sedged', 'brooks'), ('brooks', 'thames'), ('thames', 'tributaries'), ('thy', 'rights'), ('rights', 'empire'), ('empire', 'urge'), ('maid', 'said'), ('said', 'i'), ('i', 'watry'), ('watry', 'weed'), ('ways', 'fill'), ('fill', 'd'), ('breast', 'love'), ('love', 'worship'), ('peace', 'thine'), ('thine', 'exclaimed'), ('one', 'brief'), ('brief', 'arts'), ('arts', 'mine'), ('outside', 'noon'), ('noon', 'burning'), ('i', 'resurrection'), ('resurrection', 'life'), ('away', 'love'), ('love', 'earth'), ('earth', 'tomb'), ('white', 'black'), ('black', 'friars'), ('friars', 'dominicans'), ('dominicans', 'white'), ('dominicans', 'white'), ('white', 'friars'), ('friars', 'carmelites'), ('name', 'guidi'), ('guidi', 'll'), ('no', 'yonder'), ('yonder', 'sparkle'), ('sparkle', 'citadel'), ('low', 'life'), ('life', 'level'), ('level', 'night'), ('matter', 'star'), ('star', 'world'), ('god', 'rest'), ('thus', 'venice'), ('venice', 'merchants'), ('merchants', 'kings'), ('fate', 'thine'), ('thine', 'distant'), ('hissing', 'stingless'), ('stingless', 'they'), ('they', 'slain'), ('slain', 'food'), ('matters', 'road'), ('road', 'head'), ('head', 'heart'), ('juan', 'receiv'), ('receiv', 'd'), ('whole', 'life'), ('life', 'contest'), ('contest', 'since'), ('limbs', 'bow'), ('bow', 'd'), ('dungeon', 'gulf'), ('thriftiest', 'man'), ('man', 'cheerfulest'), ('earth', 'helmsman'), ('if', 'snark'), ('snark', 'snark'), ('snark', 'right'), ('thise', 'othere'), ('othere', 'folk'), ('folk', 'criseyda'), ('dardanus', 'ther'), ('ther', 'opyn'), ('opyn', 'cheyne'), ('ground', 'liquid'), ('liquid', 'gold'), ('gold', 'air'), ('hopes', 'dupes'), ('dupes', 'fears'), ('night', 'chill'), ('chill', 'cloud'), ('night', 'chill'), ('chill', 'forest'), ('name', 'geraldine'), ('knight', 'bones'), ('bones', 'dust'), ('western', 'wave'), ('wave', 'a-flame'), ('friendship', 'sheltering'), ('sheltering', 'tree'), ('lips', 'thine'), ('thine', 'thy'), ('sight', 'eyes'), ('eyes', 'strangers'), ('strangers', 'yet'), ('children', 'youth'), ('youth', 'lords'), ('whose', 'tender'), ('tender', 'mercy'), ('mercy', 'neglect'), ('smiles', 'lightning'), ('lightning', 'though'), ('love', 'peace'), ('peace', 'rage'), ('whose', 'soul'), ('soul', 'sense'), ('sense', 'cannot'), ('life', 'blessing'), ('life', 'blessing'), ('blessing', 'love'), ('queens', 'form'), ('form', 'd'), ('herringman', 'captain'), ('captain', 'guard'), ('kind', 'death'), ('death', 'ends'), ('poetry', 'curs'), ('curs', 'd'), ('slight', 'thing'), ('thing', 'bought'), ('said', 'client'), ('client', 'martyr'), ('though', 'one'), ('one', 'side'), ('side', 'tree'), ('ignorance', 'bliss'), ('somehow', 'yer'), ('yer', 'soul'), ('soul', 'sort'), ('sort', 'wrapped'), ('an', 'know'), ('know', 'death'), ('death', 'nigh'), ('stuff', 'flesh'), ('flesh', 'brass'), ('jewels', 'baubles'), ('baubles', 't'), ('thing', 'beauty'), ('beauty', 'joy'), ('joy', 'ever'), ('bearing', 'sort'), ('sort', 'hope'), ('beauty', 'truth'), ('truth', 'truth'), ('wast', 'blind'), ('blind', 'veil'), ('veil', 'rent'), ('mourners', 'said'), ('said', 'death'), ('death', 'rest'), ('rest', 'peace'), ('image', 'adversary'), ('adversary', 'old'), ('whose', 'aim'), ('aim', 'vanity'), ('vanity', 'whose'), ('vanity', 'whose'), ('whose', 'end'), ('end', 'pain'), ('age', 'opportunity'), ('opportunity', 'less'), ('rock', 'shock'), ('hero', 'gentle'), ('gentle', 'heart'), ('heart', 'strook'), ('another', 'world'), ('world', 'search'), ('search', 'd'), ('household', 'things'), ('things', 'things'), ('things', 'knew'), ('niagara', 'noisier'), ('noisier', 'stealth'), ('whose', 'red'), ('red', 'drops'), ('drops', 'links'), ('links', 'harsh'), ('wherefore', 'inconstant'), ('inconstant', 'care'), ('fields', 'dank'), ('dank', 'ways'), ('ways', 'mire'), ('snuff-box', 'stake'), ('stake', 'prize'), ('prize', 'mine'), ('marble', 'must'), ('must', 'breast'), ('breast', 'form'), ('form', 'd'), ('skies', 'sunlit'), ('mountain', 'sheep'), ('sheep', 'sweeter'), ('mixture', 'addition'), ('addition', 'grown'), ('clothes', 'curtains'), ('knew', 'month'), ('month', 'october'), ('love', 'liberty'), ('liberty', 'nature'), ('lip', 'thy'), ('thy', 'heart'), ('heart', 'press'), ('press', 'd'), ('proper', 'study'), ('study', 'mankind'), ('mankind', 'man'), ('strength', 'mind'), ('mind', 'exercise'), ('exercise', 'rest'), ('reason', 'card'), ('card', 'passion'), ('passion', 'gale'), ('vice', 'monster'), ('monster', 'frightful'), ('pray', 'r'), ('r', 'books'), ('books', 'toys'), ('toys', 'age'), ('christ', 'king'), ('king', 'attorney'), ('plesant', 'jurney'), ('jurney', 'old'), ('words', 'shadow'), ('shadow', 'town'), ('dancing', 'till'), ('till', 'toes'), ('toes', 'tender'), ('guerdon', 'new'), ('new', 'childhood'), ('childhood', 'repose'), ('forebodings', 'fiends'), ('fiends', 'recreance'), ('love', 'complete'), ('complete', 'communion'), ('communion', 'end'), ('bounce', 'music'), ('music', 'ear'), ('juice', 'wormwood'), ('wormwood', 'tongue'), ('thine', 'whose'), ('whose', 'lord'), ('lord', 'love'), ('peace', 'garner'), ('garner', 'd'), ('dreams', 'multitudes'), ('glance', 'loftiest'), ('loftiest', 'dole'), ('pal', 'last'), ('last', 'need'), ('need', 'thing'), ('thing', 'heed'), ('woman', 'loved'), ('loved', 'love'), ('love', 'devil'), ('devil', 'lie'), ('losses', 'restor'), ('restor', 'd'), ('mistress', 'eyes'), ('eyes', 'nothing'), ('nothing', 'like'), ('hairs', 'wires'), ('wires', 'black'), ('merry', 'larks'), ('larks', 'ploughmen'), ('ploughmen', 'clocks'), ('mine', 'another'), ('another', 'faith'), ('unchangeable', 'shrine'), ('shrine', 'rais'), ('rais', 'd'), ('breath', 'moist'), ('moist', 'earth'), ('earth', 'light'), ('sea', 'whose'), ('whose', 'waves'), ('waves', 'years'), ('winding-sheet', 'shame'), ('cherub', 'cat'), ('cat', 'term'), ('term', 'angel'), ('dexterity', 'defence'), ('defence', 'instance'), ('instance', 'love'), ('let', 'rest'), ('rest', 'thine'), ('cause', 'none'), ('none', 'rest'), ('crafty', 'reynold'), ('reynold', 'priest'), ('priest', 'ordained'), ('calm', 'day'), ('day', 'trembling'), ('deceiv', 'd'), ('d', 'love'), ('love', 'work'), ('work', 'art'), ('how', 'dean'), ('dean', 'he'), ('bud', 'shell'), ('shell', 'blossom'), ('sweet', 'rind'), ('rind', 'core'), ('shrine', 'sin'), ('sin', 'prayer'), ('twilight', 'virtues'), ('virtues', 'vices'), ('round', 'skies'), ('skies', 'star'), ('star', 'stain'), ('love', 'pearl'), ('pearl', 'oyster'), ('cry', 'phrygian'), ('phrygian', 'priest'), ('whose', 'flowers'), ('flowers', 'tears'), ('tears', 'round'), ('goodlier', 'gift'), ('gift', 'thine'), ('thine', 'foam'), ('last', 'sea'), ('sea', 'line'), ('line', 'sky'), ('breath', 'thy'), ('thy', 'lips'), ('lips', 'freedom'), ('freedom', 'freedom'), ('kingdom', 'whose'), ('whose', 'empire'), ('empire', 'terror'), ('terror', 'joy'), ('life', 'lust'), ('lust', 'lamp'), ('days', 'glad'), ('glad', 'flight'), ('flight', 'fleet'), ('knights', 'adulterers'), ('adulterers', 'like'), ('spat', 'pish'), ('pish', 'cup'), ('cup', 'gold'), ('gold', 'draught'), ('cup', 'gold'), ('gold', 'draught'), ('draught', 'mud'), ('light', 'gawain'), ('gawain', 'life'), ('north', 'ill'), ('ill', 'doom'), ('doom', 'mine'), ('friend', 'foe'), ('foe', 'shadows'), ('shadows', 'mist'), ('held', 'field'), ('field', 'battle'), ('battle', 'king'), ('seeing', 'obedience'), ('obedience', 'bond'), ('bond', 'rule'), ('whole', 'round'), ('round', 'earth'), ('earth', 'every'), ('every', 'way'), ('man', 'man'), ('man', 'master'), ('thy', 'wheel'), ('wheel', 'thou'), ('thou', 'shadows'), ('shadows', 'cloud'), ('time', 'tender'), ('tender', 'palm'), ('palm', 'prest'), ('living', 'soul'), ('soul', 'flash'), ('flash', 'd'), ('two', 'thirty'), ('thirty', 'years'), ('years', 'mist'), ('mist', 'rolls'), ('loved', 'truly'), ('truly', 'love'), ('love', 'love'), ('love', 'evermore'), ('half', 'thine'), ('thine', 'half'), ('death', 'end'), ('end', 'life'), ('dear', 'memory'), ('memory', 'wedded'), ('bright', 'fierce'), ('fierce', 'fickle'), ('fickle', 'south'), ('prospect', 'gate'), ('gate', 'heavn'), ('fills', 'days'), ('days', 'hours'), ('hours', 'blinds'), ('whose', 'echo'), ('echo', 'heavn'), ('heavn', 'bliss'), ('brooklyn', 'ample'), ('ample', 'hills'), ('hills', 'mine'), ('universe', 'procession'), ('procession', 'measured'), ('glory', 'sweet'), ('sweet', 'man'), ('man', 'token'), ('token', 'manhood'), ('ship', 'anchor'), ('anchor', 'd'), ('know', 'hand'), ('hand', 'god'), ('god', 'promise'), ('know', 'spirit'), ('spirit', 'god'), ('god', 'brother'), ('kelson', 'creation'), ('creation', 'love'), ('armfuls', 'pack'), ('pack', 'd'), ('deacons', 'ordain'), ('ordain', 'd'), ('whose', 'girdle'), ('girdle', 'parish'), ('parish', 'bounds'), ('blue', 'sky'), ('sky', 'temple'), ('temple', 'arch'), ('loftiest', 'place'), ('place', 'seat'), ('seat', 'grace'), ('molten', 'lead'), ('lead', 'tears'), ('tears', 'shed'), ('warder', 'despair'), ('god', 'eternal'), ('eternal', 'laws'), ('laws', 'kind'), ('whose', 'dwelling'), ('dwelling', 'light'), ('light', 'setting'), ('child', 'father'), ('father', 'man'), ('better', 'knowledge'), ('knowledge', 'heart'), ('heart', 'fram'), ('fram', 'd'), ('privacy', 'glorious'), ('glorious', 'light'), ('light', 'thine'), ('delight', 'causer'), ('causer', 'strife'), ('evening', 'garden'), ('garden', 'hedge'), ('hedge', 'aflower'), ('heavens', 'bell'), ('mee', 'witness'), ('witness', 'host'), ('th', 'event'), ('event', 'fear'), ('fear', 'd'), ('revenge', 'towrs'), ('towrs', 'heavn'), ('heavn', 'fill'), ('fill', 'd'), ('d', 'since'), ('since', 'god'), ('god', 'light'), ('back', 'turnd'), ('turnd', 'brightness'), ('uncheckt', 'roaving'), ('roaving', 'end'), ('thir', 'clay'), ('clay', 'nests'), ('nests', 'coucht'), ('d', 'soon'), ('soon', 'joy'), ('joy', 'turn'), ('turn', 'd'), ('plain', 'raise'), ('raise', 'hill'), ('nay', 'lost'), ('lost', 'eve'), ('eve', 'eve'), ('men', 'sons'), ('sons', 'god'), ('whether', 'name'), ('name', 'base'), ('base', 'brave'), ('one', 'thing'), ('thing', 'success'), ('life', 'circuit'), ('circuit', 'judge'), ('hall-boy', 'service'), ('service', 'joke'), ('yf', 'thing'), ('thing', 'lackt'), ('mine', 'bosom'), ('bosom', 'paradise'), ('calm', 'sea'), ('sea', 'course'), ('time', 'kind'), ('kind', 'friend'), ('whose', 'touch'), ('touch', 'fire'), ('fire', 'appears'), ('bones', 'guitar'), ('guitar', 'strings'), ('death', 'fisherman'), ('fisherman', 'world'), ('life', 'nothing'), ('nothing', 'winter'), ('man', 'vanquish'), ('vanquish', 'd'), ('d', 'foe'), ('whose', 'flowers'), ('flowers', 'flames'), ('flames', 'lit'), ('whose', 'hosts'), ('hosts', 'disturbance'), ('disturbance', 'words'), ('heart', 'stone'), ('stone', 'dumb'), ('knew', 'sugar'), ('sugar', 'love'), ('knew', 'sugar'), ('sugar', 'love'), ('nt', 'know'), ('know', 'sugar'), ('sugar', 'love'), ('america', 'educators'), ('educators', 'preachers'), ('preachers', 'mental-dictators'), ('thing', 'left'), ('left', 'room'), ('room', 'death'), ('wave', 'taxonomy'), ('taxonomy', 'believe'), ('rise', 'pine'), ('pine', 'trees'), ('trees', 'guitars'), ('salamander', 'whose'), ('whose', 'home'), ('home', 'fire'), ('fire', 'hills'), ('seem', 'thine'), ('thine', 'effect'), ('effect', 'none'), ('thou', 'beatest'), ('beatest', 'fear'), ('fear', 'hell'), ('hell', 'track'), ('last', 'year'), ('year', 'leaves'), ('leaves', 'smoke'), ('smoke', 'every'), ('miss', 'may'), ('may', 'miss'), ('miss', 'mine'), ('tree', 'tree'), ('silence', 'song'), ('song', 'sublime'), ('every', 'living'), ('living', 'thing'), ('thing', 'friends'), ('selling', 'weather'), ('weather', 'place'), ('facing', 'well'), ('well', 'stairs'), ('stairs', 'furniture'), ('case', 'walnut'), ('walnut', 'tracery'), ('richard', 'arkwright'), ('arkwright', 'barber'), ('barber', 'toured'), ('mine', 'hour'), ('latter', 'one'), ('one', 'take'), ('walk', 'news'), ('news', 'bodies'), ('barks', 'what'), ('what', 'happiness'), ('social', 'teacups'), ('teacups', 'hare'), ('hare', 'island'), ('paint', 'blistering'), ('one', 'early'), ('early', 'symptom'), ('symptom', 'boundary'), ('says', 'gods'), ('gods', 'goddesses'), ('goddesses', 'self'), ('self', 'writ'), ('young', 'dead'), ('dead', 'man'), ('man', 'oil'), ('oil', 'old'), ('old', 'dead'), ('dead', 'man'), ('man', 'water'), ('young', 'dead'), ('dead', 'man'), ('man', 'bread'), ('bread', 'butter'), ('old', 'dead'), ('dead', 'man'), ('man', 'bread'), ('dead', 'man'), ('man', 'flywheel'), ('flywheel', 'spinning'), ('bill', 'fare'), ('fare', 'rock'), ('rock', 'sand'), ('love', 'man'), ('fingers', 'places'), ('places', 'prayer'), ('upstep', 'rasp'), ('rasp', 'kneeling'), ('grandam', 'grandam'), ('grandam', 'lyre'), ('life', 'sharpest'), ('sharpest', 'rapture'), ('rapture', 'surcease'), ('surcease', 'pain'), ('pitcher', 'stuff'), ('stuff', 'junk'), ('ball', 'park'), ('park', 'artifact'), ('causation', 'sequence'), ('name', 'name'), ('name', 'death'), ('though', 'grandmother'), ('grandmother', 'Warlock'), ('pike', 'fish'), ('fish', 'always'), ('away', 'son'), ('son', 'lakes'), ('lakes', 'salt'), ('salt', 'flowers'), ('wondering', 'got'), ('got', 'idea'), ('idea', 'manu'), ('tense', 'aorist'), ('years', 'smoke'), ('faith', 'tree'), ('tree', 'sorrow'), ('eggs', 'applejack'), ('applejack', 'life'), ('life', 'paradox'), ('whole', 'sweet'), ('sweet', 'world'), ('world', 'garden'), ('old', 'chronological'), ('chronological', 'towers'), ('towers', 'ash'), ('ash', 'prisms'), ('souls', 'bank'), ('bank', 'tellers'), ('art', 'loneliness'), ('loneliness', 'landscape'), ('rotgut', 'shortcut'), ('shortcut', 'epiphanies'), ('liar', 'liar'), ('liar', 'liar'), ('liar', 'liar'), ('liar', 'liar'), ('liar', 'act'), ('human', 'rhymes'), ('rhymes', 'bilge'), ('bilge', 'bilge'), ('mistress', 'eyes'), ('eyes', 'nothing'), ('ones', 'sentries'), ('sentries', 'guarding'), ('scent', 'neither'), ('neither', 'snake'), ('ripeness', 'nothing'), ('byron', 'sick'), ('sick', 'food'), ('food', 'metaphor'), ('metaphor', 'existence'), ('even', 'watching'), ('watching', 'anachronism'), ('cities', 'ones'), ('ones', 'wanted'), ('hair', 'color'), ('color', 'chopped'), ('life', 'colour'), ('colour', 'warmth'), ('thought', 'sun-kissed'), ('sun-kissed', 'hills'), ('hills', 'rags'), ('rags', 'upon'), ('democracy', 'shit'), ('relativity', 'shit'), ('dictators', 'shit'), ('menken', 'shit'), ('wine', 'dew'), ('dew', 'wild'), ('hangs', 'shout'), ('shout', 'shrinking'), ('shrinking', 'nothing'), ('i', 'son'), ('son', 'thine'), ('sky', 'cloudy'), ('cloudy', 'yellowed'), ('word', 'whose'), ('whose', 'root'), ('root', 'love'), ('peace', 'moving'), ('moving', 'heavens'), ('heavens', 'fraught'), ('bell', 'bell'), ('bell', 'ringing'), ('ringing', 'give'), ('gray', 'men'), ('men', 'overcoats'), ('overcoats', 'ghosts'), ('ghosts', 'blown'), ('like', 'lost'), ('lost', 'water'), ('water', 'slate'), ('slate', 'far'), ('air', 'kisses'), ('kisses', 'kisses'), ('the', 'islands'), ('islands', 'prisons'), ('prisons', 'one'), ('world', 'everything'), ('everything', 'case'), ('law', 'devil'), ('devil', 'cheat'), ('far', 'end'), ('end', 'platform'), ('platform', 'tunnel'), ('tunnel', 'train'), ('soul', 'sighing'), ('poetry', 'grinding'), ('grinding', 'multiplicity'), ('manner', 'soul'), ('soul', 'joined'), ('hall', 'someone'), ('someone', 'glove'), ('body', 'something'), ('something', 'less'), ('perfection', 'flesh'), ('flesh', 'heir'), ('stuff', 'nought'), ('nought', 'mere'), ('yet', 'thoughtless'), ('thoughtless', 'force'), ('force', 'mine'), ('faces', 'whose'), ('whose', 'hair'), ('hair', 'leaves'), ('leaves', 'grapes'), ('love', 'nothing'), ('nothing', 'borne'), ('love', 'names'), ('names', 'love'), ('love', 'cliff'), ('night', 'sentinel'), ('sedate', 'one'), ('one', 'month'), ('month', 'skittish'), ('couples', 'parading'), ('parading', 'everyone'), ('passion', 'scholar'), ('scholar', 'heritage'), ('trade', 'courage'), ('courage', 'atrocities'), ('big', 'prints'), ('prints', 'rage'), ('yesterday', 'face'), ('face', 'corn'), ('cuticles', 'mess'), ('mess', 'oh'), ('knows', 'skin'), ('skin', 'glass'), ('mindful', 'melancholy'), ('melancholy', 'sin'), ('sin', 'though'), ('better', 'rage'), ('rage', 'post-dinner'), ('post-dinner', 'quiet'), ('greek', 'tragedy'), ('tragedy', 'course'), ('course', 'sort'), ('sort', 'thing'), ('understatement', 'privilege'), ('privilege', 'god'), ('madman', 'coleridge'), ('coleridge', 'drug'), ('drug', 'addict'), ('suffering', 'life'), ('life', 'penalty'), ('speech', 'temporary'), ('temporary', 'poetry'), ('poetry', 'truth'), ('body', 'dwelling'), ('dwelling', 'stone'), ('stone', 'perched'), ('death', 'death'), ('death', 'none'), ('name', 'johnson'), ('windshield', 'splintering'), ('splintering', 'lens'), ('lens', 'time'), ('time', 'mailbox'), ('voice', 'garden'), ('garden', 'thunder'), ('thunder', 'sent'), ('solomon', 'king'), ('whose', 'loss'), ('loss', 'laughter'), ('laughter', 'counts'), ('ships', 'whose'), ('whose', 'name'), ('name', 'mystery'), ('ships', 'palaces'), ('palaces', 'brown'), ('ships', 'prisons'), ('prisons', 'multitudinous'), ('moment', 'moon'), ('moon', 'blood'), ('night', 'kings'), ('kings', 'earth'), ('earth', 'chill'), ('struggle', 'home'), ('home', 'beast'), ('head', 'firs'), ('firs', 'rafter'), ('mantilla', 'lace'), ('whose', 'blackness'), ('blackness', 'air'), ('frog', 'frog'), ('frog', 'hopelessly'), ('frog', 'frog'), ('frog', 'reason'), ('frog', 'frog'), ('frog', 'cannot'), ('frog', 'frog'), ('frog', 'frog'), ('personnel', 'still'), ('still', 'mouths'), ('mouths', 'mash'), ('perhaps', 'sadness'), ('sadness', 'way'), ('way', 'seeming'), ('lurks', 'surface'), ('surface', 'another'), ('another', 'story'), ('sky', 'show'), ('show', 'flashing'), ('downing', 'street'), ('street', 'accord'), ('accord', 'lots'), ('sun', 'god'), ('god', 'eye'), ('chrysler', 'building'), ('building', 'pin'), ('deafness', 'asset'), ('asset', 'well'), ('beginning', 'word'), ('word', 'nigger'), ('word', 'death'), ('death', 'niggers'), ('word', 'death'), ('death', 'life'), ('word', 'death'), ('genesis', 'life'), ('genesis', 'death'), ('beginning', 'deed'), ('deed', 'death'), ('hair', 'three-quarters'), ('three-quarters', 'height'), ('moment', 'music'), ('music', 'wanted'), ('whose', 'confidence'), ('confidence', 'game'), ('game', 'marbles'), ('stoics', 'replied'), ('replied', 'life'), ('life', 'war'), ('war', 'illusion'), ('beaches', 'lava'), ('lava', 'variegated'), ('whole', 'palazzo'), ('palazzo', 'property'), ('art', 'history'), ('history', 'nostalgia'), ('his', 'name'), ('name', 'hector'), ('face', 'find'), ('find', 'sea'), ('sea', 'love'), ('mer', 'mother'), ('mother', 'sea'), ('thine', 'kingdom'), ('kingdom', 'glory'), ('maybe', 'events'), ('events', 'nature'), ('nature', 'sleight'), ('boortree', 'bower'), ('bower', 'tree'), ('attenuation', 'strength'), ('strength', 'donne'), ('light', 'instant'), ('instant', 'far-seeing'), ('hat', 'kid'), ('kid', 'life'), ('life', 'cinch'), ('whose', 'look'), ('look', 'charnel'), ('charnel', 'lusters'), ('grace', 'indeed'), ('indeed', 'look'), ('look', 'grace'), ('yet', 'relaxed'), ('relaxed', 'hands'), ('hands', 'void'), ('ten', 'years'), ('years', 'time'), ('time', 'enough'), ('ghosts', 'plato'), ('plato', 'christians'), ('narcissus', 'vocabulary'), ('vocabulary', 'hermes'), ('person', 'every'), ('every', 'son-of-a-bitch'), ('son-of-a-bitch', 'christ'), ('christ', 'least'), ('believe', 'human'), ('human', 'community'), ('community', 'lies'), ('lies', 'bullshit'), ('nose', 'wick'), ('said', 'today'), ('today', 'monday'), ('monday', 'want'), ('think', 'relationship'), ('relationship', 'wealth'), ('river', 'variety'), ('variety', 'land'), ('far', 'one'), ('one', 'rim'), ('rim', 'bay'), ('bay', 'flocks'), ('look', 'bleating'), ('bleating', 'lambs'), ('lambs', 'birds'), ('banishing', 'love'), ('love', 'fix'), ('fix', 'stars'), ('efflux', 'soul'), ('soul', 'happiness'), ('happiness', 'happiness'), ('fluid', 'attaching'), ('attaching', 'character'), ('character', 'freshness'), ('freshness', 'sweetness'), ('call', 'call'), ('call', 'battle'), ('leafless', 'beds'), ('beds', 'aglow'), ('deep', 'buried'), ('buried', 'forest'), ('forest', 'nook'), ('even', 'teacher'), ('teacher', 'child'), ('child', 'said'), ('thy', 'songs'), ('songs', 'riddles'), ('riddles', 'hard'), ('day', 'another'), ('another', 'mine'), ('mine', 'terms'), ('bin', 'morning'), ('morning', 'light'), ('body', 'pebble'), ('pebble', 'tend'), ('every', 'distinct'), ('distinct', 'thing'), ('thing', 'illusion'), ('work', 'something'), ('forgotten', 'woods'), ('woods', 'mangle'), ('hour', 'hour'), ('hour', 'like'), ('man', 'whose'), ('whose', 'name'), ('name', 'saul'), ('parcels', 'light'), ('light', 'angels'), ('angels', 'women'), ('women', 'know'), ('silence', 'envelope'), ('envelope', 'noise'), ('noise', 'paper'), ('silence', 'envelope'), ('envelope', 'noise'), ('beneath', 'squeeze'), ('squeeze', 'heart'), ('heart', 'stranglehold'), ('todd', 'hardware'), ('hardware', 'dust'), ('dust', 'monkey'), ('center', 'things'), ('things', 'pain'), ('pain', 'gateway'), ('matter', 'water'), ('song', 'joy'), ('joy', 'life'), ('across', 'street'), ('street', 'windows'), ('song', 'mountain'), ('mountain', 'put'), ('words', 'landscape'), ('landscape', 'feeling'), ('life', 'experience'), ('ideas', 'governments'), ('governments', 'turned'), ('shrugged', 'janos'), ('janos', 'friend'), ('friend', 'university'), ('fighting', 'war'), ('war', 'plausible'), ('glades', 'dusk'), ('dusk', 'soft'), ('horse', 'fence'), ('fence', 'fences'), ('fences', 'horses'), ('let', 'couch'), ('couch', 'chair'), ('chair', 'place'), ('place', 'sitting'), ('let', 'table'), ('table', 'place'), ('place', 'eating'), ('hondurans', 'masters'), ('masters', 'land'), ('gongressman', 'chipper'), ('chipper', 'mule'), ('sleep', 'drug'), ('eat', 'art'), ('art', 'dust'), ('dust', 'art'), ('new', 'york'), ('york', 'love'), ('love', 'means'), ('means', 'travel'), ('experience', 'mine'), ('mine', 'mine'), ('mine', 'things'), ('things', 'entirely'), ('march', 'shambles'), ('shambles', 'shards'), ('granite', 'ice'), ('ice', 'colours'), ('colours', 'heart'), ('view', 'mountain'), ('mountain', 'speaking'), ('closed', 'door'), ('door', 'panic'), ('panic', 'spaces'), ('man', 'shovel'), ('shovel', 'king'), ('everyone', 'friend'), ('friend', 'pathology'), ('children', 'distances'), ('distances', 'horizons'), ('saulis', 'borrowit'), ('borrowit', 'bliss'), ('name', 'colin'), ('colin', 'clout'), ('purpose', 'ambition'), ('provo', 'place'), ('place', 'reason'), ('passing', 'june'), ('june', 'another'), ('say', 'days'), ('days', 'scrolls'), ('scrolls', 'write'), ('new', 'age'), ('age', 'victor'), ('victor', 'one'), ('one', 'gets'), ('moment', 'like'), ('like', 'axe'), ('axe', 'recognition'), ('friend', 'gist'), ('gist', 'war'), ('war', 'boredom'), ('night', 'clock'), ('clock', 'chiming'), ('dark', 'world'), ('world', 'light'), ('loe', 'hir'), ('hir', 'lips'), ('lips', 'rubies'), ('rubies', 'sound'), ('pearles', 'hir'), ('hir', 'teeth'), ('teeth', 'pearles'), ('pearles', 'pure'), ('rest', 'works'), ('works', 'natures'), ('love', 'sin'), ('sin', 'let'), ('love', 'chasteness'), ('chasteness', 'pain'), ('let', 'mine'), ('mine', 'eyes'), ('eyes', 'hell-drivn'), ('hell-drivn', 'light'), ('singsing', 'sing'), ('sing', 'line'), ('line', 'example'), ('example', 'epanalepsis'), ('debasement', 'password'), ('password', 'base'), ('thunder', 'someone'), ('someone', 'shotgun'), ('new', 'moon'), ('moon', 'ones'), ('ones', 'wolves'), ('buildings', 'mountains'), ('infant', 'eye'), ('eye', 'looking'), ('sorrow', 'christ'), ('christ', 'dewlap'), ('sustenance', 'laugh'), ('laugh', 'grief'), ('red', 'one'), ('one', 'poppy'), ('marvel', 'substance'), ('substance', 'mould'), ('words', 'spears'), ('love', 'love'), ('love', 'love'), ('love', 'love'), ('unfaith', 'aught'), ('aught', 'want'), ('want', 'faith'), ('things', 'nothing'), ('nothing', 'give'), ('mine', 'heart'), ('heart', 'feet'), ('body', 'soul'), ('soul', 'mine'), ('one', 'might'), ('might', 'death'), ('death', 'divorce'), ('fear', 'snare'), ('snare', 'afraid'), ('calm', 'sea'), ('sea', 'waves'), ('dead', 'root'), ('root', 'whence'), ('true', 'fool'), ('fool', 'love'), ('thy', 'fadere'), ('fadere', 'king'), ('king', 'blis'), ('moon', 'o'), ('o', 'yonder'), ('yonder', 'moon'), ('thou', 'ravenous'), ('ravenous', 'chancres'), ('chancres', 'prey'), ('cheat', 'briers'), ('briers', 'buds'), ('buds', 'strung'), ('face', 'honey'), ('honey', 'mouth'), ('d', 'ease'), ('ease', 'gold'), ('gold', 'word'), ('till', 'love'), ('love', 'trust'), ('distance', 'love'), ('love', 'severance'), ('absent', 'every'), ('every', 'minute'), ('minute', 'year'), ('strephon', 'found'), ('found', 'room'), ('room', 'void'), ('age', 'naught'), ('naught', 'sorrow'), ('thee', 'whose'), ('whose', 'temple'), ('temple', 'space'), ('heart', 'love'), ('levity', 'patience'), ('men', 'deceivers'), ('deceivers', 'ever'), ('fond', 'life'), ('life', 'lustful'), ('though', 'beauty'), ('beauty', 'mark'), ('mark', 'praise'), ('brilliance', 'carcass'), ('life', 'cry'), ('cry', 'followed'), ('walls', 'floors'), ('floors', 'floors'), ('material', 'things'), ('things', 'world'), ('world', 'key'), ('interviewer', 'poet'), ('poet', 'mann'), ('hot', 'wind'), ('wind', 'friend'), ('friend', 'lifter'), ('though', 'manic'), ('manic', 'tribe'), ('tribe', 'mine'), ('mine', 'boreal'), ('utterly', 'absorbed'), ('absorbed', 'love'), ('love', 'distraction'), ('distraction', 'even'), ('cities', 'places'), ('places', 'conversion'), ('cities', 'places'), ('places', 'conversion'), ('conversion', 'said'), ('sex', 'please'), ('please', 'petunias'), ('petunias', 'apology'), ('long', 'ago'), ('ago', 'desert'), ('desert', 'inland'), ('inland', 'sea'), ('name', 'household'), ('household', 'word'), ('horse', 'midnight'), ('dey', 'known'), ('known', 'dey'), ('dey', 'slaves'), ('slaves', 'harriet'), ('hundred', 'furnished'), ('furnished', 'rooms'), ('rooms', 'girl'), ('girl', 'sells'), ('law', 'move'), ('move', 'die'), ('day', 'night'), ('night', 'sit'), ('sun', 'enemy'), ('enemy', 'eye'), ('animals', 'whose'), ('whose', 'artistry'), ('artistry', 'flesh'), ('around', 'wound'), ('wound', 'odors'), ('odors', 'mixture'), ('elegies', 'medicine'), ('medicine', 'prescribed'), ('empty', 'hallway'), ('hallway', 'past'), ('past', 'self'), ('self', 'ghoul'), ('back', 'saddle'), ('saddle', 'lovers'), ('horizon', 'h'), ('h', 'point'), ('point', 'vision'), ('people', 'days'), ('days', 'becoming'), ('wind', 'breath'), ('breath', 'hurricane'), ('word', 'mindful'), ('say', 'ghost'), ('ghost', 'ghost'), ('like', 'river'), ('river', 'talk'), ('talk', 'naming'), ('naming', 'named'), ('talk', 'naming'), ('talk', 'naming'), ('naming', 'named'), ('whose', 'doldrums'), ('doldrums', 'meadows'), ('meadows', 'spinning'), ('name', 'sara'), ('sara', 'kept'), ('soul', 'forgiveness'), ('forgiveness', 'knows'), ('screen', 'stripes'), ('stripes', 'knows'), ('god', 'momentum'), ('personal', 'private'), ('private', 'tank'), ('tank', 'nothing'), ('world', 'word'), ('word', 'wilderness'), ('answer', 'answer'), ('answer', 'world'), ('beginning', 'beginning'), ('beginning', 'happiness'), ('paul', 'sort'), ('thing', 'regrets'), ('regrets', 'life'), ('life', 'amount'), ('amount', 'time'), ('people', 'kind'), ('kind', 'solution'), ('in', 'star'), ('star', 'it'), ('it', 'star'), ('star', 'it'), ('father', 'farm'), ('farm', 'apple'), ('apple', 'blossomer'), ('fields', 'oceans'), ('oceans', 'heat'), ('father', 'farm'), ('farm', 'icicle'), ('today', 'friday'), ('left', 'leg'), ('leg', 'meal'), ('meal', 'crayfish'), ('risk', 'part'), ('part', 'rhythm'), ('mentions', 'hearing'), ('hearing', 'silver'), ('name', 'orestes'), ('one', 'escape'), ('escape', 'use'), ('use', 'strength'), ('strength', 'ca'), ('behind', 'memory'), ('memory', 'like'), ('perfume', 'flowers'), ('flowers', 'ground'), ('cleanse', 'vision'), ('vision', 'fish'), ('fish', 'silver'), ('martin', 'man'), ('man', 'one'), ('joke', 'singer'), ('singer', 'nothing'), ('singer', 'nothing'), ('nothing', 'sing'), ('season', 'cold'), ('cold', 'season'), ('season', 'darkness'), ('else', 'beasts'), ('beasts', 'tigers'), ('without', 'earth'), ('earth', 'sand'), ('sky', 'cloud'), ('cloud', 'cloud'), ('sky', 'cloudy')]\n"
     ]
    }
   ],
   "source": [
    "# Use the apply method to extract the head-word and each of the first two words\n",
    "# either on the left hand side part or right hand side part of the head-word\n",
    "\n",
    "# this expression calls the function extract_context for every row in the df dataframe\n",
    "list_of_lists = df.apply(lambda row: extract_context(row['Text'], int(row['Number']) - 1, 2), axis=1)\n",
    "\n",
    "# take away every element in every sublist of list_of_lists that does not have at least one letter or a hyphen (some words are hyphenated)\n",
    "list_of_lists = [[re.sub(r'[^a-zA-Z-]', '', word) for word in sublist] for sublist in list_of_lists]\n",
    "\n",
    "# eliminate every element in every sublist of list_of_lists that is an empty string\n",
    "list_of_lists = [[word for word in sublist if word != ''] for sublist in list_of_lists]\n",
    "\n",
    "# get a single list of all the bigrams in the list_of_lists, which is a list that contains a list for every row in\n",
    "# the df dataframe with the words in the desired span (in this case 4)\n",
    "# it is also worth noting that sometimes the span is not 4 because there were not enough words to the right or to the left of the head word\n",
    "bigrams_interest = [bigram for sublist in list_of_lists for bigram in list(bigrams(sublist))]\n",
    "\n",
    "# list that contains a list for of the bigrams for every row\n",
    "# it is added to the column 'Bigrams'\n",
    "df['Bigrams'] = [list(bigrams(sublist)) for sublist in list_of_lists]\n",
    "\n",
    "#print(df)\n",
    "#has_none_values = df['Bigrams'].isna().any()\n",
    "\n",
    "print(list_of_lists)\n",
    "print(bigrams_interest)\n",
    "# print(type(list_of_lists))\n",
    "\n",
    "#text_column_list = df['Text'].tolist()"
   ]
  },
  {
   "cell_type": "markdown",
   "metadata": {},
   "source": [
    "### Put all unfiltered sentences from Text into a list with tokens"
   ]
  },
  {
   "cell_type": "code",
   "execution_count": 23,
   "metadata": {},
   "outputs": [
    {
     "name": "stdout",
     "output_type": "stream",
     "text": [
      "[['poise', 'is', 'a', 'club'], ['destroying', 'alexandria', 'sunlight', 'is', 'silence'], ['feet', 'are', 'no', 'anchor', 'gravity', 'sucks', 'at', 'the', 'mind'], ['on', 'the', 'day', 's', 'horizon', 'is', 'a', 'gesture', 'of', 'earth'], ['he', 'said', 'good-by', 'as', 'if', 'good-by', 'is', 'a', 'number'], ['although', 'your', 'eyes', 'be', 'lakes', 'dies'], ['ways', 'as', 'if', 'the', 'world', 'were', 'a', 'taxi', 'you', 'enter', 'it', 'then'], ['the', 'poet', 'is', 'a', 'man', 'who', 'feigns'], ['man', 'is', 'an', 'animal', 'that', 'needs', 'a', 'warden'], ['my', 'name', 'is', 'james', 'a', 'wright', 'and', 'i', 'was', 'born'], ['earth', 'is', 'a', 'door', 'i', 'cannot', 'even', 'face'], ['the', 'hackles', 'on', 'my', 'neck', 'are', 'fear', 'not', 'grief'], ['the', 'moon', 'is', 'a', 'sow'], ['earth', 'is', 'the', 'birth', 'of', 'the', 'blues', 'sang', 'yellow', 'bertha'], ['about', 'the', 'nature', 'of', 'understanding', 'no', 'one', 'is', 'that', 'simple'], ['the', 'real', 'terror', 'of', 'nature', 'is', 'humanity', 'enraged', 'the', 'true'], ['love', 'is', 'a', 'word', 'another', 'kind', 'of', 'open', '--'], ['your', 'goodbye', 'is', 'a', 'promise', 'of', 'lightning'], ['his', 'broken', 'body', 'is', 'the', 'afterimage', 'of', 'my', 'st', 'year'], ['my', 'eyes', 'are', 'caves', 'chunks', 'of', 'etched', 'rock'], ['the', 'sky', 'is', 'baby', 'blue', 'and', 'the', 'just-unfurling', 'leaves'], ['down', 'the', 'road', 'is', 'somebody', 'small', 'on', 'the', 'shoulder'], ['i', 'wrote', 'life', 'was', 'a', 'strain', 'later', 'someone', 'crossed', 'it', 'out'], ['it', 'is', 'clear', 'that', 'mr', 'haggard', 'is', 'ryder', 's', 'brother'], ['the', 'mind', 'is', 'a', 'city', 'like', 'london'], ['--', 'the', 'others', 'were', 'the', 'despots', 'of', 'despair', '--'], ['knowing', 'intuitively', 'how', 'a', 'sense', 'of', 'humor', 'was', 'a', 'necessity'], ['your', 'guilt', 'is', 'nameless', 'because', 'its', 'name', 'is', 'time'], ['because', 'its', 'name', 'is', 'death', 'but', 'you', 'can', 'stop'], ['hamlet', 'is', 'the', 'example', 'only', 'dying'], ['the', 'sun', 'is', 'a', 'yellowjacket'], ['love', 'is', 'a', 'fiction', 'i', 'must', 'use'], ['and', 'people', 'are', 'home', 'for', 'the', 'homecomings'], ['yet', 'life', 'is', 'the', 'invocation', 'sealed', 'in', 'the', 'coffin'], ['this', 'swift', 'darkness', 'is', 'spring', 's', 'first', 'hour'], ['the', 'trees', 'are', 'crystal', 'chandeliers'], ['but', 'still', 'the', 'branches', 'are', 'wire'], ['the', 'deer', 'are', 'ghosts', 'who', 'slip', 'between', 'the', 'light'], ['the', 'gray', 'snow', 'in', 'the', 'cemetery', 'was', 'sheet', 'tin', 'if', 'i', 'said'], ['and', 'spades', 'are', 'spades', 'and', 'clubs', 'are', 'clovers', 'black'], ['and', 'spades', 'are', 'spades', 'and', 'clubs', 'are', 'clovers', 'black'], ['the', 'lean', 'monk-copyist', 'who', 'scribes', 'the', 'books', 'is', 'slate-blue', 'at', 'his', 'fingertips'], ['whose', 'talisman', 'is', 'a', 'phoenix'], ['whose', 'emblem', 'is', 'the', 'rock', 'of', 'gibraltar', '--'], ['machines', 'are', 'the', 'animals', 'of', 'the', 'americans', '--'], ['man', 'is', 'a', 'speech'], ['where', 'books', 'were', 'trees'], ['where', 'trees', 'were', 'books'], ['underwear', 'is', 'something'], ['john', 'henry', 'was', 'a', 'man', 'just', 'six', 'feet', 'high'], ['a', 'man', 'is', 'nothing', 'but', 'a', 'man'], ['his', 'heart', 'was', 'all', 'a-flutter'], ['lifted', 'as', 'we', 'say', 'since', 'words', 'are', 'a', 'weight', 'and', 'music'], ['in', 'vapor', 'was', 'the', 'ocean', 's', 'presence', 'ghost'], ['what', 'use', 'are', 'books', 'to', 'me'], ['to', 'them', 'lead', 'floats', 'a', 'leaf', 'sinks', 'their', 'god', 'is', 'the', 'size'], ['the', 'night', 'is', 'each', 'man', 's', 'castle'], ['that', 'all', 'recurring', 'joy', 'is', 'pain', 'refined'], ['in', 'june', 'the', 'sun', 'is', 'a', 'bonnet', 'of', 'light'], ['this', 'afternoon', 'was', 'the', 'colour', 'of', 'water', 'falling', 'through', 'sunlight'], ['of', 'hills', 'is', 'a', 'kind', 'of', 'waiting'], ['if', 'the', 'world', 'is', 'a', 'dream'], ['and', 'the', 'rich', 'in', 'connecticut', 'are', 'dreamers'], ['swelling', 'lukewarm', 'her', 'mouth', 'is', 'water'], ['how', 'can', 'i', 'tell', 'you', 'my', 'mind', 'is', 'a', 'blanket'], ['what', 'i', 'like', 'about', 'impermanence', 'is', 'the', 'clash'], ['that', 'nighttime', 'meditation', 'are', 'a', 'mirage'], ['yet', 'the', 'earth', 'is', 'divinity', 'the', 'sky', 'is', 'divinity'], ['yet', 'the', 'earth', 'is', 'divinity', 'the', 'sky', 'is', 'divinity'], ['which', 'constant', 'spirits', 'are', 'the', 'keepers', 'of'], ['mine', 'was', 'the', 'scene'], ['but', 'the', 'breeze', 'of', 'dawn', 'is', 'the', 'angel', 'of', 'death'], ['you', 'ca', 'nt', 'get', 'lost', 'home', 'is', 'the', 'place', 'they', 'cross'], ['and', 'he', 'was', 'a', 'maker', 'his', 'sausage', 'was', 'echt'], ['i', 'learned', 'what', 'the', 'selves', 'are', 'a', 'man', 'can', 'disown'], ['see', 'shopping', 'is', 'an', 'art', 'form'], ['my', 'only', 'other', 'callers', 'were', 'the', 'fbi'], ['if', 'you', 'are', 'with', 'them', 'if', 'even', 'mind', 'is', 'friend'], ['of', 'my', 'window', 'and', 'survive', 'the', 'body', 'is', 'no', 'illusion'], ['this', 'crushing', 'of', 'people', 'is', 'something', 'we', 'live', 'with'], ['the', 'ocean', 'was', 'salt', 'before', 'we', 'crawled', 'to', 'tears'], ['each', 'face', 'in', 'the', 'street', 'is', 'a', 'slice', 'of', 'bread'], ['my', 'chest', 'was', 'all', 'thunder'], ['through', 'ivory', 'our', 'dreams', 'are', 'will-o-the-wisps', 'scant'], ['soldiers', 'are', 'citizens', 'of', 'death', 's', 'grey', 'land'], ['soldiers', 'are', 'dreamers', 'when', 'the', 'guns', 'begin'], ['the', 'wind', 'was', 'a', 'torrent', 'of', 'darkness', 'among', 'the', 'gusty', 'trees'], ['the', 'road', 'was', 'a', 'ribbon', 'of', 'moonlight', 'over', 'the', 'purple', 'moor'], ['his', 'eyes', 'were', 'hollows', 'of', 'madness', 'his', 'hair', 'like', 'mouldy', 'hay'], ['when', 'the', 'road', 'was', 'a', 'gypsy', 's', 'ribbon', 'looping', 'the', 'purple', 'moor'], ['when', 'the', 'road', 'is', 'a', 'ribbon', 'of', 'moonlight', 'over', 'the', 'purple', 'moor'], ['the', 'watchman', 's', 'upper', 'slopes', 'were', 'shadows', 'green'], ['--', 'your', 'mind', 'is', 'water', 'through', 'an', 'april', 'night'], ['whose', 'hideous', 'laughter', 'is', 'a', 'bellows', 'mirth'], ['as', 'though', 'a', 'god', 'were', 'issue', 'of', 'the', 'strings'], ['whose', 'fell', 'unshadow', 'is', 'death', 's', 'utter', 'wound', '--'], ['we', 'are', 'driving', 'slowly', 'the', 'road', 'is', 'glass'], ['even', 'memory', 'is', 'a', 'stranger'], ['the', 'countess', 'cathleen', 'was', 'the', 'name', 'i', 'gave', 'it'], ['the', 'laugh', 'was', 'a', 'cry', 'from', 'my', 'own'], ['in', 'the', 'field', 'is', 'a', 'house'], ['hope', 'is', 'command', 'your', 'hand'], ['their', 'country', 'is', 'a', 'nation', 'on', 'no', 'map'], ['blacktime', 'is', 'time', 'for', 'chimeful'], ['shaving', 'lotion', 'as', 'if', 'the', 'stuff', 'were', 'scotch'], ['our', 'effort', 'to', 'remake', 'the', 'found', 'world', 'as', 'the', 'lost', 'reverie', 'is', 'desire'], ['his', 'literature', 'is', 'lives', 'is', 'deif', 'smiling'], ['he', 'speaks', 'his', 'fiat', 'is', 'a', 'fiat'], ['whitman', 's', 'father', 'was', 'a', 'carpenter'], ['that', 'all', 'workmen', 'are', 'singers'], ['to', 'other', 'laws', 'weight', 'is', 'the', 'measure', 'of'], ['unclean', 'is', 'the', 'nature', 'and', 'name', 'of', 'the', 'enchantment'], ['going', 'to', 'bed', 'was', 'a', 'journey'], ['the', 'fateful', 'masks', 'are', 'faces', 'gods', 'are', 'men'], ['the', 'fateful', 'masks', 'are', 'faces', 'gods', 'are', 'men'], ['the', 'telephone', 'is', 'flaubert', 's', 'parrot', 'and', 'it', 'flitters'], ['of', 'her', 'the', 'telephone', 'is', 'the', 'guignol', 'of'], ['city', 'of', 'rock', 'and', 'ice', 'that', 'men', 'are', 'freaks'], ['it', 'is', 'not', 'you', 'i', 'love', 'it', 'is', 'the', 'form'], ['the', 'thought', 'of', 'death', 'is', 'peppermint', 'to', 'you'], ['scarce', 'fresher', 'is', 'the', 'mountain-sod'], ['but', 'ah', 'its', 'heart', 'its', 'heart', 'was', 'stone'], ['but', 'for', 'peace', 'her', 'soul', 'was', 'yearning'], ['o', 'sohrab', 'an', 'unquiet', 'heart', 'is', 'thine'], ['whose', 'culture', 'is', 'the', 'brethren', 's', 'care'], ['and', 'what', 'sedged', 'brooks', 'are', 'thames', 's', 'tributaries'], ['thy', 'rights', 'are', 'empire', 'urge', 'no', 'meaner', 'claim', '--'], ['answer', 'd', 'the', 'lovely', 'maid', 'and', 'said', 'i', 'am', 'a', 'watry', 'weed'], ['and', 'their', 'ways', 'are', 'fill', 'd', 'with', 'thorns'], ['his', 'breast', 'is', 'love', 's', 'all', 'worship', 'd', 'tomb'], ['no', 'peace', 'be', 'thine', 'exclaimed', 'away', 'away'], ['inventing', 'one', 'in', 'brief', 'all', 'arts', 'are', 'mine'], ['outside', 'was', 'all', 'noon', 'and', 'the', 'burning', 'blue'], ['i', 'am', 'the', 'resurrection', 'and', 'the', 'life'], ['take', 'away', 'love', 'and', 'our', 'earth', 'is', 'a', 'tomb'], ['first', 'every', 'sort', 'of', 'monk', 'the', 'black', 'and', 'whitethe', 'black', 'and', 'the', 'white', 'black', 'friars', 'are', 'dominicans', 'white', 'friars', 'are', 'carmelites'], ['first', 'every', 'sort', 'of', 'monk', 'the', 'black', 'and', 'whitethe', 'black', 'and', 'the', 'white', 'black', 'friars', 'are', 'dominicans', 'white', 'friars', 'are', 'carmelites'], ['his', 'name', 'is', 'guidi', '--', 'he', 'll', 'not', 'mind', 'the', 'monks', '--'], ['no', 'yonder', 'sparkle', 'is', 'the', 'citadel', 's'], ['our', 'low', 'life', 'was', 'the', 'level', 's', 'and', 'the', 'night', 's'], ['what', 'matter', 'to', 'me', 'if', 'their', 'star', 'is', 'a', 'world'], ['and', 'with', 'god', 'be', 'the', 'rest'], ['what', 'they', 'lived', 'once', 'thus', 'at', 'venice', 'where', 'the', 'merchants', 'were', 'the', 'kings'], ['that', 'fate', 'is', 'thine', '--', 'no', 'distant', 'date'], ['hissing', 'but', 'stingless', 'they', 'were', 'slain', 'for', 'food'], ['what', 'matters', 'if', 'the', 'road', 'be', 'head', 'or', 'heart'], ['but', 'juan', 'was', 'receiv', 'd', 'with', 'much', 'empressement', '--'], ['my', 'whole', 'life', 'was', 'a', 'contest', 'since', 'the', 'day'], ['my', 'limbs', 'are', 'bow', 'd', 'though', 'not', 'with', 'toil'], ['to', 'him', 'this', 'dungeon', 'was', 'a', 'gulf'], ['the', 'thriftiest', 'man', 'is', 'the', 'cheerfulest'], ['what', 'on', 'earth', 'was', 'the', 'helmsman', 'to', 'do'], ['if', 'your', 'snark', 'be', 'a', 'snark', 'that', 'is', 'right'], ['among', 'thise', 'othere', 'folk', 'was', 'criseyda'], ['of', 'dardanus', 'ther', 'opyn', 'is', 'the', 'cheyne'], ['burning', 'hot', 'is', 'the', 'ground', 'liquid', 'gold', 'is', 'the', 'air'], ['if', 'hopes', 'were', 'dupes', 'fears', 'may', 'be', 'liars'], ['the', 'night', 'is', 'chill', 'the', 'cloud', 'is', 'gray'], ['the', 'night', 'is', 'chill', 'the', 'forest', 'bare'], ['and', 'my', 'name', 'is', 'geraldine'], ['the', 'knight', 's', 'bones', 'are', 'dust'], ['the', 'western', 'wave', 'was', 'all', 'a-flame'], ['friendship', 'is', 'a', 'sheltering', 'tree'], ['those', 'lips', 'are', 'thine', '--', 'thy', 'own', 'sweet', 'smiles', 'i', 'see'], ['a', 'sight', 'to', 'which', 'our', 'eyes', 'are', 'strangers', 'yet'], ['to', 'me', 'the', 'children', 'of', 'my', 'youth', 'are', 'lords'], ['and', 'whose', 'most', 'tender', 'mercy', 'is', 'neglect'], ['her', 'smiles', 'are', 'lightning', 'though', 'her', 'pride', 'despair'], ['you', 'to', 'whom', 'love', 'was', 'peace', 'that', 'now', 'is', 'rage'], ['whose', 'soul', 'is', 'sense', 'cannot', 'admit'], ['can', 'life', 'be', 'a', 'blessing'], ['can', 'life', 'be', 'a', 'blessing', 'if', 'love', 'were', 'away'], ['where', 'queens', 'are', 'form', 'd', 'and', 'future', 'heroes', 'bred'], ['and', 'herringman', 'was', 'captain', 'of', 'the', 'guard'], ['kind', 'is', 'death', 'that', 'ends', 'my', 'pain'], ['but', 'now', 'not', 'i', 'but', 'poetry', 'is', 'curs', 'd'], ['slight', 'was', 'the', 'thing', 'i', 'bought'], ['said', 'his', 'client', 'was', 'a', 'martyr'], ['what', 'held', 'it', 'though', 'on', 'one', 'side', 'was', 'a', 'tree'], ['no', 'more', 'where', 'ignorance', 'is', 'bliss'], ['until', 'somehow', 'yer', 'soul', 'is', 'sort', 'o', 'wrapped', 'round', 'everything'], ['an', 'watch', 'beside', 'a', 'loved', 'one', 's', 'bed', 'an', 'know', 'that', 'death', 'is', 'nigh'], ['my', 'stuff', 'is', 'flesh', 'not', 'brass', 'my', 'senses', 'live'], ['jewels', 'are', 'baubles', 't', 'is', 'a', 'sin'], ['a', 'thing', 'of', 'beauty', 'is', 'a', 'joy', 'for', 'ever'], ['and', 'in', 'her', 'bearing', 'was', 'a', 'sort', 'of', 'hope'], ['beauty', 'is', 'truth', 'truth', 'beauty', '--', 'that', 'is', 'all'], ['so', 'thou', 'wast', 'blind', '--', 'but', 'then', 'the', 'veil', 'was', 'rent'], ['the', 'mourners', 'said', 'and', 'death', 'is', 'rest', 'and', 'peace'], ['the', 'image', 'is', 'the', 'adversary', 'old'], ['whose', 'aim', 'is', 'vanity', 'and', 'whose', 'end', 'is', 'pain'], ['whose', 'aim', 'is', 'vanity', 'and', 'whose', 'end', 'is', 'pain'], ['for', 'age', 'is', 'opportunity', 'no', 'less'], ['as', 'of', 'a', 'rock', 'was', 'the', 'shock'], ['relenting', 'hero', 's', 'gentle', 'heart', 'was', 'strook'], ['another', 'world', 'was', 'search', 'd', 'through', 'oceans', 'new'], ['that', 'all', 'the', 'household', 'things', 'are', 'things', 'she', 'knew'], ['niagara', 'is', 'no', 'noisier', 'by', 'stealth'], ['whose', 'red', 'drops', 'are', 'the', 'links', 'of', 'a', 'harsh', 'chain'], ['wherefore', 'to', 'be', 'inconstant', 'is', 'no', 'care'], ['now', 'that', 'the', 'fields', 'are', 'dank', 'and', 'ways', 'are', 'mire'], ['this', 'snuff-box', 'will', 'i', 'stake', 'the', 'prize', 'is', 'mine'], ['cardelia', 'but', 'of', 'what', 'marble', 'must', 'that', 'breast', 'be', 'form', 'd'], ['and', 'the', 'skies', 'are', 'sunlit', 'for', 'him'], ['the', 'mountain', 'sheep', 'are', 'sweeter'], ['here', 'mixture', 'is', 'addition', 'grown'], ['your', 'clothes', 'were', 'curtains'], ['for', 'we', 'knew', 'not', 'the', 'month', 'was', 'october'], ['when', 'love', 'is', 'liberty', 'and', 'nature', 'law'], ['pant', 'on', 'thy', 'lip', 'and', 'to', 'thy', 'heart', 'be', 'press', 'd'], ['the', 'proper', 'study', 'of', 'mankind', 'is', 'man'], ['but', 'strength', 'of', 'mind', 'is', 'exercise', 'not', 'rest'], ['reason', 'the', 'card', 'but', 'passion', 'is', 'the', 'gale'], ['vice', 'is', 'a', 'monster', 'of', 'so', 'frightful', 'mien'], ['and', 'beads', 'and', 'pray', 'r', 'books', 'are', 'the', 'toys', 'of', 'age'], ['for', 'there', 'christ', 'is', 'the', 'king', 's', 'attorney'], ['how', 'plesant', 'was', 'the', 'jurney', 'down', 'the', 'old', 'dusty', 'lane'], ['and', 'my', 'words', 'are', 'no', 'shadow', 'on', 'your', 'town', '--'], ['they', 've', 'had', 'him', 'dancing', 'till', 'his', 'toes', 'were', 'tender'], ['the', 'guerdon', 'of', 'new', 'childhood', 'is', 'repose'], ['forebodings', 'are', 'the', 'fiends', 'of', 'recreance'], ['that', 'love', 's', 'complete', 'communion', 'is', 'the', 'end'], ['its', 'bounce', 'was', 'music', 'to', 'her', 'ear'], ['that', 'juice', 'was', 'wormwood', 'to', 'her', 'tongue'], ['hath', 'guest', 'fire-fledg', 'd', 'as', 'thine', 'whose', 'lord', 'is', 'love'], ['that', 'when', 'the', 'peace', 'is', 'garner', 'd', 'in', 'from', 'strife'], ['there', 'the', 'dreams', 'are', 'multitudes'], ['o', 'their', 'glance', 'is', 'loftiest', 'dole'], ['a', 'pal', 's', 'last', 'need', 'is', 'a', 'thing', 'to', 'heed', 'so', 'i', 'swore', 'i', 'would', 'not', 'fail'], ['that', 'someone', 'had', 'stolen', 'the', 'woman', 'you', 'loved', 'that', 'her', 'love', 'was', 'a', 'devil', 's', 'lie'], ['all', 'losses', 'are', 'restor', 'd', 'and', 'sorrows', 'end'], ['my', 'mistress', 'eyes', 'are', 'nothing', 'like', 'the', 'sun'], ['if', 'hairs', 'be', 'wires', 'black', 'wires', 'grow', 'on', 'her', 'head'], ['and', 'merry', 'larks', 'are', 'ploughmen', 's', 'clocks'], ['mine', 'is', 'another', 'faith', 'thus', 'much', 'i', 'spoke'], ['unchangeable', 'a', 'shrine', 'is', 'rais', 'd', 'to', 'thee'], ['the', 'breath', 'of', 'the', 'moist', 'earth', 'is', 'light'], ['unfathomable', 'sea', 'whose', 'waves', 'are', 'years'], ['his', 'winding-sheet', 'is', 'shame'], ['for', 'the', 'cherub', 'cat', 'is', 'a', 'term', 'of', 'the', 'angel', 'tiger'], ['for', 'the', 'dexterity', 'of', 'his', 'defence', 'is', 'an', 'instance', 'of', 'the', 'love', 'of', 'god', 'to', 'him', 'exceedingly'], ['let', 'all', 'the', 'rest', 'be', 'thine'], ['where', 'cause', 'is', 'none', 'but', 'to', 'your', 'rest', 'depart'], ['and', 'crafty', 'reynold', 'was', 'a', 'priest', 'ordained'], ['calm', 'was', 'the', 'day', 'and', 'through', 'the', 'trembling', 'air'], ['you', 'are', 'deceiv', 'd', 'love', 'is', 'no', 'work', 'of', 'art'], ['how', 'is', 'the', 'dean', '--', 'he', 's', 'just', 'alive'], ['what', 'bud', 'was', 'the', 'shell', 'of', 'a', 'blossom'], ['but', 'sweet', 'as', 'the', 'rind', 'was', 'the', 'core', 'is'], ['to', 'the', 'shrine', 'where', 'a', 'sin', 'is', 'a', 'prayer'], ['in', 'a', 'twilight', 'where', 'virtues', 'are', 'vices'], ['round', 'skies', 'where', 'a', 'star', 'is', 'a', 'stain'], ['then', 'love', 'was', 'the', 'pearl', 'of', 'his', 'oyster'], ['cry', 'out', 'for', 'the', 'phrygian', 'is', 'priest'], ['all', 'whose', 'flowers', 'are', 'tears', 'and', 'round', 'his', 'temples'], ['but', 'a', 'goodlier', 'gift', 'is', 'thine', 'than', 'foam', 'of', 'the', 'grapes', 'or', 'love'], ['but', 'where', 'at', 'last', 'the', 'sea', 's', 'line', 'is', 'the', 'sky', 's'], ['for', 'the', 'breath', 'of', 'thy', 'lips', 'is', 'freedom', 'and', 'freedom', 's', 'the', 'sense', 'of', 'thy', 'spirit', 'the', 'sound', 'of', 'thy', 'song'], ['thy', 'kingdom', 'whose', 'empire', 'is', 'terror', 'and', 'joy', 'twin-featured', 'and', 'fruitful', 'of', 'births', 'divine'], ['life', 'is', 'the', 'lust', 'of', 'a', 'lamp', 'for', 'the', 'light', 'that', 'is', 'dark', 'till', 'the', 'dawn', 'of', 'the', 'day', 'when', 'we', 'die'], ['days', 'more', 'glad', 'than', 'their', 'flight', 'was', 'fleet'], ['my', 'knights', 'are', 'all', 'adulterers', 'like', 'his', 'own'], ['spat', '--', 'pish', '--', 'the', 'cup', 'was', 'gold', 'the', 'draught', 'was', 'mud'], ['spat', '--', 'pish', '--', 'the', 'cup', 'was', 'gold', 'the', 'draught', 'was', 'mud'], ['light', 'was', 'gawain', 'in', 'life', 'and', 'light', 'in', 'death'], ['and', 'shook', 'him', 'thro', 'the', 'north', 'ill', 'doom', 'is', 'mine'], ['for', 'friend', 'and', 'foe', 'were', 'shadows', 'in', 'the', 'mist'], ['had', 'held', 'the', 'field', 'of', 'battle', 'was', 'the', 'king'], ['seeing', 'obedience', 'is', 'the', 'bond', 'of', 'rule'], ['for', 'so', 'the', 'whole', 'round', 'earth', 'is', 'every', 'way'], ['for', 'man', 'is', 'man', 'and', 'master', 'of', 'his', 'fate'], ['thy', 'wheel', 'and', 'thou', 'are', 'shadows', 'in', 'the', 'cloud'], ['what', 'time', 'his', 'tender', 'palm', 'is', 'prest'], ['the', 'living', 'soul', 'was', 'flash', 'd', 'on', 'mine'], ['the', 'two', 'and', 'thirty', 'years', 'were', 'a', 'mist', 'that', 'rolls', 'away'], ['no', 'she', 'never', 'loved', 'me', 'truly', 'love', 'is', 'love', 'for', 'evermore'], ['half', 'is', 'thine', 'and', 'half', 'is', 'his', 'it', 'will', 'be', 'worthy', 'of', 'the', 'two'], ['death', 'is', 'the', 'end', 'of', 'life', 'ah', 'why'], ['dear', 'is', 'the', 'memory', 'of', 'our', 'wedded', 'lives'], ['that', 'bright', 'and', 'fierce', 'and', 'fickle', 'is', 'the', 'south'], ['that', 'prospect', 'was', 'the', 'gate', 'of', 'heavn', 'that', 'day'], ['he', 'fills', 'it', 'days', 'and', 'hours', 'are', 'blinds'], ['whose', 'echo', 'is', 'heavn', 's', 'bliss'], ['i', 'too', 'lived', 'brooklyn', 'of', 'ample', 'hills', 'was', 'mine'], ['the', 'universe', 'is', 'a', 'procession', 'with', 'measured', 'and', 'perfect', 'motion'], ['and', 'the', 'glory', 'and', 'sweet', 'of', 'a', 'man', 'is', 'the', 'token', 'of', 'manhood', 'untainted'], ['the', 'ship', 'is', 'anchor', 'd', 'safe', 'and', 'sound', 'its', 'voyage', 'closed', 'and', 'done'], ['and', 'i', 'know', 'that', 'the', 'hand', 'of', 'god', 'is', 'the', 'promise', 'of', 'my', 'own'], ['and', 'i', 'know', 'that', 'the', 'spirit', 'of', 'god', 'is', 'the', 'brother', 'of', 'my', 'own'], ['and', 'that', 'a', 'kelson', 'of', 'the', 'creation', 'is', 'love'], ['the', 'armfuls', 'are', 'pack', 'd', 'to', 'the', 'sagging', 'mow'], ['the', 'deacons', 'are', 'ordain', 'd', 'with', 'cross', 'd', 'hands', 'at', 'the', 'altar'], ['whose', 'girdle', 'was', 'the', 'parish', 'bounds'], ['the', 'blue', 'sky', 'is', 'the', 'temple', 's', 'arch'], ['the', 'loftiest', 'place', 'is', 'that', 'seat', 'of', 'grace'], ['and', 'as', 'molten', 'lead', 'were', 'the', 'tears', 'we', 'shed'], ['and', 'the', 'warder', 'is', 'despair'], ['but', 'god', 's', 'eternal', 'laws', 'are', 'kind'], ['whose', 'dwelling', 'is', 'the', 'light', 'of', 'setting', 'suns'], ['the', 'child', 'is', 'father', 'of', 'the', 'man'], ['with', 'better', 'knowledge', 'how', 'the', 'heart', 'was', 'fram', 'd'], ['a', 'privacy', 'of', 'glorious', 'light', 'is', 'thine'], ['and', 'my', 'delight', 'is', 'causer', 'of', 'this', 'strife'], ['it', 'was', 'evening', 'the', 'garden', 'hedge', 'was', 'all', 'aflower'], ['as', 'all', 'the', 'heavens', 'were', 'a', 'bell'], ['for', 'mee', 'be', 'witness', 'all', 'the', 'host', 'of', 'heavn'], ['th', 'event', 'is', 'fear', 'd', 'should', 'we', 'again', 'provoke'], ['first', 'what', 'revenge', 'the', 'towrs', 'of', 'heavn', 'are', 'fill', 'd'], ['may', 'i', 'express', 'thee', 'unblam', 'd', 'since', 'god', 'is', 'light'], ['his', 'back', 'was', 'turnd', 'but', 'not', 'his', 'brightness', 'hid'], ['uncheckt', 'and', 'of', 'her', 'roaving', 'is', 'no', 'end'], ['the', 'desert', 'fowls', 'in', 'thir', 'clay', 'nests', 'were', 'coucht'], ['thus', 'we', 'rejoyc', 'd', 'but', 'soon', 'our', 'joy', 'is', 'turn', 'd'], ['or', 'where', 'plain', 'was', 'raise', 'hill', 'or', 'over-lay'], ['so', 'little', 'here', 'nay', 'lost', 'but', 'eve', 'was', 'eve'], ['all', 'men', 'are', 'sons', 'of', 'god', 'yet', 'thee', 'i', 'thought'], ['nor', 'whether', 'your', 'name', 'is', 'base', 'or', 'brave'], ['that', 'one', 'thing', 'is', 'success'], ['i', 'in', 'life', 'was', 'the', 'circuit', 'judge', 'a', 'maker', 'of', 'notches'], ['our', 'hall-boy', 'service', 'is', 'a', 'joke'], ['yf', 'any', 'other', 'thing', 'be', 'lackt'], ['for', 'mine', 'own', 'bosom', 'is', 'the', 'paradise'], ['calm', 'was', 'the', 'sea', 'to', 'which', 'your', 'course', 'you', 'kept'], ['time', 'is', 'a', 'kind', 'friend', 'he', 'will', 'make', 'us', 'old'], ['whose', 'touch', 'is', 'fire', 'appears'], ['my', 'bones', 'are', 'guitar', 'strings'], ['death', 'is', 'a', 'fisherman', 'the', 'world', 'we', 'see'], ['our', 'life', 'is', 'nothing', 'but', 'a', 'winter', 's', 'day'], ['remember', 'each', 'man', 'vanquish', 'd', 'is', 'a', 'foe'], ['whose', 'flowers', 'are', 'flames', 'lit', 'to', 'the', 'lady'], ['whose', 'hosts', 'are', 'a', 'disturbance', 'of', 'words', 'within', 'words'], ['my', 'heart', 'was', 'a', 'stone', 'a', 'dumb'], ['i', 'knew', 'that', 'sugar', 'was', 'love'], ['i', 'knew', 'sugar', 'was', 'love'], ['do', 'nt', 'you', 'know', 'sugar', 'was', 'love'], ['america', 's', 'educators', 'preachers', 'are', 'the', 'mental-dictators'], ['the', 'only', 'thing', 'left', 'in', 'the', 'room', 'was', 'death'], ['a', 'wave', 'are', 'taxonomy', 'i', 'believe'], ['their', 'voices', 'rise', 'the', 'pine', 'trees', 'are', 'guitars'], ['or', 'salamander', '--', 'whose', 'home', 'is', 'fire', 'the', 'hills'], ['i', 'may', 'seem', 'thine', 'who', 'in', 'effect', 'am', 'none'], ['this', 'beaten', 'way', 'thou', 'beatest', 'i', 'fear', 'is', 'hell', 's', 'own', 'track'], ['and', 'last', 'year', 's', 'leaves', 'are', 'smoke', 'in', 'every', 'lane'], ['which', 'if', 'i', 'refuse', 'to', 'miss', 'may', 'be', 'miss', 'is', 'mine'], ['that', 'is', 'if', 'tree', 'were', 'a', 'tree'], ['for', 'silence', 'is', 'the', 'song', 'sublime'], ['till', 'every', 'living', 'thing', 'be', 'friends', 'again'], ['selling', 'was', 'the', 'weather', 'and', 'a', 'place', 'to', 'live', 'and'], ['the', 'facing', 'of', 'the', 'well', 'their', 'stairs', 'were', 'furniture'], ['the', 'case', 'was', 'walnut', '--', 'no', 'tracery', 'around', 'the', 'pipes'], ['richard', 'arkwright', 'was', 'a', 'barber', 'he', 'toured', 'the'], ['mine', 'is', 'the', 'hour'], ['if', 'this', 'latter', 'be', 'the', 'one', 'we', 'are', 'to', 'take'], ['this', 'walk', 'is', 'news', 'its', 'bodies', 'point', 'me', 'always'], ['and', 'barks', 'what', 'is', 'happiness'], ['but', 'social', 'as', 'teacups', 'no', 'hare', 'is', 'an', 'island'], ['the', 'paint', 'was', 'blistering', '--'], ['one', 'early', 'symptom', 'was', 'the', 'boundary'], ['and', 'vico', 'says', 'gods', 'and', 'goddesses', 'are', 'the', 'self', 'writ', 'large', '--'], ['a', 'young', 'dead', 'man', 'is', 'oil', 'an', 'old', 'dead', 'man', 'is', 'water'], ['a', 'young', 'dead', 'man', 'is', 'oil', 'an', 'old', 'dead', 'man', 'is', 'water'], ['a', 'young', 'dead', 'man', 'is', 'bread', 'and', 'butter', 'an', 'old', 'dead', 'man', 'is', 'bread', 'and'], ['a', 'young', 'dead', 'man', 'is', 'bread', 'and', 'butter', 'an', 'old', 'dead', 'man', 'is', 'bread', 'and'], ['the', 'dead', 'man', 'is', 'the', 'flywheel', 'of', 'the', 'spinning', 'planet'], ['its', 'bill', 'of', 'fare', 'was', 'rock', 'and', 'sand', 'the', 'tailings', 'were', 'its', 'dung'], ['love', 'is', 'a', 'man'], ['that', 'my', 'fingers', 'are', 'places', 'of', 'prayer'], ['each', 'upstep', 'is', 'a', 'rasp', 'each', 'kneeling'], ['the', 'grandam', 'of', 'my', 'grandam', 'was', 'the', 'lyre', '--'], ['life', 's', 'sharpest', 'rapture', 'is', 'surcease', 'of', 'pain'], ['the', 'pitcher', 's', 'stuff', 'is', 'all', 'junk'], ['the', 'ball', 'park', 'is', 'an', 'artifact'], ['over', 'why', 'why', 'causation', 'is', 'sequence'], ['his', 'name', 'his', 'name', 'is', 'death'], ['though', 'his', 'grandmother', 'was', 'a', 'Warlock'], ['the', 'pike', 'is', 'a', 'fish', 'who', 'always', 'has', 'his', 'prey'], ['keep', 'away', 'son', 'these', 'lakes', 'are', 'salt', 'these', 'flowers'], ['i', 'am', 'wondering', 'if', 'you', 'got', 'the', 'idea', 'be', 'a', 'manu'], ['its', 'tense', 'is', 'aorist'], ['the', 'years', 'are', 'smoke'], ['if', 'faith', 'is', 'a', 'tree', 'that', 'sorrow', 'grows'], ['with', 'eggs', 'and', 'applejack', 'life', 'is', 'a', 'paradox'], ['do', 'nt', 'ask', 'the', 'whole', 'sweet', 'world', 'is', 'a', 'garden'], ['the', 'old', 'chronological', 'towers', 'are', 'ash', 'are', 'prisms', 'of', 'disfigurement', 'symbolic', 'of', 'a', 'world', 'cancelled', 'by', 'consumptive', 'inmelodias', 'as', 'for', 'alchemical', 'transition', 'we', 'face', 'the', 'raising', 'of', 'new', 'sea', 'walls', 'of', 'banished', 'and', 're-engendered', 'electorates', 'trying', 'to', 'cope', 'with', 'new', 'intensities', 'of', 'weather', 'as', 'the', 'anomalous', 'hypnotically', 'increases', 'with', 'the', 'power', 'of', 'inverse', 'subjective', 'the', 'body', 'is', 'now', 'weighed', 'on', 'a', 'broken', 'axial', 'cart', 'its', 'blood', 'conjoined', 'as', 'it', 'rises', 'within', 'a', 'nuclear', 'darkness', 'of', 'ravens', 'so', 'as', 'piscean', 'chronology', 'now', 'shatters', 'dawn', 'becomes', 'an', 'unclaimed', 'resurrection', 'a', 'tumultuous', 'eikon', 'of', 'skin', 'no', 'longer', 'formed', 'around', 'its', 'old', 'dendritic', 'artifacts', 'the', 'calendar', 'of', 'draconian', 'enfeeblement', 'with', 'its', 'integers', 'of', 'the', 'past', 'centuries', 'erased', 'its', 'linear', 'babels', 'darkened', 'by', 'the', 'extreme', 'necessity', 'for', 'a', 'new', 'perpendicular', 'burst', 'transmuting', 'in', 'demeanour', 'with', 'history', 'consumed', 'in', 'a', 'roll', 'of', 'flaming', 'aural', 'dice', 'with', 'its', 'wizardry', 'of', 'tools', 'subsumed', 'in', 'arcane', 'vibration', 'turned', 'into', 'a', 'power', 'of', 'splendiferous', 'scorpions', 'the', 'psychic', 'wounds', 'of', 'the', 'past', 'eclipsed', 'in', 'this', 'new', 'millenium', 'by', 'the', 'power', 'of', 'smelted', 'dragon', 's', 'blood', 'and', 'so', 'i', 'speak', 'of', 'a', 'new', 'being', 'of', 'symbols', 'of', 'lucid', 'catacombs', 'and', 'spirals', 'its', 'language', 'being', 'spun', 'in', 'fabulous', 'iguana', 'iridium', 'now', 'with', 'the', 'decayed', 'constitutional', 'stages', 'exploded', 'by', 'telepathy', 'by', 'invulnerable', 'oneiric', 'intuitives', 'the', 'mental', 'axis', 'transmutes', 'like', 'a', 'reddened', 'swan', 'with', 'a', 'new', 'cosmic', 'skeletal', 'reprieve', 'afloat', 'amongst', 'the', 'forces', 'of', 'the', 'primeval', 'lightning', 'field', 'taking', 'on', 'the', 'dharma', 'of', 'the', 'great', 'sustained', 'emotion', 'of', 'eternity'], ['some', 'souls', 'are', 'bank', 'tellers'], ['if', 'the', 'art', 'of', 'loneliness', 'is', 'landscape'], ['but', 'rotgut', 'was', 'the', 'shortcut', 'to', 'epiphanies'], ['a', 'liar', 'is', 'a', 'liar', 'is', 'a', 'liar', 'that', 's', 'his', 'act'], ['a', 'liar', 'is', 'a', 'liar', 'is', 'a', 'liar', 'that', 's', 'his', 'act'], ['but', 'then', 'tueur', 'is', 'human', 'and', 'what', 'rhymes', 'with', 'bilge', 'is', 'bilge'], ['my', 'mistress', 'eyes', 'are', 'nothing'], ['other', 'ones', 'are', 'sentries', 'guarding', 'double', 'entries'], ['its', 'scent', 'was', 'neither', 'snake', 'nor', 'rat'], ['ripeness', 'is', 'nothing'], ['made', 'byron', 'sick', 'food', 'is', 'a', 'metaphor', 'for', 'existence'], ['from', 'where', 'even', 'watching', 'is', 'an', 'anachronism'], ['our', 'own', 'cities', 'were', 'the', 'ones', 'we', 'wanted', 'to', 'bomb'], ['my', 'hair', 'is', 'the', 'color', 'of', 'chopped', 'maples'], ['and', 'life', 'is', 'colour', 'and', 'warmth', 'and', 'light'], ['that', 'what', 'he', 'thought', 'were', 'sun-kissed', 'hills', 'are', 'rags', 'upon', 'the', 'floor'], ['democracy', 'is', 'the', 'shit'], ['relativity', 'is', 'the', 'shit'], ['dictators', 'are', 'the', 'shit'], ['menken', 'is', 'the', 'shit'], ['her', 'wine', 'was', 'dew', 'of', 'the', 'wild', 'white', 'rose'], ['but', 'she', 'hangs', 'on', 'and', 'my', 'shout', 'and', 'my', 'shrinking', 'are', 'nothing', 'to', 'her'], ['i', 'am', 'no', 'son', 'of', 'thine', '--'], ['the', 'sky', 'is', 'cloudy', 'yellowed', 'by', 'the', 'smoke'], ['my', 'needle', 'through', 'the', 'word', 'whose', 'root', 'is', 'love'], ['the', 'peace', 'with', 'which', 'the', 'moving', 'heavens', 'are', 'fraught'], ['the', 'bell', 'the', 'bell', 'is', 'ringing', 'give', 'me', 'back', 'my', 'rusty', 'sword'], ['gray', 'men', 'in', 'overcoats', 'are', 'ghosts', 'blown', 'past', 'the', 'door'], ['mourn', 'like', 'the', 'lost', 'water', 'is', 'slate', 'far', 'down'], ['then', 'air', 'is', 'kisses', 'kisses'], ['the', 'islands', 'are', 'prisons', 'and', 'no', 'one', 'returns'], ['the', 'world', 'is', 'everything', 'that', 'is', 'the', 'case'], ['the', 'law', 'was', 'a', 'devil', 'to', 'cheat', 'as', 'you', 'pleased'], ['at', 'the', 'far', 'end', 'of', 'the', 'platform', 'is', 'a', 'tunnel', 'and', 'the', 'train'], ['it', 'is', 'but', 'that', 'my', 'soul', 'is', 'sighing'], ['poetry', 'is', 'the', 'grinding', 'of', 'a', 'multiplicity'], ['by', 'what', 'manner', 'is', 'the', 'soul', 'joined', 'to'], ['down', 'the', 'hall', 'was', 'someone', 'with', 'a', 'glove'], ['that', 'the', 'body', 'is', 'something', 'less'], ['of', 'all', 'perfection', 'flesh', 'is', 'heir', 'to'], ['such', 'stuff', 'is', 'nought', 'but', 'mere', 'tautology'], ['and', 'yet', 'what', 'thoughtless', 'force', 'was', 'mine'], ['faces', 'whose', 'hair', 'is', 'leaves', 'and', 'grapes'], ['that', 'my', 'love', 'is', 'nothing', 'because', 'i', 'have', 'borne', 'no', 'children'], ['nor', 'smear', 'my', 'love', 'with', 'names', 'love', 'is', 'a', 'cliff'], ['the', 'night', 'is', 'a', 'sentinel'], ['the', 'sedate', 'one', 'is', 'this', 'month', 's', 'skittish', 'one'], ['the', 'couples', 'are', 'parading', 'everyone', 'is', 'in', 'a', 'holiday', 'mood'], ['this', 'passion', 'is', 'the', 'scholar', 's', 'heritage'], ['my', 'trade', 'is', 'courage', 'and', 'atrocities'], ['when', 'big', 'prints', 'were', 'the', 'rage'], ['yesterday', 'his', 'face', 'is', 'corn', '-'], ['my', 'cuticles', 'are', 'a', 'mess', 'oh', 'honey', 'by', 'the', 'way'], ['and', 'he', 'knows', 'his', 'skin', 'is', 'glass'], ['mindful', 'that', 'melancholy', 'is', 'a', 'sin', 'though'], ['better', 'than', 'rage', 'is', 'the', 'post-dinner', 'quiet'], ['greek', 'tragedy', 'of', 'course', 'is', 'the', 'sort', 'of', 'thing'], ['understatement', 'is', 'the', 'privilege', 'of', 'a', 'god', 'we', 'must'], ['was', 'a', 'madman', 'coleridge', 'was', 'a', 'drug', 'addict', 'with', 'severe'], ['suffering', 'was', 'life', 's', 'penalty', 'wisdom', 'armed', 'one'], ['against', 'madness', 'speech', 'was', 'temporary', 'poetry', 'was', 'truth'], ['because', 'the', 'body', 's', 'dwelling', 'is', 'stone', 'perched', 'over', 'water'], ['death', 'is', 'death', 'and', 'none', 'other'], ['my', 'name', 'is', 'johnson', '--'], ['what', 'i', 'remember', 'through', 'the', 'windshield', 's', 'splintering', 'lens', 'is', 'time', 'a', 'mailbox'], ['and', 'his', 'voice', 'through', 'all', 'the', 'garden', 'is', 'a', 'thunder', 'sent', 'to', 'bring'], ['when', 'solomon', 'was', 'king'], ['it', 'is', 'he', 'whose', 'loss', 'is', 'laughter', 'when', 'he', 'counts', 'the', 'wager', 'worth'], ['the', 'crescent', 'of', 'his', 'cruel', 'ships', 'whose', 'name', 'is', 'mystery'], ['and', 'above', 'the', 'ships', 'are', 'palaces', 'of', 'brown', 'black-bearded', 'chiefs'], ['and', 'below', 'the', 'ships', 'are', 'prisons', 'where', 'with', 'multitudinous', 'griefs'], ['some', 'moment', 'when', 'the', 'moon', 'was', 'blood'], ['last', 'night', 'the', 'kings', 'of', 'the', 'earth', 'were', 'chill'], ['where', 'struggle', 'is', 'home', 'to', 'the', 'beast', 'in', 'us'], ['over', 'my', 'head', 'are', 'the', 'firs', 'for', 'rafter'], ['the', 'mantilla', 'is', 'lace'], ['whose', 'blackness', 'is', 'air'], ['my', 'frog', 'is', 'a', 'frog', 'that', 'is', 'hopelessly', 'hoarse'], ['my', 'frog', 'is', 'a', 'frog', 'with', 'a', 'reason', 'of', 'course'], ['my', 'frog', 'is', 'a', 'frog', 'that', 'cannot', 'croak', 'a', 'note'], ['my', 'frog', 'is', 'a', 'frog', 'with', 'a', 'frog', 'in', 'its', 'throat'], ['and', 'its', 'airborne', 'personnel', 'but', 'still', 'their', 'mouths', 'were', 'a', 'mash'], ['perhaps', 'the', 'sadness', 'is', 'a', 'way', 'of', 'seeming', 'free'], ['while', 'what', 'lurks', 'below', 'the', 'surface', 'is', 'another', 'story'], ['the', 'sky', 'was', 'a', 'show', 'of', 'flashing'], ['the', 'downing', 'street', 'accord', 'is', 'lots', 'of'], ['the', 'sun', 'was', 'god', 's', 'eye'], ['the', 'chrysler', 'building', 'was', 'a', 'pin'], ['where', 'deafness', 'was', 'an', 'asset', 'i', 'did', 'well'], ['in', 'the', 'beginning', 'was', 'the', 'word'], ['and', 'the', 'word', 'was', 'nigger'], ['and', 'the', 'word', 'was', 'death', 'to', 'all', 'niggers'], ['and', 'the', 'word', 'was', 'death', 'to', 'all', 'life'], ['and', 'the', 'word', 'was', 'death', 'to', 'all'], ['the', 'genesis', 'was', 'life'], ['the', 'genesis', 'was', 'death'], ['in', 'the', 'beginning', 'was', 'the', 'deed'], ['and', 'the', 'deed', 'was', 'death'], ['her', 'hair', 'was', 'three-quarters', 'her', 'height'], ['in', 'the', 'moment', 'was', 'the', 'music', 'of', 'being', 'wanted'], ['whose', 'confidence', 'is', 'a', 'game', 'of', 'marbles'], ['stoics', 'replied', 'that', 'life', 'is', 'war', 'illusion'], ['the', 'beaches', 'were', 'all', 'lava', 'variegated'], ['this', 'whole', 'palazzo', 'is', 'the', 'property'], ['art', 'is', 'history', 's', 'nostalgia', 'it', 'prefers', 'a', 'thatched'], ['his', 'name', 'was', 'hector'], ['hollowed', 'his', 'face', 'to', 'find', 'that', 'the', 'sea', 'was', 'a', 'love'], ['mer', 'was', 'both', 'mother', 'and', 'sea', 'in', 'his', 'lost', 'canoe'], ['for', 'thine', 'is', 'the', 'kingdom', 'the', 'glory', 'and', 'the', 'power'], ['maybe', 'these', 'events', 'are', 'nature', 's', 'sleight', 'of', 'hand', 'and', 'the', 'real'], ['boortree', 'is', 'bower', 'tree', 'where', 'i', 'played', 'touching', 'tongues'], ['attenuation', 'is', 'strength', 'donne'], ['light', 'is', 'this', 'instant', 'far-seeing'], ['like', 'a', 'hat', '--', 'a', 'kid', 's', 'life', 'is', 'a', 'cinch'], ['whose', 'look', 'is', 'charnel', 'lusters', 'intent', 'and', 'blind'], ['restore', 'that', 'grace', 'indeed', 'the', 'look', 'is', 'grace'], ['contemplation', 'not', 'yet', 'relaxed', 'his', 'hands', 'are', 'void'], ['ten', 'years', 'are', 'time', 'enough', 'to', 'be', 'dismayed'], ['your', 'ghosts', 'are', 'plato', 's', 'christians', 'in', 'the', 'cave'], ['narcissus', 'is', 'vocabulary', 'hermes', 'decorates'], ['person', 'every', 'son-of-a-bitch', 'is', 'christ', 'at', 'least', 'rousseau'], ['and', 'believe', 'all', 'human', 'community', 'is', 'lies', 'and', 'bullshit'], ['his', 'nose', 'was', 'a', 'wick'], ['i', 'said', 'today', 'is', 'monday', 'i', 'want', 'little', 'more'], ['do', 'not', 'think', 'relationship', 'is', 'wealth'], ['the', 'river', 'is', 'a', 'variety', 'of', 'land'], ['far', 'down', 'from', 'one', 'rim', 'is', 'the', 'bay', 'with', 'flocks', 'of', 'teal'], ['a', 'second', 'look', 'and', 'the', 'bleating', 'lambs', 'were', 'birds', '--'], ['as', 'if', 'banishing', 'love', 'is', 'a', 'fix', 'as', 'if', 'the', 'stars', 'go', 'out', 'when', 'we', 'shut', 'our'], ['the', 'efflux', 'of', 'the', 'soul', 'is', 'happiness', 'here', 'is', 'happiness'], ['the', 'fluid', 'and', 'attaching', 'character', 'is', 'the', 'freshness', 'and', 'sweetness', 'of', 'man', 'and', 'woman'], ['my', 'call', 'is', 'the', 'call', 'of', 'battle', 'i', 'nourish', 'active', 'rebellion'], ['but', 'when', 'these', 'leafless', 'beds', 'were', 'all', 'aglow'], ['deep', 'buried', 'in', 'the', 'forest', 'was', 'a', 'nook'], ['even', 'as', 'the', 'teacher', 'is', 'the', 'child', 's', '--', 'i', 'said'], ['thy', 'songs', 'were', 'riddles', 'hard', 'to', 'mortal', 'ear'], ['one', 'day', 'then', 'another', 'for', 'mine', 'are', 'the', 'terms'], ['his', 'bin', 'was', 'morning', 'light'], ['my', 'body', 'is', 'a', 'pebble', 'to', 'them', 'they', 'tend', 'it', 'as', 'water'], ['to', 'buddha', 'every', 'distinct', 'thing', 'is', 'illusion'], ['work', 'is', 'something', 'that', 'you', 'do'], ['or', 'forgotten', 'the', 'woods', 'are', 'a', 'mangle'], ['hour', 'is', 'the', 'hour', 'we', 'were', 'like', 'that', 'then', '--'], ['at', 'the', 'feet', 'of', 'a', 'young', 'man', 'whose', 'name', 'is', 'saul'], ['parcels', 'of', 'light', 'angels', 'are', 'women', 'i', 'know', 'that'], ['silence', 'is', 'an', 'envelope', 'noise', 'is', 'paper'], ['silence', 'is', 'an', 'envelope', 'noise', 'is', 'paper'], ['beneath', 'the', 'squeeze', 'on', 'my', 'heart', 'is', 'a', 'stranglehold'], ['todd', 's', 'hardware', 'was', 'dust', 'and', 'a', 'monkey', '--'], ['of', 'being', 'the', 'dead', 'center', 'of', 'things', 'where', 'pain', 'is', 'the', 'gateway'], ['matter', 'is', 'water'], ['and', 'the', 'song', 'is', 'joy', 'is', 'life'], ['the', 'across', 'the', 'street', 'is', 'windows'], ['because', 'a', 'song', 'is', 'a', 'mountain', 'put', 'into'], ['words', 'and', 'landscape', 'is', 'the', 'feeling', 'that'], ['and', 'you', 'are', 'life', 'is', 'experience'], ['and', 'that', 'ideas', 'were', 'governments', 'turned', 'into', 'men'], ['shrugged', 'janos', 'was', 'a', 'friend', 'from', 'the', 'university'], ['fighting', 'a', 'war', 'is', 'a', 'plausible'], ['the', 'glades', 'are', 'dusk', 'and', 'soft', 'the', 'grass', 'where', 'the', 'flower', 'of', 'the', 'elder', 'gleams'], ['path', 'a', 'horse', 'fence', 'where', 'fences', 'are', 'horses'], ['to', 'let', 'a', 'couch', 'or', 'a', 'chair', 'be', 'a', 'place', 'for', 'sitting', 'down'], ['to', 'let', 'a', 'table', 'be', 'a', 'place', 'for', 'eating', 'not', 'a', 'desk'], ['and', 'the', 'hondurans', 'were', 'masters', 'of', 'their', 'land'], ['and', 'a', 'gongressman', 'was', 'chipper', 'than', 'a', 'mule'], ['as', 'they', 'should', 'be', 'sleep', 'is', 'a', 'drug'], ['one', 'ca', 'nt', 'eat', 'art', 'but', 'dust', 'is', 'art'], ['new', 'york', 'new', 'york', 'love', 'is', 'a', 'means', 'of', 'travel', 'so', 'you', 'dye'], ['that', 'his', 'experience', 'of', 'his', 'being', 'and', 'mine', 'of', 'his', 'and', 'his', 'of', 'mine', 'were', 'things', 'entirely', 'apart'], ['all', 'march', 'is', 'shambles', 'shards', 'yet', 'no', 'amber'], ['granite', 'and', 'ice', 'are', 'colours', 'of', 'the', 'heart'], ['a', 'view', 'is', 'a', 'mountain', 'speaking'], ['closed', 'door', 'is', 'panic', 'and', 'spaces', 'grow', 'immense', 'with', 'memory', 'like'], ['here', 'the', 'man', 'with', 'the', 'shovel', 'is', 'king'], ['everyone', 'is', 'a', 'friend', 'of', 'his', 'own', 'pathology'], ['where', 'my', 'children', 'are', 'distances', 'horizons'], ['the', 'saulis', 'are', 'borrowit', 'and', 'to', 'the', 'bliss', 'can', 'go'], ['my', 'name', 'is', 'colin', 'clout'], ['their', 'purpose', 'is', 'ambition'], ['provo', 'is', 'a', 'place', 'where', 'there', 'is', 'no', 'reason', 'to', 'be'], ['passing', 'is', 'june', 'another', 'peony', 's', 'scent', 'postcards'], ['they', 'say', 'days', 'are', 'scrolls', 'write', 'only', 'what', 'you', 'want', 'remembered'], ['the', 'new', 'age', 'victor', 'is', 'the', 'one', 'who', 'gets'], ['but', 'what', 'pierced', 'me', 'at', 'that', 'moment', 'like', 'an', 'axe', 'was', 'the', 'recognition'], ['told', 'your', 'friend', 'that', 'the', 'gist', 'of', 'war', 'was', 'boredom'], ['the', 'night', 'is', 'a', 'clock', 'chiming'], ['dark', 'is', 'the', 'world', 'where', 'your', 'light', 'shined', 'never'], ['if', 'rubies', 'loe', 'hir', 'lips', 'be', 'rubies', 'sound'], ['if', 'pearles', 'hir', 'teeth', 'be', 'pearles', 'both', 'pure', 'and', 'round'], ['the', 'rest', 'be', 'works', 'of', 'natures', 'wonderment'], ['then', 'love', 'is', 'sin', 'and', 'let', 'me', 'sinful', 'be'], ['where', 'love', 'is', 'chasteness', 'pain', 'doth', 'learn', 'delight'], ['let', 'not', 'mine', 'eyes', 'be', 'hell-drivn', 'from', 'that', 'light'], ['singsing', 'sing', 'this', 'line', 'is', 'an', 'example', 'of', 'epanalepsis', 'the', 'poetic', 'technique', 'of', 'beginning', 'and', 'ending', 'the', 'line', 'with', 'the', 'same', 'word', 'then', 'my', 'muse', 'now', 'io', 'paean', 'io', 'paean', 'homer', 'began', 'his', 'hymn', 'to', 'apollo', 'with', 'these', 'words', 'which', 'serve', 'as', 'a', 'latinized', 'version', 'of', 'the', 'phrase', 'sing', 'muse', 'sing'], ['debasement', 'is', 'the', 'password', 'of', 'the', 'base'], ['and', 'the', 'thunder', 'was', 'someone', 'with', 'a', 'shotgun'], ['the', 'new', 'moon', 'ones', 'were', 'wolves'], ['the', 'buildings', 'were', 'mountains'], ['the', 'infant', 'is', 'an', 'eye', 'looking'], ['its', 'sorrow', 'is', 'christ', 's', 'dewlap'], ['but', 'our', 'sustenance', 'is', 'a', 'laugh', 'a', 'grief'], ['the', 'red', 'one', 'is', 'the', 'poppy'], ['i', 'marvel', 'of', 'what', 'substance', 'was', 'the', 'mould'], ['their', 'words', 'are', 'spears'], ['in', 'love', 'if', 'love', 'be', 'love', 'if', 'love', 'be', 'ours'], ['unfaith', 'in', 'aught', 'is', 'want', 'of', 'faith', 'in', 'all'], ['all', 'things', 'were', 'nothing', 'to', 'give'], ['mine', 'is', 'the', 'heart', 'at', 'your', 'feet'], ['that', 'your', 'body', 'and', 'soul', 'are', 'mine'], ['if', 'one', 'might', 'death', 'were', 'no', 'divorce'], ['fear', 'is', 'a', 'snare', 'why', 'should', 'i', 'be', 'afraid'], ['calm', 'is', 'the', 'sea', 'the', 'waves', 'work', 'less', 'and', 'less'], ['dead', 'is', 'the', 'root', 'whence', 'all', 'these', 'fancies', 'grew'], ['so', 'true', 'a', 'fool', 'is', 'love', 'that', 'in', 'your', 'will'], ['thy', 'fadere', 'is', 'the', 'king', 'of', 'blis'], ['he', 'saw', 'the', 'moon', 'o', 'yonder', 'is', 'the', 'moon'], ['mayst', 'thou', 'to', 'ravenous', 'chancres', 'be', 'a', 'prey'], ['the', 'cheat', 'on', 'briers', 'her', 'buds', 'were', 'strung'], ['and', 'all', 'her', 'face', 'was', 'honey', 'to', 'my', 'mouth'], ['he', 'pass', 'd', 'with', 'ease', 'gold', 'was', 'the', 'word'], ['till', 'love', 'be', 'trust'], ['our', 'distance', 'is', 'love', 's', 'severance', 'sense', 'divides'], ['when', 'absent', 'every', 'minute', 'is', 'a', 'year'], ['strephon', 'who', 'found', 'the', 'room', 'was', 'void'], ['age', 'is', 'naught', 'but', 'sorrow'], ['to', 'thee', 'whose', 'temple', 'is', 'all', 'space'], ['and', 'all', 'my', 'heart', 'be', 'love'], ['her', 'only', 'levity', 'is', 'patience'], ['men', 'were', 'deceivers', 'ever'], ['fond', 'are', 'life', 's', 'lustful', 'joys'], ['though', 'beauty', 'be', 'the', 'mark', 'of', 'praise'], ['brilliance', 'is', 'a', 'carcass'], ['life', 'is', 'a', 'cry', 'followed', 'by', 'laughter'], ['how', 'can', 'the', 'walls', 'be', 'floors', 'if', 'the', 'floors'], ['a', 'the', 'body', 'and', 'the', 'material', 'things', 'of', 'the', 'world', 'are', 'the', 'key', 'to', 'any'], ['the', 'interviewer', 'was', 'a', 'poet', 'mann', 'offered', 'him', 'no', 'coffee', 'and'], ['that', 'the', 'hot', 'wind', 'is', 'friend', 'lifter', 'of', 'stones', 'trembler', 'of', 'heavy'], ['for', 'though', 'your', 'manic', 'tribe', 'is', 'mine', 'the', 'boreal', 'chargers'], ['so', 'utterly', 'absorbed', 'that', 'love', 'is', 'a', 'distraction', 'even'], ['cities', 'are', 'places', 'are', 'conversion', 'you', 'said', 'but', 'i', 'am', 'citiless'], ['cities', 'are', 'places', 'are', 'conversion', 'you', 'said', 'but', 'i', 'am', 'citiless'], ['sex', 'please', 'now', 'petunias', 'are', 'an', 'apology'], ['long', 'ago', 'this', 'desert', 'was', 'an', 'inland', 'sea', 'in', 'the', 'mountains'], ['my', 'name', 'is', 'a', 'household', 'word', 'writes', 'the', 'hid', 'teacher'], ['the', 'horse', 'was', 'midnight'], ['i', 'would', 'have', 'freed', 'thousands', 'mo', 'if', 'dey', 'had', 'known', 'dey', 'were', 'slaves', 'harriet'], ['in', 'a', 'hundred', 'furnished', 'rooms', 'is', 'a', 'girl', 'who', 'sells', 'silk', 'or', 'dress', 'goods', 'or', 'leather', 'stuff', 'for'], ['the', 'law', 'was', 'move', 'or', 'die', 'lively', 'from', 'tigers'], ['our', 'day', 'is', 'night', 'when', 'we', 'sit', 'in', 'rows', 'of', 'the', 'classroom'], ['the', 'sun', 'is', 'no', 'enemy', 'to', 'the', 'eye', 'looking', 'west'], ['i', 'have', 'a', 'sister', 'who', 'takes', 'care', 'of', 'animals', 'whose', 'artistry', 'is', 'flesh'], ['reddening', 'the', 'bare', 'skin', 'around', 'the', 'wound', 'the', 'odors', 'are', 'a', 'mixture'], ['the', 'elegies', 'were', 'a', 'medicine', 'prescribed', 'by', 'the', 'physicians'], ['the', 'empty', 'hallway', 'the', 'past', 'is', 'the', 'self', 's', 'ghoul'], ['his', 'back', 'is', 'a', 'saddle', 'where', 'lovers', 'have', 'ridden'], ['the', 'horizon', 'h', 'is', 'the', 'point', 'where', 'vision', 'ends'], ['where', 'people', 'were', 'days', 'becoming', 'months', 'and', 'years'], ['the', 'wind', 'of', 'my', 'breath', 'is', 'a', 'hurricane'], ['but', 'the', 'word', 'is', 'mindful', 'of', 'itself'], ['they', 'say', 'a', 'ghost', 'is', 'a', 'ghost'], ['yes', 'the', 'sun', 'at', 'its', 'zenith', 'winged', 'figure', 'with', 'arms', 'extended', 'and', 'a', 'white', 'ship', 'exactly', 'correct', 'let', 'me', 'tell', 'you', 'what', 'it', 'is', 'you', 'said', 'the', 'lovers', 'limbs', 'twist', 'like', 'a', 'river', 'their', 'talk', 'is', 'a', 'naming', 'or', 'being', 'named', 'my', 'back', 'sometimes', 'aches', 'their', 'talk', 'hides', 'in', 'the', 'telling', 'the', 'wind', 'moves', 'us', 'wands', 'comes', 'and', 'cups', 'gardens', 'someone', 'in', 'a', 'cloak', 'the', 'wind', 'moves', 'us', 'laws', 'young', 'girl', 'and', 'the', 'bird', 'at', 'her', 'wrist', 'colors', 'bright', 'yellow', 'or', 'blue', 'i', 'am', 'a', 'woman', 'or', 'man', 'under', 'green', 'sky', 'garden', 'to', 'my', 'right', 'and', 'then', 'it', 's', 'the', 'following', 'day', 'i', 'am', 'woman', 'or', 'man', 'under', 'emerald', 'sky', 'wind', 'brushes', 'the', 'river', 's', 'surface', 'we', 'talk', 'until', 'our', 'talk', 'becomes', 'hidden'], ['talk', 'is', 'a', 'naming'], ['talk', 'is', 'a', 'naming', 'or', 'a', 'being', 'named'], ['whose', 'doldrums', 'are', 'meadows', 'spinning', 'into', 'brush'], ['her', 'name', 'was', 'sara', 'and', 'we', 'kept', 'it', 'at', 'that'], ['the', 'soul', 'is', 'forgiveness', 'because', 'it', 'knows', 'forgiveness'], ['and', 'his', 'screen', 'is', 'stripes', 'and', 'he', 'knows', 'he', 'saved', 'his', 'work'], ['god', 'was', 'momentum', 'then'], ['that', 'looks', 'personal', 'private', 'this', 'tank', 'is', 'nothing'], ['what', 'is', 'the', 'world', 'the', 'word', 'is', 'wilderness'], ['what', 'is', 'the', 'answer', 'the', 'answer', 'is', 'the', 'world'], ['what', 'is', 'the', 'beginning', 'a', 'beginning', 'is', 'happiness'], ['paul', 'was', 'the', 'sort'], ['a', 'father', 'tells', 'his', 'son', 'the', 'thing', 'he', 'regrets', 'most', 'about', 'his', 'life', 'is', 'the', 'amount', 'of', 'time', 'he', 'has', 'spent', 'worrying', 'about', 'it'], ['those', 'people', 'were', 'a', 'kind', 'of', 'solution'], ['in', 'the', 'star', 'it', 'is', 'a', 'star', 'it', 'is', 'autonomous', 'star', 'it', 's', 'mild', 'is'], ['my', 'father', 's', 'farm', 'is', 'an', 'apple', 'blossomer'], ['his', 'fields', 'are', 'oceans', 'of', 'heat'], ['my', 'father', 's', 'farm', 'is', 'an', 'icicle'], ['today', 'is', 'friday'], ['his', 'left', 'leg', 'was', 'meal', 'crayfish', 'in', 'the', 'hair'], ['the', 'risk', 'is', 'a', 'part', 'of', 'the', 'rhythm'], ['mentions', 'that', 'hearing', 'is', 'silver'], ['the', 'name', 'is', 'orestes'], ['no', 'one', 'can', 'escape', 'what', 'use', 'is', 'strength', 'you', 'ca', 'nt'], ['and', 'behind', 'was', 'memory', 'like', 'the', 'white', 'sheet', 'one', 'night', 'in', 'an', 'enclosure'], ['the', 'perfume', 'was', 'flowers', 'ground', 'upon', 'stones'], ['to', 'cleanse', 'our', 'vision', 'the', 'fish', 'were', 'silver'], ['martin', 'was', 'a', 'man', 'no', 'one', 'came', 'close', 'to', 'knowing'], ['was', 'a', 'joke', 'because', 'a', 'singer', 'is', 'nothing', '--'], ['a', 'singer', 'is', 'nothing', 'why', 'did', 'he', 'sing'], ['as', 'the', 'season', 'of', 'cold', 'is', 'the', 'season', 'of', 'darkness'], ['else', 'all', 'beasts', 'were', 'tigers'], ['without', 'which', 'earth', 'is', 'sand'], ['the', 'sky', 'is', 'cloud', 'on', 'cloud'], ['the', 'sky', 'is', 'cloudy']]\n"
     ]
    }
   ],
   "source": [
    "# list that contains a list for every row with the words of the column 'Text'\n",
    "word_lists = [text.split() for text in df['Text']]\n",
    "\n",
    "# take away every element in every sublist of word_lists that does not have at least one letter or a hyphen (some words are hyphenated)\n",
    "word_lists = [[re.sub(r'[^a-zA-Z-]', '', word) for word in sublist] for sublist in word_lists]\n",
    "\n",
    "# eliminate every element in every sublist of word_lists that is an empty string\n",
    "word_lists = [[word for word in sublist if word != ''] for sublist in word_lists]\n",
    "\n",
    "print(word_lists)"
   ]
  },
  {
   "cell_type": "markdown",
   "metadata": {},
   "source": [
    "### Every bigram without stopwords in every unfiltered sentence from Text"
   ]
  },
  {
   "cell_type": "code",
   "execution_count": 24,
   "metadata": {},
   "outputs": [
    {
     "name": "stdout",
     "output_type": "stream",
     "text": [
      "[('poise', 'club'), ('destroying', 'alexandria'), ('alexandria', 'sunlight'), ('sunlight', 'silence'), ('feet', 'anchor'), ('anchor', 'gravity'), ('gravity', 'sucks'), ('sucks', 'mind'), ('day', 'horizon'), ('horizon', 'gesture'), ('gesture', 'earth'), ('said', 'good-by'), ('good-by', 'good-by'), ('good-by', 'number'), ('although', 'eyes'), ('eyes', 'lakes'), ('lakes', 'dies'), ('ways', 'world'), ('world', 'taxi'), ('taxi', 'enter'), ('poet', 'man'), ('man', 'feigns'), ('man', 'animal'), ('animal', 'needs'), ('needs', 'warden'), ('name', 'james'), ('james', 'wright'), ('wright', 'born'), ('earth', 'door'), ('door', 'cannot'), ('cannot', 'even'), ('even', 'face'), ('hackles', 'neck'), ('neck', 'fear'), ('fear', 'grief'), ('moon', 'sow'), ('earth', 'birth'), ('birth', 'blues'), ('blues', 'sang'), ('sang', 'yellow'), ('yellow', 'bertha'), ('nature', 'understanding'), ('understanding', 'one'), ('one', 'simple'), ('real', 'terror'), ('terror', 'nature'), ('nature', 'humanity'), ('humanity', 'enraged'), ('enraged', 'true'), ('love', 'word'), ('word', 'another'), ('another', 'kind'), ('kind', 'open'), ('goodbye', 'promise'), ('promise', 'lightning'), ('broken', 'body'), ('body', 'afterimage'), ('afterimage', 'st'), ('st', 'year'), ('eyes', 'caves'), ('caves', 'chunks'), ('chunks', 'etched'), ('etched', 'rock'), ('sky', 'baby'), ('baby', 'blue'), ('blue', 'just-unfurling'), ('just-unfurling', 'leaves'), ('road', 'somebody'), ('somebody', 'small'), ('small', 'shoulder'), ('wrote', 'life'), ('life', 'strain'), ('strain', 'later'), ('later', 'someone'), ('someone', 'crossed'), ('clear', 'mr'), ('mr', 'haggard'), ('haggard', 'ryder'), ('ryder', 'brother'), ('mind', 'city'), ('city', 'like'), ('like', 'london'), ('others', 'despots'), ('despots', 'despair'), ('knowing', 'intuitively'), ('intuitively', 'sense'), ('sense', 'humor'), ('humor', 'necessity'), ('guilt', 'nameless'), ('nameless', 'name'), ('name', 'time'), ('name', 'death'), ('death', 'stop'), ('hamlet', 'example'), ('example', 'dying'), ('sun', 'yellowjacket'), ('love', 'fiction'), ('fiction', 'must'), ('must', 'use'), ('people', 'home'), ('home', 'homecomings'), ('yet', 'life'), ('life', 'invocation'), ('invocation', 'sealed'), ('sealed', 'coffin'), ('swift', 'darkness'), ('darkness', 'spring'), ('spring', 'first'), ('first', 'hour'), ('trees', 'crystal'), ('crystal', 'chandeliers'), ('still', 'branches'), ('branches', 'wire'), ('deer', 'ghosts'), ('ghosts', 'slip'), ('slip', 'light'), ('gray', 'snow'), ('snow', 'cemetery'), ('cemetery', 'sheet'), ('sheet', 'tin'), ('tin', 'said'), ('spades', 'spades'), ('spades', 'clubs'), ('clubs', 'clovers'), ('clovers', 'black'), ('spades', 'spades'), ('spades', 'clubs'), ('clubs', 'clovers'), ('clovers', 'black'), ('lean', 'monk-copyist'), ('monk-copyist', 'scribes'), ('scribes', 'books'), ('books', 'slate-blue'), ('slate-blue', 'fingertips'), ('whose', 'talisman'), ('talisman', 'phoenix'), ('whose', 'emblem'), ('emblem', 'rock'), ('rock', 'gibraltar'), ('machines', 'animals'), ('animals', 'americans'), ('man', 'speech'), ('books', 'trees'), ('trees', 'books'), ('underwear', 'something'), ('john', 'henry'), ('henry', 'man'), ('man', 'six'), ('six', 'feet'), ('feet', 'high'), ('man', 'nothing'), ('nothing', 'man'), ('heart', 'a-flutter'), ('lifted', 'say'), ('say', 'since'), ('since', 'words'), ('words', 'weight'), ('weight', 'music'), ('vapor', 'ocean'), ('ocean', 'presence'), ('presence', 'ghost'), ('use', 'books'), ('lead', 'floats'), ('floats', 'leaf'), ('leaf', 'sinks'), ('sinks', 'god'), ('god', 'size'), ('night', 'man'), ('man', 'castle'), ('recurring', 'joy'), ('joy', 'pain'), ('pain', 'refined'), ('june', 'sun'), ('sun', 'bonnet'), ('bonnet', 'light'), ('afternoon', 'colour'), ('colour', 'water'), ('water', 'falling'), ('falling', 'sunlight'), ('hills', 'kind'), ('kind', 'waiting'), ('world', 'dream'), ('rich', 'connecticut'), ('connecticut', 'dreamers'), ('swelling', 'lukewarm'), ('lukewarm', 'mouth'), ('mouth', 'water'), ('tell', 'mind'), ('mind', 'blanket'), ('like', 'impermanence'), ('impermanence', 'clash'), ('nighttime', 'meditation'), ('meditation', 'mirage'), ('yet', 'earth'), ('earth', 'divinity'), ('divinity', 'sky'), ('sky', 'divinity'), ('yet', 'earth'), ('earth', 'divinity'), ('divinity', 'sky'), ('sky', 'divinity'), ('constant', 'spirits'), ('spirits', 'keepers'), ('mine', 'scene'), ('breeze', 'dawn'), ('dawn', 'angel'), ('angel', 'death'), ('ca', 'nt'), ('nt', 'get'), ('get', 'lost'), ('lost', 'home'), ('home', 'place'), ('place', 'cross'), ('maker', 'sausage'), ('sausage', 'echt'), ('learned', 'selves'), ('selves', 'man'), ('man', 'disown'), ('see', 'shopping'), ('shopping', 'art'), ('art', 'form'), ('callers', 'fbi'), ('even', 'mind'), ('mind', 'friend'), ('window', 'survive'), ('survive', 'body'), ('body', 'illusion'), ('crushing', 'people'), ('people', 'something'), ('something', 'live'), ('ocean', 'salt'), ('salt', 'crawled'), ('crawled', 'tears'), ('face', 'street'), ('street', 'slice'), ('slice', 'bread'), ('chest', 'thunder'), ('ivory', 'dreams'), ('dreams', 'will-o-the-wisps'), ('will-o-the-wisps', 'scant'), ('soldiers', 'citizens'), ('citizens', 'death'), ('death', 'grey'), ('grey', 'land'), ('soldiers', 'dreamers'), ('dreamers', 'guns'), ('guns', 'begin'), ('wind', 'torrent'), ('torrent', 'darkness'), ('darkness', 'among'), ('among', 'gusty'), ('gusty', 'trees'), ('road', 'ribbon'), ('ribbon', 'moonlight'), ('moonlight', 'purple'), ('purple', 'moor'), ('eyes', 'hollows'), ('hollows', 'madness'), ('madness', 'hair'), ('hair', 'like'), ('like', 'mouldy'), ('mouldy', 'hay'), ('road', 'gypsy'), ('gypsy', 'ribbon'), ('ribbon', 'looping'), ('looping', 'purple'), ('purple', 'moor'), ('road', 'ribbon'), ('ribbon', 'moonlight'), ('moonlight', 'purple'), ('purple', 'moor'), ('watchman', 'upper'), ('upper', 'slopes'), ('slopes', 'shadows'), ('shadows', 'green'), ('mind', 'water'), ('water', 'april'), ('april', 'night'), ('whose', 'hideous'), ('hideous', 'laughter'), ('laughter', 'bellows'), ('bellows', 'mirth'), ('though', 'god'), ('god', 'issue'), ('issue', 'strings'), ('whose', 'fell'), ('fell', 'unshadow'), ('unshadow', 'death'), ('death', 'utter'), ('utter', 'wound'), ('driving', 'slowly'), ('slowly', 'road'), ('road', 'glass'), ('even', 'memory'), ('memory', 'stranger'), ('countess', 'cathleen'), ('cathleen', 'name'), ('name', 'gave'), ('laugh', 'cry'), ('field', 'house'), ('hope', 'command'), ('command', 'hand'), ('country', 'nation'), ('nation', 'map'), ('blacktime', 'time'), ('time', 'chimeful'), ('shaving', 'lotion'), ('lotion', 'stuff'), ('stuff', 'scotch'), ('effort', 'remake'), ('remake', 'found'), ('found', 'world'), ('world', 'lost'), ('lost', 'reverie'), ('reverie', 'desire'), ('literature', 'lives'), ('lives', 'deif'), ('deif', 'smiling'), ('speaks', 'fiat'), ('fiat', 'fiat'), ('whitman', 'father'), ('father', 'carpenter'), ('workmen', 'singers'), ('laws', 'weight'), ('weight', 'measure'), ('unclean', 'nature'), ('nature', 'name'), ('name', 'enchantment'), ('going', 'bed'), ('bed', 'journey'), ('fateful', 'masks'), ('masks', 'faces'), ('faces', 'gods'), ('gods', 'men'), ('fateful', 'masks'), ('masks', 'faces'), ('faces', 'gods'), ('gods', 'men'), ('telephone', 'flaubert'), ('flaubert', 'parrot'), ('parrot', 'flitters'), ('telephone', 'guignol'), ('city', 'rock'), ('rock', 'ice'), ('ice', 'men'), ('men', 'freaks'), ('love', 'form'), ('thought', 'death'), ('death', 'peppermint'), ('scarce', 'fresher'), ('fresher', 'mountain-sod'), ('ah', 'heart'), ('heart', 'heart'), ('heart', 'stone'), ('peace', 'soul'), ('soul', 'yearning'), ('sohrab', 'unquiet'), ('unquiet', 'heart'), ('heart', 'thine'), ('whose', 'culture'), ('culture', 'brethren'), ('brethren', 'care'), ('sedged', 'brooks'), ('brooks', 'thames'), ('thames', 'tributaries'), ('thy', 'rights'), ('rights', 'empire'), ('empire', 'urge'), ('urge', 'meaner'), ('meaner', 'claim'), ('answer', 'lovely'), ('lovely', 'maid'), ('maid', 'said'), ('said', 'watry'), ('watry', 'weed'), ('ways', 'fill'), ('fill', 'thorns'), ('breast', 'love'), ('love', 'worship'), ('worship', 'tomb'), ('peace', 'thine'), ('thine', 'exclaimed'), ('exclaimed', 'away'), ('away', 'away'), ('inventing', 'one'), ('one', 'brief'), ('brief', 'arts'), ('arts', 'mine'), ('outside', 'noon'), ('noon', 'burning'), ('burning', 'blue'), ('resurrection', 'life'), ('take', 'away'), ('away', 'love'), ('love', 'earth'), ('earth', 'tomb'), ('first', 'every'), ('every', 'sort'), ('sort', 'monk'), ('monk', 'black'), ('black', 'whitethe'), ('whitethe', 'black'), ('black', 'white'), ('white', 'black'), ('black', 'friars'), ('friars', 'dominicans'), ('dominicans', 'white'), ('white', 'friars'), ('friars', 'carmelites'), ('first', 'every'), ('every', 'sort'), ('sort', 'monk'), ('monk', 'black'), ('black', 'whitethe'), ('whitethe', 'black'), ('black', 'white'), ('white', 'black'), ('black', 'friars'), ('friars', 'dominicans'), ('dominicans', 'white'), ('white', 'friars'), ('friars', 'carmelites'), ('name', 'guidi'), ('guidi', 'mind'), ('mind', 'monks'), ('yonder', 'sparkle'), ('sparkle', 'citadel'), ('low', 'life'), ('life', 'level'), ('level', 'night'), ('matter', 'star'), ('star', 'world'), ('god', 'rest'), ('lived', 'thus'), ('thus', 'venice'), ('venice', 'merchants'), ('merchants', 'kings'), ('fate', 'thine'), ('thine', 'distant'), ('distant', 'date'), ('hissing', 'stingless'), ('stingless', 'slain'), ('slain', 'food'), ('matters', 'road'), ('road', 'head'), ('head', 'heart'), ('juan', 'receiv'), ('receiv', 'much'), ('much', 'empressement'), ('whole', 'life'), ('life', 'contest'), ('contest', 'since'), ('since', 'day'), ('limbs', 'bow'), ('bow', 'though'), ('though', 'toil'), ('dungeon', 'gulf'), ('thriftiest', 'man'), ('man', 'cheerfulest'), ('earth', 'helmsman'), ('snark', 'snark'), ('snark', 'right'), ('among', 'thise'), ('thise', 'othere'), ('othere', 'folk'), ('folk', 'criseyda'), ('dardanus', 'ther'), ('ther', 'opyn'), ('opyn', 'cheyne'), ('burning', 'hot'), ('hot', 'ground'), ('ground', 'liquid'), ('liquid', 'gold'), ('gold', 'air'), ('hopes', 'dupes'), ('dupes', 'fears'), ('fears', 'may'), ('may', 'liars'), ('night', 'chill'), ('chill', 'cloud'), ('cloud', 'gray'), ('night', 'chill'), ('chill', 'forest'), ('forest', 'bare'), ('name', 'geraldine'), ('knight', 'bones'), ('bones', 'dust'), ('western', 'wave'), ('wave', 'a-flame'), ('friendship', 'sheltering'), ('sheltering', 'tree'), ('lips', 'thine'), ('thine', 'thy'), ('thy', 'sweet'), ('sweet', 'smiles'), ('smiles', 'see'), ('sight', 'eyes'), ('eyes', 'strangers'), ('strangers', 'yet'), ('children', 'youth'), ('youth', 'lords'), ('whose', 'tender'), ('tender', 'mercy'), ('mercy', 'neglect'), ('smiles', 'lightning'), ('lightning', 'though'), ('though', 'pride'), ('pride', 'despair'), ('love', 'peace'), ('peace', 'rage'), ('whose', 'soul'), ('soul', 'sense'), ('sense', 'cannot'), ('cannot', 'admit'), ('life', 'blessing'), ('life', 'blessing'), ('blessing', 'love'), ('love', 'away'), ('queens', 'form'), ('form', 'future'), ('future', 'heroes'), ('heroes', 'bred'), ('herringman', 'captain'), ('captain', 'guard'), ('kind', 'death'), ('death', 'ends'), ('ends', 'pain'), ('poetry', 'curs'), ('slight', 'thing'), ('thing', 'bought'), ('said', 'client'), ('client', 'martyr'), ('held', 'though'), ('though', 'one'), ('one', 'side'), ('side', 'tree'), ('ignorance', 'bliss'), ('somehow', 'yer'), ('yer', 'soul'), ('soul', 'sort'), ('sort', 'wrapped'), ('wrapped', 'round'), ('round', 'everything'), ('watch', 'beside'), ('beside', 'loved'), ('loved', 'one'), ('one', 'bed'), ('bed', 'know'), ('know', 'death'), ('death', 'nigh'), ('stuff', 'flesh'), ('flesh', 'brass'), ('brass', 'senses'), ('senses', 'live'), ('jewels', 'baubles'), ('baubles', 'sin'), ('thing', 'beauty'), ('beauty', 'joy'), ('joy', 'ever'), ('bearing', 'sort'), ('sort', 'hope'), ('beauty', 'truth'), ('truth', 'truth'), ('truth', 'beauty'), ('thou', 'wast'), ('wast', 'blind'), ('blind', 'veil'), ('veil', 'rent'), ('mourners', 'said'), ('said', 'death'), ('death', 'rest'), ('rest', 'peace'), ('image', 'adversary'), ('adversary', 'old'), ('whose', 'aim'), ('aim', 'vanity'), ('vanity', 'whose'), ('whose', 'end'), ('end', 'pain'), ('whose', 'aim'), ('aim', 'vanity'), ('vanity', 'whose'), ('whose', 'end'), ('end', 'pain'), ('age', 'opportunity'), ('opportunity', 'less'), ('rock', 'shock'), ('relenting', 'hero'), ('hero', 'gentle'), ('gentle', 'heart'), ('heart', 'strook'), ('another', 'world'), ('world', 'search'), ('search', 'oceans'), ('oceans', 'new'), ('household', 'things'), ('things', 'things'), ('things', 'knew'), ('niagara', 'noisier'), ('noisier', 'stealth'), ('whose', 'red'), ('red', 'drops'), ('drops', 'links'), ('links', 'harsh'), ('harsh', 'chain'), ('wherefore', 'inconstant'), ('inconstant', 'care'), ('fields', 'dank'), ('dank', 'ways'), ('ways', 'mire'), ('snuff-box', 'stake'), ('stake', 'prize'), ('prize', 'mine'), ('cardelia', 'marble'), ('marble', 'must'), ('must', 'breast'), ('breast', 'form'), ('skies', 'sunlit'), ('mountain', 'sheep'), ('sheep', 'sweeter'), ('mixture', 'addition'), ('addition', 'grown'), ('clothes', 'curtains'), ('knew', 'month'), ('month', 'october'), ('love', 'liberty'), ('liberty', 'nature'), ('nature', 'law'), ('pant', 'thy'), ('thy', 'lip'), ('lip', 'thy'), ('thy', 'heart'), ('heart', 'press'), ('proper', 'study'), ('study', 'mankind'), ('mankind', 'man'), ('strength', 'mind'), ('mind', 'exercise'), ('exercise', 'rest'), ('reason', 'card'), ('card', 'passion'), ('passion', 'gale'), ('vice', 'monster'), ('monster', 'frightful'), ('frightful', 'mien'), ('beads', 'pray'), ('pray', 'r'), ('r', 'books'), ('books', 'toys'), ('toys', 'age'), ('christ', 'king'), ('king', 'attorney'), ('plesant', 'jurney'), ('jurney', 'old'), ('old', 'dusty'), ('dusty', 'lane'), ('words', 'shadow'), ('shadow', 'town'), ('dancing', 'till'), ('till', 'toes'), ('toes', 'tender'), ('guerdon', 'new'), ('new', 'childhood'), ('childhood', 'repose'), ('forebodings', 'fiends'), ('fiends', 'recreance'), ('love', 'complete'), ('complete', 'communion'), ('communion', 'end'), ('bounce', 'music'), ('music', 'ear'), ('juice', 'wormwood'), ('wormwood', 'tongue'), ('hath', 'guest'), ('guest', 'fire-fledg'), ('fire-fledg', 'thine'), ('thine', 'whose'), ('whose', 'lord'), ('lord', 'love'), ('peace', 'garner'), ('garner', 'strife'), ('dreams', 'multitudes'), ('glance', 'loftiest'), ('loftiest', 'dole'), ('pal', 'last'), ('last', 'need'), ('need', 'thing'), ('thing', 'heed'), ('heed', 'swore'), ('swore', 'would'), ('would', 'fail'), ('someone', 'stolen'), ('stolen', 'woman'), ('woman', 'loved'), ('loved', 'love'), ('love', 'devil'), ('devil', 'lie'), ('losses', 'restor'), ('restor', 'sorrows'), ('sorrows', 'end'), ('mistress', 'eyes'), ('eyes', 'nothing'), ('nothing', 'like'), ('like', 'sun'), ('hairs', 'wires'), ('wires', 'black'), ('black', 'wires'), ('wires', 'grow'), ('grow', 'head'), ('merry', 'larks'), ('larks', 'ploughmen'), ('ploughmen', 'clocks'), ('mine', 'another'), ('another', 'faith'), ('faith', 'thus'), ('thus', 'much'), ('much', 'spoke'), ('unchangeable', 'shrine'), ('shrine', 'rais'), ('rais', 'thee'), ('breath', 'moist'), ('moist', 'earth'), ('earth', 'light'), ('unfathomable', 'sea'), ('sea', 'whose'), ('whose', 'waves'), ('waves', 'years'), ('winding-sheet', 'shame'), ('cherub', 'cat'), ('cat', 'term'), ('term', 'angel'), ('angel', 'tiger'), ('dexterity', 'defence'), ('defence', 'instance'), ('instance', 'love'), ('love', 'god'), ('god', 'exceedingly'), ('let', 'rest'), ('rest', 'thine'), ('cause', 'none'), ('none', 'rest'), ('rest', 'depart'), ('crafty', 'reynold'), ('reynold', 'priest'), ('priest', 'ordained'), ('calm', 'day'), ('day', 'trembling'), ('trembling', 'air'), ('deceiv', 'love'), ('love', 'work'), ('work', 'art'), ('dean', 'alive'), ('bud', 'shell'), ('shell', 'blossom'), ('sweet', 'rind'), ('rind', 'core'), ('shrine', 'sin'), ('sin', 'prayer'), ('twilight', 'virtues'), ('virtues', 'vices'), ('round', 'skies'), ('skies', 'star'), ('star', 'stain'), ('love', 'pearl'), ('pearl', 'oyster'), ('cry', 'phrygian'), ('phrygian', 'priest'), ('whose', 'flowers'), ('flowers', 'tears'), ('tears', 'round'), ('round', 'temples'), ('goodlier', 'gift'), ('gift', 'thine'), ('thine', 'foam'), ('foam', 'grapes'), ('grapes', 'love'), ('last', 'sea'), ('sea', 'line'), ('line', 'sky'), ('breath', 'thy'), ('thy', 'lips'), ('lips', 'freedom'), ('freedom', 'freedom'), ('freedom', 'sense'), ('sense', 'thy'), ('thy', 'spirit'), ('spirit', 'sound'), ('sound', 'thy'), ('thy', 'song'), ('thy', 'kingdom'), ('kingdom', 'whose'), ('whose', 'empire'), ('empire', 'terror'), ('terror', 'joy'), ('joy', 'twin-featured'), ('twin-featured', 'fruitful'), ('fruitful', 'births'), ('births', 'divine'), ('life', 'lust'), ('lust', 'lamp'), ('lamp', 'light'), ('light', 'dark'), ('dark', 'till'), ('till', 'dawn'), ('dawn', 'day'), ('day', 'die'), ('days', 'glad'), ('glad', 'flight'), ('flight', 'fleet'), ('knights', 'adulterers'), ('adulterers', 'like'), ('spat', 'pish'), ('pish', 'cup'), ('cup', 'gold'), ('gold', 'draught'), ('draught', 'mud'), ('spat', 'pish'), ('pish', 'cup'), ('cup', 'gold'), ('gold', 'draught'), ('draught', 'mud'), ('light', 'gawain'), ('gawain', 'life'), ('life', 'light'), ('light', 'death'), ('shook', 'thro'), ('thro', 'north'), ('north', 'ill'), ('ill', 'doom'), ('doom', 'mine'), ('friend', 'foe'), ('foe', 'shadows'), ('shadows', 'mist'), ('held', 'field'), ('field', 'battle'), ('battle', 'king'), ('seeing', 'obedience'), ('obedience', 'bond'), ('bond', 'rule'), ('whole', 'round'), ('round', 'earth'), ('earth', 'every'), ('every', 'way'), ('man', 'man'), ('man', 'master'), ('master', 'fate'), ('thy', 'wheel'), ('wheel', 'thou'), ('thou', 'shadows'), ('shadows', 'cloud'), ('time', 'tender'), ('tender', 'palm'), ('palm', 'prest'), ('living', 'soul'), ('soul', 'flash'), ('flash', 'mine'), ('two', 'thirty'), ('thirty', 'years'), ('years', 'mist'), ('mist', 'rolls'), ('rolls', 'away'), ('never', 'loved'), ('loved', 'truly'), ('truly', 'love'), ('love', 'love'), ('love', 'evermore'), ('half', 'thine'), ('thine', 'half'), ('half', 'worthy'), ('worthy', 'two'), ('death', 'end'), ('end', 'life'), ('life', 'ah'), ('dear', 'memory'), ('memory', 'wedded'), ('wedded', 'lives'), ('bright', 'fierce'), ('fierce', 'fickle'), ('fickle', 'south'), ('prospect', 'gate'), ('gate', 'heavn'), ('heavn', 'day'), ('fills', 'days'), ('days', 'hours'), ('hours', 'blinds'), ('whose', 'echo'), ('echo', 'heavn'), ('heavn', 'bliss'), ('lived', 'brooklyn'), ('brooklyn', 'ample'), ('ample', 'hills'), ('hills', 'mine'), ('universe', 'procession'), ('procession', 'measured'), ('measured', 'perfect'), ('perfect', 'motion'), ('glory', 'sweet'), ('sweet', 'man'), ('man', 'token'), ('token', 'manhood'), ('manhood', 'untainted'), ('ship', 'anchor'), ('anchor', 'safe'), ('safe', 'sound'), ('sound', 'voyage'), ('voyage', 'closed'), ('closed', 'done'), ('know', 'hand'), ('hand', 'god'), ('god', 'promise'), ('know', 'spirit'), ('spirit', 'god'), ('god', 'brother'), ('kelson', 'creation'), ('creation', 'love'), ('armfuls', 'pack'), ('pack', 'sagging'), ('sagging', 'mow'), ('deacons', 'ordain'), ('ordain', 'cross'), ('cross', 'hands'), ('hands', 'altar'), ('whose', 'girdle'), ('girdle', 'parish'), ('parish', 'bounds'), ('blue', 'sky'), ('sky', 'temple'), ('temple', 'arch'), ('loftiest', 'place'), ('place', 'seat'), ('seat', 'grace'), ('molten', 'lead'), ('lead', 'tears'), ('tears', 'shed'), ('warder', 'despair'), ('god', 'eternal'), ('eternal', 'laws'), ('laws', 'kind'), ('whose', 'dwelling'), ('dwelling', 'light'), ('light', 'setting'), ('setting', 'suns'), ('child', 'father'), ('father', 'man'), ('better', 'knowledge'), ('knowledge', 'heart'), ('heart', 'fram'), ('privacy', 'glorious'), ('glorious', 'light'), ('light', 'thine'), ('delight', 'causer'), ('causer', 'strife'), ('evening', 'garden'), ('garden', 'hedge'), ('hedge', 'aflower'), ('heavens', 'bell'), ('mee', 'witness'), ('witness', 'host'), ('host', 'heavn'), ('th', 'event'), ('event', 'fear'), ('fear', 'provoke'), ('first', 'revenge'), ('revenge', 'towrs'), ('towrs', 'heavn'), ('heavn', 'fill'), ('may', 'express'), ('express', 'thee'), ('thee', 'unblam'), ('unblam', 'since'), ('since', 'god'), ('god', 'light'), ('back', 'turnd'), ('turnd', 'brightness'), ('brightness', 'hid'), ('uncheckt', 'roaving'), ('roaving', 'end'), ('desert', 'fowls'), ('fowls', 'thir'), ('thir', 'clay'), ('clay', 'nests'), ('nests', 'coucht'), ('thus', 'rejoyc'), ('rejoyc', 'soon'), ('soon', 'joy'), ('joy', 'turn'), ('plain', 'raise'), ('raise', 'hill'), ('hill', 'over-lay'), ('little', 'nay'), ('nay', 'lost'), ('lost', 'eve'), ('eve', 'eve'), ('men', 'sons'), ('sons', 'god'), ('god', 'yet'), ('yet', 'thee'), ('thee', 'thought'), ('whether', 'name'), ('name', 'base'), ('base', 'brave'), ('one', 'thing'), ('thing', 'success'), ('life', 'circuit'), ('circuit', 'judge'), ('judge', 'maker'), ('maker', 'notches'), ('hall-boy', 'service'), ('service', 'joke'), ('yf', 'thing'), ('thing', 'lackt'), ('mine', 'bosom'), ('bosom', 'paradise'), ('calm', 'sea'), ('sea', 'course'), ('course', 'kept'), ('time', 'kind'), ('kind', 'friend'), ('friend', 'make'), ('make', 'us'), ('us', 'old'), ('whose', 'touch'), ('touch', 'fire'), ('fire', 'appears'), ('bones', 'guitar'), ('guitar', 'strings'), ('death', 'fisherman'), ('fisherman', 'world'), ('world', 'see'), ('life', 'nothing'), ('nothing', 'winter'), ('winter', 'day'), ('remember', 'man'), ('man', 'vanquish'), ('vanquish', 'foe'), ('whose', 'flowers'), ('flowers', 'flames'), ('flames', 'lit'), ('lit', 'lady'), ('whose', 'hosts'), ('hosts', 'disturbance'), ('disturbance', 'words'), ('words', 'within'), ('within', 'words'), ('heart', 'stone'), ('stone', 'dumb'), ('knew', 'sugar'), ('sugar', 'love'), ('knew', 'sugar'), ('sugar', 'love'), ('nt', 'know'), ('know', 'sugar'), ('sugar', 'love'), ('america', 'educators'), ('educators', 'preachers'), ('preachers', 'mental-dictators'), ('thing', 'left'), ('left', 'room'), ('room', 'death'), ('wave', 'taxonomy'), ('taxonomy', 'believe'), ('voices', 'rise'), ('rise', 'pine'), ('pine', 'trees'), ('trees', 'guitars'), ('salamander', 'whose'), ('whose', 'home'), ('home', 'fire'), ('fire', 'hills'), ('may', 'seem'), ('seem', 'thine'), ('thine', 'effect'), ('effect', 'none'), ('beaten', 'way'), ('way', 'thou'), ('thou', 'beatest'), ('beatest', 'fear'), ('fear', 'hell'), ('hell', 'track'), ('last', 'year'), ('year', 'leaves'), ('leaves', 'smoke'), ('smoke', 'every'), ('every', 'lane'), ('refuse', 'miss'), ('miss', 'may'), ('may', 'miss'), ('miss', 'mine'), ('tree', 'tree'), ('silence', 'song'), ('song', 'sublime'), ('till', 'every'), ('every', 'living'), ('living', 'thing'), ('thing', 'friends'), ('selling', 'weather'), ('weather', 'place'), ('place', 'live'), ('facing', 'well'), ('well', 'stairs'), ('stairs', 'furniture'), ('case', 'walnut'), ('walnut', 'tracery'), ('tracery', 'around'), ('around', 'pipes'), ('richard', 'arkwright'), ('arkwright', 'barber'), ('barber', 'toured'), ('mine', 'hour'), ('latter', 'one'), ('one', 'take'), ('walk', 'news'), ('news', 'bodies'), ('bodies', 'point'), ('point', 'always'), ('barks', 'happiness'), ('social', 'teacups'), ('teacups', 'hare'), ('hare', 'island'), ('paint', 'blistering'), ('one', 'early'), ('early', 'symptom'), ('symptom', 'boundary'), ('vico', 'says'), ('says', 'gods'), ('gods', 'goddesses'), ('goddesses', 'self'), ('self', 'writ'), ('writ', 'large'), ('young', 'dead'), ('dead', 'man'), ('man', 'oil'), ('oil', 'old'), ('old', 'dead'), ('dead', 'man'), ('man', 'water'), ('young', 'dead'), ('dead', 'man'), ('man', 'oil'), ('oil', 'old'), ('old', 'dead'), ('dead', 'man'), ('man', 'water'), ('young', 'dead'), ('dead', 'man'), ('man', 'bread'), ('bread', 'butter'), ('butter', 'old'), ('old', 'dead'), ('dead', 'man'), ('man', 'bread'), ('young', 'dead'), ('dead', 'man'), ('man', 'bread'), ('bread', 'butter'), ('butter', 'old'), ('old', 'dead'), ('dead', 'man'), ('man', 'bread'), ('dead', 'man'), ('man', 'flywheel'), ('flywheel', 'spinning'), ('spinning', 'planet'), ('bill', 'fare'), ('fare', 'rock'), ('rock', 'sand'), ('sand', 'tailings'), ('tailings', 'dung'), ('love', 'man'), ('fingers', 'places'), ('places', 'prayer'), ('upstep', 'rasp'), ('rasp', 'kneeling'), ('grandam', 'grandam'), ('grandam', 'lyre'), ('life', 'sharpest'), ('sharpest', 'rapture'), ('rapture', 'surcease'), ('surcease', 'pain'), ('pitcher', 'stuff'), ('stuff', 'junk'), ('ball', 'park'), ('park', 'artifact'), ('causation', 'sequence'), ('name', 'name'), ('name', 'death'), ('though', 'grandmother'), ('grandmother', 'warlock'), ('pike', 'fish'), ('fish', 'always'), ('always', 'prey'), ('keep', 'away'), ('away', 'son'), ('son', 'lakes'), ('lakes', 'salt'), ('salt', 'flowers'), ('wondering', 'got'), ('got', 'idea'), ('idea', 'manu'), ('tense', 'aorist'), ('years', 'smoke'), ('faith', 'tree'), ('tree', 'sorrow'), ('sorrow', 'grows'), ('eggs', 'applejack'), ('applejack', 'life'), ('life', 'paradox'), ('nt', 'ask'), ('ask', 'whole'), ('whole', 'sweet'), ('sweet', 'world'), ('world', 'garden'), ('old', 'chronological'), ('chronological', 'towers'), ('towers', 'ash'), ('ash', 'prisms'), ('prisms', 'disfigurement'), ('disfigurement', 'symbolic'), ('symbolic', 'world'), ('world', 'cancelled'), ('cancelled', 'consumptive'), ('consumptive', 'inmelodias'), ('inmelodias', 'alchemical'), ('alchemical', 'transition'), ('transition', 'face'), ('face', 'raising'), ('raising', 'new'), ('new', 'sea'), ('sea', 'walls'), ('walls', 'banished'), ('banished', 're-engendered'), ('re-engendered', 'electorates'), ('electorates', 'trying'), ('trying', 'cope'), ('cope', 'new'), ('new', 'intensities'), ('intensities', 'weather'), ('weather', 'anomalous'), ('anomalous', 'hypnotically'), ('hypnotically', 'increases'), ('increases', 'power'), ('power', 'inverse'), ('inverse', 'subjective'), ('subjective', 'body'), ('body', 'weighed'), ('weighed', 'broken'), ('broken', 'axial'), ('axial', 'cart'), ('cart', 'blood'), ('blood', 'conjoined'), ('conjoined', 'rises'), ('rises', 'within'), ('within', 'nuclear'), ('nuclear', 'darkness'), ('darkness', 'ravens'), ('ravens', 'piscean'), ('piscean', 'chronology'), ('chronology', 'shatters'), ('shatters', 'dawn'), ('dawn', 'becomes'), ('becomes', 'unclaimed'), ('unclaimed', 'resurrection'), ('resurrection', 'tumultuous'), ('tumultuous', 'eikon'), ('eikon', 'skin'), ('skin', 'longer'), ('longer', 'formed'), ('formed', 'around'), ('around', 'old'), ('old', 'dendritic'), ('dendritic', 'artifacts'), ('artifacts', 'calendar'), ('calendar', 'draconian'), ('draconian', 'enfeeblement'), ('enfeeblement', 'integers'), ('integers', 'past'), ('past', 'centuries'), ('centuries', 'erased'), ('erased', 'linear'), ('linear', 'babels'), ('babels', 'darkened'), ('darkened', 'extreme'), ('extreme', 'necessity'), ('necessity', 'new'), ('new', 'perpendicular'), ('perpendicular', 'burst'), ('burst', 'transmuting'), ('transmuting', 'demeanour'), ('demeanour', 'history'), ('history', 'consumed'), ('consumed', 'roll'), ('roll', 'flaming'), ('flaming', 'aural'), ('aural', 'dice'), ('dice', 'wizardry'), ('wizardry', 'tools'), ('tools', 'subsumed'), ('subsumed', 'arcane'), ('arcane', 'vibration'), ('vibration', 'turned'), ('turned', 'power'), ('power', 'splendiferous'), ('splendiferous', 'scorpions'), ('scorpions', 'psychic'), ('psychic', 'wounds'), ('wounds', 'past'), ('past', 'eclipsed'), ('eclipsed', 'new'), ('new', 'millenium'), ('millenium', 'power'), ('power', 'smelted'), ('smelted', 'dragon'), ('dragon', 'blood'), ('blood', 'speak'), ('speak', 'new'), ('new', 'symbols'), ('symbols', 'lucid'), ('lucid', 'catacombs'), ('catacombs', 'spirals'), ('spirals', 'language'), ('language', 'spun'), ('spun', 'fabulous'), ('fabulous', 'iguana'), ('iguana', 'iridium'), ('iridium', 'decayed'), ('decayed', 'constitutional'), ('constitutional', 'stages'), ('stages', 'exploded'), ('exploded', 'telepathy'), ('telepathy', 'invulnerable'), ('invulnerable', 'oneiric'), ('oneiric', 'intuitives'), ('intuitives', 'mental'), ('mental', 'axis'), ('axis', 'transmutes'), ('transmutes', 'like'), ('like', 'reddened'), ('reddened', 'swan'), ('swan', 'new'), ('new', 'cosmic'), ('cosmic', 'skeletal'), ('skeletal', 'reprieve'), ('reprieve', 'afloat'), ('afloat', 'amongst'), ('amongst', 'forces'), ('forces', 'primeval'), ('primeval', 'lightning'), ('lightning', 'field'), ('field', 'taking'), ('taking', 'dharma'), ('dharma', 'great'), ('great', 'sustained'), ('sustained', 'emotion'), ('emotion', 'eternity'), ('souls', 'bank'), ('bank', 'tellers'), ('art', 'loneliness'), ('loneliness', 'landscape'), ('rotgut', 'shortcut'), ('shortcut', 'epiphanies'), ('liar', 'liar'), ('liar', 'liar'), ('liar', 'act'), ('liar', 'liar'), ('liar', 'liar'), ('liar', 'act'), ('tueur', 'human'), ('human', 'rhymes'), ('rhymes', 'bilge'), ('bilge', 'bilge'), ('mistress', 'eyes'), ('eyes', 'nothing'), ('ones', 'sentries'), ('sentries', 'guarding'), ('guarding', 'double'), ('double', 'entries'), ('scent', 'neither'), ('neither', 'snake'), ('snake', 'rat'), ('ripeness', 'nothing'), ('made', 'byron'), ('byron', 'sick'), ('sick', 'food'), ('food', 'metaphor'), ('metaphor', 'existence'), ('even', 'watching'), ('watching', 'anachronism'), ('cities', 'ones'), ('ones', 'wanted'), ('wanted', 'bomb'), ('hair', 'color'), ('color', 'chopped'), ('chopped', 'maples'), ('life', 'colour'), ('colour', 'warmth'), ('warmth', 'light'), ('thought', 'sun-kissed'), ('sun-kissed', 'hills'), ('hills', 'rags'), ('rags', 'upon'), ('upon', 'floor'), ('democracy', 'shit'), ('relativity', 'shit'), ('dictators', 'shit'), ('menken', 'shit'), ('wine', 'dew'), ('dew', 'wild'), ('wild', 'white'), ('white', 'rose'), ('hangs', 'shout'), ('shout', 'shrinking'), ('shrinking', 'nothing'), ('son', 'thine'), ('sky', 'cloudy'), ('cloudy', 'yellowed'), ('yellowed', 'smoke'), ('needle', 'word'), ('word', 'whose'), ('whose', 'root'), ('root', 'love'), ('peace', 'moving'), ('moving', 'heavens'), ('heavens', 'fraught'), ('bell', 'bell'), ('bell', 'ringing'), ('ringing', 'give'), ('give', 'back'), ('back', 'rusty'), ('rusty', 'sword'), ('gray', 'men'), ('men', 'overcoats'), ('overcoats', 'ghosts'), ('ghosts', 'blown'), ('blown', 'past'), ('past', 'door'), ('mourn', 'like'), ('like', 'lost'), ('lost', 'water'), ('water', 'slate'), ('slate', 'far'), ('air', 'kisses'), ('kisses', 'kisses'), ('islands', 'prisons'), ('prisons', 'one'), ('one', 'returns'), ('world', 'everything'), ('everything', 'case'), ('law', 'devil'), ('devil', 'cheat'), ('cheat', 'pleased'), ('far', 'end'), ('end', 'platform'), ('platform', 'tunnel'), ('tunnel', 'train'), ('soul', 'sighing'), ('poetry', 'grinding'), ('grinding', 'multiplicity'), ('manner', 'soul'), ('soul', 'joined'), ('hall', 'someone'), ('someone', 'glove'), ('body', 'something'), ('something', 'less'), ('perfection', 'flesh'), ('flesh', 'heir'), ('stuff', 'nought'), ('nought', 'mere'), ('mere', 'tautology'), ('yet', 'thoughtless'), ('thoughtless', 'force'), ('force', 'mine'), ('faces', 'whose'), ('whose', 'hair'), ('hair', 'leaves'), ('leaves', 'grapes'), ('love', 'nothing'), ('nothing', 'borne'), ('borne', 'children'), ('smear', 'love'), ('love', 'names'), ('names', 'love'), ('love', 'cliff'), ('night', 'sentinel'), ('sedate', 'one'), ('one', 'month'), ('month', 'skittish'), ('skittish', 'one'), ('couples', 'parading'), ('parading', 'everyone'), ('everyone', 'holiday'), ('holiday', 'mood'), ('passion', 'scholar'), ('scholar', 'heritage'), ('trade', 'courage'), ('courage', 'atrocities'), ('big', 'prints'), ('prints', 'rage'), ('yesterday', 'face'), ('face', 'corn'), ('cuticles', 'mess'), ('mess', 'oh'), ('oh', 'honey'), ('honey', 'way'), ('knows', 'skin'), ('skin', 'glass'), ('mindful', 'melancholy'), ('melancholy', 'sin'), ('sin', 'though'), ('better', 'rage'), ('rage', 'post-dinner'), ('post-dinner', 'quiet'), ('greek', 'tragedy'), ('tragedy', 'course'), ('course', 'sort'), ('sort', 'thing'), ('understatement', 'privilege'), ('privilege', 'god'), ('god', 'must'), ('madman', 'coleridge'), ('coleridge', 'drug'), ('drug', 'addict'), ('addict', 'severe'), ('suffering', 'life'), ('life', 'penalty'), ('penalty', 'wisdom'), ('wisdom', 'armed'), ('armed', 'one'), ('madness', 'speech'), ('speech', 'temporary'), ('temporary', 'poetry'), ('poetry', 'truth'), ('body', 'dwelling'), ('dwelling', 'stone'), ('stone', 'perched'), ('perched', 'water'), ('death', 'death'), ('death', 'none'), ('name', 'johnson'), ('remember', 'windshield'), ('windshield', 'splintering'), ('splintering', 'lens'), ('lens', 'time'), ('time', 'mailbox'), ('voice', 'garden'), ('garden', 'thunder'), ('thunder', 'sent'), ('sent', 'bring'), ('solomon', 'king'), ('whose', 'loss'), ('loss', 'laughter'), ('laughter', 'counts'), ('counts', 'wager'), ('wager', 'worth'), ('crescent', 'cruel'), ('cruel', 'ships'), ('ships', 'whose'), ('whose', 'name'), ('name', 'mystery'), ('ships', 'palaces'), ('palaces', 'brown'), ('brown', 'black-bearded'), ('black-bearded', 'chiefs'), ('ships', 'prisons'), ('prisons', 'multitudinous'), ('multitudinous', 'griefs'), ('moment', 'moon'), ('moon', 'blood'), ('last', 'night'), ('night', 'kings'), ('kings', 'earth'), ('earth', 'chill'), ('struggle', 'home'), ('home', 'beast'), ('beast', 'us'), ('head', 'firs'), ('firs', 'rafter'), ('mantilla', 'lace'), ('whose', 'blackness'), ('blackness', 'air'), ('frog', 'frog'), ('frog', 'hopelessly'), ('hopelessly', 'hoarse'), ('frog', 'frog'), ('frog', 'reason'), ('reason', 'course'), ('frog', 'frog'), ('frog', 'cannot'), ('cannot', 'croak'), ('croak', 'note'), ('frog', 'frog'), ('frog', 'frog'), ('frog', 'throat'), ('airborne', 'personnel'), ('personnel', 'still'), ('still', 'mouths'), ('mouths', 'mash'), ('perhaps', 'sadness'), ('sadness', 'way'), ('way', 'seeming'), ('seeming', 'free'), ('lurks', 'surface'), ('surface', 'another'), ('another', 'story'), ('sky', 'show'), ('show', 'flashing'), ('downing', 'street'), ('street', 'accord'), ('accord', 'lots'), ('sun', 'god'), ('god', 'eye'), ('chrysler', 'building'), ('building', 'pin'), ('deafness', 'asset'), ('asset', 'well'), ('beginning', 'word'), ('word', 'nigger'), ('word', 'death'), ('death', 'niggers'), ('word', 'death'), ('death', 'life'), ('word', 'death'), ('genesis', 'life'), ('genesis', 'death'), ('beginning', 'deed'), ('deed', 'death'), ('hair', 'three-quarters'), ('three-quarters', 'height'), ('moment', 'music'), ('music', 'wanted'), ('whose', 'confidence'), ('confidence', 'game'), ('game', 'marbles'), ('stoics', 'replied'), ('replied', 'life'), ('life', 'war'), ('war', 'illusion'), ('beaches', 'lava'), ('lava', 'variegated'), ('whole', 'palazzo'), ('palazzo', 'property'), ('art', 'history'), ('history', 'nostalgia'), ('nostalgia', 'prefers'), ('prefers', 'thatched'), ('name', 'hector'), ('hollowed', 'face'), ('face', 'find'), ('find', 'sea'), ('sea', 'love'), ('mer', 'mother'), ('mother', 'sea'), ('sea', 'lost'), ('lost', 'canoe'), ('thine', 'kingdom'), ('kingdom', 'glory'), ('glory', 'power'), ('maybe', 'events'), ('events', 'nature'), ('nature', 'sleight'), ('sleight', 'hand'), ('hand', 'real'), ('boortree', 'bower'), ('bower', 'tree'), ('tree', 'played'), ('played', 'touching'), ('touching', 'tongues'), ('attenuation', 'strength'), ('strength', 'donne'), ('light', 'instant'), ('instant', 'far-seeing'), ('like', 'hat'), ('hat', 'kid'), ('kid', 'life'), ('life', 'cinch'), ('whose', 'look'), ('look', 'charnel'), ('charnel', 'lusters'), ('lusters', 'intent'), ('intent', 'blind'), ('restore', 'grace'), ('grace', 'indeed'), ('indeed', 'look'), ('look', 'grace'), ('contemplation', 'yet'), ('yet', 'relaxed'), ('relaxed', 'hands'), ('hands', 'void'), ('ten', 'years'), ('years', 'time'), ('time', 'enough'), ('enough', 'dismayed'), ('ghosts', 'plato'), ('plato', 'christians'), ('christians', 'cave'), ('narcissus', 'vocabulary'), ('vocabulary', 'hermes'), ('hermes', 'decorates'), ('person', 'every'), ('every', 'son-of-a-bitch'), ('son-of-a-bitch', 'christ'), ('christ', 'least'), ('least', 'rousseau'), ('believe', 'human'), ('human', 'community'), ('community', 'lies'), ('lies', 'bullshit'), ('nose', 'wick'), ('said', 'today'), ('today', 'monday'), ('monday', 'want'), ('want', 'little'), ('think', 'relationship'), ('relationship', 'wealth'), ('river', 'variety'), ('variety', 'land'), ('far', 'one'), ('one', 'rim'), ('rim', 'bay'), ('bay', 'flocks'), ('flocks', 'teal'), ('second', 'look'), ('look', 'bleating'), ('bleating', 'lambs'), ('lambs', 'birds'), ('banishing', 'love'), ('love', 'fix'), ('fix', 'stars'), ('stars', 'go'), ('go', 'shut'), ('efflux', 'soul'), ('soul', 'happiness'), ('happiness', 'happiness'), ('fluid', 'attaching'), ('attaching', 'character'), ('character', 'freshness'), ('freshness', 'sweetness'), ('sweetness', 'man'), ('man', 'woman'), ('call', 'call'), ('call', 'battle'), ('battle', 'nourish'), ('nourish', 'active'), ('active', 'rebellion'), ('leafless', 'beds'), ('beds', 'aglow'), ('deep', 'buried'), ('buried', 'forest'), ('forest', 'nook'), ('even', 'teacher'), ('teacher', 'child'), ('child', 'said'), ('thy', 'songs'), ('songs', 'riddles'), ('riddles', 'hard'), ('hard', 'mortal'), ('mortal', 'ear'), ('one', 'day'), ('day', 'another'), ('another', 'mine'), ('mine', 'terms'), ('bin', 'morning'), ('morning', 'light'), ('body', 'pebble'), ('pebble', 'tend'), ('tend', 'water'), ('buddha', 'every'), ('every', 'distinct'), ('distinct', 'thing'), ('thing', 'illusion'), ('work', 'something'), ('forgotten', 'woods'), ('woods', 'mangle'), ('hour', 'hour'), ('hour', 'like'), ('feet', 'young'), ('young', 'man'), ('man', 'whose'), ('whose', 'name'), ('name', 'saul'), ('parcels', 'light'), ('light', 'angels'), ('angels', 'women'), ('women', 'know'), ('silence', 'envelope'), ('envelope', 'noise'), ('noise', 'paper'), ('silence', 'envelope'), ('envelope', 'noise'), ('noise', 'paper'), ('beneath', 'squeeze'), ('squeeze', 'heart'), ('heart', 'stranglehold'), ('todd', 'hardware'), ('hardware', 'dust'), ('dust', 'monkey'), ('dead', 'center'), ('center', 'things'), ('things', 'pain'), ('pain', 'gateway'), ('matter', 'water'), ('song', 'joy'), ('joy', 'life'), ('across', 'street'), ('street', 'windows'), ('song', 'mountain'), ('mountain', 'put'), ('words', 'landscape'), ('landscape', 'feeling'), ('life', 'experience'), ('ideas', 'governments'), ('governments', 'turned'), ('turned', 'men'), ('shrugged', 'janos'), ('janos', 'friend'), ('friend', 'university'), ('fighting', 'war'), ('war', 'plausible'), ('glades', 'dusk'), ('dusk', 'soft'), ('soft', 'grass'), ('grass', 'flower'), ('flower', 'elder'), ('elder', 'gleams'), ('path', 'horse'), ('horse', 'fence'), ('fence', 'fences'), ('fences', 'horses'), ('let', 'couch'), ('couch', 'chair'), ('chair', 'place'), ('place', 'sitting'), ('let', 'table'), ('table', 'place'), ('place', 'eating'), ('eating', 'desk'), ('hondurans', 'masters'), ('masters', 'land'), ('gongressman', 'chipper'), ('chipper', 'mule'), ('sleep', 'drug'), ('one', 'ca'), ('ca', 'nt'), ('nt', 'eat'), ('eat', 'art'), ('art', 'dust'), ('dust', 'art'), ('new', 'york'), ('york', 'new'), ('new', 'york'), ('york', 'love'), ('love', 'means'), ('means', 'travel'), ('travel', 'dye'), ('experience', 'mine'), ('mine', 'mine'), ('mine', 'things'), ('things', 'entirely'), ('entirely', 'apart'), ('march', 'shambles'), ('shambles', 'shards'), ('shards', 'yet'), ('yet', 'amber'), ('granite', 'ice'), ('ice', 'colours'), ('colours', 'heart'), ('view', 'mountain'), ('mountain', 'speaking'), ('closed', 'door'), ('door', 'panic'), ('panic', 'spaces'), ('spaces', 'grow'), ('grow', 'immense'), ('immense', 'memory'), ('memory', 'like'), ('man', 'shovel'), ('shovel', 'king'), ('everyone', 'friend'), ('friend', 'pathology'), ('children', 'distances'), ('distances', 'horizons'), ('saulis', 'borrowit'), ('borrowit', 'bliss'), ('bliss', 'go'), ('name', 'colin'), ('colin', 'clout'), ('purpose', 'ambition'), ('provo', 'place'), ('place', 'reason'), ('passing', 'june'), ('june', 'another'), ('another', 'peony'), ('peony', 'scent'), ('scent', 'postcards'), ('say', 'days'), ('days', 'scrolls'), ('scrolls', 'write'), ('write', 'want'), ('want', 'remembered'), ('new', 'age'), ('age', 'victor'), ('victor', 'one'), ('one', 'gets'), ('pierced', 'moment'), ('moment', 'like'), ('like', 'axe'), ('axe', 'recognition'), ('told', 'friend'), ('friend', 'gist'), ('gist', 'war'), ('war', 'boredom'), ('night', 'clock'), ('clock', 'chiming'), ('dark', 'world'), ('world', 'light'), ('light', 'shined'), ('shined', 'never'), ('rubies', 'loe'), ('loe', 'hir'), ('hir', 'lips'), ('lips', 'rubies'), ('rubies', 'sound'), ('pearles', 'hir'), ('hir', 'teeth'), ('teeth', 'pearles'), ('pearles', 'pure'), ('pure', 'round'), ('rest', 'works'), ('works', 'natures'), ('natures', 'wonderment'), ('love', 'sin'), ('sin', 'let'), ('let', 'sinful'), ('love', 'chasteness'), ('chasteness', 'pain'), ('pain', 'doth'), ('doth', 'learn'), ('learn', 'delight'), ('let', 'mine'), ('mine', 'eyes'), ('eyes', 'hell-drivn'), ('hell-drivn', 'light'), ('singsing', 'sing'), ('sing', 'line'), ('line', 'example'), ('example', 'epanalepsis'), ('epanalepsis', 'poetic'), ('poetic', 'technique'), ('technique', 'beginning'), ('beginning', 'ending'), ('ending', 'line'), ('line', 'word'), ('word', 'muse'), ('muse', 'io'), ('io', 'paean'), ('paean', 'io'), ('io', 'paean'), ('paean', 'homer'), ('homer', 'began'), ('began', 'hymn'), ('hymn', 'apollo'), ('apollo', 'words'), ('words', 'serve'), ('serve', 'latinized'), ('latinized', 'version'), ('version', 'phrase'), ('phrase', 'sing'), ('sing', 'muse'), ('muse', 'sing'), ('debasement', 'password'), ('password', 'base'), ('thunder', 'someone'), ('someone', 'shotgun'), ('new', 'moon'), ('moon', 'ones'), ('ones', 'wolves'), ('buildings', 'mountains'), ('infant', 'eye'), ('eye', 'looking'), ('sorrow', 'christ'), ('christ', 'dewlap'), ('sustenance', 'laugh'), ('laugh', 'grief'), ('red', 'one'), ('one', 'poppy'), ('marvel', 'substance'), ('substance', 'mould'), ('words', 'spears'), ('love', 'love'), ('love', 'love'), ('love', 'love'), ('unfaith', 'aught'), ('aught', 'want'), ('want', 'faith'), ('things', 'nothing'), ('nothing', 'give'), ('mine', 'heart'), ('heart', 'feet'), ('body', 'soul'), ('soul', 'mine'), ('one', 'might'), ('might', 'death'), ('death', 'divorce'), ('fear', 'snare'), ('snare', 'afraid'), ('calm', 'sea'), ('sea', 'waves'), ('waves', 'work'), ('work', 'less'), ('less', 'less'), ('dead', 'root'), ('root', 'whence'), ('whence', 'fancies'), ('fancies', 'grew'), ('true', 'fool'), ('fool', 'love'), ('thy', 'fadere'), ('fadere', 'king'), ('king', 'blis'), ('saw', 'moon'), ('moon', 'yonder'), ('yonder', 'moon'), ('mayst', 'thou'), ('thou', 'ravenous'), ('ravenous', 'chancres'), ('chancres', 'prey'), ('cheat', 'briers'), ('briers', 'buds'), ('buds', 'strung'), ('face', 'honey'), ('honey', 'mouth'), ('pass', 'ease'), ('ease', 'gold'), ('gold', 'word'), ('till', 'love'), ('love', 'trust'), ('distance', 'love'), ('love', 'severance'), ('severance', 'sense'), ('sense', 'divides'), ('absent', 'every'), ('every', 'minute'), ('minute', 'year'), ('strephon', 'found'), ('found', 'room'), ('room', 'void'), ('age', 'naught'), ('naught', 'sorrow'), ('thee', 'whose'), ('whose', 'temple'), ('temple', 'space'), ('heart', 'love'), ('levity', 'patience'), ('men', 'deceivers'), ('deceivers', 'ever'), ('fond', 'life'), ('life', 'lustful'), ('lustful', 'joys'), ('though', 'beauty'), ('beauty', 'mark'), ('mark', 'praise'), ('brilliance', 'carcass'), ('life', 'cry'), ('cry', 'followed'), ('followed', 'laughter'), ('walls', 'floors'), ('floors', 'floors'), ('body', 'material'), ('material', 'things'), ('things', 'world'), ('world', 'key'), ('interviewer', 'poet'), ('poet', 'mann'), ('mann', 'offered'), ('offered', 'coffee'), ('hot', 'wind'), ('wind', 'friend'), ('friend', 'lifter'), ('lifter', 'stones'), ('stones', 'trembler'), ('trembler', 'heavy'), ('though', 'manic'), ('manic', 'tribe'), ('tribe', 'mine'), ('mine', 'boreal'), ('boreal', 'chargers'), ('utterly', 'absorbed'), ('absorbed', 'love'), ('love', 'distraction'), ('distraction', 'even'), ('cities', 'places'), ('places', 'conversion'), ('conversion', 'said'), ('said', 'citiless'), ('cities', 'places'), ('places', 'conversion'), ('conversion', 'said'), ('said', 'citiless'), ('sex', 'please'), ('please', 'petunias'), ('petunias', 'apology'), ('long', 'ago'), ('ago', 'desert'), ('desert', 'inland'), ('inland', 'sea'), ('sea', 'mountains'), ('name', 'household'), ('household', 'word'), ('word', 'writes'), ('writes', 'hid'), ('hid', 'teacher'), ('horse', 'midnight'), ('would', 'freed'), ('freed', 'thousands'), ('thousands', 'mo'), ('mo', 'dey'), ('dey', 'known'), ('known', 'dey'), ('dey', 'slaves'), ('slaves', 'harriet'), ('hundred', 'furnished'), ('furnished', 'rooms'), ('rooms', 'girl'), ('girl', 'sells'), ('sells', 'silk'), ('silk', 'dress'), ('dress', 'goods'), ('goods', 'leather'), ('leather', 'stuff'), ('law', 'move'), ('move', 'die'), ('die', 'lively'), ('lively', 'tigers'), ('day', 'night'), ('night', 'sit'), ('sit', 'rows'), ('rows', 'classroom'), ('sun', 'enemy'), ('enemy', 'eye'), ('eye', 'looking'), ('looking', 'west'), ('sister', 'takes'), ('takes', 'care'), ('care', 'animals'), ('animals', 'whose'), ('whose', 'artistry'), ('artistry', 'flesh'), ('reddening', 'bare'), ('bare', 'skin'), ('skin', 'around'), ('around', 'wound'), ('wound', 'odors'), ('odors', 'mixture'), ('elegies', 'medicine'), ('medicine', 'prescribed'), ('prescribed', 'physicians'), ('empty', 'hallway'), ('hallway', 'past'), ('past', 'self'), ('self', 'ghoul'), ('back', 'saddle'), ('saddle', 'lovers'), ('lovers', 'ridden'), ('horizon', 'h'), ('h', 'point'), ('point', 'vision'), ('vision', 'ends'), ('people', 'days'), ('days', 'becoming'), ('becoming', 'months'), ('months', 'years'), ('wind', 'breath'), ('breath', 'hurricane'), ('word', 'mindful'), ('say', 'ghost'), ('ghost', 'ghost'), ('yes', 'sun'), ('sun', 'zenith'), ('zenith', 'winged'), ('winged', 'figure'), ('figure', 'arms'), ('arms', 'extended'), ('extended', 'white'), ('white', 'ship'), ('ship', 'exactly'), ('exactly', 'correct'), ('correct', 'let'), ('let', 'tell'), ('tell', 'said'), ('said', 'lovers'), ('lovers', 'limbs'), ('limbs', 'twist'), ('twist', 'like'), ('like', 'river'), ('river', 'talk'), ('talk', 'naming'), ('naming', 'named'), ('named', 'back'), ('back', 'sometimes'), ('sometimes', 'aches'), ('aches', 'talk'), ('talk', 'hides'), ('hides', 'telling'), ('telling', 'wind'), ('wind', 'moves'), ('moves', 'us'), ('us', 'wands'), ('wands', 'comes'), ('comes', 'cups'), ('cups', 'gardens'), ('gardens', 'someone'), ('someone', 'cloak'), ('cloak', 'wind'), ('wind', 'moves'), ('moves', 'us'), ('us', 'laws'), ('laws', 'young'), ('young', 'girl'), ('girl', 'bird'), ('bird', 'wrist'), ('wrist', 'colors'), ('colors', 'bright'), ('bright', 'yellow'), ('yellow', 'blue'), ('blue', 'woman'), ('woman', 'man'), ('man', 'green'), ('green', 'sky'), ('sky', 'garden'), ('garden', 'right'), ('right', 'following'), ('following', 'day'), ('day', 'woman'), ('woman', 'man'), ('man', 'emerald'), ('emerald', 'sky'), ('sky', 'wind'), ('wind', 'brushes'), ('brushes', 'river'), ('river', 'surface'), ('surface', 'talk'), ('talk', 'talk'), ('talk', 'becomes'), ('becomes', 'hidden'), ('talk', 'naming'), ('talk', 'naming'), ('naming', 'named'), ('whose', 'doldrums'), ('doldrums', 'meadows'), ('meadows', 'spinning'), ('spinning', 'brush'), ('name', 'sara'), ('sara', 'kept'), ('soul', 'forgiveness'), ('forgiveness', 'knows'), ('knows', 'forgiveness'), ('screen', 'stripes'), ('stripes', 'knows'), ('knows', 'saved'), ('saved', 'work'), ('god', 'momentum'), ('looks', 'personal'), ('personal', 'private'), ('private', 'tank'), ('tank', 'nothing'), ('world', 'word'), ('word', 'wilderness'), ('answer', 'answer'), ('answer', 'world'), ('beginning', 'beginning'), ('beginning', 'happiness'), ('paul', 'sort'), ('father', 'tells'), ('tells', 'son'), ('son', 'thing'), ('thing', 'regrets'), ('regrets', 'life'), ('life', 'amount'), ('amount', 'time'), ('time', 'spent'), ('spent', 'worrying'), ('people', 'kind'), ('kind', 'solution'), ('star', 'star'), ('star', 'autonomous'), ('autonomous', 'star'), ('star', 'mild'), ('father', 'farm'), ('farm', 'apple'), ('apple', 'blossomer'), ('fields', 'oceans'), ('oceans', 'heat'), ('father', 'farm'), ('farm', 'icicle'), ('today', 'friday'), ('left', 'leg'), ('leg', 'meal'), ('meal', 'crayfish'), ('crayfish', 'hair'), ('risk', 'part'), ('part', 'rhythm'), ('mentions', 'hearing'), ('hearing', 'silver'), ('name', 'orestes'), ('one', 'escape'), ('escape', 'use'), ('use', 'strength'), ('strength', 'ca'), ('ca', 'nt'), ('behind', 'memory'), ('memory', 'like'), ('like', 'white'), ('white', 'sheet'), ('sheet', 'one'), ('one', 'night'), ('night', 'enclosure'), ('perfume', 'flowers'), ('flowers', 'ground'), ('ground', 'upon'), ('upon', 'stones'), ('cleanse', 'vision'), ('vision', 'fish'), ('fish', 'silver'), ('martin', 'man'), ('man', 'one'), ('one', 'came'), ('came', 'close'), ('close', 'knowing'), ('joke', 'singer'), ('singer', 'nothing'), ('singer', 'nothing'), ('nothing', 'sing'), ('season', 'cold'), ('cold', 'season'), ('season', 'darkness'), ('else', 'beasts'), ('beasts', 'tigers'), ('without', 'earth'), ('earth', 'sand'), ('sky', 'cloud'), ('cloud', 'cloud'), ('sky', 'cloudy')]\n"
     ]
    }
   ],
   "source": [
    "# creates a single list with every bigram in every sentence of the annotated corpus\n",
    "# it also selects the words that contain at least a letter and are not stopwords\n",
    "bigrams_lists = [bigram for sublist in word_lists for bigram in list(bigrams(w.lower() for w in sublist if (re.match(r'[a-zA-Z]', w) and w.lower() not in stopwords)))]\n",
    "\n",
    "# transform word_lists into a single list\n",
    "words = list(chain.from_iterable(word_lists))\n",
    "\n",
    "print(bigrams_lists)"
   ]
  },
  {
   "cell_type": "markdown",
   "metadata": {},
   "source": [
    "### Mutual information of every bigram"
   ]
  },
  {
   "cell_type": "code",
   "execution_count": 43,
   "metadata": {},
   "outputs": [
    {
     "data": {
      "text/plain": [
       "FreqDist({('dead', 'man'): 9, ('frog', 'frog'): 5, ('love', 'love'): 4, ('young', 'dead'): 4, ('old', 'dead'): 4, ('man', 'bread'): 4, ('liar', 'liar'): 4, ('ca', 'nt'): 3, ('purple', 'moor'): 3, ('sugar', 'love'): 3, ...})"
      ]
     },
     "execution_count": 43,
     "metadata": {},
     "output_type": "execute_result"
    }
   ],
   "source": [
    "bigram_frequency"
   ]
  },
  {
   "cell_type": "code",
   "execution_count": 25,
   "metadata": {},
   "outputs": [
    {
     "name": "stdout",
     "output_type": "stream",
     "text": [
      "{('poise', 'club'): 9.560810468727942, ('destroying', 'alexandria'): 9.560810468727942, ('alexandria', 'sunlight'): 8.56081046872794, ('sunlight', 'silence'): 6.560810468727941, ('feet', 'anchor'): 6.560810468727941, ('anchor', 'gravity'): 8.56081046872794, ('day', 'horizon'): 5.390885467285629, ('horizon', 'gesture'): 8.56081046872794, ('gesture', 'earth'): 6.101378850090644, ('said', 'good-by'): 5.238882373840578, ('good-by', 'good-by'): 7.560810468727941, ('good-by', 'number'): 8.56081046872794, ('although', 'eyes'): 6.753455546670336, ('eyes', 'lakes'): 5.753455546670336, ('lakes', 'dies'): 8.56081046872794, ('ways', 'world'): 4.275408249865692, ('world', 'taxi'): 5.860370750586849, ('taxi', 'enter'): 9.560810468727942, ('poet', 'man'): 3.6066141583410656, ('man', 'feigns'): 4.606614158341066, ('man', 'animal'): 4.606614158341066, ('animal', 'needs'): 9.560810468727942, ('name', 'james'): 5.390885467285629, ('james', 'wright'): 9.560810468727942, ('earth', 'door'): 4.5164163493694875, ('door', 'cannot'): 6.390885467285628, ('hackles', 'neck'): 9.560810468727942, ('neck', 'fear'): 7.560810468727941, ('fear', 'grief'): 6.560810468727941, ('moon', 'sow'): 7.238882373840579, ('earth', 'birth'): 6.101378850090644, ('birth', 'blues'): 9.560810468727942, ('nature', 'understanding'): 7.238882373840579, ('understanding', 'one'): 5.238882373840578, ('one', 'simple'): 5.238882373840578, ('real', 'terror'): 7.560810468727941, ('terror', 'nature'): 6.238882373840578, ('nature', 'humanity'): 7.238882373840579, ('humanity', 'enraged'): 9.560810468727942, ('love', 'word'): 0.6539198731194223, ('word', 'another'): 3.3908854672856283, ('goodbye', 'promise'): 8.56081046872794, ('promise', 'lightning'): 6.975847968006784, ('broken', 'body'): 5.560810468727941, ('body', 'afterimage'): 6.560810468727941, ('afterimage', 'st'): 9.560810468727942, ('eyes', 'caves'): 6.753455546670336, ('caves', 'chunks'): 9.560810468727942, ('sky', 'baby'): 6.101378850090644, ('baby', 'blue'): 7.560810468727941, ('road', 'somebody'): 6.975847968006784, ('somebody', 'small'): 9.560810468727942, ('wrote', 'life'): 4.916954278953216, ('life', 'strain'): 4.916954278953216, ('strain', 'later'): 9.560810468727942, ('clear', 'mr'): 9.560810468727942, ('mr', 'haggard'): 9.560810468727942, ('haggard', 'ryder'): 9.560810468727942, ('ryder', 'brother'): 8.56081046872794, ('mind', 'city'): 5.753455546670336, ('city', 'like'): 4.860370750586849, ('others', 'despots'): 9.560810468727942, ('despots', 'despair'): 7.975847968006784, ('intuitively', 'sense'): 7.560810468727941, ('sense', 'humor'): 7.560810468727941, ('humor', 'necessity'): 8.56081046872794, ('guilt', 'nameless'): 9.560810468727942, ('nameless', 'name'): 5.390885467285629, ('name', 'time'): 2.5835305452280246, ('name', 'death'): 1.9985680445068683, ('death', 'stop'): 5.16849304594918, ('hamlet', 'example'): 8.56081046872794, ('example', 'dying'): 8.56081046872794, ('sun', 'yellowjacket'): 6.975847968006784, ('love', 'fiction'): 4.238882373840578, ('fiction', 'must'): 7.975847968006784, ('people', 'home'): 5.560810468727941, ('home', 'homecomings'): 7.560810468727941, ('yet', 'life'): 1.9169542789532161, ('life', 'invocation'): 4.916954278953216, ('invocation', 'sealed'): 9.560810468727942, ('swift', 'darkness'): 7.560810468727941, ('darkness', 'spring'): 7.560810468727941, ('spring', 'first'): 7.560810468727941, ('trees', 'crystal'): 7.238882373840579, ('crystal', 'chandeliers'): 9.560810468727942, ('still', 'branches'): 8.56081046872794, ('branches', 'wire'): 9.560810468727942, ('deer', 'ghosts'): 7.975847968006784, ('ghosts', 'slip'): 7.975847968006784, ('gray', 'snow'): 7.975847968006784, ('snow', 'cemetery'): 9.560810468727942, ('cemetery', 'sheet'): 8.56081046872794, ('sheet', 'tin'): 8.56081046872794, ('spades', 'spades'): 6.560810468727941, ('spades', 'clubs'): 7.560810468727941, ('clubs', 'clovers'): 8.56081046872794, ('clovers', 'black'): 6.390885467285628, ('monk-copyist', 'scribes'): 9.560810468727942, ('scribes', 'books'): 7.238882373840579, ('books', 'slate-blue'): 7.238882373840579, ('slate-blue', 'fingertips'): 9.560810468727942, ('whose', 'talisman'): 4.473347627477602, ('talisman', 'phoenix'): 9.560810468727942, ('whose', 'emblem'): 4.473347627477602, ('emblem', 'rock'): 7.238882373840579, ('rock', 'gibraltar'): 7.238882373840579, ('machines', 'animals'): 8.56081046872794, ('animals', 'americans'): 8.56081046872794, ('man', 'speech'): 3.6066141583410656, ('books', 'trees'): 4.916954278953216, ('trees', 'books'): 4.916954278953216, ('underwear', 'something'): 7.560810468727941, ('john', 'henry'): 9.560810468727942, ('henry', 'man'): 4.606614158341066, ('man', 'six'): 4.606614158341066, ('man', 'nothing'): 1.1471825397037685, ('nothing', 'man'): 1.1471825397037685, ('heart', 'a-flutter'): 5.860370750586849, ('say', 'since'): 6.390885467285628, ('since', 'words'): 5.16849304594918, ('words', 'weight'): 5.753455546670336, ('weight', 'music'): 6.975847968006784, ('vapor', 'ocean'): 8.56081046872794, ('ocean', 'presence'): 8.56081046872794, ('use', 'books'): 5.653919873119422, ('leaf', 'sinks'): 9.560810468727942, ('sinks', 'god'): 5.975847968006785, ('god', 'size'): 5.975847968006785, ('night', 'man'): 1.2846860634537034, ('man', 'castle'): 4.606614158341066, ('recurring', 'joy'): 7.238882373840579, ('joy', 'pain'): 4.431527451782975, ('pain', 'refined'): 6.753455546670336, ('june', 'sun'): 5.975847968006785, ('sun', 'bonnet'): 6.975847968006784, ('bonnet', 'light'): 5.653919873119422, ('afternoon', 'colour'): 8.56081046872794, ('colour', 'water'): 5.390885467285629, ('hills', 'kind'): 4.975847968006785, ('kind', 'waiting'): 6.975847968006784, ('world', 'dream'): 5.860370750586849, ('rich', 'connecticut'): 9.560810468727942, ('connecticut', 'dreamers'): 8.56081046872794, ('swelling', 'lukewarm'): 9.560810468727942, ('lukewarm', 'mouth'): 8.56081046872794, ('mouth', 'water'): 5.390885467285629, ('tell', 'mind'): 5.753455546670336, ('mind', 'blanket'): 6.753455546670336, ('like', 'impermanence'): 5.860370750586849, ('impermanence', 'clash'): 9.560810468727942, ('nighttime', 'meditation'): 9.560810468727942, ('meditation', 'mirage'): 9.560810468727942, ('yet', 'earth'): 4.101378850090644, ('earth', 'divinity'): 5.101378850090644, ('divinity', 'sky'): 5.101378850090644, ('sky', 'divinity'): 5.101378850090644, ('constant', 'spirits'): 9.560810468727942, ('spirits', 'keepers'): 9.560810468727942, ('mine', 'scene'): 5.390885467285629, ('breeze', 'dawn'): 7.975847968006784, ('dawn', 'angel'): 6.975847968006784, ('angel', 'death'): 4.16849304594918, ('get', 'lost'): 7.238882373840579, ('lost', 'home'): 5.238882373840578, ('home', 'place'): 4.975847968006785, ('place', 'cross'): 5.975847968006785, ('maker', 'sausage'): 8.56081046872794, ('sausage', 'echt'): 9.560810468727942, ('learned', 'selves'): 9.560810468727942, ('selves', 'man'): 4.606614158341066, ('man', 'disown'): 4.606614158341066, ('see', 'shopping'): 7.975847968006784, ('shopping', 'art'): 6.975847968006784, ('art', 'form'): 4.975847968006785, ('callers', 'fbi'): 9.560810468727942, ('even', 'mind'): 4.16849304594918, ('mind', 'friend'): 3.946100624612733, ('window', 'survive'): 9.560810468727942, ('survive', 'body'): 6.560810468727941, ('body', 'illusion'): 4.975847968006785, ('crushing', 'people'): 7.560810468727941, ('people', 'something'): 5.560810468727941, ('something', 'live'): 5.975847968006785, ('ocean', 'salt'): 7.560810468727941, ('salt', 'crawled'): 8.56081046872794, ('face', 'street'): 5.390885467285629, ('street', 'slice'): 7.975847968006784, ('slice', 'bread'): 7.238882373840579, ('chest', 'thunder'): 7.975847968006784, ('ivory', 'dreams'): 8.56081046872794, ('dreams', 'will-o-the-wisps'): 8.56081046872794, ('will-o-the-wisps', 'scant'): 9.560810468727942, ('soldiers', 'citizens'): 8.56081046872794, ('citizens', 'death'): 5.16849304594918, ('soldiers', 'dreamers'): 7.560810468727941, ('dreamers', 'guns'): 8.56081046872794, ('wind', 'torrent'): 6.975847968006784, ('torrent', 'darkness'): 7.560810468727941, ('road', 'ribbon'): 6.390885467285628, ('ribbon', 'moonlight'): 7.975847968006784, ('eyes', 'hollows'): 6.753455546670336, ('hollows', 'madness'): 8.56081046872794, ('road', 'gypsy'): 6.975847968006784, ('gypsy', 'ribbon'): 7.975847968006784, ('watchman', 'upper'): 9.560810468727942, ('upper', 'slopes'): 9.560810468727942, ('slopes', 'shadows'): 7.975847968006784, ('shadows', 'green'): 6.975847968006784, ('mind', 'water'): 3.5835305452280237, ('water', 'april'): 6.390885467285628, ('whose', 'hideous'): 4.473347627477602, ('hideous', 'laughter'): 7.975847968006784, ('laughter', 'bellows'): 7.975847968006784, ('bellows', 'mirth'): 9.560810468727942, ('though', 'god'): 2.975847968006785, ('god', 'issue'): 5.975847968006785, ('issue', 'strings'): 8.56081046872794, ('whose', 'fell'): 4.473347627477602, ('fell', 'unshadow'): 9.560810468727942, ('unshadow', 'death'): 5.16849304594918, ('death', 'utter'): 5.16849304594918, ('driving', 'slowly'): 9.560810468727942, ('slowly', 'road'): 6.975847968006784, ('road', 'glass'): 5.975847968006785, ('even', 'memory'): 4.975847968006785, ('memory', 'stranger'): 7.560810468727941, ('the', 'countess'): None, ('countess', 'cathleen'): 9.560810468727942, ('cathleen', 'name'): 5.390885467285629, ('name', 'gave'): 5.390885467285629, ('laugh', 'cry'): 6.975847968006784, ('field', 'house'): 7.975847968006784, ('hope', 'command'): 8.56081046872794, ('command', 'hand'): 7.975847968006784, ('country', 'nation'): 9.560810468727942, ('nation', 'map'): 9.560810468727942, ('blacktime', 'time'): 6.753455546670336, ('time', 'chimeful'): 6.753455546670336, ('shaving', 'lotion'): 9.560810468727942, ('lotion', 'stuff'): 7.238882373840579, ('stuff', 'scotch'): 7.238882373840579, ('world', 'lost'): 3.538442655699486, ('lost', 'reverie'): 7.238882373840579, ('reverie', 'desire'): 9.560810468727942, ('literature', 'lives'): 8.56081046872794, ('lives', 'deif'): 8.56081046872794, ('speaks', 'fiat'): 8.56081046872794, ('fiat', 'fiat'): 7.560810468727941, ('whitman', 'father'): 7.238882373840579, ('father', 'carpenter'): 7.238882373840579, ('workmen', 'singers'): 9.560810468727942, ('laws', 'weight'): 6.975847968006784, ('weight', 'measure'): 8.56081046872794, ('unclean', 'nature'): 7.238882373840579, ('nature', 'name'): 3.068957372398266, ('going', 'bed'): 8.56081046872794, ('bed', 'journey'): 8.56081046872794, ('fateful', 'masks'): 8.56081046872794, ('masks', 'faces'): 7.975847968006784, ('faces', 'gods'): 7.390885467285629, ('gods', 'men'): 6.168493045949181, ('telephone', 'flaubert'): 8.56081046872794, ('flaubert', 'parrot'): 9.560810468727942, ('telephone', 'guignol'): 8.56081046872794, ('rock', 'ice'): 6.238882373840578, ('ice', 'men'): 5.753455546670336, ('men', 'freaks'): 6.753455546670336, ('love', 'it'): None, ('it', 'form'): None, ('thought', 'death'): 3.5835305452280237, ('death', 'peppermint'): 5.16849304594918, ('scarce', 'fresher'): 9.560810468727942, ('fresher', 'mountain-sod'): 9.560810468727942, ('ah', 'heart'): 4.860370750586849, ('heart', 'heart'): 2.159931032445756, ('heart', 'stone'): 5.275408249865692, ('peace', 'soul'): 3.8059229665644723, ('soul', 'yearning'): 6.390885467285628, ('sohrab', 'unquiet'): 9.560810468727942, ('unquiet', 'heart'): 5.860370750586849, ('heart', 'thine'): 2.2754082498656927, ('whose', 'culture'): 4.473347627477602, ('culture', 'brethren'): 9.560810468727942, ('brethren', 'care'): 7.975847968006784, ('sedged', 'brooks'): 9.560810468727942, ('brooks', 'thames'): 9.560810468727942, ('thames', 'tributaries'): 9.560810468727942, ('thy', 'rights'): 6.101378850090644, ('rights', 'empire'): 8.56081046872794, ('empire', 'urge'): 8.56081046872794, ('maid', 'said'): 6.238882373840578, ('said', 'i'): None, ('i', 'watry'): None, ('watry', 'weed'): 9.560810468727942, ('ways', 'fill'): 6.975847968006784, ('fill', 'd'): None, ('breast', 'love'): 3.2388823738405783, ('love', 'worship'): 4.238882373840578, ('peace', 'thine'): 3.3908854672856283, ('thine', 'exclaimed'): 5.975847968006785, ('one', 'brief'): 5.238882373840578, ('brief', 'arts'): 9.560810468727942, ('arts', 'mine'): 5.390885467285629, ('outside', 'noon'): 9.560810468727942, ('noon', 'burning'): 8.56081046872794, ('i', 'resurrection'): None, ('resurrection', 'life'): 3.9169542789532166, ('away', 'love'): 1.6539198731194222, ('love', 'earth'): 0.7794507552032813, ('earth', 'tomb'): 5.101378850090644, ('white', 'black'): 4.583530545228024, ('black', 'friars'): 5.390885467285629, ('friars', 'dominicans'): 7.560810468727941, ('dominicans', 'white'): 6.753455546670336, ('white', 'friars'): 5.753455546670336, ('friars', 'carmelites'): 7.560810468727941, ('name', 'guidi'): 5.390885467285629, ('guidi', 'll'): None, ('no', 'yonder'): None, ('yonder', 'sparkle'): 8.56081046872794, ('sparkle', 'citadel'): 9.560810468727942, ('low', 'life'): 4.916954278953216, ('life', 'level'): 4.916954278953216, ('level', 'night'): 6.238882373840578, ('matter', 'star'): 6.238882373840578, ('star', 'world'): 3.538442655699486, ('god', 'rest'): 3.3908854672856283, ('thus', 'venice'): 7.975847968006784, ('venice', 'merchants'): 9.560810468727942, ('merchants', 'kings'): 8.56081046872794, ('fate', 'thine'): 4.975847968006785, ('thine', 'distant'): 5.975847968006785, ('hissing', 'stingless'): 9.560810468727942, ('stingless', 'they'): None, ('they', 'slain'): None, ('slain', 'food'): 8.56081046872794, ('matters', 'road'): 6.975847968006784, ('road', 'head'): 5.390885467285629, ('head', 'heart'): 4.275408249865692, ('juan', 'receiv'): 9.560810468727942, ('receiv', 'd'): None, ('whole', 'life'): 2.916954278953216, ('life', 'contest'): 4.916954278953216, ('contest', 'since'): 7.975847968006784, ('limbs', 'bow'): 8.56081046872794, ('bow', 'd'): None, ('dungeon', 'gulf'): 9.560810468727942, ('thriftiest', 'man'): 4.606614158341066, ('man', 'cheerfulest'): 4.606614158341066, ('earth', 'helmsman'): 6.101378850090644, ('if', 'snark'): None, ('snark', 'snark'): 7.560810468727941, ('snark', 'right'): 7.560810468727941, ('thise', 'othere'): 9.560810468727942, ('othere', 'folk'): 9.560810468727942, ('folk', 'criseyda'): 9.560810468727942, ('dardanus', 'ther'): 9.560810468727942, ('ther', 'opyn'): 9.560810468727942, ('opyn', 'cheyne'): 9.560810468727942, ('ground', 'liquid'): 8.56081046872794, ('liquid', 'gold'): 7.560810468727941, ('gold', 'air'): 5.560810468727941, ('hopes', 'dupes'): 9.560810468727942, ('dupes', 'fears'): 9.560810468727942, ('night', 'chill'): 5.653919873119422, ('chill', 'cloud'): 5.975847968006785, ('chill', 'forest'): 6.975847968006784, ('name', 'geraldine'): 5.390885467285629, ('knight', 'bones'): 8.56081046872794, ('bones', 'dust'): 6.975847968006784, ('western', 'wave'): 8.56081046872794, ('wave', 'a-flame'): 8.56081046872794, ('friendship', 'sheltering'): 9.560810468727942, ('sheltering', 'tree'): 6.975847968006784, ('lips', 'thine'): 4.390885467285629, ('thine', 'thy'): 2.5164163493694875, ('sight', 'eyes'): 6.753455546670336, ('eyes', 'strangers'): 6.753455546670336, ('strangers', 'yet'): 6.560810468727941, ('children', 'youth'): 7.975847968006784, ('youth', 'lords'): 9.560810468727942, ('whose', 'tender'): 2.8883851267564453, ('tender', 'mercy'): 7.975847968006784, ('mercy', 'neglect'): 9.560810468727942, ('smiles', 'lightning'): 6.975847968006784, ('lightning', 'though'): 4.975847968006785, ('love', 'peace'): 1.6539198731194222, ('peace', 'rage'): 5.390885467285629, ('whose', 'soul'): 1.303422626035289, ('soul', 'sense'): 4.390885467285629, ('sense', 'cannot'): 5.975847968006785, ('life', 'blessing'): 4.916954278953216, ('blessing', 'love'): 3.2388823738405783, ('queens', 'form'): 7.560810468727941, ('form', 'd'): None, ('herringman', 'captain'): 9.560810468727942, ('captain', 'guard'): 9.560810468727942, ('kind', 'death'): 2.5835305452280246, ('death', 'ends'): 4.16849304594918, ('poetry', 'curs'): 7.975847968006784, ('curs', 'd'): None, ('slight', 'thing'): 6.238882373840578, ('thing', 'bought'): 6.238882373840578, ('said', 'client'): 6.238882373840578, ('client', 'martyr'): 9.560810468727942, ('though', 'one'): 2.2388823738405788, ('one', 'side'): 5.238882373840578, ('side', 'tree'): 6.975847968006784, ('ignorance', 'bliss'): 7.975847968006784, ('somehow', 'yer'): 9.560810468727942, ('yer', 'soul'): 6.390885467285628, ('soul', 'sort'): 3.8059229665644723, ('sort', 'wrapped'): 6.975847968006784, ('an', 'know'): None, ('know', 'death'): 2.846564951061818, ('death', 'nigh'): 5.16849304594918, ('stuff', 'flesh'): 5.653919873119422, ('flesh', 'brass'): 7.975847968006784, ('jewels', 'baubles'): 9.560810468727942, ('baubles', 't'): None, ('thing', 'beauty'): 4.238882373840578, ('beauty', 'joy'): 5.238882373840578, ('joy', 'ever'): 6.238882373840578, ('bearing', 'sort'): 6.975847968006784, ('sort', 'hope'): 5.975847968006785, ('beauty', 'truth'): 5.975847968006785, ('truth', 'truth'): 6.390885467285628, ('wast', 'blind'): 8.56081046872794, ('blind', 'veil'): 8.56081046872794, ('veil', 'rent'): 9.560810468727942, ('mourners', 'said'): 6.238882373840578, ('said', 'death'): 1.8465649510618183, ('death', 'rest'): 2.5835305452280246, ('rest', 'peace'): 4.390885467285629, ('image', 'adversary'): 9.560810468727942, ('adversary', 'old'): 6.390885467285628, ('whose', 'aim'): 4.473347627477602, ('aim', 'vanity'): 8.56081046872794, ('vanity', 'whose'): 4.473347627477602, ('whose', 'end'): 2.665992705419997, ('end', 'pain'): 4.946100624612733, ('age', 'opportunity'): 7.560810468727941, ('opportunity', 'less'): 7.560810468727941, ('rock', 'shock'): 7.238882373840579, ('hero', 'gentle'): 9.560810468727942, ('gentle', 'heart'): 5.860370750586849, ('heart', 'strook'): 5.860370750586849, ('another', 'world'): 3.2754082498656927, ('world', 'search'): 5.860370750586849, ('search', 'd'): None, ('household', 'things'): 5.975847968006785, ('things', 'things'): 4.390885467285629, ('things', 'knew'): 4.975847968006785, ('niagara', 'noisier'): 9.560810468727942, ('noisier', 'stealth'): 9.560810468727942, ('whose', 'red'): 3.4733476274776014, ('red', 'drops'): 8.56081046872794, ('drops', 'links'): 9.560810468727942, ('links', 'harsh'): 9.560810468727942, ('wherefore', 'inconstant'): 9.560810468727942, ('inconstant', 'care'): 7.975847968006784, ('fields', 'dank'): 8.56081046872794, ('dank', 'ways'): 7.975847968006784, ('ways', 'mire'): 7.975847968006784, ('snuff-box', 'stake'): 9.560810468727942, ('stake', 'prize'): 9.560810468727942, ('prize', 'mine'): 5.390885467285629, ('marble', 'must'): 7.975847968006784, ('must', 'breast'): 6.975847968006784, ('breast', 'form'): 6.560810468727941, ('skies', 'sunlit'): 8.56081046872794, ('mountain', 'sheep'): 7.975847968006784, ('sheep', 'sweeter'): 9.560810468727942, ('mixture', 'addition'): 8.56081046872794, ('addition', 'grown'): 9.560810468727942, ('clothes', 'curtains'): 9.560810468727942, ('knew', 'month'): 6.560810468727941, ('month', 'october'): 8.56081046872794, ('love', 'liberty'): 4.238882373840578, ('liberty', 'nature'): 7.238882373840579, ('lip', 'thy'): 6.101378850090644, ('thy', 'heart'): 2.4009391319495514, ('heart', 'press'): 5.860370750586849, ('press', 'd'): None, ('proper', 'study'): 9.560810468727942, ('study', 'mankind'): 9.560810468727942, ('mankind', 'man'): 4.606614158341066, ('strength', 'mind'): 5.16849304594918, ('mind', 'exercise'): 6.753455546670336, ('exercise', 'rest'): 6.975847968006784, ('reason', 'card'): 7.975847968006784, ('card', 'passion'): 8.56081046872794, ('passion', 'gale'): 8.56081046872794, ('vice', 'monster'): 9.560810468727942, ('monster', 'frightful'): 9.560810468727942, ('pray', 'r'): 9.560810468727942, ('r', 'books'): 7.238882373840579, ('books', 'toys'): 7.238882373840579, ('toys', 'age'): 7.560810468727941, ('christ', 'king'): 5.653919873119422, ('king', 'attorney'): 7.238882373840579, ('plesant', 'jurney'): 9.560810468727942, ('jurney', 'old'): 6.390885467285628, ('words', 'shadow'): 6.753455546670336, ('shadow', 'town'): 9.560810468727942, ('dancing', 'till'): 7.560810468727941, ('till', 'toes'): 7.560810468727941, ('toes', 'tender'): 7.975847968006784, ('guerdon', 'new'): 5.975847968006785, ('new', 'childhood'): 5.975847968006785, ('childhood', 'repose'): 9.560810468727942, ('forebodings', 'fiends'): 9.560810468727942, ('fiends', 'recreance'): 9.560810468727942, ('love', 'complete'): 4.238882373840578, ('complete', 'communion'): 9.560810468727942, ('communion', 'end'): 6.753455546670336, ('bounce', 'music'): 7.975847968006784, ('music', 'ear'): 6.975847968006784, ('juice', 'wormwood'): 9.560810468727942, ('wormwood', 'tongue'): 9.560810468727942, ('thine', 'whose'): 0.8883851267564452, ('whose', 'lord'): 4.473347627477602, ('lord', 'love'): 4.238882373840578, ('peace', 'garner'): 6.975847968006784, ('garner', 'd'): None, ('dreams', 'multitudes'): 8.56081046872794, ('glance', 'loftiest'): 8.56081046872794, ('loftiest', 'dole'): 8.56081046872794, ('pal', 'last'): 7.560810468727941, ('last', 'need'): 7.560810468727941, ('need', 'thing'): 6.238882373840578, ('thing', 'heed'): 6.238882373840578, ('woman', 'loved'): 5.975847968006785, ('loved', 'love'): 2.6539198731194222, ('love', 'devil'): 3.2388823738405783, ('devil', 'lie'): 8.56081046872794, ('losses', 'restor'): 9.560810468727942, ('restor', 'd'): None, ('mistress', 'eyes'): 6.753455546670336, ('eyes', 'nothing'): 4.294023928033039, ('nothing', 'like'): 2.4009391319495514, ('hairs', 'wires'): 8.56081046872794, ('wires', 'black'): 5.390885467285629, ('merry', 'larks'): 9.560810468727942, ('larks', 'ploughmen'): 9.560810468727942, ('ploughmen', 'clocks'): 9.560810468727942, ('mine', 'another'): 2.8059229665644723, ('another', 'faith'): 5.390885467285629, ('unchangeable', 'shrine'): 8.56081046872794, ('shrine', 'rais'): 8.56081046872794, ('rais', 'd'): None, ('breath', 'moist'): 7.975847968006784, ('moist', 'earth'): 6.101378850090644, ('earth', 'light'): 2.194488254482125, ('sea', 'whose'): 1.4733476274776016, ('whose', 'waves'): 3.4733476274776014, ('waves', 'years'): 6.238882373840578, ('winding-sheet', 'shame'): 9.560810468727942, ('cherub', 'cat'): 9.560810468727942, ('cat', 'term'): 9.560810468727942, ('term', 'angel'): 8.56081046872794, ('dexterity', 'defence'): 9.560810468727942, ('defence', 'instance'): 9.560810468727942, ('instance', 'love'): 4.238882373840578, ('let', 'rest'): 4.390885467285629, ('rest', 'thine'): 3.3908854672856283, ('cause', 'none'): 7.975847968006784, ('none', 'rest'): 5.390885467285629, ('crafty', 'reynold'): 9.560810468727942, ('reynold', 'priest'): 8.56081046872794, ('priest', 'ordained'): 8.56081046872794, ('calm', 'day'): 4.805922966564473, ('day', 'trembling'): 6.390885467285628, ('deceiv', 'd'): None, ('d', 'love'): None, ('love', 'work'): 2.2388823738405788, ('work', 'art'): 4.975847968006785, ('how', 'dean'): None, ('dean', 'he'): None, ('bud', 'shell'): 9.560810468727942, ('shell', 'blossom'): 9.560810468727942, ('sweet', 'rind'): 7.560810468727941, ('rind', 'core'): 9.560810468727942, ('shrine', 'sin'): 6.560810468727941, ('sin', 'prayer'): 6.560810468727941, ('twilight', 'virtues'): 9.560810468727942, ('virtues', 'vices'): 9.560810468727942, ('round', 'skies'): 6.238882373840578, ('skies', 'star'): 6.238882373840578, ('star', 'stain'): 7.238882373840579, ('love', 'pearl'): 4.238882373840578, ('pearl', 'oyster'): 9.560810468727942, ('cry', 'phrygian'): 7.975847968006784, ('phrygian', 'priest'): 8.56081046872794, ('whose', 'flowers'): 3.4733476274776014, ('flowers', 'tears'): 5.975847968006785, ('tears', 'round'): 5.653919873119422, ('goodlier', 'gift'): 9.560810468727942, ('gift', 'thine'): 5.975847968006785, ('thine', 'foam'): 5.975847968006785, ('last', 'sea'): 4.560810468727941, ('sea', 'line'): 4.975847968006785, ('line', 'sky'): 4.5164163493694875, ('breath', 'thy'): 4.5164163493694875, ('thy', 'lips'): 4.5164163493694875, ('lips', 'freedom'): 6.975847968006784, ('freedom', 'freedom'): 7.560810468727941, ('kingdom', 'whose'): 3.4733476274776014, ('whose', 'empire'): 3.4733476274776014, ('empire', 'terror'): 7.560810468727941, ('terror', 'joy'): 6.238882373840578, ('life', 'lust'): 4.916954278953216, ('lust', 'lamp'): 9.560810468727942, ('days', 'glad'): 7.560810468727941, ('glad', 'flight'): 9.560810468727942, ('flight', 'fleet'): 9.560810468727942, ('knights', 'adulterers'): 9.560810468727942, ('adulterers', 'like'): 5.860370750586849, ('spat', 'pish'): 8.56081046872794, ('pish', 'cup'): 8.56081046872794, ('cup', 'gold'): 7.560810468727941, ('gold', 'draught'): 7.560810468727941, ('draught', 'mud'): 8.56081046872794, ('light', 'gawain'): 5.653919873119422, ('gawain', 'life'): 4.916954278953216, ('north', 'ill'): 9.560810468727942, ('ill', 'doom'): 9.560810468727942, ('doom', 'mine'): 5.390885467285629, ('friend', 'foe'): 5.753455546670336, ('foe', 'shadows'): 6.975847968006784, ('shadows', 'mist'): 6.975847968006784, ('held', 'field'): 6.975847968006784, ('field', 'battle'): 6.975847968006784, ('battle', 'king'): 6.238882373840578, ('seeing', 'obedience'): 9.560810468727942, ('obedience', 'bond'): 9.560810468727942, ('bond', 'rule'): 9.560810468727942, ('whole', 'round'): 5.238882373840578, ('round', 'earth'): 3.7794507552032814, ('earth', 'every'): 3.1013788500906436, ('every', 'way'): 4.560810468727941, ('man', 'man'): -0.34758215204580967, ('man', 'master'): 4.606614158341066, ('thy', 'wheel'): 6.101378850090644, ('wheel', 'thou'): 7.560810468727941, ('thou', 'shadows'): 5.975847968006785, ('shadows', 'cloud'): 5.975847968006785, ('time', 'tender'): 5.16849304594918, ('tender', 'palm'): 7.975847968006784, ('palm', 'prest'): 9.560810468727942, ('living', 'soul'): 5.390885467285629, ('soul', 'flash'): 6.390885467285628, ('flash', 'd'): None, ('two', 'thirty'): 8.56081046872794, ('thirty', 'years'): 7.238882373840579, ('years', 'mist'): 6.238882373840578, ('mist', 'rolls'): 8.56081046872794, ('loved', 'truly'): 7.975847968006784, ('truly', 'love'): 4.238882373840578, ('love', 'love'): 0.9169542789532161, ('love', 'evermore'): 4.238882373840578, ('half', 'thine'): 4.975847968006785, ('thine', 'half'): 4.975847968006785, ('death', 'end'): 2.361138123891576, ('end', 'life'): 2.109599356895612, ('dear', 'memory'): 7.560810468727941, ('memory', 'wedded'): 7.560810468727941, ('bright', 'fierce'): 8.56081046872794, ('fierce', 'fickle'): 9.560810468727942, ('fickle', 'south'): 9.560810468727942, ('prospect', 'gate'): 9.560810468727942, ('gate', 'heavn'): 7.560810468727941, ('fills', 'days'): 7.560810468727941, ('days', 'hours'): 7.560810468727941, ('hours', 'blinds'): 9.560810468727942, ('whose', 'echo'): 4.473347627477602, ('echo', 'heavn'): 7.560810468727941, ('heavn', 'bliss'): 5.975847968006785, ('brooklyn', 'ample'): 9.560810468727942, ('ample', 'hills'): 7.560810468727941, ('hills', 'mine'): 3.3908854672856283, ('universe', 'procession'): 9.560810468727942, ('procession', 'measured'): 9.560810468727942, ('glory', 'sweet'): 6.560810468727941, ('sweet', 'man'): 2.6066141583410656, ('man', 'token'): 4.606614158341066, ('token', 'manhood'): 9.560810468727942, ('ship', 'anchor'): 7.560810468727941, ('anchor', 'd'): None, ('know', 'hand'): 5.653919873119422, ('hand', 'god'): 4.390885467285629, ('god', 'promise'): 4.975847968006785, ('know', 'spirit'): 6.238882373840578, ('spirit', 'god'): 4.975847968006785, ('god', 'brother'): 4.975847968006785, ('kelson', 'creation'): 9.560810468727942, ('creation', 'love'): 4.238882373840578, ('armfuls', 'pack'): 9.560810468727942, ('pack', 'd'): None, ('deacons', 'ordain'): 9.560810468727942, ('ordain', 'd'): None, ('whose', 'girdle'): 4.473347627477602, ('girdle', 'parish'): 9.560810468727942, ('parish', 'bounds'): 9.560810468727942, ('blue', 'sky'): 4.101378850090644, ('sky', 'temple'): 5.101378850090644, ('temple', 'arch'): 8.56081046872794, ('loftiest', 'place'): 5.975847968006785, ('place', 'seat'): 6.975847968006784, ('seat', 'grace'): 7.975847968006784, ('molten', 'lead'): 8.56081046872794, ('lead', 'tears'): 6.975847968006784, ('tears', 'shed'): 7.975847968006784, ('warder', 'despair'): 7.975847968006784, ('god', 'eternal'): 5.975847968006785, ('eternal', 'laws'): 7.975847968006784, ('laws', 'kind'): 5.390885467285629, ('whose', 'dwelling'): 3.4733476274776014, ('dwelling', 'light'): 4.653919873119422, ('light', 'setting'): 5.653919873119422, ('child', 'father'): 6.238882373840578, ('father', 'man'): 2.2846860634537034, ('better', 'knowledge'): 8.56081046872794, ('knowledge', 'heart'): 5.860370750586849, ('heart', 'fram'): 5.860370750586849, ('fram', 'd'): None, ('privacy', 'glorious'): 9.560810468727942, ('glorious', 'light'): 5.653919873119422, ('light', 'thine'): 2.068957372398266, ('delight', 'causer'): 8.56081046872794, ('causer', 'strife'): 8.56081046872794, ('evening', 'garden'): 7.560810468727941, ('garden', 'hedge'): 7.560810468727941, ('hedge', 'aflower'): 9.560810468727942, ('heavens', 'bell'): 6.975847968006784, ('mee', 'witness'): 9.560810468727942, ('witness', 'host'): 9.560810468727942, ('th', 'event'): 9.560810468727942, ('event', 'fear'): 7.560810468727941, ('fear', 'd'): None, ('revenge', 'towrs'): 9.560810468727942, ('towrs', 'heavn'): 7.560810468727941, ('heavn', 'fill'): 6.560810468727941, ('d', 'since'): None, ('since', 'god'): 4.390885467285629, ('god', 'light'): 2.068957372398266, ('back', 'turnd'): 7.560810468727941, ('turnd', 'brightness'): 9.560810468727942, ('uncheckt', 'roaving'): 9.560810468727942, ('roaving', 'end'): 6.753455546670336, ('thir', 'clay'): 9.560810468727942, ('clay', 'nests'): 9.560810468727942, ('nests', 'coucht'): 9.560810468727942, ('d', 'soon'): None, ('soon', 'joy'): 7.238882373840579, ('joy', 'turn'): 7.238882373840579, ('turn', 'd'): None, ('plain', 'raise'): 9.560810468727942, ('raise', 'hill'): 9.560810468727942, ('nay', 'lost'): 7.238882373840579, ('lost', 'eve'): 6.238882373840578, ('eve', 'eve'): 7.560810468727941, ('men', 'sons'): 6.753455546670336, ('sons', 'god'): 5.975847968006785, ('whether', 'name'): 5.390885467285629, ('name', 'base'): 4.390885467285629, ('base', 'brave'): 8.56081046872794, ('one', 'thing'): 1.9169542789532161, ('thing', 'success'): 6.238882373840578, ('life', 'circuit'): 4.916954278953216, ('circuit', 'judge'): 9.560810468727942, ('hall-boy', 'service'): 9.560810468727942, ('service', 'joke'): 8.56081046872794, ('yf', 'thing'): 6.238882373840578, ('thing', 'lackt'): 6.238882373840578, ('mine', 'bosom'): 5.390885467285629, ('bosom', 'paradise'): 9.560810468727942, ('calm', 'sea'): 5.975847968006785, ('sea', 'course'): 4.975847968006785, ('time', 'kind'): 4.16849304594918, ('kind', 'friend'): 4.16849304594918, ('whose', 'touch'): 4.473347627477602, ('touch', 'fire'): 8.56081046872794, ('fire', 'appears'): 8.56081046872794, ('bones', 'guitar'): 8.56081046872794, ('guitar', 'strings'): 8.56081046872794, ('death', 'fisherman'): 5.16849304594918, ('fisherman', 'world'): 5.860370750586849, ('life', 'nothing'): 1.457522660315919, ('nothing', 'winter'): 6.101378850090644, ('man', 'vanquish'): 4.606614158341066, ('vanquish', 'd'): None, ('d', 'foe'): None, ('flowers', 'flames'): 7.560810468727941, ('flames', 'lit'): 9.560810468727942, ('whose', 'hosts'): 4.473347627477602, ('hosts', 'disturbance'): 9.560810468727942, ('disturbance', 'words'): 6.753455546670336, ('stone', 'dumb'): 7.975847968006784, ('knew', 'sugar'): 6.975847968006784, ('sugar', 'love'): 4.238882373840578, ('nt', 'know'): 4.916954278953216, ('know', 'sugar'): 5.653919873119422, ('america', 'educators'): 9.560810468727942, ('educators', 'preachers'): 9.560810468727942, ('preachers', 'mental-dictators'): 9.560810468727942, ('thing', 'left'): 5.238882373840578, ('left', 'room'): 7.560810468727941, ('room', 'death'): 4.16849304594918, ('wave', 'taxonomy'): 8.56081046872794, ('taxonomy', 'believe'): 8.56081046872794, ('rise', 'pine'): 9.560810468727942, ('pine', 'trees'): 7.238882373840579, ('trees', 'guitars'): 7.238882373840579, ('salamander', 'whose'): 4.473347627477602, ('whose', 'home'): 2.4733476274776014, ('home', 'fire'): 6.560810468727941, ('fire', 'hills'): 6.560810468727941, ('seem', 'thine'): 5.975847968006785, ('thine', 'effect'): 5.975847968006785, ('effect', 'none'): 7.975847968006784, ('thou', 'beatest'): 7.560810468727941, ('beatest', 'fear'): 7.560810468727941, ('fear', 'hell'): 7.560810468727941, ('hell', 'track'): 9.560810468727942, ('last', 'year'): 5.975847968006785, ('year', 'leaves'): 6.390885467285628, ('leaves', 'smoke'): 6.390885467285628, ('smoke', 'every'): 4.975847968006785, ('miss', 'may'): 6.560810468727941, ('may', 'miss'): 6.560810468727941, ('miss', 'mine'): 4.390885467285629, ('tree', 'tree'): 4.390885467285629, ('silence', 'song'): 5.560810468727941, ('song', 'sublime'): 7.560810468727941, ('every', 'living'): 5.560810468727941, ('living', 'thing'): 5.238882373840578, ('thing', 'friends'): 6.238882373840578, ('selling', 'weather'): 8.56081046872794, ('weather', 'place'): 5.975847968006785, ('facing', 'well'): 8.56081046872794, ('well', 'stairs'): 8.56081046872794, ('stairs', 'furniture'): 9.560810468727942, ('case', 'walnut'): 8.56081046872794, ('walnut', 'tracery'): 9.560810468727942, ('richard', 'arkwright'): 9.560810468727942, ('arkwright', 'barber'): 9.560810468727942, ('barber', 'toured'): 9.560810468727942, ('mine', 'hour'): 3.3908854672856283, ('latter', 'one'): 5.238882373840578, ('one', 'take'): 4.238882373840578, ('walk', 'news'): 9.560810468727942, ('news', 'bodies'): 9.560810468727942, ('barks', 'what'): None, ('what', 'happiness'): None, ('social', 'teacups'): 9.560810468727942, ('teacups', 'hare'): 9.560810468727942, ('hare', 'island'): 9.560810468727942, ('paint', 'blistering'): 9.560810468727942, ('one', 'early'): 5.238882373840578, ('early', 'symptom'): 9.560810468727942, ('symptom', 'boundary'): 9.560810468727942, ('says', 'gods'): 7.975847968006784, ('gods', 'goddesses'): 7.975847968006784, ('goddesses', 'self'): 8.56081046872794, ('self', 'writ'): 8.56081046872794, ('young', 'dead'): 5.5164163493694875, ('dead', 'man'): 4.317107541146081, ('man', 'oil'): 4.606614158341066, ('oil', 'old'): 6.390885467285628, ('old', 'dead'): 4.9314538486483315, ('man', 'water'): 2.4366891568987534, ('man', 'bread'): 4.284686063453703, ('bread', 'butter'): 7.238882373840579, ('man', 'flywheel'): 4.606614158341066, ('flywheel', 'spinning'): 8.56081046872794, ('bill', 'fare'): 9.560810468727942, ('fare', 'rock'): 7.238882373840579, ('rock', 'sand'): 6.238882373840578, ('love', 'man'): -0.7153139365462966, ('fingers', 'places'): 7.975847968006784, ('places', 'prayer'): 6.975847968006784, ('upstep', 'rasp'): 9.560810468727942, ('rasp', 'kneeling'): 9.560810468727942, ('grandam', 'grandam'): 7.560810468727941, ('grandam', 'lyre'): 8.56081046872794, ('life', 'sharpest'): 4.916954278953216, ('sharpest', 'rapture'): 9.560810468727942, ('rapture', 'surcease'): 9.560810468727942, ('surcease', 'pain'): 6.753455546670336, ('pitcher', 'stuff'): 7.238882373840579, ('stuff', 'junk'): 7.238882373840579, ('ball', 'park'): 9.560810468727942, ('park', 'artifact'): 9.560810468727942, ('causation', 'sequence'): 9.560810468727942, ('name', 'name'): 1.2209604658433162, ('though', 'grandmother'): 6.560810468727941, ('grandmother', 'Warlock'): None, ('pike', 'fish'): 8.56081046872794, ('fish', 'always'): 7.560810468727941, ('away', 'son'): 5.390885467285629, ('son', 'lakes'): 6.975847968006784, ('lakes', 'salt'): 7.560810468727941, ('salt', 'flowers'): 6.560810468727941, ('wondering', 'got'): 9.560810468727942, ('got', 'idea'): 9.560810468727942, ('idea', 'manu'): 9.560810468727942, ('tense', 'aorist'): 9.560810468727942, ('years', 'smoke'): 5.653919873119422, ('faith', 'tree'): 5.390885467285629, ('tree', 'sorrow'): 5.390885467285629, ('eggs', 'applejack'): 9.560810468727942, ('applejack', 'life'): 4.916954278953216, ('life', 'paradox'): 4.916954278953216, ('whole', 'sweet'): 5.560810468727941, ('sweet', 'world'): 3.8603707505868488, ('world', 'garden'): 3.8603707505868488, ('old', 'chronological'): 6.390885467285628, ('chronological', 'towers'): 9.560810468727942, ('towers', 'ash'): 9.560810468727942, ('ash', 'prisms'): 9.560810468727942, ('souls', 'bank'): 9.560810468727942, ('bank', 'tellers'): 9.560810468727942, ('art', 'loneliness'): 6.975847968006784, ('loneliness', 'landscape'): 8.56081046872794, ('rotgut', 'shortcut'): 9.560810468727942, ('shortcut', 'epiphanies'): 9.560810468727942, ('liar', 'liar'): 6.390885467285628, ('liar', 'act'): 6.975847968006784, ('human', 'rhymes'): 8.56081046872794, ('rhymes', 'bilge'): 8.56081046872794, ('bilge', 'bilge'): 7.560810468727941, ('ones', 'sentries'): 7.975847968006784, ('sentries', 'guarding'): 9.560810468727942, ('scent', 'neither'): 8.56081046872794, ('neither', 'snake'): 9.560810468727942, ('ripeness', 'nothing'): 6.101378850090644, ('byron', 'sick'): 9.560810468727942, ('sick', 'food'): 8.56081046872794, ('food', 'metaphor'): 8.56081046872794, ('metaphor', 'existence'): 9.560810468727942, ('even', 'watching'): 6.975847968006784, ('watching', 'anachronism'): 9.560810468727942, ('cities', 'ones'): 6.390885467285628, ('ones', 'wanted'): 6.975847968006784, ('hair', 'color'): 7.238882373840579, ('color', 'chopped'): 9.560810468727942, ('life', 'colour'): 3.9169542789532166, ('colour', 'warmth'): 8.56081046872794, ('thought', 'sun-kissed'): 7.975847968006784, ('sun-kissed', 'hills'): 7.560810468727941, ('hills', 'rags'): 7.560810468727941, ('rags', 'upon'): 8.56081046872794, ('democracy', 'shit'): 7.560810468727941, ('relativity', 'shit'): 7.560810468727941, ('dictators', 'shit'): 7.560810468727941, ('menken', 'shit'): 7.560810468727941, ('wine', 'dew'): 9.560810468727942, ('dew', 'wild'): 9.560810468727942, ('hangs', 'shout'): 9.560810468727942, ('shout', 'shrinking'): 9.560810468727942, ('shrinking', 'nothing'): 6.101378850090644, ('i', 'son'): None, ('son', 'thine'): 4.390885467285629, ('sky', 'cloudy'): 6.101378850090644, ('cloudy', 'yellowed'): 8.56081046872794, ('word', 'whose'): 0.8883851267564452, ('whose', 'root'): 3.4733476274776014, ('root', 'love'): 3.2388823738405783, ('peace', 'moving'): 6.975847968006784, ('moving', 'heavens'): 8.56081046872794, ('heavens', 'fraught'): 8.56081046872794, ('bell', 'bell'): 6.390885467285628, ('bell', 'ringing'): 7.975847968006784, ('ringing', 'give'): 8.56081046872794, ('gray', 'men'): 5.16849304594918, ('men', 'overcoats'): 6.753455546670336, ('overcoats', 'ghosts'): 7.975847968006784, ('ghosts', 'blown'): 7.975847968006784, ('like', 'lost'): 3.538442655699486, ('lost', 'water'): 4.068957372398266, ('water', 'slate'): 6.390885467285628, ('slate', 'far'): 7.975847968006784, ('air', 'kisses'): 6.560810468727941, ('kisses', 'kisses'): 7.560810468727941, ('the', 'islands'): None, ('islands', 'prisons'): 8.56081046872794, ('prisons', 'one'): 4.238882373840578, ('world', 'everything'): 4.860370750586849, ('everything', 'case'): 7.560810468727941, ('law', 'devil'): 6.975847968006784, ('devil', 'cheat'): 7.560810468727941, ('far', 'end'): 5.16849304594918, ('end', 'platform'): 6.753455546670336, ('platform', 'tunnel'): 9.560810468727942, ('tunnel', 'train'): 9.560810468727942, ('soul', 'sighing'): 6.390885467285628, ('poetry', 'grinding'): 7.975847968006784, ('grinding', 'multiplicity'): 9.560810468727942, ('manner', 'soul'): 6.390885467285628, ('soul', 'joined'): 6.390885467285628, ('hall', 'someone'): 7.238882373840579, ('someone', 'glove'): 7.238882373840579, ('body', 'something'): 4.560810468727941, ('something', 'less'): 5.560810468727941, ('perfection', 'flesh'): 7.975847968006784, ('flesh', 'heir'): 7.975847968006784, ('stuff', 'nought'): 7.238882373840579, ('nought', 'mere'): 9.560810468727942, ('yet', 'thoughtless'): 6.560810468727941, ('thoughtless', 'force'): 9.560810468727942, ('force', 'mine'): 5.390885467285629, ('faces', 'whose'): 2.8883851267564453, ('whose', 'hair'): 2.151419532590239, ('hair', 'leaves'): 5.653919873119422, ('leaves', 'grapes'): 6.975847968006784, ('love', 'nothing'): 0.7794507552032813, ('nothing', 'borne'): 6.101378850090644, ('love', 'names'): 4.238882373840578, ('names', 'love'): 4.238882373840578, ('love', 'cliff'): 4.238882373840578, ('night', 'sentinel'): 6.238882373840578, ('sedate', 'one'): 5.238882373840578, ('one', 'month'): 4.238882373840578, ('month', 'skittish'): 8.56081046872794, ('couples', 'parading'): 9.560810468727942, ('parading', 'everyone'): 8.56081046872794, ('passion', 'scholar'): 8.56081046872794, ('scholar', 'heritage'): 9.560810468727942, ('trade', 'courage'): 9.560810468727942, ('courage', 'atrocities'): 9.560810468727942, ('big', 'prints'): 9.560810468727942, ('prints', 'rage'): 7.975847968006784, ('yesterday', 'face'): 6.975847968006784, ('face', 'corn'): 6.975847968006784, ('cuticles', 'mess'): 9.560810468727942, ('mess', 'oh'): 9.560810468727942, ('knows', 'skin'): 6.390885467285628, ('skin', 'glass'): 6.975847968006784, ('mindful', 'melancholy'): 8.56081046872794, ('melancholy', 'sin'): 7.560810468727941, ('sin', 'though'): 4.560810468727941, ('better', 'rage'): 6.975847968006784, ('rage', 'post-dinner'): 7.975847968006784, ('post-dinner', 'quiet'): 9.560810468727942, ('greek', 'tragedy'): 9.560810468727942, ('tragedy', 'course'): 7.975847968006784, ('course', 'sort'): 5.390885467285629, ('sort', 'thing'): 3.6539198731194227, ('understatement', 'privilege'): 9.560810468727942, ('privilege', 'god'): 5.975847968006785, ('madman', 'coleridge'): 9.560810468727942, ('coleridge', 'drug'): 8.56081046872794, ('drug', 'addict'): 8.56081046872794, ('suffering', 'life'): 4.916954278953216, ('life', 'penalty'): 4.916954278953216, ('speech', 'temporary'): 8.56081046872794, ('temporary', 'poetry'): 7.975847968006784, ('poetry', 'truth'): 6.390885467285628, ('body', 'dwelling'): 5.560810468727941, ('dwelling', 'stone'): 6.975847968006784, ('stone', 'perched'): 7.975847968006784, ('death', 'death'): 0.7761756231704203, ('death', 'none'): 3.5835305452280237, ('name', 'johnson'): 5.390885467285629, ('windshield', 'splintering'): 9.560810468727942, ('splintering', 'lens'): 9.560810468727942, ('lens', 'time'): 6.753455546670336, ('time', 'mailbox'): 6.753455546670336, ('voice', 'garden'): 7.560810468727941, ('garden', 'thunder'): 5.975847968006785, ('thunder', 'sent'): 7.975847968006784, ('solomon', 'king'): 7.238882373840579, ('whose', 'loss'): 4.473347627477602, ('loss', 'laughter'): 7.975847968006784, ('laughter', 'counts'): 7.975847968006784, ('ships', 'whose'): 2.8883851267564453, ('whose', 'name'): 1.303422626035289, ('name', 'mystery'): 5.390885467285629, ('ships', 'palaces'): 7.975847968006784, ('palaces', 'brown'): 9.560810468727942, ('ships', 'prisons'): 6.975847968006784, ('prisons', 'multitudinous'): 8.56081046872794, ('moment', 'moon'): 5.653919873119422, ('moon', 'blood'): 5.653919873119422, ('night', 'kings'): 5.238882373840578, ('kings', 'earth'): 5.101378850090644, ('earth', 'chill'): 4.5164163493694875, ('struggle', 'home'): 7.560810468727941, ('home', 'beast'): 7.560810468727941, ('head', 'firs'): 7.975847968006784, ('firs', 'rafter'): 9.560810468727942, ('mantilla', 'lace'): 9.560810468727942, ('whose', 'blackness'): 4.473347627477602, ('blackness', 'air'): 7.560810468727941, ('frog', 'frog'): 5.542888560730678, ('frog', 'hopelessly'): 6.390885467285628, ('frog', 'reason'): 4.805922966564473, ('frog', 'cannot'): 4.805922966564473, ('personnel', 'still'): 8.56081046872794, ('still', 'mouths'): 8.56081046872794, ('mouths', 'mash'): 9.560810468727942, ('perhaps', 'sadness'): 9.560810468727942, ('sadness', 'way'): 7.560810468727941, ('way', 'seeming'): 7.560810468727941, ('lurks', 'surface'): 8.56081046872794, ('surface', 'another'): 5.975847968006785, ('another', 'story'): 6.975847968006784, ('sky', 'show'): 6.101378850090644, ('show', 'flashing'): 9.560810468727942, ('downing', 'street'): 7.975847968006784, ('street', 'accord'): 7.975847968006784, ('accord', 'lots'): 9.560810468727942, ('sun', 'god'): 3.3908854672856283, ('god', 'eye'): 4.390885467285629, ('chrysler', 'building'): 9.560810468727942, ('building', 'pin'): 9.560810468727942, ('deafness', 'asset'): 9.560810468727942, ('asset', 'well'): 8.56081046872794, ('beginning', 'word'): 3.6539198731194227, ('word', 'nigger'): 5.975847968006785, ('word', 'death'): 3.1684930459491807, ('death', 'niggers'): 5.16849304594918, ('death', 'life'): 0.5246368561744559, ('genesis', 'life'): 3.9169542789532166, ('genesis', 'death'): 4.16849304594918, ('beginning', 'deed'): 6.238882373840578, ('deed', 'death'): 4.16849304594918, ('hair', 'three-quarters'): 7.238882373840579, ('three-quarters', 'height'): 9.560810468727942, ('moment', 'music'): 6.390885467285628, ('music', 'wanted'): 6.975847968006784, ('whose', 'confidence'): 4.473347627477602, ('confidence', 'game'): 9.560810468727942, ('game', 'marbles'): 9.560810468727942, ('stoics', 'replied'): 9.560810468727942, ('replied', 'life'): 4.916954278953216, ('life', 'war'): 3.33199177823206, ('war', 'illusion'): 6.390885467285628, ('beaches', 'lava'): 9.560810468727942, ('lava', 'variegated'): 9.560810468727942, ('whole', 'palazzo'): 7.560810468727941, ('palazzo', 'property'): 9.560810468727942, ('art', 'history'): 5.975847968006785, ('history', 'nostalgia'): 8.56081046872794, ('his', 'name'): None, ('name', 'hector'): 5.390885467285629, ('face', 'find'): 6.975847968006784, ('find', 'sea'): 6.560810468727941, ('sea', 'love'): 1.2388823738405788, ('mer', 'mother'): 9.560810468727942, ('mother', 'sea'): 6.560810468727941, ('thine', 'kingdom'): 4.975847968006785, ('kingdom', 'glory'): 7.560810468727941, ('maybe', 'events'): 9.560810468727942, ('events', 'nature'): 7.238882373840579, ('nature', 'sleight'): 7.238882373840579, ('boortree', 'bower'): 9.560810468727942, ('bower', 'tree'): 6.975847968006784, ('attenuation', 'strength'): 7.975847968006784, ('strength', 'donne'): 7.975847968006784, ('light', 'instant'): 5.653919873119422, ('instant', 'far-seeing'): 9.560810468727942, ('hat', 'kid'): 9.560810468727942, ('kid', 'life'): 4.916954278953216, ('life', 'cinch'): 4.916954278953216, ('whose', 'look'): 2.8883851267564453, ('look', 'charnel'): 7.975847968006784, ('charnel', 'lusters'): 9.560810468727942, ('grace', 'indeed'): 7.975847968006784, ('indeed', 'look'): 7.975847968006784, ('look', 'grace'): 6.390885467285628, ('yet', 'relaxed'): 6.560810468727941, ('relaxed', 'hands'): 8.56081046872794, ('hands', 'void'): 7.560810468727941, ('ten', 'years'): 7.238882373840579, ('years', 'time'): 4.431527451782975, ('time', 'enough'): 6.753455546670336, ('ghosts', 'plato'): 7.975847968006784, ('plato', 'christians'): 9.560810468727942, ('narcissus', 'vocabulary'): 9.560810468727942, ('vocabulary', 'hermes'): 9.560810468727942, ('person', 'every'): 6.560810468727941, ('every', 'son-of-a-bitch'): 6.560810468727941, ('son-of-a-bitch', 'christ'): 7.975847968006784, ('christ', 'least'): 7.975847968006784, ('believe', 'human'): 7.560810468727941, ('human', 'community'): 8.56081046872794, ('community', 'lies'): 9.560810468727942, ('lies', 'bullshit'): 9.560810468727942, ('nose', 'wick'): 9.560810468727942, ('said', 'today'): 5.238882373840578, ('today', 'monday'): 8.56081046872794, ('monday', 'want'): 7.975847968006784, ('think', 'relationship'): 9.560810468727942, ('relationship', 'wealth'): 9.560810468727942, ('river', 'variety'): 7.975847968006784, ('variety', 'land'): 7.975847968006784, ('far', 'one'): 3.6539198731194227, ('one', 'rim'): 5.238882373840578, ('rim', 'bay'): 9.560810468727942, ('bay', 'flocks'): 9.560810468727942, ('look', 'bleating'): 7.975847968006784, ('bleating', 'lambs'): 9.560810468727942, ('lambs', 'birds'): 9.560810468727942, ('banishing', 'love'): 4.238882373840578, ('love', 'fix'): 4.238882373840578, ('fix', 'stars'): 9.560810468727942, ('efflux', 'soul'): 6.390885467285628, ('soul', 'happiness'): 4.390885467285629, ('happiness', 'happiness'): 5.560810468727941, ('fluid', 'attaching'): 9.560810468727942, ('attaching', 'character'): 9.560810468727942, ('character', 'freshness'): 9.560810468727942, ('freshness', 'sweetness'): 9.560810468727942, ('call', 'call'): 7.560810468727941, ('call', 'battle'): 7.560810468727941, ('leafless', 'beds'): 9.560810468727942, ('beds', 'aglow'): 9.560810468727942, ('deep', 'buried'): 9.560810468727942, ('buried', 'forest'): 8.56081046872794, ('forest', 'nook'): 8.56081046872794, ('even', 'teacher'): 5.975847968006785, ('teacher', 'child'): 7.560810468727941, ('child', 'said'): 5.238882373840578, ('thy', 'songs'): 6.101378850090644, ('songs', 'riddles'): 9.560810468727942, ('riddles', 'hard'): 9.560810468727942, ('day', 'another'): 3.8059229665644723, ('another', 'mine'): 2.8059229665644723, ('mine', 'terms'): 5.390885467285629, ('bin', 'morning'): 9.560810468727942, ('morning', 'light'): 5.653919873119422, ('body', 'pebble'): 6.560810468727941, ('pebble', 'tend'): 9.560810468727942, ('every', 'distinct'): 6.560810468727941, ('distinct', 'thing'): 6.238882373840578, ('thing', 'illusion'): 4.653919873119422, ('work', 'something'): 5.560810468727941, ('forgotten', 'woods'): 9.560810468727942, ('woods', 'mangle'): 9.560810468727942, ('hour', 'hour'): 5.560810468727941, ('hour', 'like'): 3.8603707505868488, ('man', 'whose'): -0.48084868290927374, ('name', 'saul'): 5.390885467285629, ('parcels', 'light'): 5.653919873119422, ('light', 'angels'): 5.653919873119422, ('angels', 'women'): 9.560810468727942, ('women', 'know'): 7.238882373840579, ('silence', 'envelope'): 7.560810468727941, ('envelope', 'noise'): 8.56081046872794, ('noise', 'paper'): 8.56081046872794, ('beneath', 'squeeze'): 9.560810468727942, ('squeeze', 'heart'): 5.860370750586849, ('heart', 'stranglehold'): 5.860370750586849, ('todd', 'hardware'): 9.560810468727942, ('hardware', 'dust'): 7.975847968006784, ('dust', 'monkey'): 7.975847968006784, ('center', 'things'): 6.975847968006784, ('things', 'pain'): 4.16849304594918, ('pain', 'gateway'): 6.753455546670336, ('matter', 'water'): 5.390885467285629, ('song', 'joy'): 5.238882373840578, ('joy', 'life'): 2.595026184065854, ('across', 'street'): 7.975847968006784, ('street', 'windows'): 7.975847968006784, ('song', 'mountain'): 5.975847968006785, ('mountain', 'put'): 7.975847968006784, ('words', 'landscape'): 5.753455546670336, ('landscape', 'feeling'): 8.56081046872794, ('life', 'experience'): 3.9169542789532166, ('ideas', 'governments'): 9.560810468727942, ('governments', 'turned'): 8.56081046872794, ('shrugged', 'janos'): 9.560810468727942, ('janos', 'friend'): 6.753455546670336, ('friend', 'university'): 6.753455546670336, ('fighting', 'war'): 7.975847968006784, ('war', 'plausible'): 7.975847968006784, ('glades', 'dusk'): 9.560810468727942, ('dusk', 'soft'): 9.560810468727942, ('horse', 'fence'): 8.56081046872794, ('fence', 'fences'): 9.560810468727942, ('fences', 'horses'): 9.560810468727942, ('let', 'couch'): 6.975847968006784, ('couch', 'chair'): 9.560810468727942, ('chair', 'place'): 6.975847968006784, ('place', 'sitting'): 6.975847968006784, ('let', 'table'): 6.975847968006784, ('table', 'place'): 6.975847968006784, ('place', 'eating'): 6.975847968006784, ('hondurans', 'masters'): 9.560810468727942, ('masters', 'land'): 7.975847968006784, ('gongressman', 'chipper'): 9.560810468727942, ('chipper', 'mule'): 9.560810468727942, ('sleep', 'drug'): 8.56081046872794, ('eat', 'art'): 6.975847968006784, ('art', 'dust'): 5.390885467285629, ('dust', 'art'): 5.390885467285629, ('new', 'york'): 5.975847968006785, ('york', 'love'): 3.2388823738405783, ('love', 'means'): 4.238882373840578, ('means', 'travel'): 9.560810468727942, ('experience', 'mine'): 4.390885467285629, ('mine', 'mine'): 1.2209604658433162, ('mine', 'things'): 2.8059229665644723, ('things', 'entirely'): 6.975847968006784, ('march', 'shambles'): 9.560810468727942, ('shambles', 'shards'): 9.560810468727942, ('granite', 'ice'): 8.56081046872794, ('ice', 'colours'): 8.56081046872794, ('colours', 'heart'): 5.860370750586849, ('view', 'mountain'): 7.975847968006784, ('mountain', 'speaking'): 7.975847968006784, ('closed', 'door'): 6.975847968006784, ('door', 'panic'): 7.975847968006784, ('panic', 'spaces'): 9.560810468727942, ('man', 'shovel'): 4.606614158341066, ('shovel', 'king'): 7.238882373840579, ('everyone', 'friend'): 5.753455546670336, ('friend', 'pathology'): 6.753455546670336, ('children', 'distances'): 7.975847968006784, ('distances', 'horizons'): 9.560810468727942, ('saulis', 'borrowit'): 9.560810468727942, ('borrowit', 'bliss'): 7.975847968006784, ('name', 'colin'): 5.390885467285629, ('colin', 'clout'): 9.560810468727942, ('purpose', 'ambition'): 9.560810468727942, ('provo', 'place'): 6.975847968006784, ('place', 'reason'): 5.390885467285629, ('passing', 'june'): 8.56081046872794, ('june', 'another'): 5.975847968006785, ('say', 'days'): 5.975847968006785, ('days', 'scrolls'): 7.560810468727941, ('scrolls', 'write'): 9.560810468727942, ('new', 'age'): 3.975847968006785, ('age', 'victor'): 7.560810468727941, ('victor', 'one'): 5.238882373840578, ('one', 'gets'): 5.238882373840578, ('moment', 'like'): 4.275408249865692, ('like', 'axe'): 5.860370750586849, ('axe', 'recognition'): 9.560810468727942, ('friend', 'gist'): 6.753455546670336, ('gist', 'war'): 7.975847968006784, ('war', 'boredom'): 7.975847968006784, ('night', 'clock'): 6.238882373840578, ('clock', 'chiming'): 9.560810468727942, ('dark', 'world'): 4.860370750586849, ('world', 'light'): 1.95348015497833, ('loe', 'hir'): 8.56081046872794, ('hir', 'lips'): 6.975847968006784, ('lips', 'rubies'): 6.975847968006784, ('rubies', 'sound'): 6.975847968006784, ('pearles', 'hir'): 7.560810468727941, ('hir', 'teeth'): 8.56081046872794, ('teeth', 'pearles'): 8.56081046872794, ('pearles', 'pure'): 8.56081046872794, ('rest', 'works'): 6.975847968006784, ('works', 'natures'): 9.560810468727942, ('love', 'sin'): 2.2388823738405788, ('sin', 'let'): 4.975847968006785, ('love', 'chasteness'): 4.238882373840578, ('chasteness', 'pain'): 6.753455546670336, ('let', 'mine'): 2.8059229665644723, ('mine', 'eyes'): 2.5835305452280246, ('eyes', 'hell-drivn'): 6.753455546670336, ('hell-drivn', 'light'): 5.653919873119422, ('singsing', 'sing'): 7.560810468727941, ('sing', 'line'): 5.975847968006785, ('line', 'example'): 6.975847968006784, ('example', 'epanalepsis'): 8.56081046872794, ('debasement', 'password'): 9.560810468727942, ('password', 'base'): 8.56081046872794, ('thunder', 'someone'): 5.653919873119422, ('someone', 'shotgun'): 7.238882373840579, ('new', 'moon'): 3.6539198731194227, ('moon', 'ones'): 5.653919873119422, ('ones', 'wolves'): 7.975847968006784, ('buildings', 'mountains'): 8.56081046872794, ('infant', 'eye'): 7.975847968006784, ('eye', 'looking'): 7.975847968006784, ('sorrow', 'christ'): 6.390885467285628, ('christ', 'dewlap'): 7.975847968006784, ('sustenance', 'laugh'): 8.56081046872794, ('laugh', 'grief'): 7.560810468727941, ('red', 'one'): 4.238882373840578, ('one', 'poppy'): 5.238882373840578, ('marvel', 'substance'): 9.560810468727942, ('substance', 'mould'): 9.560810468727942, ('words', 'spears'): 6.753455546670336, ('unfaith', 'aught'): 9.560810468727942, ('aught', 'want'): 7.975847968006784, ('want', 'faith'): 6.390885467285628, ('things', 'nothing'): 3.516416349369487, ('nothing', 'give'): 5.101378850090644, ('mine', 'heart'): 1.6904457491445366, ('heart', 'feet'): 3.8603707505868488, ('body', 'soul'): 3.3908854672856283, ('soul', 'mine'): 2.220960465843316, ('one', 'might'): 5.238882373840578, ('might', 'death'): 5.16849304594918, ('death', 'divorce'): 5.16849304594918, ('fear', 'snare'): 7.560810468727941, ('snare', 'afraid'): 9.560810468727942, ('sea', 'waves'): 5.560810468727941, ('dead', 'root'): 5.101378850090644, ('root', 'whence'): 8.56081046872794, ('true', 'fool'): 8.56081046872794, ('fool', 'love'): 4.238882373840578, ('thy', 'fadere'): 6.101378850090644, ('fadere', 'king'): 7.238882373840579, ('king', 'blis'): 7.238882373840579, ('moon', 'o'): None, ('o', 'yonder'): None, ('yonder', 'moon'): 6.238882373840578, ('thou', 'ravenous'): 7.560810468727941, ('ravenous', 'chancres'): 9.560810468727942, ('chancres', 'prey'): 8.56081046872794, ('cheat', 'briers'): 8.56081046872794, ('briers', 'buds'): 9.560810468727942, ('buds', 'strung'): 9.560810468727942, ('face', 'honey'): 5.975847968006785, ('honey', 'mouth'): 7.560810468727941, ('d', 'ease'): None, ('ease', 'gold'): 7.560810468727941, ('gold', 'word'): 3.975847968006785, ('till', 'love'): 2.2388823738405788, ('love', 'trust'): 4.238882373840578, ('distance', 'love'): 4.238882373840578, ('love', 'severance'): 4.238882373840578, ('absent', 'every'): 6.560810468727941, ('every', 'minute'): 6.560810468727941, ('minute', 'year'): 7.975847968006784, ('strephon', 'found'): 8.56081046872794, ('found', 'room'): 7.560810468727941, ('room', 'void'): 7.560810468727941, ('age', 'naught'): 7.560810468727941, ('naught', 'sorrow'): 7.975847968006784, ('thee', 'whose'): 2.4733476274776014, ('whose', 'temple'): 3.4733476274776014, ('temple', 'space'): 8.56081046872794, ('heart', 'love'): 0.5384426556994865, ('levity', 'patience'): 9.560810468727942, ('men', 'deceivers'): 6.753455546670336, ('deceivers', 'ever'): 8.56081046872794, ('fond', 'life'): 4.916954278953216, ('life', 'lustful'): 4.916954278953216, ('though', 'beauty'): 4.560810468727941, ('beauty', 'mark'): 7.560810468727941, ('mark', 'praise'): 9.560810468727942, ('brilliance', 'carcass'): 9.560810468727942, ('life', 'cry'): 3.33199177823206, ('cry', 'followed'): 7.975847968006784, ('walls', 'floors'): 7.560810468727941, ('floors', 'floors'): 7.560810468727941, ('material', 'things'): 6.975847968006784, ('things', 'world'): 3.2754082498656927, ('world', 'key'): 5.860370750586849, ('interviewer', 'poet'): 8.56081046872794, ('poet', 'mann'): 8.56081046872794, ('hot', 'wind'): 5.975847968006785, ('wind', 'friend'): 4.16849304594918, ('friend', 'lifter'): 6.753455546670336, ('though', 'manic'): 6.560810468727941, ('manic', 'tribe'): 9.560810468727942, ('tribe', 'mine'): 5.390885467285629, ('mine', 'boreal'): 5.390885467285629, ('utterly', 'absorbed'): 9.560810468727942, ('absorbed', 'love'): 4.238882373840578, ('love', 'distraction'): 4.238882373840578, ('distraction', 'even'): 6.975847968006784, ('cities', 'places'): 7.390885467285629, ('places', 'conversion'): 7.975847968006784, ('conversion', 'said'): 6.238882373840578, ('sex', 'please'): 9.560810468727942, ('please', 'petunias'): 9.560810468727942, ('petunias', 'apology'): 9.560810468727942, ('long', 'ago'): 9.560810468727942, ('ago', 'desert'): 8.56081046872794, ('desert', 'inland'): 8.56081046872794, ('inland', 'sea'): 6.560810468727941, ('name', 'household'): 4.390885467285629, ('household', 'word'): 4.975847968006785, ('horse', 'midnight'): 8.56081046872794, ('dey', 'known'): 8.56081046872794, ('known', 'dey'): 8.56081046872794, ('dey', 'slaves'): 8.56081046872794, ('slaves', 'harriet'): 9.560810468727942, ('hundred', 'furnished'): 9.560810468727942, ('furnished', 'rooms'): 9.560810468727942, ('rooms', 'girl'): 8.56081046872794, ('girl', 'sells'): 8.56081046872794, ('law', 'move'): 7.975847968006784, ('move', 'die'): 8.56081046872794, ('day', 'night'): 3.068957372398266, ('night', 'sit'): 6.238882373840578, ('sun', 'enemy'): 6.975847968006784, ('enemy', 'eye'): 7.975847968006784, ('animals', 'whose'): 3.4733476274776014, ('whose', 'artistry'): 4.473347627477602, ('artistry', 'flesh'): 7.975847968006784, ('around', 'wound'): 6.975847968006784, ('wound', 'odors'): 8.56081046872794, ('odors', 'mixture'): 8.56081046872794, ('elegies', 'medicine'): 9.560810468727942, ('medicine', 'prescribed'): 9.560810468727942, ('empty', 'hallway'): 9.560810468727942, ('hallway', 'past'): 7.560810468727941, ('past', 'self'): 6.560810468727941, ('self', 'ghoul'): 8.56081046872794, ('back', 'saddle'): 7.560810468727941, ('saddle', 'lovers'): 8.56081046872794, ('horizon', 'h'): 8.56081046872794, ('h', 'point'): 8.56081046872794, ('point', 'vision'): 7.560810468727941, ('people', 'days'): 5.560810468727941, ('days', 'becoming'): 7.560810468727941, ('wind', 'breath'): 5.390885467285629, ('breath', 'hurricane'): 7.975847968006784, ('word', 'mindful'): 4.975847968006785, ('say', 'ghost'): 6.390885467285628, ('ghost', 'ghost'): 6.390885467285628, ('like', 'river'): 4.275408249865692, ('river', 'talk'): 5.390885467285629, ('talk', 'naming'): 6.975847968006784, ('naming', 'named'): 7.975847968006784, ('whose', 'doldrums'): 4.473347627477602, ('doldrums', 'meadows'): 9.560810468727942, ('meadows', 'spinning'): 8.56081046872794, ('name', 'sara'): 5.390885467285629, ('sara', 'kept'): 8.56081046872794, ('soul', 'forgiveness'): 5.390885467285629, ('forgiveness', 'knows'): 6.975847968006784, ('screen', 'stripes'): 9.560810468727942, ('stripes', 'knows'): 7.975847968006784, ('god', 'momentum'): 5.975847968006785, ('personal', 'private'): 9.560810468727942, ('private', 'tank'): 9.560810468727942, ('tank', 'nothing'): 6.101378850090644, ('world', 'word'): 2.2754082498656927, ('word', 'wilderness'): 5.975847968006785, ('answer', 'answer'): 6.390885467285628, ('answer', 'world'): 4.275408249865692, ('beginning', 'beginning'): 4.916954278953216, ('beginning', 'happiness'): 5.238882373840578, ('paul', 'sort'): 6.975847968006784, ('thing', 'regrets'): 6.238882373840578, ('regrets', 'life'): 4.916954278953216, ('life', 'amount'): 4.916954278953216, ('amount', 'time'): 6.753455546670336, ('people', 'kind'): 4.975847968006785, ('kind', 'solution'): 6.975847968006784, ('in', 'star'): None, ('star', 'it'): None, ('it', 'star'): None, ('father', 'farm'): 7.238882373840579, ('farm', 'apple'): 8.56081046872794, ('apple', 'blossomer'): 9.560810468727942, ('fields', 'oceans'): 7.560810468727941, ('oceans', 'heat'): 8.56081046872794, ('farm', 'icicle'): 8.56081046872794, ('today', 'friday'): 8.56081046872794, ('left', 'leg'): 8.56081046872794, ('leg', 'meal'): 9.560810468727942, ('meal', 'crayfish'): 9.560810468727942, ('risk', 'part'): 9.560810468727942, ('part', 'rhythm'): 9.560810468727942, ('mentions', 'hearing'): 9.560810468727942, ('hearing', 'silver'): 8.56081046872794, ('name', 'orestes'): 5.390885467285629, ('one', 'escape'): 5.238882373840578, ('escape', 'use'): 7.975847968006784, ('use', 'strength'): 6.390885467285628, ('strength', 'ca'): 6.390885467285628, ('behind', 'memory'): 7.560810468727941, ('memory', 'like'): 4.860370750586849, ('perfume', 'flowers'): 7.560810468727941, ('flowers', 'ground'): 6.560810468727941, ('cleanse', 'vision'): 8.56081046872794, ('vision', 'fish'): 7.560810468727941, ('fish', 'silver'): 7.560810468727941, ('martin', 'man'): 4.606614158341066, ('man', 'one'): 0.28468606345370345, ('joke', 'singer'): 7.560810468727941, ('singer', 'nothing'): 6.101378850090644, ('nothing', 'sing'): 4.101378850090644, ('season', 'cold'): 8.56081046872794, ('cold', 'season'): 8.56081046872794, ('season', 'darkness'): 6.560810468727941, ('else', 'beasts'): 9.560810468727942, ('beasts', 'tigers'): 8.56081046872794, ('without', 'earth'): 6.101378850090644, ('earth', 'sand'): 5.101378850090644, ('sky', 'cloud'): 4.101378850090644, ('cloud', 'cloud'): 5.560810468727941}\n"
     ]
    }
   ],
   "source": [
    "bigram_frequency = FreqDist(bigrams_lists)\n",
    "\n",
    "# Calculate the frequency of bigrams of the words in the pre-defined window\n",
    "\n",
    "frequencies_of_interest = {bigram: bigram_frequency[bigram] for bigram in bigrams_interest}\n",
    "\n",
    "# print(frequencies_of_interest)\n",
    "\n",
    "# Frequency of all words in the annotation\n",
    "\n",
    "unigram_frequency = FreqDist(w.lower() for w in words if (re.match(r'[a-zA-Z]', w) and w.lower() not in stopwords))\n",
    "\n",
    "# Calculate the mutual distance\n",
    "\n",
    "# See expression (2) in Neuman et al.’2013 paper\n",
    "\n",
    "def Mutual_information(bigram_item, filteredCorpus, Corpus, span = 2):    \n",
    "    '''\n",
    "    Calculates Mutual information between node and collocate words\n",
    "    bigram_item = The bigram which is considered in the equation\n",
    "    filteredCorpus = The corpus with only considered words.\n",
    "    Corpus = The whole corpus.\n",
    "    span = span of words\n",
    "    '''\n",
    "\n",
    "    try:\n",
    "        return math.log10((filteredCorpus[bigram_item] * Corpus.N()) / (Corpus[bigram_item[0]] * Corpus[bigram_item[1]] * span))/math.log10(2)\n",
    "    except:\n",
    "        return\n",
    "\n",
    "# calculate mutual information for each of the bigrams in the desired span in each sentence of the annotated corpus\n",
    "fmi = {bigram: Mutual_information(bigram, frequencies_of_interest, unigram_frequency, span = 4) for bigram in bigrams_interest}\n",
    "\n",
    "print(fmi)"
   ]
  },
  {
   "cell_type": "markdown",
   "metadata": {},
   "source": [
    "### Mutual distance of every bigram"
   ]
  },
  {
   "cell_type": "code",
   "execution_count": 26,
   "metadata": {},
   "outputs": [],
   "source": [
    "# eliminate the elements that had value equal to 'None'\n",
    "fmi = {key: value for key, value in fmi.items() if value is not None}\n",
    "\n",
    "# find the key which has the maximum value\n",
    "max_key = max(fmi, key=fmi.get)\n",
    "\n",
    "# find the maximum value\n",
    "# this value will be the constant K in the formula given by the professor:\n",
    "# distance (S1, S2) = K – Mutual_Information (S1, S2)\n",
    "# this way the distance will be the lowest to the bigram with the highest mutual information value and we avoid having negative values\n",
    "max_value = fmi[max_key]\n",
    "\n",
    "#print(max_value)\n",
    "# calculate the distance between every bigram in the desired span using the values in the dictionary fmi\n",
    "# formula is written above\n",
    "mutual_distance = {key: max_value - value for key, value in fmi.items()}\n",
    "\n",
    "#print({key: value for key, value in mutual_distance.items() if value <= 3})\n",
    "\n",
    "# Report the result for each annotated sentence\n",
    "# If average is greater than 3, sentence is not a metaphor, so we will choose only the bigrams that indicate the presence of a metaphor\n",
    "metaphor_mutual_distance = {key: value for key, value in mutual_distance.items() if value <= 3}\n",
    "\n",
    "# Save it in your database\n",
    "\n"
   ]
  },
  {
   "cell_type": "markdown",
   "metadata": {},
   "source": [
    "### Find metaphors"
   ]
  },
  {
   "cell_type": "code",
   "execution_count": 27,
   "metadata": {},
   "outputs": [],
   "source": [
    "# Create a function to see if the bigrams in the keys of the dictionary metaphor_mutual_distance are\n",
    "# in the bigrams associated to each sentence in the df dataframe\n",
    "# if the bigrams associated to the current sentence in analysis are in the dictionary metaphor_mutual_distance,\n",
    "# the return value is 'y' to simbolize a metaphor, otherwise it is 'n'\n",
    "def find_metaphor(bigrams, metaphor):\n",
    "    m = [bigram for bigram in bigrams if bigram in metaphor]\n",
    "    if m == []:\n",
    "        return 'n'\n",
    "    else:\n",
    "        return 'y'"
   ]
  },
  {
   "cell_type": "code",
   "execution_count": 28,
   "metadata": {},
   "outputs": [
    {
     "name": "stdout",
     "output_type": "stream",
     "text": [
      "Accuracy: 56.62%\n",
      "The efficiency is not that great since we only got, approximately, half of the predictions correct.\n"
     ]
    }
   ],
   "source": [
    "# Apply the function to every row of the 'Bigrams' column\n",
    "df['Metaphor'] = df.apply(lambda row: find_metaphor(row['Bigrams'], metaphor_mutual_distance), axis=1)\n",
    "\n",
    "# Calculate the corresponding accuracy\n",
    "\n",
    "# calculate True Positives\n",
    "\n",
    "TP = (df['Symbol'] == 'y') & (df['Metaphor'] == 'y')\n",
    "TP = TP.sum()\n",
    "\n",
    "#print(TP)\n",
    "\n",
    "# calculate True Negatives\n",
    "\n",
    "TN = (df['Symbol'] == 'n') & (df['Metaphor'] == 'n')\n",
    "TN = TN.sum()\n",
    "\n",
    "#print(TN)\n",
    "\n",
    "# calculate False Positives\n",
    "\n",
    "FP = (df['Symbol'] == 'n') & (df['Metaphor'] == 'y')\n",
    "FP = FP.sum()\n",
    "\n",
    "#print(FP)\n",
    "\n",
    "# calculate False Negatives\n",
    "\n",
    "FN = (df['Symbol'] == 'y') & (df['Metaphor'] == 'n')\n",
    "FN = FN.sum()\n",
    "\n",
    "#print(FN)\n",
    "\n",
    "# accuracy = correctly classified instances / all instances\n",
    "accuracy = (TP + TN) / df.shape[0]\n",
    "formatted_accuracy = \"{:.2f}%\".format(accuracy * 100)\n",
    "\n",
    "print('Accuracy:', formatted_accuracy)\n",
    "\n",
    "# Comment on the efficiency of the proposed approach.\n",
    "\n",
    "print('The efficiency is not that great since we only got, approximately, half of the predictions correct.')"
   ]
  },
  {
   "cell_type": "markdown",
   "metadata": {},
   "source": [
    "## Task 3"
   ]
  },
  {
   "cell_type": "markdown",
   "metadata": {},
   "source": [
    "We consider the (adjective-noun) type of metaphor (referred to as Metaphor type III). A metaphor  assumes to occur when the categories of noun and adjective are such that one is concrete and the other one is abstract. WordStat noun categorization based on WordNet, which classifies 69,817 nouns into 25 categories, of which 13 are concrete categories (e.g., artifact) provides a database for a such categorization. It is freely available in [`Wordnet based categorization dictionary - Provalis Research`](https://provalisresearch.com/products/content-analysis-software/wordstat-dictionary/wordnet-based-categorization-dictionary/). Write a program that allows you to retrieve the category of noun and adjective / adverb in a sentence according to WordStat."
   ]
  },
  {
   "cell_type": "code",
   "execution_count": 4,
   "metadata": {},
   "outputs": [],
   "source": [
    "# adjective-noun type of metaphor is a Metaphor type III.\n",
    "\n",
    "# If categories of noun and adjective: one is concrete and the other one is abstract,\n",
    "# Then it is a Metaphor.\n",
    "\n",
    "# WordStat noun categorization based on WordNet provides a database for a such categorization.\n",
    "\n",
    "# Retrieve the category of noun and adjective / adverb in a sentence according to WordStat.\n"
   ]
  },
  {
   "cell_type": "code",
   "execution_count": 3,
   "metadata": {},
   "outputs": [],
   "source": [
    "import json\n",
    "import pandas as pd\n",
    "import nltk\n",
    "from nltk.corpus.reader.bnc import BNCCorpusReader\n",
    "from nltk import FreqDist, bigrams\n",
    "import re\n",
    "\n",
    "file_p = r'C:\\Users\\jklbichami\\OneDrive - Valmet\\Documents\\School\\Porgramming\\NLP\\WordNet2\\WordNet Words & Phrases.CAT'\n",
    "\n",
    "with open(file_p, 'r') as file:\n",
    "    cat_data = file.readlines()\n",
    "\n",
    "pattern = r'\\.(.+)'\n",
    "\n",
    "topics = [a.strip('\\n') for a in cat_data if '\\t' not in a ]\n",
    "topics_indices = [cat_data.index(a + '\\n') for a in topics]\n",
    "\n",
    "noun_categories = [re.search(pattern, a).group(1).strip('\\n') for a in cat_data if '\\t\\t' not in a and a.startswith('\\tNOUN.')]\n",
    "noun_categories_idices = [cat_data.index('\\tNOUN.' + a + '\\n') for a in noun_categories]\n",
    "\n",
    "verb_categories = [re.search(pattern, a).group(1).strip('\\n') for a in cat_data if '\\t\\t' not in a and a.startswith('\\tVERB.')]\n",
    "verb_categories_idices = [cat_data.index('\\tVERB.' + a + '\\n') for a in verb_categories]\n",
    "\n",
    "adj_categories = [re.search(pattern, a).group(1).strip('\\n') for a in cat_data if '\\t\\t' not in a and a.startswith('\\tADJ.')]\n",
    "adj_categories_idices = [cat_data.index('\\tADJ.' + a + '\\n') for a in adj_categories]\n",
    "\n",
    "cat_df = pd.DataFrame(columns=['Type', 'Category', 'Word'])\n",
    "\n",
    "\n",
    "## Mikhail: did not finish this but idea is pretty simple\n",
    "## 1. We get the indeces of all topics\n",
    "## 2. We get indeces for respective categories\n",
    "## 3. We iterate through each topics\n",
    "## 4. We iterate through their categories\n",
    "## 5. Assign all results to df based on indices\n",
    "## Here is examplee for Nouns\n",
    "for indx, num in enumerate(noun_categories_idices):\n",
    "    temp_dict = {}\n",
    "    if indx == 0:\n",
    "        temp_dict['Category'] = [noun_categories[indx]]*abs(cat_data.index('NOUNS\\n')+1-noun_categories_idices[indx+1]+1)\n",
    "        temp_dict['Type'] = ['Noun']*abs(cat_data.index('NOUNS\\n')+1-noun_categories_idices[indx+1]+1)\n",
    "        temp_dict['Word'] = [a[2:].strip(' (1)\\n)').lower() for a in  cat_data[cat_data.index('NOUNS\\n')+2:noun_categories_idices[indx+1]]]\n",
    "        cat_df = pd.concat([cat_df, pd.DataFrame(temp_dict)], ignore_index=True)\n",
    "    else:\n",
    "        try:\n",
    "            temp_dict['Category'] = [noun_categories[indx]]*abs(noun_categories_idices[indx]+1-noun_categories_idices[indx+1])\n",
    "            temp_dict['Type'] = ['Noun']*abs(noun_categories_idices[indx]+1-noun_categories_idices[indx+1])\n",
    "            temp_dict['Word'] = [a[2:].strip(' (1)\\n)').lower() for a in  cat_data[noun_categories_idices[indx]+1:noun_categories_idices[indx+1]]]\n",
    "            cat_df = pd.concat([cat_df, pd.DataFrame(temp_dict)], ignore_index=True)\n",
    "        except IndexError:\n",
    "            pass\n",
    "\n",
    "for indx, num in enumerate(verb_categories):\n",
    "    temp_dict = {}\n",
    "    if indx == 0:\n",
    "        temp_dict['Category'] = [verb_categories[indx]]*abs(cat_data.index('VERBS\\n')+1-verb_categories_idices[indx+1]+1)\n",
    "        temp_dict['Type'] = ['Verb']*abs(cat_data.index('VERBS\\n')+1-verb_categories_idices[indx+1]+1)\n",
    "        temp_dict['Word'] = [a[2:].strip(' (1)\\n)').lower() for a in  cat_data[cat_data.index('VERBS\\n')+2:verb_categories_idices[indx+1]]]\n",
    "        cat_df = pd.concat([cat_df, pd.DataFrame(temp_dict)], ignore_index=True)\n",
    "    else:\n",
    "        try:\n",
    "            temp_dict['Category'] = [verb_categories[indx]]*abs(verb_categories_idices[indx]+1-verb_categories_idices[indx+1])\n",
    "            temp_dict['Type'] = ['Verb']*abs(verb_categories_idices[indx]+1-verb_categories_idices[indx+1])\n",
    "            temp_dict['Word'] = [a[2:].strip(' (1)\\n)').lower() for a in  cat_data[verb_categories_idices[indx]+1:verb_categories_idices[indx+1]]]\n",
    "            cat_df = pd.concat([cat_df, pd.DataFrame(temp_dict)], ignore_index=True)\n",
    "        except IndexError:\n",
    "            pass\n",
    "\n",
    "for indx, num in enumerate(adj_categories):\n",
    "    temp_dict = {}\n",
    "    if indx == 0:\n",
    "        temp_dict['Category'] = [adj_categories[indx]]*abs(cat_data.index('ADJECTIVES\\n')+1-adj_categories_idices[indx+1]+1)\n",
    "        temp_dict['Type'] = ['Adjective']*abs(cat_data.index('ADJECTIVES\\n')+1-adj_categories_idices[indx+1]+1)\n",
    "        temp_dict['Word'] = [a[2:].strip(' (1)\\n)').lower() for a in  cat_data[cat_data.index('ADJECTIVES\\n')+2:adj_categories_idices[indx+1]]]\n",
    "        cat_df = pd.concat([cat_df, pd.DataFrame(temp_dict)], ignore_index=True)\n",
    "    else:\n",
    "        try:\n",
    "            temp_dict['Category'] = [adj_categories[indx]]*abs(adj_categories_idices[indx]+1-adj_categories_idices[indx+1])\n",
    "            temp_dict['Type'] = ['Adjective']*abs(adj_categories_idices[indx]+1-adj_categories_idices[indx+1])\n",
    "            temp_dict['Word'] = [a[2:].strip(' (1)\\n)').lower() for a in  cat_data[adj_categories_idices[indx]+1:adj_categories_idices[indx+1]]]\n",
    "            cat_df = pd.concat([cat_df, pd.DataFrame(temp_dict)], ignore_index=True)\n",
    "        except IndexError:\n",
    "            pass\n",
    "\n",
    "temp_dict = {}\n",
    "temp_dict['Category'] = ['All']*abs(cat_data.index('ADVERBS\\n')+2-cat_data.index('NOUNS\\n'))\n",
    "temp_dict['Type'] = ['Adverb']*abs(cat_data.index('ADVERBS\\n')+2-cat_data.index('NOUNS\\n'))\n",
    "temp_dict['Word'] = [a[2:].strip(' (1)\\n)').lower() for a in  cat_data[cat_data.index('ADVERBS\\n')+2:cat_data.index('NOUNS\\n')]]\n",
    "cat_df = pd.concat([cat_df, pd.DataFrame(temp_dict)], ignore_index=True)\n",
    "\n"
   ]
  },
  {
   "cell_type": "code",
   "execution_count": 44,
   "metadata": {},
   "outputs": [
    {
     "data": {
      "text/plain": [
       "Type\n",
       "Noun         128014\n",
       "Verb          17938\n",
       "Adverb         4667\n",
       "Adjective      4374\n",
       "Name: count, dtype: int64"
      ]
     },
     "execution_count": 44,
     "metadata": {},
     "output_type": "execute_result"
    }
   ],
   "source": [
    "cat_df['Type'].value_counts()"
   ]
  },
  {
   "cell_type": "code",
   "execution_count": 4,
   "metadata": {},
   "outputs": [],
   "source": [
    "# Here is just an example how to get words\n",
    "from nltk.tokenize import word_tokenize\n",
    "sent = 'I love exceptional food with green salad'\n",
    "to = word_tokenize(sent)\n",
    "res = [(a, \n",
    "        list(cat_df['Category'][cat_df['Word'] == a]), \n",
    "        list(cat_df['Type'][cat_df['Word'] == a])) \n",
    "                for a in to]"
   ]
  },
  {
   "cell_type": "code",
   "execution_count": 109,
   "metadata": {},
   "outputs": [
    {
     "data": {
      "text/plain": [
       "[('I', [], []),\n",
       " ('love',\n",
       "  ['ACT', 'COGNITION', 'FEELING', 'PERSON', 'QUANTITY', 'CONTACT', 'EMOTION'],\n",
       "  ['Noun', 'Noun', 'Noun', 'Noun', 'Noun', 'Verb', 'Verb']),\n",
       " ('exceptional', [], []),\n",
       " ('food', ['TOPS', 'COGNITION', 'FOOD'], ['Noun', 'Noun', 'Noun']),\n",
       " ('with', [], []),\n",
       " ('green',\n",
       "  ['ARTIFACT',\n",
       "   'ATTRIBUTE',\n",
       "   'FOOD',\n",
       "   'LOCATION',\n",
       "   'OBJECT',\n",
       "   'PERSON',\n",
       "   'CHANGE',\n",
       "   'PERT'],\n",
       "  ['Noun', 'Noun', 'Noun', 'Noun', 'Noun', 'Noun', 'Verb', 'Adjective']),\n",
       " ('salad', ['FOOD'], ['Noun'])]"
      ]
     },
     "execution_count": 109,
     "metadata": {},
     "output_type": "execute_result"
    }
   ],
   "source": [
    "res"
   ]
  },
  {
   "cell_type": "markdown",
   "metadata": {},
   "source": [
    "## Task 4"
   ]
  },
  {
   "cell_type": "markdown",
   "metadata": {},
   "source": [
    "Now we would like to imitate the procedure mentioned in Neuman’s paper for type III semaphore. Write a program that identifies the occurrence of Noun-Adjective/Adverb part-of-speech in a given sentence. Then, use WordNet lexical database to find out the number of senses of each adjective. If every adjective has one single sense, then return, no metaphor. If the Noun has no entry in wordnet, then return UNKNOWN. Otherwise (adjective has more than one sense and noun has an entry in WordNet), then identify the set S of nouns in the BNC corpus that collocate with the given Noun of the given sentence (this corresponds to a set of nouns whose mutual information value is greater or equal than 3). Next, for each element (noun) of S, use the WordStat categorization to identify those who belong to concrete class. Let S1 be a subset of S, which contains these “concrete”-category nouns. If the number of elements in S1 is large, then restrict to the first three elements who have the highest mutual information values. Finally, to find out whether, whether the sentence containing adjective A and noun N is a metaphor, we need to test the compatibility of each elements of S1 with N. If there is no elements in S1 compatible with N, then we shall consider S as a metaphor, otherwise, it is not. To evaluate this compatibility, you can use the Wu and Palmer WordNet semantic similarity already implemented in NLTK. Therefore, assume that if the Wu and Palmer semantic similarity of at least of the nouns in S1 with N is greater than a threshold 0.4, then the compatibility between S1 and N is granted. (Note this is only a very rough approximation). Write a code that implements this reasoning and test it on two simple examples of your choice. Test this process for other values of threshold values (e.g., 0.3, 0.5, 0.6) "
   ]
  },
  {
   "cell_type": "code",
   "execution_count": 5,
   "metadata": {},
   "outputs": [],
   "source": [
    "from nltk.corpus import wordnet as wn\n",
    "\n",
    "# Imitate the procedure mentioned in Neuman’s paper for type III semaphore\n",
    "\n",
    "# Identify the occurrence of Noun-Adjective/Adverb part-of-speech in a given sentence.\n",
    "\n",
    "# Use WordNet lexical database to find out the number of senses of each adjective.\n",
    "\n",
    "# If every adjective has one single sense, then no metaphor\n",
    "\n",
    "# If the Noun has no entry in wordnet, then return UNKNOWN.\n",
    "\n",
    "# Otherwise: adjective has more than one sense and noun has an entry in WordNet\n",
    "\n",
    "# Identify the set S of nouns in the BNC corpus that collocate with the given Noun of the given sentence\n",
    "# set of nouns: mutual information value is >= 3\n",
    "\n",
    "# Use the WordStat categorization for each noun in S to identify those who belong to concrete class.\n",
    "\n",
    "# Let S1 be a subset of S, which contains these “concrete”-category nouns.\n",
    "# If the number of elements in S1 is large, then restrict to the first three elements who have the highest mutual information values.\n",
    "\n",
    "# Test the compatibility of each elements of S1 with N.\n",
    "# To check if the sentence containing adjective A and noun N is a metaphor\n",
    "\n",
    "# If there is no elements in S1 compatible with N, then we shall consider S as a metaphor\n",
    "\n",
    "# Evaluate, using the Wu and Palmer WordNet semantic similarity from NLTK.\n",
    "\n",
    "# if semantic similarity of at least of the nouns in S1 with N >= 0.4, then the compatibility between S1 and N is granted.\n",
    "\n",
    "# Test it on two simple examples of your choice. \n",
    "\n",
    "# Test this process for other values of threshold values (e.g., 0.3, 0.5, 0.6) \n"
   ]
  },
  {
   "cell_type": "code",
   "execution_count": 32,
   "metadata": {},
   "outputs": [],
   "source": [
    "## Getting synset using simple lesk\n",
    "\n",
    "from pywsd.lesk import simple_lesk\n",
    "from nltk.tokenize import word_tokenize \n",
    "\n",
    "df['Synsets'] = df.apply(lambda row: [simple_lesk(row['Text'], g) for g in word_tokenize(row['Text'])], axis = 1)"
   ]
  },
  {
   "cell_type": "code",
   "execution_count": 9,
   "metadata": {},
   "outputs": [
    {
     "data": {
      "text/plain": [
       "[Synset('vitamin_a.n.01'),\n",
       " None,\n",
       " Synset('temper.v.04'),\n",
       " None,\n",
       " Synset('coldness.n.03'),\n",
       " Synset('exist.v.01'),\n",
       " None,\n",
       " Synset('temper.v.04'),\n",
       " None,\n",
       " Synset('iniquity.n.01')]"
      ]
     },
     "execution_count": 9,
     "metadata": {},
     "output_type": "execute_result"
    }
   ],
   "source": [
    "df.loc[675, 'Synsets']"
   ]
  },
  {
   "cell_type": "code",
   "execution_count": 10,
   "metadata": {},
   "outputs": [
    {
     "data": {
      "text/plain": [
       "'as the season of cold is the season of darkness '"
      ]
     },
     "execution_count": 10,
     "metadata": {},
     "output_type": "execute_result"
    }
   ],
   "source": [
    "df.loc[675, 'Text']"
   ]
  },
  {
   "cell_type": "code",
   "execution_count": 33,
   "metadata": {},
   "outputs": [],
   "source": [
    "# Function to get pos of each synset\n",
    "\n",
    "def get_word_type(list_of_syns, sent):\n",
    "    \n",
    "    ret_dict = {}\n",
    "    for indx, syn in enumerate(list_of_syns):\n",
    "        try:\n",
    "            ret_dict[sent[indx]] = (syn.name()).split(\".\")[1]\n",
    "        except AttributeError:\n",
    "            ret_dict[sent[indx]] = None\n",
    "\n",
    "    return ret_dict"
   ]
  },
  {
   "cell_type": "code",
   "execution_count": 34,
   "metadata": {},
   "outputs": [],
   "source": [
    "df['Types of Words'] = df.apply(lambda row: get_word_type(row['Synsets'], word_tokenize(row['Text'])), axis = 1)"
   ]
  },
  {
   "cell_type": "code",
   "execution_count": 35,
   "metadata": {},
   "outputs": [],
   "source": [
    "## Loading data from jsons\n",
    "\n",
    "with open('bigram_bnc.json', 'r') as json_file:\n",
    "    data = json.load(json_file)\n",
    "\n",
    "bigram_data = {}\n",
    "for i in data:\n",
    "    bigram_data[tuple(i['key'])] = i['value']\n",
    "\n",
    "with open('unogram_bnc.json', 'r') as json_file:\n",
    "    unigram_frequency = json.load(json_file)\n"
   ]
  },
  {
   "cell_type": "code",
   "execution_count": 36,
   "metadata": {},
   "outputs": [],
   "source": [
    "\n",
    "    \n",
    "def Mutual_information(bigram_item, filteredCorpus, Corpus, span = 2):    \n",
    "    '''\n",
    "    Calculates Mutual information between node and collocate words\n",
    "    bigram_item = The bigram which is considered in the equation\n",
    "    filteredCorpus = The corpus with only considered words.\n",
    "    Corpus = The whole corpus.\n",
    "    span = span of words\n",
    "    '''\n",
    "    try:\n",
    "        \n",
    "        return math.log10((filteredCorpus[bigram_item] * FreqDist(Corpus).N()) / (Corpus[bigram_item[0]] * Corpus[bigram_item[1]] * span))/math.log10(2)\n",
    "    except:\n",
    "        return\n"
   ]
  },
  {
   "cell_type": "code",
   "execution_count": 37,
   "metadata": {},
   "outputs": [],
   "source": [
    "## Checking if word[0] that is our noun present as some pair in nbc bigram\n",
    "## If present, then calculate Mulutal for list of pairs from bnc\n",
    "\n",
    "def find_mathcing_words_from_bnc(word):\n",
    "    list_of_interest = []\n",
    "    for key in bigram_data.keys():\n",
    "        if key[0] == word:\n",
    "            list_of_interest.append(key)\n",
    "            # calculate mutual information for each of the bigrams in the desired span in each sentence of the annotated corpus\n",
    "    outcome = {bigram: Mutual_information(bigram, bigram_data, unigram_frequency, span = 4) for bigram in list_of_interest}\n",
    "    print (f'outcome is {outcome}')\n",
    "    return outcome\n",
    "    "
   ]
  },
  {
   "cell_type": "code",
   "execution_count": 38,
   "metadata": {},
   "outputs": [],
   "source": [
    "#### UNFINISHED\n",
    "\n",
    "## Function to check if len of synsets is 1 and return No Metaphor\n",
    "## if len > 1 find_mathcing_words_from_bnc()\n",
    "## Must have expetion for words where simple lesk did not find pos\n",
    "\n",
    "from nltk.corpus import wordnet as wn\n",
    "def get_senses(word_adj, p_o_s, word_noun):\n",
    "    try:\n",
    "        if len(wn.synsets(word_adj,pos =p_o_s)) == 1:\n",
    "            return 'No Metaphor'\n",
    "        elif len(wn.synsets(word_adj,pos =p_o_s)) >= 1:\n",
    "            return find_mathcing_words_from_bnc(word_noun)\n",
    "    except  KeyError:\n",
    "        return"
   ]
  },
  {
   "cell_type": "code",
   "execution_count": 45,
   "metadata": {},
   "outputs": [],
   "source": [
    "## Function to check if bigram if it is Noun-Adjective/Adverb pair\n",
    "\n",
    "def find_noun_and_adj_or_adv(bigram, input_dict):\n",
    "    outcome_res = []\n",
    "    for pair in bigram:\n",
    "        try:\n",
    "            ## Here we assume that if simple lesk managed to identify word as noun, then it has at least one sens\n",
    "            if input_dict[pair[0]] == 'n' and (input_dict[pair[1]] == 'a' or input_dict[pair[1]] == 'r'):\n",
    "                print('found')\n",
    "                print (get_senses(pair[1], 'a', pair[0]))\n",
    "                outcome_res.append(get_senses(pair[1], 'a', pair[0]))\n",
    "            elif (input_dict[pair[0]] == 'a' or input_dict[pair[0]] == 'r')and input_dict[pair[1]] == 'n':\n",
    "                print (get_senses(pair[0], 'a', pair[1]))\n",
    "                outcome_res.append(get_senses(pair[0], 'a', pair[1])) \n",
    "\n",
    "        except KeyError:\n",
    "            print(bigram)\n",
    "            outcome_res.append('Simple Lesk not classifying words well')\n",
    "\n",
    "    return outcome_res"
   ]
  },
  {
   "cell_type": "code",
   "execution_count": 46,
   "metadata": {},
   "outputs": [
    {
     "name": "stdout",
     "output_type": "stream",
     "text": [
      "None\n",
      "[('earth', 'door'), ('door', 'cannot')]\n",
      "outcome is {('terror', 'woman'): -1.3438293164061688}\n",
      "{('terror', 'woman'): -1.3438293164061688}\n",
      "outcome is {('terror', 'woman'): -1.3438293164061688}\n",
      "[('broken', 'body'), ('body', 'afterimage'), ('afterimage', 'st')]\n",
      "found\n",
      "outcome is {('strain', 'body'): 0.5005862219451188, ('strain', 'use'): -2.6448078571550107}\n",
      "{('strain', 'body'): 0.5005862219451188, ('strain', 'use'): -2.6448078571550107}\n",
      "outcome is {('strain', 'body'): 0.5005862219451188, ('strain', 'use'): -2.6448078571550107}\n",
      "outcome is {('mr', 'body'): -5.679828692316529, ('mr', 'use'): -8.017867849359055, ('mr', 'woman'): -6.517129834224331}\n",
      "{('mr', 'body'): -5.679828692316529, ('mr', 'use'): -8.017867849359055, ('mr', 'woman'): -6.517129834224331}\n",
      "outcome is {('mr', 'body'): -5.679828692316529, ('mr', 'use'): -8.017867849359055, ('mr', 'woman'): -6.517129834224331}\n",
      "found\n",
      "outcome is {('city', 'use'): -5.263401731969703, ('city', 'woman'): -3.0256981226687745, ('city', 'body'): -5.510325075648334}\n",
      "{('city', 'use'): -5.263401731969703, ('city', 'woman'): -3.0256981226687745, ('city', 'body'): -5.510325075648334}\n",
      "outcome is {('city', 'use'): -5.263401731969703, ('city', 'woman'): -3.0256981226687745, ('city', 'body'): -5.510325075648334}\n",
      "None\n",
      "found\n",
      "None\n",
      "None\n",
      "None\n",
      "found\n",
      "No Metaphor\n",
      "[('ivory', 'dreams'), ('dreams', 'will-o-the-wisps'), ('will-o-the-wisps', 'scant')]\n",
      "[('ivory', 'dreams'), ('dreams', 'will-o-the-wisps'), ('will-o-the-wisps', 'scant')]\n",
      "None\n",
      "found\n",
      "None\n",
      "None\n",
      "outcome is {('nature', 'woman'): -1.8160156443360842, ('nature', 'body'): -1.9787145024282813, ('nature', 'use'): -2.3167536594708067}\n",
      "{('nature', 'woman'): -1.8160156443360842, ('nature', 'body'): -1.9787145024282813, ('nature', 'use'): -2.3167536594708067}\n",
      "outcome is {('nature', 'woman'): -1.8160156443360842, ('nature', 'body'): -1.9787145024282813, ('nature', 'use'): -2.3167536594708067}\n",
      "No Metaphor\n",
      "outcome is {('heart', 'body'): -1.2738996759090204, ('heart', 'woman'): -1.5706324364541204, ('heart', 'use'): -5.071370451588843, ('heart', 'dream'): -0.6877048296977859}\n",
      "{('heart', 'body'): -1.2738996759090204, ('heart', 'woman'): -1.5706324364541204, ('heart', 'use'): -5.071370451588843, ('heart', 'dream'): -0.6877048296977859}\n",
      "outcome is {('heart', 'body'): -1.2738996759090204, ('heart', 'woman'): -1.5706324364541204, ('heart', 'use'): -5.071370451588843, ('heart', 'dream'): -0.6877048296977859}\n",
      "None\n",
      "outcome is {('life', 'body'): -2.2533428140495704, ('life', 'woman'): -1.0906439559573733, ('life', 'use'): -3.4710877373743836, ('life', 'dream'): -0.9943127110918453}\n",
      "{('life', 'body'): -2.2533428140495704, ('life', 'woman'): -1.0906439559573733, ('life', 'use'): -3.4710877373743836, ('life', 'dream'): -0.9943127110918453}\n",
      "outcome is {('life', 'body'): -2.2533428140495704, ('life', 'woman'): -1.0906439559573733, ('life', 'use'): -3.4710877373743836, ('life', 'dream'): -0.9943127110918453}\n",
      "outcome is {('man', 'woman'): 2.6517175880880655, ('man', 'body'): -0.6852913661321661, ('man', 'dream'): -0.32698911963446814, ('man', 'use'): -3.628192581333552}\n",
      "{('man', 'woman'): 2.6517175880880655, ('man', 'body'): -0.6852913661321661, ('man', 'dream'): -0.32698911963446814, ('man', 'use'): -3.628192581333552}\n",
      "outcome is {('man', 'woman'): 2.6517175880880655, ('man', 'body'): -0.6852913661321661, ('man', 'dream'): -0.32698911963446814, ('man', 'use'): -3.628192581333552}\n",
      "[('if', 'snark'), ('snark', 'snark'), ('snark', 'right')]\n",
      "found\n",
      "None\n",
      "found\n",
      "None\n",
      "[('poetry', 'curs'), ('curs', 'd')]\n",
      "[('jewels', 'baubles'), ('baubles', 't')]\n",
      "found\n",
      "No Metaphor\n",
      "None\n",
      "[('marble', 'must'), ('must', 'breast'), ('breast', 'form'), ('form', 'd')]\n",
      "[('peace', 'garner'), ('garner', 'd')]\n",
      "No Metaphor\n",
      "[('deceiv', 'd'), ('d', 'love'), ('love', 'work'), ('work', 'art')]\n",
      "outcome is {('round', 'use'): -2.9576249013426192, ('round', 'body'): -0.241074121046364, ('round', 'woman'): -2.4568868862078967, ('round', 'dream'): -1.4808498750600805}\n",
      "{('round', 'use'): -2.9576249013426192, ('round', 'body'): -0.241074121046364, ('round', 'woman'): -2.4568868862078967, ('round', 'dream'): -1.4808498750600805}\n",
      "outcome is {('round', 'use'): -2.9576249013426192, ('round', 'body'): -0.241074121046364, ('round', 'woman'): -2.4568868862078967, ('round', 'dream'): -1.4808498750600805}\n",
      "[('living', 'soul'), ('soul', 'flash'), ('flash', 'd')]\n",
      "[('whose', 'echo'), ('echo', 'heavn'), ('heavn', 'bliss')]\n",
      "outcome is {('knowledge', 'use'): -1.1778059872708857, ('knowledge', 'body'): -1.6698418287860484, ('knowledge', 'woman'): -2.355139877248801}\n",
      "{('knowledge', 'use'): -1.1778059872708857, ('knowledge', 'body'): -1.6698418287860484, ('knowledge', 'woman'): -2.355139877248801}\n",
      "outcome is {('knowledge', 'use'): -1.1778059872708857, ('knowledge', 'body'): -1.6698418287860484, ('knowledge', 'woman'): -2.355139877248801}\n",
      "[('revenge', 'towrs'), ('towrs', 'heavn'), ('heavn', 'fill'), ('fill', 'd')]\n",
      "[('d', 'since'), ('since', 'god'), ('god', 'light')]\n",
      "[('d', 'soon'), ('soon', 'joy'), ('joy', 'turn'), ('turn', 'd')]\n",
      "outcome is {('sea', 'dream'): -1.1897591840953112, ('sea', 'use'): -3.6665342103778493, ('sea', 'body'): -2.0654606475015305, ('sea', 'woman'): -4.4877242901304895}\n",
      "{('sea', 'dream'): -1.1897591840953112, ('sea', 'use'): -3.6665342103778493, ('sea', 'body'): -2.0654606475015305, ('sea', 'woman'): -4.4877242901304895}\n",
      "outcome is {('sea', 'dream'): -1.1897591840953112, ('sea', 'use'): -3.6665342103778493, ('sea', 'body'): -2.0654606475015305, ('sea', 'woman'): -4.4877242901304895}\n",
      "found\n",
      "None\n",
      "[('man', 'vanquish'), ('vanquish', 'd'), ('d', 'foe')]\n",
      "[('nt', 'know'), ('know', 'sugar'), ('sugar', 'love')]\n",
      "found\n",
      "No Metaphor\n",
      "outcome is {('symptom', 'use'): -1.5145056278462912, ('symptom', 'body'): -0.17646647080376598, ('symptom', 'woman'): -0.013767612711568707}\n",
      "{('symptom', 'use'): -1.5145056278462912, ('symptom', 'body'): -0.17646647080376598, ('symptom', 'woman'): -0.013767612711568707}\n",
      "outcome is {('symptom', 'use'): -1.5145056278462912, ('symptom', 'body'): -0.17646647080376598, ('symptom', 'woman'): -0.013767612711568707}\n",
      "found\n",
      "No Metaphor\n",
      "No Metaphor\n",
      "outcome is {('man', 'woman'): 2.6517175880880655, ('man', 'body'): -0.6852913661321661, ('man', 'dream'): -0.32698911963446814, ('man', 'use'): -3.628192581333552}\n",
      "{('man', 'woman'): 2.6517175880880655, ('man', 'body'): -0.6852913661321661, ('man', 'dream'): -0.32698911963446814, ('man', 'use'): -3.628192581333552}\n",
      "outcome is {('man', 'woman'): 2.6517175880880655, ('man', 'body'): -0.6852913661321661, ('man', 'dream'): -0.32698911963446814, ('man', 'use'): -3.628192581333552}\n",
      "outcome is {('man', 'woman'): 2.6517175880880655, ('man', 'body'): -0.6852913661321661, ('man', 'dream'): -0.32698911963446814, ('man', 'use'): -3.628192581333552}\n",
      "{('man', 'woman'): 2.6517175880880655, ('man', 'body'): -0.6852913661321661, ('man', 'dream'): -0.32698911963446814, ('man', 'use'): -3.628192581333552}\n",
      "outcome is {('man', 'woman'): 2.6517175880880655, ('man', 'body'): -0.6852913661321661, ('man', 'dream'): -0.32698911963446814, ('man', 'use'): -3.628192581333552}\n",
      "outcome is {('man', 'woman'): 2.6517175880880655, ('man', 'body'): -0.6852913661321661, ('man', 'dream'): -0.32698911963446814, ('man', 'use'): -3.628192581333552}\n",
      "{('man', 'woman'): 2.6517175880880655, ('man', 'body'): -0.6852913661321661, ('man', 'dream'): -0.32698911963446814, ('man', 'use'): -3.628192581333552}\n",
      "outcome is {('man', 'woman'): 2.6517175880880655, ('man', 'body'): -0.6852913661321661, ('man', 'dream'): -0.32698911963446814, ('man', 'use'): -3.628192581333552}\n",
      "found\n",
      "outcome is {('life', 'body'): -2.2533428140495704, ('life', 'woman'): -1.0906439559573733, ('life', 'use'): -3.4710877373743836, ('life', 'dream'): -0.9943127110918453}\n",
      "{('life', 'body'): -2.2533428140495704, ('life', 'woman'): -1.0906439559573733, ('life', 'use'): -3.4710877373743836, ('life', 'dream'): -0.9943127110918453}\n",
      "outcome is {('life', 'body'): -2.2533428140495704, ('life', 'woman'): -1.0906439559573733, ('life', 'use'): -3.4710877373743836, ('life', 'dream'): -0.9943127110918453}\n",
      "outcome is {}\n",
      "{}\n",
      "outcome is {}\n",
      "None\n",
      "found\n",
      "None\n",
      "outcome is {('son', 'woman'): -1.171519820305309, ('son', 'body'): -2.334218678397506, ('son', 'use'): -3.994185930327394}\n",
      "{('son', 'woman'): -1.171519820305309, ('son', 'body'): -2.334218678397506, ('son', 'use'): -3.994185930327394}\n",
      "outcome is {('son', 'woman'): -1.171519820305309, ('son', 'body'): -2.334218678397506, ('son', 'use'): -3.994185930327394}\n",
      "outcome is {('sweet', 'woman'): -1.0423700838852552, ('sweet', 'dream'): 1.6706325214287672}\n",
      "{('sweet', 'woman'): -1.0423700838852552, ('sweet', 'dream'): 1.6706325214287672}\n",
      "outcome is {('sweet', 'woman'): -1.0423700838852552, ('sweet', 'dream'): 1.6706325214287672}\n",
      "outcome is {('rhymes', 'use'): -0.14463444461558234}\n",
      "{('rhymes', 'use'): -0.14463444461558234}\n",
      "outcome is {('rhymes', 'use'): -0.14463444461558234}\n",
      "found\n",
      "None\n",
      "found\n",
      "outcome is {('sky', 'woman'): -2.070620714379832, ('sky', 'body'): -3.2333195724720296}\n",
      "{('sky', 'woman'): -2.070620714379832, ('sky', 'body'): -3.2333195724720296}\n",
      "outcome is {('sky', 'woman'): -2.070620714379832, ('sky', 'body'): -3.2333195724720296}\n",
      "[('the', 'islands'), ('islands', 'prisons'), ('prisons', 'one')]\n",
      "found\n",
      "None\n",
      "None\n",
      "found\n",
      "None\n",
      "None\n",
      "found\n",
      "None\n",
      "found\n",
      "outcome is {('asset', 'body'): -2.0247465641376974, ('asset', 'use'): -3.362785721180223}\n",
      "{('asset', 'body'): -2.0247465641376974, ('asset', 'use'): -3.362785721180223}\n",
      "outcome is {('asset', 'body'): -2.0247465641376974, ('asset', 'use'): -3.362785721180223}\n",
      "None\n",
      "None\n",
      "found\n",
      "No Metaphor\n",
      "found\n",
      "No Metaphor\n",
      "outcome is {('community', 'use'): -1.9464576983738908, ('community', 'body'): -2.70795421488228, ('community', 'dream'): -3.0546451728125086}\n",
      "{('community', 'use'): -1.9464576983738908, ('community', 'body'): -2.70795421488228, ('community', 'dream'): -3.0546451728125086}\n",
      "outcome is {('community', 'use'): -1.9464576983738908, ('community', 'body'): -2.70795421488228, ('community', 'dream'): -3.0546451728125086}\n",
      "None\n",
      "None\n",
      "found\n",
      "outcome is {('dusk', 'dream'): 2.27657089384891}\n",
      "{('dusk', 'dream'): 2.27657089384891}\n",
      "outcome is {('dusk', 'dream'): 2.27657089384891}\n",
      "found\n",
      "None\n",
      "outcome is {('door', 'woman'): -1.3682701130557988, ('door', 'use'): -3.6990831267482087, ('door', 'body'): -2.530968971147996}\n",
      "{('door', 'woman'): -1.3682701130557988, ('door', 'use'): -3.6990831267482087, ('door', 'body'): -2.530968971147996}\n",
      "outcome is {('door', 'woman'): -1.3682701130557988, ('door', 'use'): -3.6990831267482087, ('door', 'body'): -2.530968971147996}\n",
      "[('let', 'mine'), ('mine', 'eyes'), ('eyes', 'hell-drivn'), ('hell-drivn', 'light')]\n",
      "found\n",
      "None\n",
      "outcome is {('fool', 'use'): -3.2215964264304664, ('fool', 'woman'): 1.2791415887042559}\n",
      "{('fool', 'use'): -3.2215964264304664, ('fool', 'woman'): 1.2791415887042559}\n",
      "outcome is {('fool', 'use'): -3.2215964264304664, ('fool', 'woman'): 1.2791415887042559}\n",
      "[('d', 'ease'), ('ease', 'gold'), ('gold', 'word')]\n",
      "found\n",
      "None\n",
      "None\n",
      "outcome is {('things', 'body'): -2.891307719494756, ('things', 'woman'): -2.7286088614025585, ('things', 'use'): -2.1652165391175657}\n",
      "{('things', 'body'): -2.891307719494756, ('things', 'woman'): -2.7286088614025585, ('things', 'use'): -2.1652165391175657}\n",
      "outcome is {('things', 'body'): -2.891307719494756, ('things', 'woman'): -2.7286088614025585, ('things', 'use'): -2.1652165391175657}\n",
      "No Metaphor\n",
      "None\n",
      "outcome is {('saddle', 'body'): 0.4924583410617185}\n",
      "{('saddle', 'body'): 0.4924583410617185}\n",
      "outcome is {('saddle', 'body'): 0.4924583410617185}\n",
      "found\n",
      "No Metaphor\n",
      "found\n",
      "None\n",
      "None\n",
      "found\n",
      "None\n",
      "found\n",
      "outcome is {('sky', 'woman'): -2.070620714379832, ('sky', 'body'): -3.2333195724720296}\n",
      "{('sky', 'woman'): -2.070620714379832, ('sky', 'body'): -3.2333195724720296}\n",
      "outcome is {('sky', 'woman'): -2.070620714379832, ('sky', 'body'): -3.2333195724720296}\n"
     ]
    }
   ],
   "source": [
    "## Check here. Returns only small amount of bigrams with mutual information\n",
    "\n",
    "df['Metaphor III'] = df.apply(lambda row: find_noun_and_adj_or_adv(row['Bigrams'],row['Types of Words']), axis=1)"
   ]
  },
  {
   "cell_type": "code",
   "execution_count": 51,
   "metadata": {},
   "outputs": [
    {
     "data": {
      "text/plain": [
       "Metaphor III\n",
       "[]                                                                                                                                                                     593\n",
       "[None]                                                                                                                                                                  27\n",
       "[Simple Lesk not classifying words well]                                                                                                                                18\n",
       "[No Metaphor]                                                                                                                                                            9\n",
       "[{('man', 'woman'): 2.6517175880880655, ('man', 'body'): -0.6852913661321661, ('man', 'dream'): -0.32698911963446814, ('man', 'use'): -3.628192581333552}]               4\n",
       "[None, None]                                                                                                                                                             3\n",
       "[{('sky', 'woman'): -2.070620714379832, ('sky', 'body'): -3.2333195724720296}]                                                                                           2\n",
       "[{('son', 'woman'): -1.171519820305309, ('son', 'body'): -2.334218678397506, ('son', 'use'): -3.994185930327394}]                                                        1\n",
       "[{('sweet', 'woman'): -1.0423700838852552, ('sweet', 'dream'): 1.6706325214287672}]                                                                                      1\n",
       "[{('rhymes', 'use'): -0.14463444461558234}]                                                                                                                              1\n",
       "[{('community', 'use'): -1.9464576983738908, ('community', 'body'): -2.70795421488228, ('community', 'dream'): -3.0546451728125086}]                                     1\n",
       "[{('asset', 'body'): -2.0247465641376974, ('asset', 'use'): -3.362785721180223}]                                                                                         1\n",
       "[No Metaphor, No Metaphor]                                                                                                                                               1\n",
       "[{('dusk', 'dream'): 2.27657089384891}]                                                                                                                                  1\n",
       "[{('door', 'woman'): -1.3682701130557988, ('door', 'use'): -3.6990831267482087, ('door', 'body'): -2.530968971147996}]                                                   1\n",
       "[{('fool', 'use'): -3.2215964264304664, ('fool', 'woman'): 1.2791415887042559}]                                                                                          1\n",
       "[{('things', 'body'): -2.891307719494756, ('things', 'woman'): -2.7286088614025585, ('things', 'use'): -2.1652165391175657}]                                             1\n",
       "[{('life', 'body'): -2.2533428140495704, ('life', 'woman'): -1.0906439559573733, ('life', 'use'): -3.4710877373743836, ('life', 'dream'): -0.9943127110918453}, {}]      1\n",
       "[{('knowledge', 'use'): -1.1778059872708857, ('knowledge', 'body'): -1.6698418287860484, ('knowledge', 'woman'): -2.355139877248801}]                                    1\n",
       "[{('symptom', 'use'): -1.5145056278462912, ('symptom', 'body'): -0.17646647080376598, ('symptom', 'woman'): -0.013767612711568707}]                                      1\n",
       "[{('sea', 'dream'): -1.1897591840953112, ('sea', 'use'): -3.6665342103778493, ('sea', 'body'): -2.0654606475015305, ('sea', 'woman'): -4.4877242901304895}]              1\n",
       "[{('round', 'use'): -2.9576249013426192, ('round', 'body'): -0.241074121046364, ('round', 'woman'): -2.4568868862078967, ('round', 'dream'): -1.4808498750600805}]       1\n",
       "[{('life', 'body'): -2.2533428140495704, ('life', 'woman'): -1.0906439559573733, ('life', 'use'): -3.4710877373743836, ('life', 'dream'): -0.9943127110918453}]          1\n",
       "[{('heart', 'body'): -1.2738996759090204, ('heart', 'woman'): -1.5706324364541204, ('heart', 'use'): -5.071370451588843, ('heart', 'dream'): -0.6877048296977859}]       1\n",
       "[{('nature', 'woman'): -1.8160156443360842, ('nature', 'body'): -1.9787145024282813, ('nature', 'use'): -2.3167536594708067}]                                            1\n",
       "[Simple Lesk not classifying words well, Simple Lesk not classifying words well]                                                                                         1\n",
       "[{('city', 'use'): -5.263401731969703, ('city', 'woman'): -3.0256981226687745, ('city', 'body'): -5.510325075648334}]                                                    1\n",
       "[{('mr', 'body'): -5.679828692316529, ('mr', 'use'): -8.017867849359055, ('mr', 'woman'): -6.517129834224331}]                                                           1\n",
       "[{('strain', 'body'): 0.5005862219451188, ('strain', 'use'): -2.6448078571550107}]                                                                                       1\n",
       "[{('terror', 'woman'): -1.3438293164061688}]                                                                                                                             1\n",
       "[{('saddle', 'body'): 0.4924583410617185}]                                                                                                                               1\n",
       "Name: count, dtype: int64"
      ]
     },
     "execution_count": 51,
     "metadata": {},
     "output_type": "execute_result"
    }
   ],
   "source": [
    "## Counts do not look promising\n",
    "df['Metaphor III'].value_counts()"
   ]
  },
  {
   "cell_type": "markdown",
   "metadata": {},
   "source": [
    "## Task 5"
   ]
  },
  {
   "cell_type": "markdown",
   "metadata": {},
   "source": [
    "Test the above reasoning on the first half of the dataset https://www.eecs.uottawa.ca/~diana/resources/metaphor/type1_metaphor_annotated.txt where adjective-noun type of relationship occurs. Motivate your reasoning and answers. Estimate the accuracy accordingly, and report individual results in your database."
   ]
  },
  {
   "cell_type": "code",
   "execution_count": 7,
   "metadata": {},
   "outputs": [],
   "source": [
    "# Test the above reasoning on the first half of the dataset\n",
    "\n",
    "# Motivate your reasoning and answers.\n",
    "\n",
    "# Estimate the accuracy accordingly, and report individual results in your database.\n"
   ]
  },
  {
   "cell_type": "markdown",
   "metadata": {},
   "source": [
    "## Task 6"
   ]
  },
  {
   "cell_type": "markdown",
   "metadata": {},
   "source": [
    "Instead of the calculus of the semantic similarity between N and each elements of S1 in step 4, we would like to use the wordnet domain of each individual words. For this purpose, download the wordnet domain from [`WordNet Domains (fbk.eu)`](https://wndomains.fbk.eu/download.html). Therefore, the compatibility between N and an element N1 of S1 is granted if N and N1 belong to the same wordnet domain. Write a program that allows you to implement this reasoning and test it on simple sentences of your choice."
   ]
  },
  {
   "cell_type": "code",
   "execution_count": 9,
   "metadata": {},
   "outputs": [],
   "source": [
    "# Use the wordnet domain of each individual words, instead of similarity between N and each elements of S1\n",
    "\n",
    "# Download the wordnet domain\n",
    "\n",
    "# If N and N1 belong to the same wordnet domain, compatibility between N and an element N1 of S1 is granted\n",
    "\n",
    "# Test it on simple sentences of your choice\n"
   ]
  },
  {
   "cell_type": "markdown",
   "metadata": {},
   "source": [
    "## Task 7"
   ]
  },
  {
   "cell_type": "markdown",
   "metadata": {},
   "source": [
    "Test the reasoning of 6) on the same subset of annotated metaphor dataset used in 5) and compare the performance in terms of accuracy. Save individual results in your database as well."
   ]
  },
  {
   "cell_type": "code",
   "execution_count": 10,
   "metadata": {},
   "outputs": [],
   "source": [
    "# Test the reasoning of 6) on dataset used in 5)\n",
    "\n",
    "# Compare the performance in terms of accuracy\n",
    "\n",
    "# Save individual results in your database as well\n"
   ]
  },
  {
   "cell_type": "markdown",
   "metadata": {},
   "source": [
    "## Task 8"
   ]
  },
  {
   "cell_type": "markdown",
   "metadata": {},
   "source": [
    "Repeat 6) and 7) when using Reuter corpus (also accessible via NLTK) instead of BNC corpus. Conclude on the impact of the corpus on the accuracy of metaphor identification.  "
   ]
  },
  {
   "cell_type": "code",
   "execution_count": 11,
   "metadata": {},
   "outputs": [],
   "source": [
    "# Repeat 6) and 7) when using Reuter corpus from NLTK\n",
    "\n",
    "# Conclude on the impact of the corpus on the accuracy of metaphor identification\n"
   ]
  },
  {
   "cell_type": "markdown",
   "metadata": {},
   "source": [
    "## Task 9"
   ]
  },
  {
   "cell_type": "markdown",
   "metadata": {},
   "source": [
    "You may want to enhance the reasoning of any of project specifications above, feel free to suggest any state-of-the-art approach that you judge relevant and accommodate to achieve the goal accordingly. Motivate your choice by concise literature review. Use appropriate literature to discuss your findings."
   ]
  },
  {
   "cell_type": "code",
   "execution_count": 14,
   "metadata": {},
   "outputs": [],
   "source": [
    "# Enhance the reasoning of any of project specifications above\n",
    "\n",
    "# Suggest any relevant state-of-the-art approach\n",
    "\n",
    "# Motivate your choice by concise literature review. \n",
    "\n",
    "# Use appropriate literature to discuss your findings.\n"
   ]
  },
  {
   "cell_type": "markdown",
   "metadata": {},
   "source": [
    "Naive Baises"
   ]
  },
  {
   "cell_type": "code",
   "execution_count": null,
   "metadata": {},
   "outputs": [],
   "source": [
    "## Here is practical implementation of Naive Baises for metaphore classification\n",
    "\n",
    "from sklearn.feature_extraction.text import TfidfVectorizer\n",
    "from sklearn.naive_bayes import MultinomialNB\n",
    "from sklearn.pipeline import make_pipeline\n",
    "from sklearn.model_selection import train_test_split\n",
    "from sklearn.metrics import classification_report\n",
    "from nltk.stem import WordNetLemmatizer\n",
    "from sklearn.model_selection import GridSearchCV\n",
    "\n",
    "alpha_values = [0.1, 0.5, 1.0, 1.5]\n",
    "param_grid = {'multinomialnb__alpha': alpha_values}\n",
    "model = make_pipeline(TfidfVectorizer(), MultinomialNB())\n",
    "\n",
    "lm = WordNetLemmatizer()\n",
    "temp_list = [[lm.lemmatize(a.lower()) for a in b] for b in list_of_lists]\n",
    "X = pd.Series(' '.join(tokens) for tokens in temp_list)\n",
    "y = df['Symbol']\n",
    "\n",
    "X_train, X_test, y_train, y_test = train_test_split(X, y, test_size=0.2, random_state=1)\n",
    "\n",
    "grid_search = GridSearchCV(model, param_grid, cv=5, n_jobs=-1)\n",
    "grid_search.fit(X_train, y_train)\n",
    "print(grid_search.best_params_)\n",
    "\n",
    "y_pred = grid_search.best_estimator_.predict(X_test)\n",
    "\n",
    "print(classification_report(y_test, y_pred))"
   ]
  },
  {
   "cell_type": "markdown",
   "metadata": {},
   "source": [
    "CNN implementation"
   ]
  },
  {
   "cell_type": "code",
   "execution_count": 69,
   "metadata": {},
   "outputs": [
    {
     "name": "stdout",
     "output_type": "stream",
     "text": [
      "Epoch 1/30\n",
      "17/17 [==============================] - 3s 127ms/step - loss: 0.7009 - accuracy: 0.5551 - val_loss: 0.6532 - val_accuracy: 0.5735\n",
      "Epoch 2/30\n",
      "17/17 [==============================] - 1s 83ms/step - loss: 0.4107 - accuracy: 0.8860 - val_loss: 0.6863 - val_accuracy: 0.5662\n",
      "Epoch 3/30\n",
      "17/17 [==============================] - 1s 82ms/step - loss: 0.2948 - accuracy: 0.9467 - val_loss: 0.6390 - val_accuracy: 0.6176\n",
      "Epoch 4/30\n",
      "17/17 [==============================] - 1s 83ms/step - loss: 0.2054 - accuracy: 0.9871 - val_loss: 0.6546 - val_accuracy: 0.5809\n",
      "Epoch 5/30\n",
      "17/17 [==============================] - 1s 75ms/step - loss: 0.1494 - accuracy: 0.9945 - val_loss: 0.6505 - val_accuracy: 0.5956\n",
      "Epoch 6/30\n",
      "17/17 [==============================] - 1s 78ms/step - loss: 0.1113 - accuracy: 0.9945 - val_loss: 0.6309 - val_accuracy: 0.6103\n",
      "Epoch 7/30\n",
      "17/17 [==============================] - 1s 77ms/step - loss: 0.0823 - accuracy: 0.9982 - val_loss: 0.6437 - val_accuracy: 0.5882\n",
      "Epoch 8/30\n",
      "12/17 [====================>.........] - ETA: 0s - loss: 0.0590 - accuracy: 1.0000"
     ]
    }
   ],
   "source": [
    "## This one works, need to figure out why just for myself\n",
    "\n",
    "import pandas as pd\n",
    "import numpy as np\n",
    "import tensorflow as tf\n",
    "from tensorflow.keras.preprocessing.text import Tokenizer\n",
    "from tensorflow.keras.preprocessing.sequence import pad_sequences\n",
    "from tensorflow.keras.layers import Embedding, Conv1D, GlobalMaxPooling1D, Dense, Input\n",
    "from tensorflow.keras.models import Model\n",
    "\n",
    "# Load your DataFrame with text and labels\n",
    "# df = pd.read_csv('your_dataset.csv')  # Replace with your data loading logic\n",
    "\n",
    "# Tokenization and padding\n",
    "#max_sequence_length = 100  # Define your desired sequence length\n",
    "tokenizer = Tokenizer()\n",
    "tokenizer.fit_on_texts(df['Text'])\n",
    "sequences = tokenizer.texts_to_sequences(df['Text'])\n",
    "X = pad_sequences(sequences, maxlen=max(len(x) for x in sequences))\n",
    "max_sequence_length = max(len(x) for x in sequences)\n",
    "\n",
    "# Load pre-trained GloVe embeddings (replace with the actual file path)\n",
    "glove_file = r'C:\\Users\\jklbichami\\OneDrive - Valmet\\Documents\\School\\Porgramming\\NLP\\glove.6B.300d.txt' \n",
    "embedding_dim = 300\n",
    "\n",
    "embeddings_index = {}\n",
    "with open(glove_file, 'r', encoding='utf-8') as f:\n",
    "    for line in f:\n",
    "        values = line.split()\n",
    "        word = values[0]\n",
    "        coefs = np.asarray(values[1:], dtype='float32')\n",
    "        embeddings_index[word] = coefs\n",
    "\n",
    "embedding_matrix = np.zeros((len(tokenizer.word_index) + 1, embedding_dim))\n",
    "for word, i in tokenizer.word_index.items():\n",
    "    embedding_vector = embeddings_index.get(word)\n",
    "    if embedding_vector is not None:\n",
    "        embedding_matrix[i] = embedding_vector\n",
    "\n",
    "# Build the CNN model\n",
    "input_layer = Input(shape=(max_sequence_length,))\n",
    "embedding_layer = Embedding(input_dim=len(tokenizer.word_index) + 1,\n",
    "                            output_dim=embedding_dim,\n",
    "                            weights=[embedding_matrix],\n",
    "                            input_length=max_sequence_length,\n",
    "                            trainable=False)(input_layer)\n",
    "conv_layer = Conv1D(128, 5, activation='relu')(embedding_layer)\n",
    "pooling_layer = GlobalMaxPooling1D()(conv_layer)\n",
    "output_layer = Dense(1, activation='sigmoid')(pooling_layer)\n",
    "\n",
    "model = Model(inputs=input_layer, outputs=output_layer)\n",
    "model.compile(optimizer='adam', loss='binary_crossentropy', metrics=['accuracy'])\n",
    "\n",
    "# Split your data into train and test sets\n",
    "from sklearn.model_selection import train_test_split\n",
    "# label_mapping = {'y': 1, 'n': 0}\n",
    "# df['Symbol'] = df['Symbol'].map(label_mapping).astype('int')\n",
    "X_train, X_test, y_train, y_test = train_test_split(X, df['Symbol'], test_size=0.2, random_state=42)\n",
    "\n",
    "# Train the model\n",
    "history = model.fit(X_train, y_train, epochs=30, validation_data=(X_test, y_test))\n"
   ]
  },
  {
   "cell_type": "code",
   "execution_count": 66,
   "metadata": {},
   "outputs": [
    {
     "data": {
      "text/plain": [
       "{'loss': [0.703412652015686,\n",
       "  0.4105713665485382,\n",
       "  0.2682245373725891,\n",
       "  0.1845749467611313,\n",
       "  0.13493043184280396,\n",
       "  0.1015520915389061,\n",
       "  0.07386709004640579,\n",
       "  0.05921575427055359,\n",
       "  0.05038939788937569,\n",
       "  0.04053965210914612],\n",
       " 'accuracy': [0.5753676295280457,\n",
       "  0.8363970518112183,\n",
       "  0.9724264740943909,\n",
       "  0.9926470518112183,\n",
       "  0.9944853186607361,\n",
       "  0.998161792755127,\n",
       "  0.998161792755127,\n",
       "  0.9963235259056091,\n",
       "  0.9963235259056091,\n",
       "  0.998161792755127],\n",
       " 'val_loss': [0.6884954571723938,\n",
       "  0.6141088008880615,\n",
       "  0.6094973683357239,\n",
       "  0.6186003684997559,\n",
       "  0.6224368810653687,\n",
       "  0.6569418907165527,\n",
       "  0.6668127775192261,\n",
       "  0.6815416812896729,\n",
       "  0.6866268515586853,\n",
       "  0.675412654876709],\n",
       " 'val_accuracy': [0.6029411554336548,\n",
       "  0.6470588445663452,\n",
       "  0.6397058963775635,\n",
       "  0.6397058963775635,\n",
       "  0.625,\n",
       "  0.5808823704719543,\n",
       "  0.595588207244873,\n",
       "  0.595588207244873,\n",
       "  0.595588207244873,\n",
       "  0.6102941036224365]}"
      ]
     },
     "execution_count": 66,
     "metadata": {},
     "output_type": "execute_result"
    }
   ],
   "source": [
    "history.history"
   ]
  },
  {
   "cell_type": "code",
   "execution_count": 67,
   "metadata": {},
   "outputs": [
    {
     "data": {
      "image/png": "[encoded data removed]",
      "text/plain": [
       "<Figure size 640x480 with 1 Axes>"
      ]
     },
     "metadata": {},
     "output_type": "display_data"
    }
   ],
   "source": [
    "import matplotlib.pyplot as plt\n",
    "\n",
    "plt.plot(history.history['loss'])\n",
    "plt.plot(history.history['val_loss'])\n",
    "plt.title('model loss')\n",
    "plt.ylabel('loss')\n",
    "plt.xlabel('epoch')\n",
    "plt.legend(['train', 'val_loss'])\n",
    "plt.show()"
   ]
  },
  {
   "cell_type": "code",
   "execution_count": 68,
   "metadata": {},
   "outputs": [
    {
     "data": {
      "image/png": "[encoded data removed]",
      "text/plain": [
       "<Figure size 640x480 with 1 Axes>"
      ]
     },
     "metadata": {},
     "output_type": "display_data"
    }
   ],
   "source": [
    "plt.plot(history.history['accuracy'])\n",
    "plt.plot(history.history['val_accuracy'])\n",
    "plt.title('model performance')\n",
    "plt.ylabel('accuracy')\n",
    "plt.xlabel('epoch')\n",
    "plt.legend(['train', 'val'])\n",
    "plt.show()"
   ]
  }
 ],
 "metadata": {
  "kernelspec": {
   "display_name": "Python 3",
   "language": "python",
   "name": "python3"
  },
  "language_info": {
   "codemirror_mode": {
    "name": "ipython",
    "version": 3
   },
   "file_extension": ".py",
   "mimetype": "text/x-python",
   "name": "python",
   "nbconvert_exporter": "python",
   "pygments_lexer": "ipython3",
   "version": "3.11.2"
  },
  "orig_nbformat": 4
 },
 "nbformat": 4,
 "nbformat_minor": 2
}
